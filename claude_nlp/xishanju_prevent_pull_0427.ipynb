{
 "cells": [
  {
   "cell_type": "code",
   "execution_count": 14,
   "id": "ecd03194-aeda-49a5-868e-e4cb5441353b",
   "metadata": {},
   "outputs": [],
   "source": [
    "from anthropic import AnthropicBedrock\n",
    "import random\n",
    "from tqdm import tqdm\n",
    "import os\n",
    "import numpy as np\n",
    "import re\n",
    "# client = AnthropicBedrock(\n",
    "#     aws_region=\"us-west-2\",\n",
    "# )\n"
   ]
  },
  {
   "cell_type": "code",
   "execution_count": 15,
   "id": "d8648989",
   "metadata": {},
   "outputs": [],
   "source": [
    "# %pip install -U langchain_community langchain_openai langgraph wikipedia  scikit-learn   \n",
    "# %pip install -U langchain-aws"
   ]
  },
  {
   "cell_type": "code",
   "execution_count": 88,
   "id": "49cbb057-1006-4910-92f0-a09753b13682",
   "metadata": {},
   "outputs": [],
   "source": [
    "from langchain_aws import ChatBedrock\n",
    "from langchain_openai import ChatOpenAI\n",
    "from langchain.embeddings import BedrockEmbeddings\n",
    "from langchain.callbacks.streaming_stdout import StreamingStdOutCallbackHandler\n",
    "\n",
    "llm_sonnet = ChatBedrock(model_id=\"anthropic.claude-3-sonnet-20240229-v1:0\",\n",
    "                  model_kwargs={\"temperature\": 0.2,\n",
    "                                \"top_k\":250,\n",
    "                                \"max_tokens\": 4096,\n",
    "                                \"top_p\":0.95,\n",
    "                                \"stop_sequences\":['</invoke>','</error>']\n",
    "                               },\n",
    "                  streaming=True,\n",
    "                  callbacks=[StreamingStdOutCallbackHandler()]\n",
    "                )\n",
    "\n",
    "llm_haiku = ChatBedrock(model_id=\"anthropic.claude-3-haiku-20240307-v1:0\",\n",
    "                  model_kwargs={\"temperature\": 0.1,\n",
    "                                \"top_k\":250,\n",
    "                                \"max_tokens\": 4096,\n",
    "                                \"top_p\":0.5,\n",
    "                                \"stop_sequences\":['</invoke>','</error>']\n",
    "                               },\n",
    "                  streaming=True,\n",
    "                  callbacks=[StreamingStdOutCallbackHandler()]\n",
    "                  )\n",
    "\n",
    "# model_id='cohere.embed-multilingual-v3'\n",
    "model_id='amazon.titan-embed-text-v1'\n",
    "embedding_model = BedrockEmbeddings(\n",
    "    credentials_profile_name=\"default\", region_name=\"us-east-1\",model_id=model_id\n",
    ")"
   ]
  },
  {
   "cell_type": "code",
   "execution_count": 16,
   "id": "5ceb01c7-ffb3-4d2c-a2da-b563213f96cc",
   "metadata": {},
   "outputs": [],
   "source": [
    "examples = {\n",
    "    '你微多少': ['这句话使用了简称“微”来代替“微信”，并且询问“多少”，即询问对方的微信号码。这是非常常见的一种隐晦表达方式，用以规避系统对敏感词的审核。在实际交流中，这种说法通常被理解为询问对方微信并希望得到对方的微信联系方式。', 'Y'],\n",
    "    '恩，微信多少加你': ['这句话虽然使用了“微信多少”这样的表述，但实际上是在询问对方的微信号码，并含有添加对方为微信好友的意思。\"加你\"进一步明确了这一意图。因此，这句话可以被视为一句邀请加微信的话语。', 'Y'],\n",
    "    '可以互相的留个v吗？后面你上线做任务的时候你和我说的': ['这句话中，“留个v”通常指的是留下微信联系方式。\"v\"在这里是微信的谐音，因为微信的英文名是WeChat，其中的\"We\"与\"v\"谐音。此外，句中提到“后面你上线做任务的时候你和我说的”暗示了后续的沟通和联系，这通常是在加了微信之后才会进行的行为。因此，这句话可以判断为邀请加微信的话语。', 'Y'],\n",
    "    '方便给个微信吗？一个朋友想回来玩，你们自己谈谈？我就懒得传话了': ['这句话虽然使用了“给个微信”这样的直接表达，但是从上下文来看，“一个朋友想回来玩，你们自己谈谈？”以及“我就懒得传话了”都暗示了通过微信进行联系和沟通的意图。因此，可以判断这是一句邀请加微信的话语。', 'Y'],\n",
    "    '你微信叫啥': ['这句话虽然直接使用了“微信”这个词，但是通过询问对方的微信昵称或账号，实际上是在暗示或者寻求添加微信好友的邀请。在社交场合中，这种问法通常是建立进一步联系的第一步。', 'Y'],\n",
    "    '微信发我我加一下': ['这句话虽然简单，但是直接表达了想要添加对方为微信好友的意图。\"微信发我\"通常意味着通过微信发送信息，而\"我加一下\"则明确表示希望加入到对方的微信联系人中。这里的表述已经足够清晰，可以判断为邀请加微信的话语。', 'Y'],\n",
    "    'P19372000230加这个微信': ['这句话中直接出现了“微信”这个词，并且前面有数字“P19372000230”，这看起来像是一个微信号或者某种形式的微信联系方式的代码。因此，可以判断这是一句邀请加微信的话语。', 'Y'],\n",
    "    '有意十微': ['这句话使用了谐音字“十”代替了“加”，结合后面的“微”，可以推断出这是“加微信”的意思。\"有意\"则可能表示对方有意愿进行进一步的联系或交流。', 'Y'],\n",
    "    '莱-玩-扥-呺嘛？ 琎-僦-五-千真-充-- 天天6-4-8真-充还有价-值万-元豪礼 嗖下威：S D S J L U 详细说': ['这句话虽然使用了谐音字和符号来代替敏感词汇，但是通过“莱-玩-扥-呺嘛？”这部分可以推测出是在询问对方是否愿意添加某种联系方式。“琎-僦-五-千真-充--”和后面的数字“6-4-8”以及“价值万元豪礼”这些信息通常出现在一些推广或者诱导添加微信的语境中。最后的“嗖下威：S D S J L U 详细说”中的“威”很可能是微信的谐音，“S D S J L U”可能是一个微信号或者某种形式的联系方式。综合这些信息，这句话很可能是邀请加微信的话语。', 'Y'],\n",
    "    '来玩扥号 吗？ 进就送伍仟， 后续每天648茺 有兴趣加微：hgx奇55（奇=7）': ['这句话使用了谐音和替代的方式来规避审核。其中，“扥号”很可能是“账号”的谐音，而“微：hgx奇55（奇=7）”中的“微”指的是微信，后面跟着的疑似是一串微信号，并且用“奇=7”这样的方式来表示数字“7”，这是常见的规避手段。整个句子表达了邀请对方加入微信，进行游戏活动的意思。', 'Y'],\n",
    "    '\"你为多少啊，我让组长加你一下。\\n你回多少啊，我让组长加你一下。': ['这句话使用了谐音的方式来规避审核。使用了“为”代替微信的“微”。', 'Y'],\n",
    "    '那我邀你进剑侠郡，\\\\/留个我搜你 方便一起组队': ['这句话通过“\\\\/留个我搜你”这种方式来暗示交换微信信息。\"搜你\"可能指的是在微信中搜索对方微信号，以便添加为好友。\"方便一起组队\"则是为了加强这种社交目的，在游戏中组队通常需要通过微信等通讯工具进行联系。整体来看，这句话是在隐晦地提出加微信的邀请。', 'Y'],\n",
    "    '徽多少我加你，发给你换': ['这句话使用了“徽”代替了“微”，并且“加你”表达了添加对方的意思，“发给你换”可能意味着发送微信好友请求。整体来看，这句话是在隐晦地表达想要添加对方为微信好友的意愿。', 'Y'],\n",
    "    '你徵多少': ['虽然这句话“你徵多少”并没有直接表达出加微信的意思。但“徵”字在这里很有可能是被用来代替“微信”的“微”。', 'Y'],\n",
    "    '进一下咱们家族的那个讨论组啊': ['这句话使用了“家族的那个讨论组”来代替“微信群”，是一种隐晦的表达方式。在日常生活中，讨论组往往可以通过微信等社交平台进行，而“家族”的提法也可能意味着这是一个私人群组。因此，这句话实际上很可能是邀请对方加入一个微信群的委婉说法。', 'Y'],\n",
    "    '我转锤子天王，还有补贴嘛，这么多木我玩锤子了': ['这句话并没有直接或者隐晦地表达出加微信的意思。这句话中的“转锤子天王”和“玩锤子了”可能是方言或者网络用语，但它们并不构成通常用来暗示加微信的语境或表述。此外，“补贴”一词在这里也没有明显的指向加微信的含义。因此，这句话不符合邀请加微信的话语特征。', 'N'],\n",
    "    '你可以玩一下战忍或者棍少': ['这句话并没有直接或者隐晦地表达出加微信的意思。这句话看起来像是在建议对方玩某个游戏或者应用，并没有涉及到社交联系方式。如果这句话中包含有微信的谐音字、形近字或相关符号，那么可能意味着邀请加微信，但就这句话本身而言，并不符合邀请加微信的特征。', 'N'],\n",
    "    '下周二晚上估计你能升级，到时候还要麻烦你': ['这句话并没有直接或隐晦地表达出加微信的意思。它看起来像是在讨论某个计划或者活动，并提到了“升级”和“麻烦你”，但没有使用任何与微信相关的谐音、形近字或符号，也没有其他表述暗示加微信。', 'N'],\n",
    "    '<嘉峪关(197,258)>云儿在这': ['这句话并没有直接或隐晦地表达出加微信的意思。它看起来像是一个地名和一个人名的组合，并没有使用任何谐音字、形近字或符号来代替“微信”这个词，也没有其他表述暗示加微信。因此，这句话不符合邀请加微信的话语特征。', 'N'],\n",
    "    '在下【凉面自然辣】，初来乍到，还请诸位多多包涵。#65#65': ['这句话并没有直接或者隐晦地表达出加微信的意思。它看起来像是一个人在介绍自己，并表达了希望得到别人理解的愿望。\"凉面自然辣\"可能是这个人的昵称或者网名，而数字串#65#65在当前上下文中并不具有明显的加微信的含义。因此，这句话不符合邀请加微信的话语特征。', 'N'],\n",
    "    '我升级以后可以换8g的。97级的腰带，我就可以想到最高级了。': ['这句话并没有直接或隐晦地表达出加微信的意思。它看起来像是在讨论某个游戏或者等级系统中关于升级和装备的话题，并没有明显的社交联系方式交换的暗示。此外，也没有使用谐音字、形近字或符号来代替“微信”这个词。因此，这句话不是一句邀请加微信的话语。', 'N'],\n",
    "    '友情提醒:家族群发公告让你加群的注意了群里多个骗子配合 先混熟,在发你木马链接 咱们玩游戏主打一个不加任何群 就不会被骗  别进广告家族': ['这句话并不是一个邀请加微信的话语。这句话实际上是在提醒人们注意，不要轻易加入不熟悉的群组，因为里面可能有骗子。它强调了不要点击不明链接，也不要加入所谓的“广告家族”，这是一种安全提示，而不是邀请添加微信好友。', 'N'],\n",
    "    '刚出了个火，你赶紧去': ['这句话“刚出了个火，你赶紧去”并没有明显的表示加微信的意思。这里的“火”可能指的是某个事件或者情况，而“你赶紧去”则像是催促对方去做某事，但并没有提到加微信或者类似的暗示。如果这句话中包含有隐晦的加微信的意思，那么它使用的表达方式并不直接，不符合通常的邀请加微信的语境。', 'N'],\n",
    "    '在下【三号大哥】，初来乍到，还请诸位多多包涵。#65#65': ['这句话没有直接或者隐晦地表达出加微信的意思。它看起来像是一个人在论坛或者群组中的自我介绍，并表达了希望得到其他人包容的意愿。\"#65#65\"可能是用来分隔内容的符号，并不具有加微信的含义。因此，这句话不是一句邀请加微信的话语。', 'N'],\n",
    "    '偷到一个野怪，但是你不要招到有地有那个模式的地方，不然回头搞不好一堆人来抽死你。': ['这句话并没有直接或隐晦地表达出加微信的意思。这句话看起来像是在描述一个游戏场景，提醒对方不要去某个地方，否则可能会有危险。没有使用任何谐音字、形近字或符号来代替“微信”，也没有其他表述暗示加微信。', 'N'],\n",
    "    '出师吧，给你发任务经验会更多': ['这句话并没有直接或隐晦地表达出加微信的意思。这里的“出师”和“发任务经验”看起来更像是游戏或者某种任务中的语境，而不是要求添加微信的社交邀请。如果这句话中包含有谐音字或形近字，它们并没有明显指向“微信”这个词。因此，这句话不符合邀请加微信的话语特征。', 'N'],\n",
    "    '什么啊都没头没脑的': ['这句话“什么啊都没头没脑的”并没有直接或者隐晦地表达出加微信的意思。它看起来更像是一句表达困惑或者不理解的话，与加微信无关。如果这句话中包含有谐音字、形近字或符号来代替“微信”这个词，那么在当前的形式下，并没有体现出这样的替代。因此，这句话不符合邀请加微信的话语特征。', 'N'],\n",
    "    '我们以前是排队的，底价购买': ['这句话并没有直接或隐晦地表达出加微信的意思。它看起来像是在谈论过去的某个购买活动或者行为，并没有明显的邀请交换联系方式或加微信的意图。', 'N'],\n",
    "    '岛求组': ['这句话并没有直接或隐晦地表达出加微信的意思，并没有明显的邀请交换联系方式或加微信的意图。', 'N'],\n",
    "    '月岛组一个': ['这句话并没有直接或隐晦地表达出加微信的意思，并没有明显的邀请交换联系方式或加微信的意图。', 'N'],\n",
    "    '#2多少收': ['这句话并没有直接或隐晦地表达出加微信的意思，并没有明显的邀请交换联系方式或加微信的意图。', 'N'],\n",
    "}\n",
    "examples_prompt_list = []\n",
    "for k,v in examples.items():\n",
    "    examples_prompt_list.append(f'<example>\\n<sentence>\\n{k}\\n</sentence>\\n<explanation>\\n{v[0]}\\n</explanation>\\n<result>\\n{v[1]}\\n</result>\\n</example>')"
   ]
  },
  {
   "cell_type": "code",
   "execution_count": 17,
   "id": "e6fec575",
   "metadata": {},
   "outputs": [],
   "source": [
    "from langchain_community.vectorstores import SKLearnVectorStore\n",
    "from langchain_core.documents import Document\n",
    "\n",
    "reference_docs = [\n",
    "    Document(page_content=k, \n",
    "             metadata={\"example\": f'<example>\\n<sentence>\\n{k}\\n</sentence>\\n<explanation>\\n{v[0]}\\n</explanation>\\n<result>\\n{v[1]}\\n</result>\\n</example>'}) \n",
    "            for k, v in examples.items()\n",
    "]"
   ]
  },
  {
   "cell_type": "code",
   "execution_count": 18,
   "id": "ff54684d",
   "metadata": {},
   "outputs": [
    {
     "data": {
      "text/plain": [
       "[Document(page_content='你微多少', metadata={'example': '<example>\\n<sentence>\\n你微多少\\n</sentence>\\n<explanation>\\n这句话使用了简称“微”来代替“微信”，并且询问“多少”，即询问对方的微信号码。这是非常常见的一种隐晦表达方式，用以规避系统对敏感词的审核。在实际交流中，这种说法通常被理解为询问对方微信并希望得到对方的微信联系方式。\\n</explanation>\\n<result>\\nY\\n</result>\\n</example>'}),\n",
       " Document(page_content='恩，微信多少加你', metadata={'example': '<example>\\n<sentence>\\n恩，微信多少加你\\n</sentence>\\n<explanation>\\n这句话虽然使用了“微信多少”这样的表述，但实际上是在询问对方的微信号码，并含有添加对方为微信好友的意思。\"加你\"进一步明确了这一意图。因此，这句话可以被视为一句邀请加微信的话语。\\n</explanation>\\n<result>\\nY\\n</result>\\n</example>'}),\n",
       " Document(page_content='可以互相的留个v吗？后面你上线做任务的时候你和我说的', metadata={'example': '<example>\\n<sentence>\\n可以互相的留个v吗？后面你上线做任务的时候你和我说的\\n</sentence>\\n<explanation>\\n这句话中，“留个v”通常指的是留下微信联系方式。\"v\"在这里是微信的谐音，因为微信的英文名是WeChat，其中的\"We\"与\"v\"谐音。此外，句中提到“后面你上线做任务的时候你和我说的”暗示了后续的沟通和联系，这通常是在加了微信之后才会进行的行为。因此，这句话可以判断为邀请加微信的话语。\\n</explanation>\\n<result>\\nY\\n</result>\\n</example>'}),\n",
       " Document(page_content='方便给个微信吗？一个朋友想回来玩，你们自己谈谈？我就懒得传话了', metadata={'example': '<example>\\n<sentence>\\n方便给个微信吗？一个朋友想回来玩，你们自己谈谈？我就懒得传话了\\n</sentence>\\n<explanation>\\n这句话虽然使用了“给个微信”这样的直接表达，但是从上下文来看，“一个朋友想回来玩，你们自己谈谈？”以及“我就懒得传话了”都暗示了通过微信进行联系和沟通的意图。因此，可以判断这是一句邀请加微信的话语。\\n</explanation>\\n<result>\\nY\\n</result>\\n</example>'}),\n",
       " Document(page_content='你微信叫啥', metadata={'example': '<example>\\n<sentence>\\n你微信叫啥\\n</sentence>\\n<explanation>\\n这句话虽然直接使用了“微信”这个词，但是通过询问对方的微信昵称或账号，实际上是在暗示或者寻求添加微信好友的邀请。在社交场合中，这种问法通常是建立进一步联系的第一步。\\n</explanation>\\n<result>\\nY\\n</result>\\n</example>'}),\n",
       " Document(page_content='微信发我我加一下', metadata={'example': '<example>\\n<sentence>\\n微信发我我加一下\\n</sentence>\\n<explanation>\\n这句话虽然简单，但是直接表达了想要添加对方为微信好友的意图。\"微信发我\"通常意味着通过微信发送信息，而\"我加一下\"则明确表示希望加入到对方的微信联系人中。这里的表述已经足够清晰，可以判断为邀请加微信的话语。\\n</explanation>\\n<result>\\nY\\n</result>\\n</example>'}),\n",
       " Document(page_content='P19372000230加这个微信', metadata={'example': '<example>\\n<sentence>\\nP19372000230加这个微信\\n</sentence>\\n<explanation>\\n这句话中直接出现了“微信”这个词，并且前面有数字“P19372000230”，这看起来像是一个微信号或者某种形式的微信联系方式的代码。因此，可以判断这是一句邀请加微信的话语。\\n</explanation>\\n<result>\\nY\\n</result>\\n</example>'}),\n",
       " Document(page_content='有意十微', metadata={'example': '<example>\\n<sentence>\\n有意十微\\n</sentence>\\n<explanation>\\n这句话使用了谐音字“十”代替了“加”，结合后面的“微”，可以推断出这是“加微信”的意思。\"有意\"则可能表示对方有意愿进行进一步的联系或交流。\\n</explanation>\\n<result>\\nY\\n</result>\\n</example>'}),\n",
       " Document(page_content='莱-玩-扥-呺嘛？ 琎-僦-五-千真-充-- 天天6-4-8真-充还有价-值万-元豪礼 嗖下威：S D S J L U 详细说', metadata={'example': '<example>\\n<sentence>\\n莱-玩-扥-呺嘛？ 琎-僦-五-千真-充-- 天天6-4-8真-充还有价-值万-元豪礼 嗖下威：S D S J L U 详细说\\n</sentence>\\n<explanation>\\n这句话虽然使用了谐音字和符号来代替敏感词汇，但是通过“莱-玩-扥-呺嘛？”这部分可以推测出是在询问对方是否愿意添加某种联系方式。“琎-僦-五-千真-充--”和后面的数字“6-4-8”以及“价值万元豪礼”这些信息通常出现在一些推广或者诱导添加微信的语境中。最后的“嗖下威：S D S J L U 详细说”中的“威”很可能是微信的谐音，“S D S J L U”可能是一个微信号或者某种形式的联系方式。综合这些信息，这句话很可能是邀请加微信的话语。\\n</explanation>\\n<result>\\nY\\n</result>\\n</example>'}),\n",
       " Document(page_content='来玩扥号 吗？ 进就送伍仟， 后续每天648茺 有兴趣加微：hgx奇55（奇=7）', metadata={'example': '<example>\\n<sentence>\\n来玩扥号 吗？ 进就送伍仟， 后续每天648茺 有兴趣加微：hgx奇55（奇=7）\\n</sentence>\\n<explanation>\\n这句话使用了谐音和替代的方式来规避审核。其中，“扥号”很可能是“账号”的谐音，而“微：hgx奇55（奇=7）”中的“微”指的是微信，后面跟着的疑似是一串微信号，并且用“奇=7”这样的方式来表示数字“7”，这是常见的规避手段。整个句子表达了邀请对方加入微信，进行游戏活动的意思。\\n</explanation>\\n<result>\\nY\\n</result>\\n</example>'}),\n",
       " Document(page_content='\"你为多少啊，我让组长加你一下。\\n你回多少啊，我让组长加你一下。', metadata={'example': '<example>\\n<sentence>\\n\"你为多少啊，我让组长加你一下。\\n你回多少啊，我让组长加你一下。\\n</sentence>\\n<explanation>\\n这句话使用了谐音的方式来规避审核。使用了“为”代替微信的“微”。\\n</explanation>\\n<result>\\nY\\n</result>\\n</example>'}),\n",
       " Document(page_content='那我邀你进剑侠郡，\\\\/留个我搜你 方便一起组队', metadata={'example': '<example>\\n<sentence>\\n那我邀你进剑侠郡，\\\\/留个我搜你 方便一起组队\\n</sentence>\\n<explanation>\\n这句话通过“\\\\/留个我搜你”这种方式来暗示交换微信信息。\"搜你\"可能指的是在微信中搜索对方微信号，以便添加为好友。\"方便一起组队\"则是为了加强这种社交目的，在游戏中组队通常需要通过微信等通讯工具进行联系。整体来看，这句话是在隐晦地提出加微信的邀请。\\n</explanation>\\n<result>\\nY\\n</result>\\n</example>'}),\n",
       " Document(page_content='徽多少我加你，发给你换', metadata={'example': '<example>\\n<sentence>\\n徽多少我加你，发给你换\\n</sentence>\\n<explanation>\\n这句话使用了“徽”代替了“微”，并且“加你”表达了添加对方的意思，“发给你换”可能意味着发送微信好友请求。整体来看，这句话是在隐晦地表达想要添加对方为微信好友的意愿。\\n</explanation>\\n<result>\\nY\\n</result>\\n</example>'}),\n",
       " Document(page_content='你徵多少', metadata={'example': '<example>\\n<sentence>\\n你徵多少\\n</sentence>\\n<explanation>\\n虽然这句话“你徵多少”并没有直接表达出加微信的意思。但“徵”字在这里很有可能是被用来代替“微信”的“微”。\\n</explanation>\\n<result>\\nY\\n</result>\\n</example>'}),\n",
       " Document(page_content='进一下咱们家族的那个讨论组啊', metadata={'example': '<example>\\n<sentence>\\n进一下咱们家族的那个讨论组啊\\n</sentence>\\n<explanation>\\n这句话使用了“家族的那个讨论组”来代替“微信群”，是一种隐晦的表达方式。在日常生活中，讨论组往往可以通过微信等社交平台进行，而“家族”的提法也可能意味着这是一个私人群组。因此，这句话实际上很可能是邀请对方加入一个微信群的委婉说法。\\n</explanation>\\n<result>\\nY\\n</result>\\n</example>'}),\n",
       " Document(page_content='我转锤子天王，还有补贴嘛，这么多木我玩锤子了', metadata={'example': '<example>\\n<sentence>\\n我转锤子天王，还有补贴嘛，这么多木我玩锤子了\\n</sentence>\\n<explanation>\\n这句话并没有直接或者隐晦地表达出加微信的意思。这句话中的“转锤子天王”和“玩锤子了”可能是方言或者网络用语，但它们并不构成通常用来暗示加微信的语境或表述。此外，“补贴”一词在这里也没有明显的指向加微信的含义。因此，这句话不符合邀请加微信的话语特征。\\n</explanation>\\n<result>\\nN\\n</result>\\n</example>'}),\n",
       " Document(page_content='你可以玩一下战忍或者棍少', metadata={'example': '<example>\\n<sentence>\\n你可以玩一下战忍或者棍少\\n</sentence>\\n<explanation>\\n这句话并没有直接或者隐晦地表达出加微信的意思。这句话看起来像是在建议对方玩某个游戏或者应用，并没有涉及到社交联系方式。如果这句话中包含有微信的谐音字、形近字或相关符号，那么可能意味着邀请加微信，但就这句话本身而言，并不符合邀请加微信的特征。\\n</explanation>\\n<result>\\nN\\n</result>\\n</example>'}),\n",
       " Document(page_content='下周二晚上估计你能升级，到时候还要麻烦你', metadata={'example': '<example>\\n<sentence>\\n下周二晚上估计你能升级，到时候还要麻烦你\\n</sentence>\\n<explanation>\\n这句话并没有直接或隐晦地表达出加微信的意思。它看起来像是在讨论某个计划或者活动，并提到了“升级”和“麻烦你”，但没有使用任何与微信相关的谐音、形近字或符号，也没有其他表述暗示加微信。\\n</explanation>\\n<result>\\nN\\n</result>\\n</example>'}),\n",
       " Document(page_content='<嘉峪关(197,258)>云儿在这', metadata={'example': '<example>\\n<sentence>\\n<嘉峪关(197,258)>云儿在这\\n</sentence>\\n<explanation>\\n这句话并没有直接或隐晦地表达出加微信的意思。它看起来像是一个地名和一个人名的组合，并没有使用任何谐音字、形近字或符号来代替“微信”这个词，也没有其他表述暗示加微信。因此，这句话不符合邀请加微信的话语特征。\\n</explanation>\\n<result>\\nN\\n</result>\\n</example>'}),\n",
       " Document(page_content='在下【凉面自然辣】，初来乍到，还请诸位多多包涵。#65#65', metadata={'example': '<example>\\n<sentence>\\n在下【凉面自然辣】，初来乍到，还请诸位多多包涵。#65#65\\n</sentence>\\n<explanation>\\n这句话并没有直接或者隐晦地表达出加微信的意思。它看起来像是一个人在介绍自己，并表达了希望得到别人理解的愿望。\"凉面自然辣\"可能是这个人的昵称或者网名，而数字串#65#65在当前上下文中并不具有明显的加微信的含义。因此，这句话不符合邀请加微信的话语特征。\\n</explanation>\\n<result>\\nN\\n</result>\\n</example>'}),\n",
       " Document(page_content='我升级以后可以换8g的。97级的腰带，我就可以想到最高级了。', metadata={'example': '<example>\\n<sentence>\\n我升级以后可以换8g的。97级的腰带，我就可以想到最高级了。\\n</sentence>\\n<explanation>\\n这句话并没有直接或隐晦地表达出加微信的意思。它看起来像是在讨论某个游戏或者等级系统中关于升级和装备的话题，并没有明显的社交联系方式交换的暗示。此外，也没有使用谐音字、形近字或符号来代替“微信”这个词。因此，这句话不是一句邀请加微信的话语。\\n</explanation>\\n<result>\\nN\\n</result>\\n</example>'}),\n",
       " Document(page_content='友情提醒:家族群发公告让你加群的注意了群里多个骗子配合 先混熟,在发你木马链接 咱们玩游戏主打一个不加任何群 就不会被骗  别进广告家族', metadata={'example': '<example>\\n<sentence>\\n友情提醒:家族群发公告让你加群的注意了群里多个骗子配合 先混熟,在发你木马链接 咱们玩游戏主打一个不加任何群 就不会被骗  别进广告家族\\n</sentence>\\n<explanation>\\n这句话并不是一个邀请加微信的话语。这句话实际上是在提醒人们注意，不要轻易加入不熟悉的群组，因为里面可能有骗子。它强调了不要点击不明链接，也不要加入所谓的“广告家族”，这是一种安全提示，而不是邀请添加微信好友。\\n</explanation>\\n<result>\\nN\\n</result>\\n</example>'}),\n",
       " Document(page_content='刚出了个火，你赶紧去', metadata={'example': '<example>\\n<sentence>\\n刚出了个火，你赶紧去\\n</sentence>\\n<explanation>\\n这句话“刚出了个火，你赶紧去”并没有明显的表示加微信的意思。这里的“火”可能指的是某个事件或者情况，而“你赶紧去”则像是催促对方去做某事，但并没有提到加微信或者类似的暗示。如果这句话中包含有隐晦的加微信的意思，那么它使用的表达方式并不直接，不符合通常的邀请加微信的语境。\\n</explanation>\\n<result>\\nN\\n</result>\\n</example>'}),\n",
       " Document(page_content='在下【三号大哥】，初来乍到，还请诸位多多包涵。#65#65', metadata={'example': '<example>\\n<sentence>\\n在下【三号大哥】，初来乍到，还请诸位多多包涵。#65#65\\n</sentence>\\n<explanation>\\n这句话没有直接或者隐晦地表达出加微信的意思。它看起来像是一个人在论坛或者群组中的自我介绍，并表达了希望得到其他人包容的意愿。\"#65#65\"可能是用来分隔内容的符号，并不具有加微信的含义。因此，这句话不是一句邀请加微信的话语。\\n</explanation>\\n<result>\\nN\\n</result>\\n</example>'}),\n",
       " Document(page_content='偷到一个野怪，但是你不要招到有地有那个模式的地方，不然回头搞不好一堆人来抽死你。', metadata={'example': '<example>\\n<sentence>\\n偷到一个野怪，但是你不要招到有地有那个模式的地方，不然回头搞不好一堆人来抽死你。\\n</sentence>\\n<explanation>\\n这句话并没有直接或隐晦地表达出加微信的意思。这句话看起来像是在描述一个游戏场景，提醒对方不要去某个地方，否则可能会有危险。没有使用任何谐音字、形近字或符号来代替“微信”，也没有其他表述暗示加微信。\\n</explanation>\\n<result>\\nN\\n</result>\\n</example>'}),\n",
       " Document(page_content='出师吧，给你发任务经验会更多', metadata={'example': '<example>\\n<sentence>\\n出师吧，给你发任务经验会更多\\n</sentence>\\n<explanation>\\n这句话并没有直接或隐晦地表达出加微信的意思。这里的“出师”和“发任务经验”看起来更像是游戏或者某种任务中的语境，而不是要求添加微信的社交邀请。如果这句话中包含有谐音字或形近字，它们并没有明显指向“微信”这个词。因此，这句话不符合邀请加微信的话语特征。\\n</explanation>\\n<result>\\nN\\n</result>\\n</example>'}),\n",
       " Document(page_content='什么啊都没头没脑的', metadata={'example': '<example>\\n<sentence>\\n什么啊都没头没脑的\\n</sentence>\\n<explanation>\\n这句话“什么啊都没头没脑的”并没有直接或者隐晦地表达出加微信的意思。它看起来更像是一句表达困惑或者不理解的话，与加微信无关。如果这句话中包含有谐音字、形近字或符号来代替“微信”这个词，那么在当前的形式下，并没有体现出这样的替代。因此，这句话不符合邀请加微信的话语特征。\\n</explanation>\\n<result>\\nN\\n</result>\\n</example>'}),\n",
       " Document(page_content='我们以前是排队的，底价购买', metadata={'example': '<example>\\n<sentence>\\n我们以前是排队的，底价购买\\n</sentence>\\n<explanation>\\n这句话并没有直接或隐晦地表达出加微信的意思。它看起来像是在谈论过去的某个购买活动或者行为，并没有明显的邀请交换联系方式或加微信的意图。\\n</explanation>\\n<result>\\nN\\n</result>\\n</example>'}),\n",
       " Document(page_content='岛求组', metadata={'example': '<example>\\n<sentence>\\n岛求组\\n</sentence>\\n<explanation>\\n这句话并没有直接或隐晦地表达出加微信的意思，并没有明显的邀请交换联系方式或加微信的意图。\\n</explanation>\\n<result>\\nN\\n</result>\\n</example>'}),\n",
       " Document(page_content='月岛组一个', metadata={'example': '<example>\\n<sentence>\\n月岛组一个\\n</sentence>\\n<explanation>\\n这句话并没有直接或隐晦地表达出加微信的意思，并没有明显的邀请交换联系方式或加微信的意图。\\n</explanation>\\n<result>\\nN\\n</result>\\n</example>'}),\n",
       " Document(page_content='#2多少收', metadata={'example': '<example>\\n<sentence>\\n#2多少收\\n</sentence>\\n<explanation>\\n这句话并没有直接或隐晦地表达出加微信的意思，并没有明显的邀请交换联系方式或加微信的意图。\\n</explanation>\\n<result>\\nN\\n</result>\\n</example>'})]"
      ]
     },
     "execution_count": 18,
     "metadata": {},
     "output_type": "execute_result"
    }
   ],
   "source": [
    "reference_docs"
   ]
  },
  {
   "cell_type": "code",
   "execution_count": 19,
   "id": "70827264",
   "metadata": {},
   "outputs": [],
   "source": [
    "vectorstore = SKLearnVectorStore.from_documents(\n",
    "    reference_docs,\n",
    "    embedding=embedding_model,\n",
    ")\n",
    "retriever = vectorstore.as_retriever(k=10)"
   ]
  },
  {
   "cell_type": "code",
   "execution_count": 21,
   "id": "fbfb001d",
   "metadata": {},
   "outputs": [
    {
     "data": {
      "text/plain": [
       "[Document(page_content='你微多少', metadata={'id': '8d1d7ac6-92cb-408f-9180-777db3940361', 'example': '<example>\\n<sentence>\\n你微多少\\n</sentence>\\n<explanation>\\n这句话使用了简称“微”来代替“微信”，并且询问“多少”，即询问对方的微信号码。这是非常常见的一种隐晦表达方式，用以规避系统对敏感词的审核。在实际交流中，这种说法通常被理解为询问对方微信并希望得到对方的微信联系方式。\\n</explanation>\\n<result>\\nY\\n</result>\\n</example>'}),\n",
       " Document(page_content='你徵多少', metadata={'id': '7ebb2196-07c9-47b8-a725-4b6b953510b1', 'example': '<example>\\n<sentence>\\n你徵多少\\n</sentence>\\n<explanation>\\n虽然这句话“你徵多少”并没有直接表达出加微信的意思。但“徵”字在这里很有可能是被用来代替“微信”的“微”。\\n</explanation>\\n<result>\\nY\\n</result>\\n</example>'}),\n",
       " Document(page_content='什么啊都没头没脑的', metadata={'id': '5b95ae37-54bd-40a1-aa08-d9be40b9515d', 'example': '<example>\\n<sentence>\\n什么啊都没头没脑的\\n</sentence>\\n<explanation>\\n这句话“什么啊都没头没脑的”并没有直接或者隐晦地表达出加微信的意思。它看起来更像是一句表达困惑或者不理解的话，与加微信无关。如果这句话中包含有谐音字、形近字或符号来代替“微信”这个词，那么在当前的形式下，并没有体现出这样的替代。因此，这句话不符合邀请加微信的话语特征。\\n</explanation>\\n<result>\\nN\\n</result>\\n</example>'}),\n",
       " Document(page_content='#2多少收', metadata={'id': '49c327fd-2193-456f-b4c9-efd2cc70ae4a', 'example': '<example>\\n<sentence>\\n#2多少收\\n</sentence>\\n<explanation>\\n这句话并没有直接或隐晦地表达出加微信的意思，并没有明显的邀请交换联系方式或加微信的意图。\\n</explanation>\\n<result>\\nN\\n</result>\\n</example>'})]"
      ]
     },
     "execution_count": 21,
     "metadata": {},
     "output_type": "execute_result"
    }
   ],
   "source": [
    "retriever.invoke(\"加v\")"
   ]
  },
  {
   "cell_type": "code",
   "execution_count": 22,
   "id": "3f9fb438",
   "metadata": {},
   "outputs": [
    {
     "data": {
      "text/plain": [
       "[[Document(page_content='你微多少', metadata={'id': '8d1d7ac6-92cb-408f-9180-777db3940361', 'example': '<example>\\n<sentence>\\n你微多少\\n</sentence>\\n<explanation>\\n这句话使用了简称“微”来代替“微信”，并且询问“多少”，即询问对方的微信号码。这是非常常见的一种隐晦表达方式，用以规避系统对敏感词的审核。在实际交流中，这种说法通常被理解为询问对方微信并希望得到对方的微信联系方式。\\n</explanation>\\n<result>\\nY\\n</result>\\n</example>'}),\n",
       "  Document(page_content='你徵多少', metadata={'id': '7ebb2196-07c9-47b8-a725-4b6b953510b1', 'example': '<example>\\n<sentence>\\n你徵多少\\n</sentence>\\n<explanation>\\n虽然这句话“你徵多少”并没有直接表达出加微信的意思。但“徵”字在这里很有可能是被用来代替“微信”的“微”。\\n</explanation>\\n<result>\\nY\\n</result>\\n</example>'}),\n",
       "  Document(page_content='什么啊都没头没脑的', metadata={'id': '5b95ae37-54bd-40a1-aa08-d9be40b9515d', 'example': '<example>\\n<sentence>\\n什么啊都没头没脑的\\n</sentence>\\n<explanation>\\n这句话“什么啊都没头没脑的”并没有直接或者隐晦地表达出加微信的意思。它看起来更像是一句表达困惑或者不理解的话，与加微信无关。如果这句话中包含有谐音字、形近字或符号来代替“微信”这个词，那么在当前的形式下，并没有体现出这样的替代。因此，这句话不符合邀请加微信的话语特征。\\n</explanation>\\n<result>\\nN\\n</result>\\n</example>'}),\n",
       "  Document(page_content='#2多少收', metadata={'id': '49c327fd-2193-456f-b4c9-efd2cc70ae4a', 'example': '<example>\\n<sentence>\\n#2多少收\\n</sentence>\\n<explanation>\\n这句话并没有直接或隐晦地表达出加微信的意思，并没有明显的邀请交换联系方式或加微信的意图。\\n</explanation>\\n<result>\\nN\\n</result>\\n</example>'})],\n",
       " [Document(page_content='你微多少', metadata={'id': '8d1d7ac6-92cb-408f-9180-777db3940361', 'example': '<example>\\n<sentence>\\n你微多少\\n</sentence>\\n<explanation>\\n这句话使用了简称“微”来代替“微信”，并且询问“多少”，即询问对方的微信号码。这是非常常见的一种隐晦表达方式，用以规避系统对敏感词的审核。在实际交流中，这种说法通常被理解为询问对方微信并希望得到对方的微信联系方式。\\n</explanation>\\n<result>\\nY\\n</result>\\n</example>'}),\n",
       "  Document(page_content='有意十微', metadata={'id': '06af949d-2818-4a7e-87aa-3887df67674b', 'example': '<example>\\n<sentence>\\n有意十微\\n</sentence>\\n<explanation>\\n这句话使用了谐音字“十”代替了“加”，结合后面的“微”，可以推断出这是“加微信”的意思。\"有意\"则可能表示对方有意愿进行进一步的联系或交流。\\n</explanation>\\n<result>\\nY\\n</result>\\n</example>'}),\n",
       "  Document(page_content='你徵多少', metadata={'id': '7ebb2196-07c9-47b8-a725-4b6b953510b1', 'example': '<example>\\n<sentence>\\n你徵多少\\n</sentence>\\n<explanation>\\n虽然这句话“你徵多少”并没有直接表达出加微信的意思。但“徵”字在这里很有可能是被用来代替“微信”的“微”。\\n</explanation>\\n<result>\\nY\\n</result>\\n</example>'}),\n",
       "  Document(page_content='#2多少收', metadata={'id': '49c327fd-2193-456f-b4c9-efd2cc70ae4a', 'example': '<example>\\n<sentence>\\n#2多少收\\n</sentence>\\n<explanation>\\n这句话并没有直接或隐晦地表达出加微信的意思，并没有明显的邀请交换联系方式或加微信的意图。\\n</explanation>\\n<result>\\nN\\n</result>\\n</example>'})]]"
      ]
     },
     "execution_count": 22,
     "metadata": {},
     "output_type": "execute_result"
    }
   ],
   "source": [
    "retriever.batch([\"加v\",\"你微多少\"])"
   ]
  },
  {
   "cell_type": "code",
   "execution_count": 62,
   "id": "ef480496-4a75-4bde-9fdf-2ca35377ea0d",
   "metadata": {},
   "outputs": [],
   "source": [
    "fc_desc = \"\"\"\n",
    "You will ALWAYS follow the below guidelines when you are answering a question:\n",
    "<guidelines>\n",
    "- Think through the user's question, extract all data from the question and the previous conversations before creating a plan.\n",
    "- Always output your thoughts within <thinking></thinking> xml tags before you respond to the user. \n",
    "- Your response must be follow the pydantic schema as:\n",
    "<schema>\n",
    "    {schema}\n",
    "</shema>\n",
    "- output your answer in json format, enclosed in tag <answer>, so that the user can use pydantic basemodel.parse_obj() to parse the json string into an object which defined as:\n",
    " <schema>\n",
    " {schema}\n",
    " </shema>\n",
    " \n",
    "</guidelines>\n",
    "\"\"\""
   ]
  },
  {
   "cell_type": "code",
   "execution_count": 64,
   "id": "69b9ca35-05c1-43e9-89e2-6777d3320d48",
   "metadata": {},
   "outputs": [],
   "source": [
    "from langchain_core.prompts import ChatPromptTemplate\n",
    "from langchain_core.pydantic_v1 import BaseModel, Field\n",
    "from typing import List, Optional,Literal\n",
    "from langchain_core.output_parsers import StrOutputParser\n",
    "\n",
    "prompt = '''\n",
    "你是一位文字内容审核员,需要仔细分析给定句子是否含有邀请加微信的暗示。请按以下步骤分析:\n",
    "\n",
    "1. 查看句子是否包含\"微信\"或“微”这个词或其谐音字、形近字等变体。\n",
    "2. 检查句子中是否使用了符号或其他隐晦方式暗示\"微信\"。\n",
    "3. 结合上下文语义,判断句子的真正意图是否为邀请加微信。\n",
    "\n",
    "以下是一些示例,帮助你更好地理解邀请加微信的常见表达方式:\n",
    "<examples>\n",
    "{examples_prompt}\n",
    "</examples>\n",
    "\n",
    "现在请分析以下句子:\n",
    "<sentences>\n",
    "{text}\n",
    "</sentences>\n",
    "\n",
    "在<explanation></explanation>标签中用一句话解释你的分析过程，在<result></result>标签中输出Y或N,表示该句子是否在邀请加微信。\n",
    "'''\n",
    "\n",
    "prompt = '''\n",
    "你是一位文字内容审核员,需要仔细分析给定句子是否含有邀请加微信的暗示。请按以下步骤分析:\n",
    "\n",
    "1. 查看句子是否包含\"微信\"或“微”这个词或其谐音字、形近字等变体。\n",
    "2. 检查句子中是否使用了符号或其他隐晦方式暗示\"微信\"。\n",
    "3. 结合上下文语义,判断句子的真正意图是否为邀请加微信。\n",
    "\n",
    "以下是一些示例,帮助你更好地理解邀请加微信的常见表达方式:\n",
    "<examples>\n",
    "{examples_prompt}\n",
    "</examples>\n",
    "\n",
    "现在请分析以下句子:\n",
    "<sentences>\n",
    "{text}\n",
    "</sentences>\n",
    "'''+fc_desc\n",
    "\n",
    "prompt_template = ChatPromptTemplate.from_template(prompt)"
   ]
  },
  {
   "cell_type": "code",
   "execution_count": 65,
   "id": "78cca816",
   "metadata": {},
   "outputs": [],
   "source": [
    "class Record(BaseModel):\n",
    "    text: str = Field(..., title=\"the original text be analyzed\" )\n",
    "    role: str = Field(..., title=\"the original role who said the text\")\n",
    "    result: Literal['Y', 'N'] = Field(..., title=\"the result of text analysis\")\n",
    "class Results(BaseModel):\n",
    "    analaysis: List[Record] = Field(\n",
    "        default_factory=list,\n",
    "        title=\"the list of the analaysis results\",\n",
    "    )"
   ]
  },
  {
   "cell_type": "code",
   "execution_count": 26,
   "id": "51314014-7202-412d-996b-952ee0df02e0",
   "metadata": {},
   "outputs": [],
   "source": [
    "import pandas as pd\n",
    "df = pd.read_excel('data/ai返回结果配对0321.xlsx')\n",
    "text_list = df[['角色名','文本']]"
   ]
  },
  {
   "cell_type": "code",
   "execution_count": 47,
   "id": "eb20318e",
   "metadata": {},
   "outputs": [],
   "source": [
    "processed_text_array = text_list.apply(lambda x: {\"role\":str(x['角色名']),\"text\":str(x['文本']) },axis=1)"
   ]
  },
  {
   "cell_type": "code",
   "execution_count": 48,
   "id": "abb311dc",
   "metadata": {},
   "outputs": [],
   "source": [
    "def split_into_chunks(arr, n):\n",
    "    chunks = []\n",
    "    for i in range(0, len(arr), n):\n",
    "        chunks.append(arr[i:i+n])\n",
    "    return chunks"
   ]
  },
  {
   "cell_type": "code",
   "execution_count": 49,
   "id": "f69e64d1",
   "metadata": {},
   "outputs": [
    {
     "name": "stdout",
     "output_type": "stream",
     "text": [
      "total chunks 1061\n"
     ]
    },
    {
     "data": {
      "text/plain": [
       "0               {'role': '西府苍狼', 'text': '#2#2#2重在参与'}\n",
       "1                  {'role': '★武⊙南腾', 'text': '没有指挥官吗'}\n",
       "2                        {'role': '夜里欢', 'text': '好的'}\n",
       "3    {'role': '别抢我的大肘子', 'text': '青青，我又换回崔阳了，我等着，你们...\n",
       "4    {'role': '田婉仪', 'text': '田婉仪对汉水古渡的【神枪方晚】造成了第一击...\n",
       "5    {'role': '罗刹幽冥', 'text': '难道别的帮会不是随便拍吗？怎么都是抢资源...\n",
       "6                   {'role': '★隋♀夏云', 'text': '我是气段氏'}\n",
       "7                {'role': '轻剪一地繁华', 'text': '踢人  我进来'}\n",
       "8                    {'role': '浪迹风云', 'text': '现在没事了'}\n",
       "9                   {'role': '留着是个祸害', 'text': '也是刚玩'}\n",
       "dtype: object"
      ]
     },
     "execution_count": 49,
     "metadata": {},
     "output_type": "execute_result"
    }
   ],
   "source": [
    "chunks = split_into_chunks(processed_text_array,10)\n",
    "print(f\"total chunks {len(chunks)}\")\n",
    "chunks[0]"
   ]
  },
  {
   "cell_type": "code",
   "execution_count": 81,
   "id": "c2e42de7",
   "metadata": {},
   "outputs": [
    {
     "data": {
      "text/plain": [
       "'{\"role\": \"西府苍狼\", \"text\": \"#2#2#2重在参与\"}\\n{\"role\": \"★武⊙南腾\", \"text\": \"没有指挥官吗\"}\\n{\"role\": \"夜里欢\", \"text\": \"好的\"}\\n{\"role\": \"别抢我的大肘子\", \"text\": \"青青，我又换回崔阳了，我等着，你们用不着的东西我还能用一下儿，要换别的门派更不好弄。\"}\\n{\"role\": \"田婉仪\", \"text\": \"田婉仪对汉水古渡的【神枪方晚】造成了第一击！<汉水古渡(100,255)>\"}\\n{\"role\": \"罗刹幽冥\", \"text\": \"难道别的帮会不是随便拍吗？怎么都是抢资源，谁钱大谁就拍\"}\\n{\"role\": \"★隋♀夏云\", \"text\": \"我是气段氏\"}\\n{\"role\": \"轻剪一地繁华\", \"text\": \"踢人  我进来\"}\\n{\"role\": \"浪迹风云\", \"text\": \"现在没事了\"}\\n{\"role\": \"留着是个祸害\", \"text\": \"也是刚玩\"}'"
      ]
     },
     "execution_count": 81,
     "metadata": {},
     "output_type": "execute_result"
    }
   ],
   "source": [
    "import json\n",
    "text_arr = [ json.dumps(chk,ensure_ascii=False) for chk in chunks[0]]\n",
    "query_arr = [ chk['text'] for chk in chunks[0]]\n",
    "text =  \"\\n\".join(text_arr)\n",
    "text"
   ]
  },
  {
   "cell_type": "code",
   "execution_count": 82,
   "id": "b4f1c3e0",
   "metadata": {},
   "outputs": [
    {
     "data": {
      "text/plain": [
       "['#2#2#2重在参与',\n",
       " '没有指挥官吗',\n",
       " '好的',\n",
       " '青青，我又换回崔阳了，我等着，你们用不着的东西我还能用一下儿，要换别的门派更不好弄。',\n",
       " '田婉仪对汉水古渡的【神枪方晚】造成了第一击！<汉水古渡(100,255)>',\n",
       " '难道别的帮会不是随便拍吗？怎么都是抢资源，谁钱大谁就拍',\n",
       " '我是气段氏',\n",
       " '踢人  我进来',\n",
       " '现在没事了',\n",
       " '也是刚玩']"
      ]
     },
     "execution_count": 82,
     "metadata": {},
     "output_type": "execute_result"
    }
   ],
   "source": [
    "query_arr"
   ]
  },
  {
   "cell_type": "code",
   "execution_count": 40,
   "id": "0a350993",
   "metadata": {},
   "outputs": [],
   "source": [
    "import itertools\n",
    "def format_docs(batchdocs):\n",
    "    docs =list(itertools.chain(*batchdocs))\n",
    "    doc_ids = {}\n",
    "    for doc in docs:\n",
    "        if doc.metadata['id'] not in doc_ids:\n",
    "            doc_ids[doc.metadata['id']] = doc\n",
    "    return \"\\n\".join(doc.metadata['example'] for doc in doc_ids.values())"
   ]
  },
  {
   "cell_type": "code",
   "execution_count": 87,
   "id": "62ad6586",
   "metadata": {},
   "outputs": [],
   "source": [
    "import re\n",
    "import json\n",
    "from langchain_core.output_parsers.base import BaseOutputParser\n",
    "from langchain_core.runnables import RunnableLambda\n",
    "\n",
    "\n",
    "def dict_to_obj(json_str:dict, target:object):\n",
    "    return target.parse_obj(json_str)\n",
    "\n",
    "\n",
    "class CustJsonOuputParser(BaseOutputParser[str]): \n",
    "    def parse(self, text: str) -> str:\n",
    "        pattern = r\"<answer>(.*?)</answer>\"\n",
    "        match = re.search(pattern, text, re.DOTALL)\n",
    "        if match:\n",
    "            text = match.group(1)\n",
    "            # text = text.replace('[','(').replace(']',')') ##避免跟sentiment的格式冲突\n",
    "        else:\n",
    "            return {'answer':\"no\"}    \n",
    "        new_dict = json.loads(text.replace('\\n','  '))\n",
    "        \n",
    "        return new_dict\n",
    "\n",
    "    @property\n",
    "    def _type(self) -> str:\n",
    "        return \"cust_output_parser\"\n",
    "    \n"
   ]
  },
  {
   "cell_type": "code",
   "execution_count": 90,
   "id": "30fa36ed",
   "metadata": {},
   "outputs": [],
   "source": [
    "from operator import itemgetter\n",
    "rag_chain = (\n",
    "    {\"examples_prompt\": itemgetter('examples_prompt') , \"text\": itemgetter('text'),\"schema\":itemgetter('schema')}\n",
    "    | prompt_template\n",
    "    | llm_haiku\n",
    "    | CustJsonOuputParser()\n",
    ")"
   ]
  },
  {
   "cell_type": "code",
   "execution_count": 83,
   "id": "494725ce",
   "metadata": {},
   "outputs": [],
   "source": [
    "docs = retriever.batch(query_arr) \n",
    "context = format_docs(docs)"
   ]
  },
  {
   "cell_type": "code",
   "execution_count": 84,
   "id": "710e1420",
   "metadata": {},
   "outputs": [
    {
     "name": "stdout",
     "output_type": "stream",
     "text": [
      "<thinking>\n",
      "To analyze whether the given sentences contain invitations to add WeChat, I will follow these steps:\n",
      "\n",
      "1. Check if the sentence contains the word \"微信\" (WeChat) or its homophones, similar words, or symbols that could represent it.\n",
      "2. Look for any subtle hints or coded language that could be referring to WeChat.\n",
      "3. Consider the context and semantics to determine if the true intent is to invite someone to add WeChat.\n",
      "\n",
      "I will go through each sentence and apply these criteria to determine if it is an invitation to add WeChat or not.\n",
      "</thinking>\n",
      "\n",
      "<answer>\n",
      "{\n",
      "  \"analaysis\": [\n",
      "    {\n",
      "      \"text\": \"#2#2#2重在参与\",\n",
      "      \"role\": \"西府苍狼\",\n",
      "      \"result\": \"N\"\n",
      "    },\n",
      "    {\n",
      "      \"text\": \"没有指挥官吗\",\n",
      "      \"role\": \"★武⊙南腾\",\n",
      "      \"result\": \"N\"\n",
      "    },\n",
      "    {\n",
      "      \"text\": \"好的\",\n",
      "      \"role\": \"夜里欢\",\n",
      "      \"result\": \"N\"\n",
      "    },\n",
      "    {\n",
      "      \"text\": \"青青，我又换回崔阳了，我等着，你们用不着的东西我还能用一下儿，要换别的门派更不好弄。\",\n",
      "      \"role\": \"别抢我的大肘子\",\n",
      "      \"result\": \"N\"\n",
      "    },\n",
      "    {\n",
      "      \"text\": \"田婉仪对汉水古渡的【神枪方晚】造成了第一击！<汉水古渡(100,255)>\",\n",
      "      \"role\": \"田婉仪\",\n",
      "      \"result\": \"N\"\n",
      "    },\n",
      "    {\n",
      "      \"text\": \"难道别的帮会不是随便拍吗？怎么都是抢资源，谁钱大谁就拍\",\n",
      "      \"role\": \"罗刹幽冥\",\n",
      "      \"result\": \"N\"\n",
      "    },\n",
      "    {\n",
      "      \"text\": \"我是气段氏\",\n",
      "      \"role\": \"★隋♀夏云\",\n",
      "      \"result\": \"N\"\n",
      "    },\n",
      "    {\n",
      "      \"text\": \"踢人  我进来\",\n",
      "      \"role\": \"轻剪一地繁华\",\n",
      "      \"result\": \"N\"\n",
      "    },\n",
      "    {\n",
      "      \"text\": \"现在没事了\",\n",
      "      \"role\": \"浪迹风云\",\n",
      "      \"result\": \"N\"\n",
      "    },\n",
      "    {\n",
      "      \"text\": \"也是刚玩\",\n",
      "      \"role\": \"留着是个祸害\",\n",
      "      \"result\": \"N\"\n",
      "    }\n",
      "  ]\n",
      "}\n",
      "</answer>\n"
     ]
    },
    {
     "data": {
      "text/plain": [
       "{'analaysis': [{'text': '#2#2#2重在参与', 'role': '西府苍狼', 'result': 'N'},\n",
       "  {'text': '没有指挥官吗', 'role': '★武⊙南腾', 'result': 'N'},\n",
       "  {'text': '好的', 'role': '夜里欢', 'result': 'N'},\n",
       "  {'text': '青青，我又换回崔阳了，我等着，你们用不着的东西我还能用一下儿，要换别的门派更不好弄。',\n",
       "   'role': '别抢我的大肘子',\n",
       "   'result': 'N'},\n",
       "  {'text': '田婉仪对汉水古渡的【神枪方晚】造成了第一击！<汉水古渡(100,255)>',\n",
       "   'role': '田婉仪',\n",
       "   'result': 'N'},\n",
       "  {'text': '难道别的帮会不是随便拍吗？怎么都是抢资源，谁钱大谁就拍', 'role': '罗刹幽冥', 'result': 'N'},\n",
       "  {'text': '我是气段氏', 'role': '★隋♀夏云', 'result': 'N'},\n",
       "  {'text': '踢人  我进来', 'role': '轻剪一地繁华', 'result': 'N'},\n",
       "  {'text': '现在没事了', 'role': '浪迹风云', 'result': 'N'},\n",
       "  {'text': '也是刚玩', 'role': '留着是个祸害', 'result': 'N'}]}"
      ]
     },
     "execution_count": 84,
     "metadata": {},
     "output_type": "execute_result"
    }
   ],
   "source": [
    "rag_chain.invoke({\"examples_prompt\":context,\"text\":text,\"schema\":Results.schema_json() })"
   ]
  },
  {
   "cell_type": "code",
   "execution_count": 91,
   "id": "a66e6c9c",
   "metadata": {},
   "outputs": [
    {
     "name": "stderr",
     "output_type": "stream",
     "text": [
      "  0%|          | 0/1061 [00:00<?, ?it/s]"
     ]
    },
    {
     "name": "stdout",
     "output_type": "stream",
     "text": [
      "<thinking>\n",
      "To analyze the given sentences for potential invitations to add WeChat, I will go through the following steps:\n",
      "\n",
      "1. Check if the sentence contains the word \"WeChat\" or \"微\" (the Chinese character for \"micro\") or any of its homophones or similar-sounding words.\n",
      "2. Look for any symbols or other subtle ways the sentence might be hinting at adding WeChat.\n",
      "3. Consider the overall context and meaning of the sentence to determine if the true intent is to invite the addition of WeChat.\n",
      "\n",
      "Based on the examples provided, I will apply these steps to each of the given sentences and provide the analysis results.\n",
      "</thinking>\n",
      "\n",
      "<answer>\n",
      "{\n",
      "    \"analaysis\": [\n",
      "        {\n",
      "            \"text\": \"#2#2#2重在参与\",\n",
      "            \"role\": \"西府苍狼\",\n",
      "            \"result\": \"N\"\n",
      "        },\n",
      "        {\n",
      "            \"text\": \"没有指挥官吗\",\n",
      "            \"role\": \"★武⊙南腾\",\n",
      "            \"result\": \"N\"\n",
      "        },\n",
      "        {\n",
      "            \"text\": \"好的\",\n",
      "            \"role\": \"夜里欢\",\n",
      "            \"result\": \"N\"\n",
      "        },\n",
      "        {\n",
      "            \"text\": \"青青，我又换回崔阳了，我等着，你们用不着的东西我还能用一下儿，要换别的门派更不好弄。\",\n",
      "            \"role\": \"别抢我的大肘子\",\n",
      "            \"result\": \"N\"\n",
      "        },\n",
      "        {\n",
      "            \"text\": \"田婉仪对汉水古渡的【神枪方晚】造成了第一击！<汉水古渡(100,255)>\",\n",
      "            \"role\": \"田婉仪\",\n",
      "            \"result\": \"N\"\n",
      "        },\n",
      "        {\n",
      "            \"text\": \"难道别的帮会不是随便拍吗？怎么都是抢资源，谁钱大谁就拍\",\n",
      "            \"role\": \"罗刹幽冥\",\n",
      "            \"result\": \"N\"\n",
      "        },\n",
      "        {\n",
      "            \"text\": \"我是气段氏\",\n",
      "            \"role\": \"★隋♀夏云\",\n",
      "            \"result\": \"N\"\n",
      "        },\n",
      "        {\n",
      "            \"text\": \"踢人  我进来\",\n",
      "            \"role\": \"轻剪一地繁华\",\n",
      "            \"result\": \"N\"\n",
      "        },\n",
      "        {\n",
      "            \"text\": \"现在没事了\",\n",
      "            \"role\": \"浪迹风云\",\n",
      "            \"result\": \"N\"\n",
      "        },\n",
      "        {\n",
      "            \"text\": \"也是刚玩\",\n",
      "            \"role\": \"留着是个祸害\",\n",
      "            \"result\": \"N\"\n",
      "        }\n",
      "    ]\n",
      "}\n",
      "</answer>"
     ]
    },
    {
     "name": "stderr",
     "output_type": "stream",
     "text": [
      "  0%|          | 0/1061 [00:08<?, ?it/s]\n"
     ]
    }
   ],
   "source": [
    "results = []\n",
    "for chunk_id, chunk in enumerate(tqdm(chunks)):\n",
    "    text_arr = [ json.dumps(chk,ensure_ascii=False) for chk in chunk]\n",
    "    query_arr = [ chk['text'] for chk in chunk]\n",
    "    text =  \"\\n\".join(text_arr)\n",
    "    \n",
    "    ## 批量获取example\n",
    "    docs = retriever.batch(query_arr) \n",
    "    context = format_docs(docs)\n",
    "    result = rag_chain.invoke({\"examples_prompt\":context,\"text\":text,\"schema\":Results.schema_json() })\n",
    "    results.append(result)\n",
    "    break"
   ]
  },
  {
   "cell_type": "code",
   "execution_count": 13,
   "id": "c1b5ca7c-d9f9-4509-802c-797ee87d13d3",
   "metadata": {},
   "outputs": [
    {
     "name": "stderr",
     "output_type": "stream",
     "text": [
      "  0%|          | 0/10610 [00:01<?, ?it/s]\n"
     ]
    }
   ],
   "source": [
    "# for text_id, text in enumerate(tqdm(text_list)):\n",
    "#     embedding = model.encode(text)['dense_vecs']\n",
    "#     similarity = embedding @ embeddings.T\n",
    "#     examples_prompt = '\\n\\n'.join([examples_prompt_list[example_idx] for example_idx in np.argsort(similarity)[-5:]])\n",
    "#     message = client.messages.create(\n",
    "#         model=\"anthropic.claude-3-haiku-20240307-v1:0\",\n",
    "#         max_tokens=512,\n",
    "#         messages=[{\"role\": \"user\", \"content\": prompt.format(examples_prompt = examples_prompt, text=text)}]\n",
    "#     )\n",
    "#     pattern = r'<result>(.*?)</result>'\n",
    "#     result = re.findall(pattern, message.content[0].text, re.DOTALL)[0]\n",
    "#     # with open(f'{text_id:05d}.txt', 'w') as f:\n",
    "#     #     f.write(result)\n",
    "    \n",
    "#     break"
   ]
  },
  {
   "cell_type": "code",
   "execution_count": null,
   "id": "49d6d562-0eae-45d7-b298-3bfe7182148e",
   "metadata": {},
   "outputs": [],
   "source": []
  }
 ],
 "metadata": {
  "kernelspec": {
   "display_name": "pyautogen",
   "language": "python",
   "name": "python3"
  },
  "language_info": {
   "codemirror_mode": {
    "name": "ipython",
    "version": 3
   },
   "file_extension": ".py",
   "mimetype": "text/x-python",
   "name": "python",
   "nbconvert_exporter": "python",
   "pygments_lexer": "ipython3",
   "version": "undefined.undefined.undefined"
  }
 },
 "nbformat": 4,
 "nbformat_minor": 5
}
