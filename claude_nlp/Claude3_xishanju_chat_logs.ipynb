{
 "cells": [
  {
   "cell_type": "code",
   "execution_count": 1,
   "id": "7cf8765d",
   "metadata": {},
   "outputs": [
    {
     "name": "stdout",
     "output_type": "stream",
     "text": [
      "\u001b[31mERROR: pip's dependency resolver does not currently take into account all the packages that are installed. This behaviour is the source of the following dependency conflicts.\n",
      "jupyter-ai 2.8.1 requires faiss-cpu, which is not installed.\n",
      "aiobotocore 2.7.0 requires botocore<1.31.65,>=1.31.16, but you have botocore 1.34.67 which is incompatible.\n",
      "jupyter-ai 2.8.1 requires langchain==0.0.350, but you have langchain 0.1.13 which is incompatible.\n",
      "jupyter-ai 2.8.1 requires langchain-core<0.1.4,>=0.1.0, but you have langchain-core 0.1.33 which is incompatible.\n",
      "jupyter-ai-magics 2.8.1 requires langchain==0.0.350, but you have langchain 0.1.13 which is incompatible.\n",
      "jupyter-ai-magics 2.8.1 requires langchain-core<0.1.4,>=0.1.0, but you have langchain-core 0.1.33 which is incompatible.\u001b[0m\u001b[31m\n",
      "\u001b[0m"
     ]
    }
   ],
   "source": [
    "!pip install boto3 langchain langchain_community -Uq"
   ]
  },
  {
   "cell_type": "code",
   "execution_count": 9,
   "id": "f8db72ac",
   "metadata": {},
   "outputs": [],
   "source": [
    "import json\n",
    "import boto3\n",
    "import random\n",
    "import pandas as pd"
   ]
  },
  {
   "cell_type": "code",
   "execution_count": 2,
   "id": "646eecb1",
   "metadata": {},
   "outputs": [],
   "source": [
    "bedrock_runtime = boto3.client('bedrock-runtime')"
   ]
  },
  {
   "cell_type": "code",
   "execution_count": 155,
   "id": "a5e14612",
   "metadata": {},
   "outputs": [],
   "source": [
    "filename = '游戏聊天日志03.06~03.09.csv'\n",
    "df = pd.read_csv(filename)\n",
    "# with open(filename) as f:\n",
    "#     lines = f.readlines()"
   ]
  },
  {
   "cell_type": "code",
   "execution_count": 156,
   "id": "5c8faa80-8170-45bb-93b7-a032e3425f5b",
   "metadata": {},
   "outputs": [
    {
     "data": {
      "text/plain": [
       "(1394177, 4)"
      ]
     },
     "execution_count": 156,
     "metadata": {},
     "output_type": "execute_result"
    }
   ],
   "source": [
    "df.shape"
   ]
  },
  {
   "cell_type": "code",
   "execution_count": 157,
   "id": "2cb6f433-7cc1-42cc-9aa5-658a236684b5",
   "metadata": {},
   "outputs": [
    {
     "data": {
      "text/plain": [
       "count    1.394177e+06\n",
       "mean     3.680513e+00\n",
       "std      2.810867e+00\n",
       "min      0.000000e+00\n",
       "25%      0.000000e+00\n",
       "50%      6.000000e+00\n",
       "75%      6.000000e+00\n",
       "max      6.000000e+00\n",
       "Name: channelid, dtype: float64"
      ]
     },
     "execution_count": 157,
     "metadata": {},
     "output_type": "execute_result"
    }
   ],
   "source": [
    "df.channelid.describe()"
   ]
  },
  {
   "cell_type": "code",
   "execution_count": 158,
   "id": "5cd2643b-7017-4a1a-b1f6-713d80441ed2",
   "metadata": {},
   "outputs": [
    {
     "data": {
      "text/html": [
       "<div>\n",
       "<style scoped>\n",
       "    .dataframe tbody tr th:only-of-type {\n",
       "        vertical-align: middle;\n",
       "    }\n",
       "\n",
       "    .dataframe tbody tr th {\n",
       "        vertical-align: top;\n",
       "    }\n",
       "\n",
       "    .dataframe thead th {\n",
       "        text-align: right;\n",
       "    }\n",
       "</style>\n",
       "<table border=\"1\" class=\"dataframe\">\n",
       "  <thead>\n",
       "    <tr style=\"text-align: right;\">\n",
       "      <th></th>\n",
       "      <th>@timestamp</th>\n",
       "      <th>senderrolename</th>\n",
       "      <th>_c3</th>\n",
       "    </tr>\n",
       "    <tr>\n",
       "      <th>channelid</th>\n",
       "      <th></th>\n",
       "      <th></th>\n",
       "      <th></th>\n",
       "    </tr>\n",
       "  </thead>\n",
       "  <tbody>\n",
       "    <tr>\n",
       "      <th>0</th>\n",
       "      <td>451691</td>\n",
       "      <td>451573</td>\n",
       "      <td>451691</td>\n",
       "    </tr>\n",
       "    <tr>\n",
       "      <th>1</th>\n",
       "      <td>86577</td>\n",
       "      <td>86577</td>\n",
       "      <td>86577</td>\n",
       "    </tr>\n",
       "    <tr>\n",
       "      <th>5</th>\n",
       "      <td>90744</td>\n",
       "      <td>90744</td>\n",
       "      <td>90744</td>\n",
       "    </tr>\n",
       "    <tr>\n",
       "      <th>6</th>\n",
       "      <td>765165</td>\n",
       "      <td>765165</td>\n",
       "      <td>765164</td>\n",
       "    </tr>\n",
       "  </tbody>\n",
       "</table>\n",
       "</div>"
      ],
      "text/plain": [
       "           @timestamp  senderrolename     _c3\n",
       "channelid                                    \n",
       "0              451691          451573  451691\n",
       "1               86577           86577   86577\n",
       "5               90744           90744   90744\n",
       "6              765165          765165  765164"
      ]
     },
     "execution_count": 158,
     "metadata": {},
     "output_type": "execute_result"
    }
   ],
   "source": [
    "df.groupby('channelid').count()"
   ]
  },
  {
   "cell_type": "code",
   "execution_count": 162,
   "id": "6f821a88-e4ca-4786-a191-549fee8c596d",
   "metadata": {},
   "outputs": [],
   "source": [
    "df = df.sort_values(by=['channelid', '@timestamp'], ascending=[True, True])"
   ]
  },
  {
   "cell_type": "code",
   "execution_count": 163,
   "id": "4a95ce4a-da54-4527-8a70-796af6a2a18a",
   "metadata": {},
   "outputs": [
    {
     "data": {
      "text/html": [
       "<div>\n",
       "<style scoped>\n",
       "    .dataframe tbody tr th:only-of-type {\n",
       "        vertical-align: middle;\n",
       "    }\n",
       "\n",
       "    .dataframe tbody tr th {\n",
       "        vertical-align: top;\n",
       "    }\n",
       "\n",
       "    .dataframe thead th {\n",
       "        text-align: right;\n",
       "    }\n",
       "</style>\n",
       "<table border=\"1\" class=\"dataframe\">\n",
       "  <thead>\n",
       "    <tr style=\"text-align: right;\">\n",
       "      <th></th>\n",
       "      <th>@timestamp</th>\n",
       "      <th>channelid</th>\n",
       "      <th>senderrolename</th>\n",
       "      <th>_c3</th>\n",
       "    </tr>\n",
       "  </thead>\n",
       "  <tbody>\n",
       "    <tr>\n",
       "      <th>1010571</th>\n",
       "      <td>2024-03-06 00:00:01.550</td>\n",
       "      <td>0</td>\n",
       "      <td>一碰就抖</td>\n",
       "      <td>帮会？</td>\n",
       "    </tr>\n",
       "    <tr>\n",
       "      <th>1010574</th>\n",
       "      <td>2024-03-06 00:00:01.844</td>\n",
       "      <td>0</td>\n",
       "      <td>孤影随形</td>\n",
       "      <td>没，没元宝</td>\n",
       "    </tr>\n",
       "    <tr>\n",
       "      <th>1010579</th>\n",
       "      <td>2024-03-06 00:00:02.802</td>\n",
       "      <td>0</td>\n",
       "      <td>桃丶夭</td>\n",
       "      <td>晚安</td>\n",
       "    </tr>\n",
       "    <tr>\n",
       "      <th>1010581</th>\n",
       "      <td>2024-03-06 00:00:03.622</td>\n",
       "      <td>0</td>\n",
       "      <td>日出</td>\n",
       "      <td>说个价，完事我就给你拆下来几个</td>\n",
       "    </tr>\n",
       "    <tr>\n",
       "      <th>1010583</th>\n",
       "      <td>2024-03-06 00:00:05.684</td>\n",
       "      <td>0</td>\n",
       "      <td>丶伊人</td>\n",
       "      <td>&lt;器魂·10级&gt;拆了昨天的9，又来个10</td>\n",
       "    </tr>\n",
       "    <tr>\n",
       "      <th>...</th>\n",
       "      <td>...</td>\n",
       "      <td>...</td>\n",
       "      <td>...</td>\n",
       "      <td>...</td>\n",
       "    </tr>\n",
       "    <tr>\n",
       "      <th>917530</th>\n",
       "      <td>2024-03-09 23:59:57.149</td>\n",
       "      <td>6</td>\n",
       "      <td>峥嵘岁月</td>\n",
       "      <td>那42的我试了，还不如低概率的更容易出</td>\n",
       "    </tr>\n",
       "    <tr>\n",
       "      <th>917527</th>\n",
       "      <td>2024-03-09 23:59:57.313</td>\n",
       "      <td>6</td>\n",
       "      <td>许丨丶三哥</td>\n",
       "      <td>我看别个主播换地图洗。还真被洗出来了</td>\n",
       "    </tr>\n",
       "    <tr>\n",
       "      <th>917528</th>\n",
       "      <td>2024-03-09 23:59:57.358</td>\n",
       "      <td>6</td>\n",
       "      <td>骆天宇</td>\n",
       "      <td>自爆掌毒才好，青衣反正攻高</td>\n",
       "    </tr>\n",
       "    <tr>\n",
       "      <th>917537</th>\n",
       "      <td>2024-03-09 23:59:57.933</td>\n",
       "      <td>6</td>\n",
       "      <td>叉叉</td>\n",
       "      <td>还在打啊</td>\n",
       "    </tr>\n",
       "    <tr>\n",
       "      <th>917534</th>\n",
       "      <td>2024-03-09 23:59:58.743</td>\n",
       "      <td>6</td>\n",
       "      <td>林亚南</td>\n",
       "      <td>&lt;3阶炙炎石·初级&gt;</td>\n",
       "    </tr>\n",
       "  </tbody>\n",
       "</table>\n",
       "<p>1394177 rows × 4 columns</p>\n",
       "</div>"
      ],
      "text/plain": [
       "                      @timestamp  channelid senderrolename  \\\n",
       "1010571  2024-03-06 00:00:01.550          0           一碰就抖   \n",
       "1010574  2024-03-06 00:00:01.844          0           孤影随形   \n",
       "1010579  2024-03-06 00:00:02.802          0            桃丶夭   \n",
       "1010581  2024-03-06 00:00:03.622          0             日出   \n",
       "1010583  2024-03-06 00:00:05.684          0            丶伊人   \n",
       "...                          ...        ...            ...   \n",
       "917530   2024-03-09 23:59:57.149          6           峥嵘岁月   \n",
       "917527   2024-03-09 23:59:57.313          6          许丨丶三哥   \n",
       "917528   2024-03-09 23:59:57.358          6            骆天宇   \n",
       "917537   2024-03-09 23:59:57.933          6             叉叉   \n",
       "917534   2024-03-09 23:59:58.743          6            林亚南   \n",
       "\n",
       "                          _c3  \n",
       "1010571                   帮会？  \n",
       "1010574                 没，没元宝  \n",
       "1010579                    晚安  \n",
       "1010581       说个价，完事我就给你拆下来几个  \n",
       "1010583  <器魂·10级>拆了昨天的9，又来个10  \n",
       "...                       ...  \n",
       "917530    那42的我试了，还不如低概率的更容易出  \n",
       "917527     我看别个主播换地图洗。还真被洗出来了  \n",
       "917528          自爆掌毒才好，青衣反正攻高  \n",
       "917537                   还在打啊  \n",
       "917534             <3阶炙炎石·初级>  \n",
       "\n",
       "[1394177 rows x 4 columns]"
      ]
     },
     "execution_count": 163,
     "metadata": {},
     "output_type": "execute_result"
    }
   ],
   "source": [
    "df"
   ]
  },
  {
   "cell_type": "code",
   "execution_count": 167,
   "id": "bcd96c80-1eb0-4f70-9f3e-a6ae75d51824",
   "metadata": {},
   "outputs": [],
   "source": [
    "c_id = 0"
   ]
  },
  {
   "cell_type": "code",
   "execution_count": 187,
   "id": "90f77544-4012-46cd-90e7-df2709f50986",
   "metadata": {},
   "outputs": [
    {
     "name": "stdout",
     "output_type": "stream",
     "text": [
      "CPU times: user 16.9 s, sys: 67.3 ms, total: 16.9 s\n",
      "Wall time: 16.9 s\n"
     ]
    }
   ],
   "source": [
    "%%time\n",
    "df['chat'] = df.apply(lambda x: f\"<channel>{'世界频道_'+str(x['channelid']) if x['channelid'] == 0 else '其他频道_'+str(x['channelid']) }<channel><username>{x['senderrolename']}</username><message>{x['_c3']}</message>\", axis=1)"
   ]
  },
  {
   "cell_type": "code",
   "execution_count": 188,
   "id": "594b9309-2daa-4cd5-b392-d0f9e43c80c1",
   "metadata": {},
   "outputs": [
    {
     "data": {
      "text/html": [
       "<div>\n",
       "<style scoped>\n",
       "    .dataframe tbody tr th:only-of-type {\n",
       "        vertical-align: middle;\n",
       "    }\n",
       "\n",
       "    .dataframe tbody tr th {\n",
       "        vertical-align: top;\n",
       "    }\n",
       "\n",
       "    .dataframe thead th {\n",
       "        text-align: right;\n",
       "    }\n",
       "</style>\n",
       "<table border=\"1\" class=\"dataframe\">\n",
       "  <thead>\n",
       "    <tr style=\"text-align: right;\">\n",
       "      <th></th>\n",
       "      <th>@timestamp</th>\n",
       "      <th>channelid</th>\n",
       "      <th>senderrolename</th>\n",
       "      <th>_c3</th>\n",
       "      <th>chat</th>\n",
       "    </tr>\n",
       "  </thead>\n",
       "  <tbody>\n",
       "    <tr>\n",
       "      <th>1010571</th>\n",
       "      <td>2024-03-06 00:00:01.550</td>\n",
       "      <td>0</td>\n",
       "      <td>一碰就抖</td>\n",
       "      <td>帮会？</td>\n",
       "      <td>&lt;channel&gt;世界频道_0&lt;channel&gt;&lt;username&gt;一碰就抖&lt;/userna...</td>\n",
       "    </tr>\n",
       "    <tr>\n",
       "      <th>1010574</th>\n",
       "      <td>2024-03-06 00:00:01.844</td>\n",
       "      <td>0</td>\n",
       "      <td>孤影随形</td>\n",
       "      <td>没，没元宝</td>\n",
       "      <td>&lt;channel&gt;世界频道_0&lt;channel&gt;&lt;username&gt;孤影随形&lt;/userna...</td>\n",
       "    </tr>\n",
       "    <tr>\n",
       "      <th>1010579</th>\n",
       "      <td>2024-03-06 00:00:02.802</td>\n",
       "      <td>0</td>\n",
       "      <td>桃丶夭</td>\n",
       "      <td>晚安</td>\n",
       "      <td>&lt;channel&gt;世界频道_0&lt;channel&gt;&lt;username&gt;桃丶夭&lt;/usernam...</td>\n",
       "    </tr>\n",
       "    <tr>\n",
       "      <th>1010581</th>\n",
       "      <td>2024-03-06 00:00:03.622</td>\n",
       "      <td>0</td>\n",
       "      <td>日出</td>\n",
       "      <td>说个价，完事我就给你拆下来几个</td>\n",
       "      <td>&lt;channel&gt;世界频道_0&lt;channel&gt;&lt;username&gt;日出&lt;/username...</td>\n",
       "    </tr>\n",
       "    <tr>\n",
       "      <th>1010583</th>\n",
       "      <td>2024-03-06 00:00:05.684</td>\n",
       "      <td>0</td>\n",
       "      <td>丶伊人</td>\n",
       "      <td>&lt;器魂·10级&gt;拆了昨天的9，又来个10</td>\n",
       "      <td>&lt;channel&gt;世界频道_0&lt;channel&gt;&lt;username&gt;丶伊人&lt;/usernam...</td>\n",
       "    </tr>\n",
       "    <tr>\n",
       "      <th>...</th>\n",
       "      <td>...</td>\n",
       "      <td>...</td>\n",
       "      <td>...</td>\n",
       "      <td>...</td>\n",
       "      <td>...</td>\n",
       "    </tr>\n",
       "    <tr>\n",
       "      <th>917531</th>\n",
       "      <td>2024-03-09 23:59:56.698</td>\n",
       "      <td>0</td>\n",
       "      <td>流德很</td>\n",
       "      <td>一tiao龙</td>\n",
       "      <td>&lt;channel&gt;世界频道_0&lt;channel&gt;&lt;username&gt;流德很&lt;/usernam...</td>\n",
       "    </tr>\n",
       "    <tr>\n",
       "      <th>917524</th>\n",
       "      <td>2024-03-09 23:59:56.947</td>\n",
       "      <td>0</td>\n",
       "      <td>狼烟四起战不休</td>\n",
       "      <td>好</td>\n",
       "      <td>&lt;channel&gt;世界频道_0&lt;channel&gt;&lt;username&gt;狼烟四起战不休&lt;/use...</td>\n",
       "    </tr>\n",
       "    <tr>\n",
       "      <th>917532</th>\n",
       "      <td>2024-03-09 23:59:57.291</td>\n",
       "      <td>0</td>\n",
       "      <td>南东</td>\n",
       "      <td>在不</td>\n",
       "      <td>&lt;channel&gt;世界频道_0&lt;channel&gt;&lt;username&gt;南东&lt;/username...</td>\n",
       "    </tr>\n",
       "    <tr>\n",
       "      <th>917535</th>\n",
       "      <td>2024-03-09 23:59:59.062</td>\n",
       "      <td>0</td>\n",
       "      <td>洪灬熙官</td>\n",
       "      <td>战忍 高密加的太多了 不止会心 还有忽略闪避 还加完全闪避内外功</td>\n",
       "      <td>&lt;channel&gt;世界频道_0&lt;channel&gt;&lt;username&gt;洪灬熙官&lt;/userna...</td>\n",
       "    </tr>\n",
       "    <tr>\n",
       "      <th>917536</th>\n",
       "      <td>2024-03-09 23:59:59.291</td>\n",
       "      <td>0</td>\n",
       "      <td>洛洛尘</td>\n",
       "      <td>但是资源太少了，太少了</td>\n",
       "      <td>&lt;channel&gt;世界频道_0&lt;channel&gt;&lt;username&gt;洛洛尘&lt;/usernam...</td>\n",
       "    </tr>\n",
       "  </tbody>\n",
       "</table>\n",
       "<p>451691 rows × 5 columns</p>\n",
       "</div>"
      ],
      "text/plain": [
       "                      @timestamp  channelid senderrolename  \\\n",
       "1010571  2024-03-06 00:00:01.550          0           一碰就抖   \n",
       "1010574  2024-03-06 00:00:01.844          0           孤影随形   \n",
       "1010579  2024-03-06 00:00:02.802          0            桃丶夭   \n",
       "1010581  2024-03-06 00:00:03.622          0             日出   \n",
       "1010583  2024-03-06 00:00:05.684          0            丶伊人   \n",
       "...                          ...        ...            ...   \n",
       "917531   2024-03-09 23:59:56.698          0            流德很   \n",
       "917524   2024-03-09 23:59:56.947          0        狼烟四起战不休   \n",
       "917532   2024-03-09 23:59:57.291          0             南东   \n",
       "917535   2024-03-09 23:59:59.062          0           洪灬熙官   \n",
       "917536   2024-03-09 23:59:59.291          0            洛洛尘   \n",
       "\n",
       "                                      _c3  \\\n",
       "1010571                               帮会？   \n",
       "1010574                             没，没元宝   \n",
       "1010579                                晚安   \n",
       "1010581                   说个价，完事我就给你拆下来几个   \n",
       "1010583              <器魂·10级>拆了昨天的9，又来个10   \n",
       "...                                   ...   \n",
       "917531                             一tiao龙   \n",
       "917524                                  好   \n",
       "917532                                 在不   \n",
       "917535   战忍 高密加的太多了 不止会心 还有忽略闪避 还加完全闪避内外功   \n",
       "917536                        但是资源太少了，太少了   \n",
       "\n",
       "                                                      chat  \n",
       "1010571  <channel>世界频道_0<channel><username>一碰就抖</userna...  \n",
       "1010574  <channel>世界频道_0<channel><username>孤影随形</userna...  \n",
       "1010579  <channel>世界频道_0<channel><username>桃丶夭</usernam...  \n",
       "1010581  <channel>世界频道_0<channel><username>日出</username...  \n",
       "1010583  <channel>世界频道_0<channel><username>丶伊人</usernam...  \n",
       "...                                                    ...  \n",
       "917531   <channel>世界频道_0<channel><username>流德很</usernam...  \n",
       "917524   <channel>世界频道_0<channel><username>狼烟四起战不休</use...  \n",
       "917532   <channel>世界频道_0<channel><username>南东</username...  \n",
       "917535   <channel>世界频道_0<channel><username>洪灬熙官</userna...  \n",
       "917536   <channel>世界频道_0<channel><username>洛洛尘</usernam...  \n",
       "\n",
       "[451691 rows x 5 columns]"
      ]
     },
     "execution_count": 188,
     "metadata": {},
     "output_type": "execute_result"
    }
   ],
   "source": [
    "df_new = df[df.channelid==c_id]\n",
    "df_new"
   ]
  },
  {
   "cell_type": "code",
   "execution_count": 189,
   "id": "5e218d70-47e4-484b-ac39-464d01607853",
   "metadata": {},
   "outputs": [
    {
     "data": {
      "text/plain": [
       "451691"
      ]
     },
     "execution_count": 189,
     "metadata": {},
     "output_type": "execute_result"
    }
   ],
   "source": [
    "extracted_data = list(df_new.chat.values)\n",
    "len(extracted_data)"
   ]
  },
  {
   "cell_type": "code",
   "execution_count": 171,
   "id": "2aa4d925",
   "metadata": {},
   "outputs": [],
   "source": [
    "from langchain_community.chat_models import BedrockChat\n",
    "from langchain_core.messages import HumanMessage,AIMessage\n",
    "from langchain.callbacks.streaming_stdout import StreamingStdOutCallbackHandler\n",
    "from langchain_core.prompts import ChatPromptTemplate,MessagesPlaceholder,HumanMessagePromptTemplate"
   ]
  },
  {
   "cell_type": "code",
   "execution_count": 290,
   "id": "34e368c3",
   "metadata": {},
   "outputs": [],
   "source": [
    "llm_sonnet = BedrockChat(model_id=\"anthropic.claude-3-sonnet-20240229-v1:0\",\n",
    "                  model_kwargs={\"temperature\": 0,\n",
    "                                \"top_k\":10,\n",
    "                                \"max_tokens\": 4000,\n",
    "                                \"top_p\":0.5,\n",
    "                                # \"stop_sequences\":['</response>']\n",
    "                               },\n",
    "                  streaming=True,callbacks=[StreamingStdOutCallbackHandler()])\n",
    "\n",
    "llm_haiku = BedrockChat(model_id=\"anthropic.claude-3-haiku-20240307-v1:0\",\n",
    "                  model_kwargs={\"temperature\": 0,\n",
    "                                \"top_k\":10,\n",
    "                                \"max_tokens\": 4000,\n",
    "                                \"top_p\":0.5,\n",
    "                                # \"stop_sequences\":['</response>']\n",
    "                               },\n",
    "                  streaming=True,callbacks=[StreamingStdOutCallbackHandler()])"
   ]
  },
  {
   "cell_type": "code",
   "execution_count": 324,
   "id": "baee30ea",
   "metadata": {},
   "outputs": [],
   "source": [
    "template_extract = \\\n",
    "\"\"\"You are a great linguist classifer, and now you are asked to analyze the group chat history of users in a game, and identify the user if it is against the rules.\n",
    "The rules is defined as classes [A,B,C,D]\n",
    "Below is the definition of classes:\n",
    "- A: \"小号脚本广告\",特征有：小号高频发言、文案内容重复、点对点私聊拉人；表现形式有：私聊询问要不要做拖、或者高福利玩XXX游戏；私聊询问要不要福利；私聊免费送福利； 私聊要不要一起玩新游；私聊给激活码；\n",
    "- B: \"诱导加微拉人\",特征有：小号在世界频道或私聊以各种理由，诱导玩家加微信或者加QQ；表现形式有：小号在世界频道重复发言，说有福利码，要的私聊，私聊后要求加微信或者加QQ才给福利码；小号在世界频道收月卡号、收金币，私聊后，要求加微或者加QQ详聊；小号在世界频道说找队友一起玩游戏或者说不会玩找人教，私聊小号后，小号要求加微或者加QQ；小号在世界频道出号、免费送号、送金币，私聊后要求加微或QQ详聊；小号改名为【花的票帮找回】【氪多帮追回】等名字，在世界频道重复发言，称充值可退款，私聊要求加微信或者加QQ；\n",
    "- C: \"诱导关注公众号拉人\", 特征有：小号在世界频道或私聊诱导玩家关注公众号；表现形式有：小号在世界频道刷屏，说免费送礼包金币兑换码，诱导关注公众号；小号把名字改为带公众号的ID，说白嫖金币兑换码，诱导关注公众号；\n",
    "- D: \"工作室家族建群拉人；\", 特征有：族长/管理/小号在家族/帮会频道高频发言、文案内容重复、私聊拉人. 表现形式:族长/管理在家族/帮会/私聊频道刷屏，说马上清理机器人/一起下副本/组固定队，要求玩家进群；族长/管理在家族/帮会频道刷屏，说让玩家注意查看邮件进群；族长不发言，家族内未充值小号在家族/帮会/私聊频道以族长名义拉人进群；\n",
    "\n",
    "Here is the tasks:\n",
    "Only find the quotes from the message that are against the rules and then print them in xml tag <response>. \n",
    "Quotes should be exactly the same as original text.\n",
    "If there are no relevant quotes at all, write \"No relevant quotes\" instead.\n",
    "\n",
    "Here is a chat history you will analyze\n",
    "<doc>\n",
    "{context}\n",
    "</doc>\n",
    "\n",
    "\n",
    "please enclose your analysis results in xml tag <response>.\n",
    "\n",
    "the output format is json, for example:\n",
    "<response>\n",
    "[\n",
    "{{\"channel\":xxx,\"username\":xxx,\"message\":xxx}}\n",
    "]\n",
    "</response>\n",
    "\n",
    "\n",
    "Skip the preamble, go straight into the answer.\n",
    "\"\"\""
   ]
  },
  {
   "cell_type": "code",
   "execution_count": null,
   "id": "86afb940-1b34-470c-9046-63ee50aeae49",
   "metadata": {},
   "outputs": [],
   "source": []
  },
  {
   "cell_type": "code",
   "execution_count": 325,
   "id": "e76207d2",
   "metadata": {},
   "outputs": [],
   "source": [
    "template_sentiment = \\\n",
    "\"\"\"You are a INFORMATION classifier\n",
    "Now you are asked to analyze the group chat history of users in a game, and identify the user if it is against the rules.\n",
    "Give you a list of sentences you will classify them to the predefined classes [A,B,C,D,N], output the class in <label_class>. and output a confidence score between 0 to 10, that represents how relevant it is to the class label, 10 means most relevant, and 0 is not relevant\n",
    "Below is the definition of classes:\n",
    "- A: \"小号脚本广告\",特征有：小号高频发言、文案内容重复、点对点私聊拉人；表现形式有：私聊询问要不要做拖、或者高福利玩XXX游戏；私聊询问要不要福利；私聊免费送福利； 私聊要不要一起玩新游；私聊给激活码；\n",
    "- B: \"诱导加微拉人\",特征有：小号在世界频道或私聊以各种理由，诱导玩家加微信或者加QQ；表现形式有：小号在世界频道重复发言，说有福利码，要的私聊，私聊后要求加微信或者加QQ才给福利码；小号在世界频道收月卡号、收金币，私聊后，要求加微或者加QQ详聊；小号在世界频道说找队友一起玩游戏或者说不会玩找人教，私聊小号后，小号要求加微或者加QQ；小号在世界频道出号、免费送号、送金币，私聊后要求加微或QQ详聊；小号改名为【花的票帮找回】【氪多帮追回】等名字，在世界频道重复发言，称充值可退款，私聊要求加微信或者加QQ；\n",
    "- C: \"诱导关注公众号拉人\", 特征有：小号在世界频道或私聊诱导玩家关注公众号；表现形式有：小号在世界频道刷屏，说免费送礼包金币兑换码，诱导关注公众号；小号把名字改为带公众号的ID，说白嫖金币兑换码，诱导关注公众号；\n",
    "- D: \"工作室家族建群拉人；\", 特征有：族长/管理/小号在家族/帮会频道高频发言、文案内容重复、私聊拉人. 表现形式:族长/管理在家族/帮会/私聊频道刷屏，说马上清理机器人/一起下副本/组固定队，要求玩家进群；族长/管理在家族/帮会频道刷屏，说让玩家注意查看邮件进群；族长不发言，家族内未充值小号在家族/帮会/私聊频道以族长名义拉人进群；\n",
    "- E: \"其他\"， 不符合A,B,C,D分类特征。\n",
    "\n",
    "Here are the sentences:\n",
    "<sentences>\n",
    "{relevant_info}\n",
    "</sentences>\n",
    "\n",
    "Please follow below requirements:\n",
    "1. You will strictly be based on the document in <doc>.\n",
    "2. please enclose your analysis results in xml tag <output>.\n",
    "3. output a score between 0 -10,\n",
    "\n",
    "the output format for example:\n",
    "<output>\n",
    "<channel>xxx</channel><username>xxx</username><message>xxx</message><label_class>A</label_class><score>10<score>\n",
    "</output>\n",
    "\n",
    "Skip the preamble, go straight into the answer. \n",
    "\n",
    "\"\"\""
   ]
  },
  {
   "cell_type": "code",
   "execution_count": 326,
   "id": "1add1efa-e01c-45da-8949-b85eee521677",
   "metadata": {},
   "outputs": [],
   "source": [
    "from langchain_core.output_parsers.base import BaseOutputParser\n",
    "import re\n",
    "class CustOuputParser(BaseOutputParser[str]):\n",
    "\n",
    "    def extract(self,content:str) -> str:\n",
    "        pattern = r\"<response>(.*?)</response>\"\n",
    "        match = re.search(pattern, content, re.DOTALL)\n",
    "        if match:\n",
    "            text = match.group(1)\n",
    "            text = text.replace('[','(').replace(']',')') ##避免跟sentiment的格式冲突\n",
    "            return text\n",
    "        else:\n",
    "            return 'No relevant quotes'    \n",
    "    \n",
    "    def parse(self, text: str) -> str:\n",
    "        cleaned_text = self.extract(text)\n",
    "        return cleaned_text\n",
    "\n",
    "    @property\n",
    "    def _type(self) -> str:\n",
    "        return \"cust_output_parser\"\n",
    "\n",
    "\n",
    "class CustOuputParser2(BaseOutputParser[str]):\n",
    "\n",
    "    def extract(self,content:str) -> str:\n",
    "        pattern = r\"<output>(.*?)</output>\"\n",
    "        match = re.search(pattern, content, re.DOTALL)\n",
    "        return match.group(1) if match else 'No sentiment'    \n",
    "    \n",
    "    def parse(self, text: str) -> str:\n",
    "        cleaned_text = self.extract(text)\n",
    "        return cleaned_text\n",
    "\n",
    "    @property\n",
    "    def _type(self) -> str:\n",
    "        return \"cust_output_parser\"\n",
    "    "
   ]
  },
  {
   "cell_type": "code",
   "execution_count": null,
   "id": "ea71fb61-a093-4c79-8ae0-280d6e35b910",
   "metadata": {},
   "outputs": [],
   "source": []
  },
  {
   "cell_type": "code",
   "execution_count": 327,
   "id": "3a0a50d4",
   "metadata": {},
   "outputs": [],
   "source": [
    "def split_into_chunks(arr, n):\n",
    "    chunks = []\n",
    "    for i in range(0, len(arr), n):\n",
    "        chunks.append(arr[i:i+n])\n",
    "    return chunks"
   ]
  },
  {
   "cell_type": "code",
   "execution_count": 328,
   "id": "82656a4b",
   "metadata": {},
   "outputs": [],
   "source": [
    "chunks = split_into_chunks(extracted_data,1000)"
   ]
  },
  {
   "cell_type": "code",
   "execution_count": 329,
   "id": "b0403acb-c13a-412d-af51-aac756552703",
   "metadata": {},
   "outputs": [
    {
     "name": "stdout",
     "output_type": "stream",
     "text": [
      "total chunks 452\n"
     ]
    }
   ],
   "source": [
    "print(f\"total chunks {len(chunks)}\")"
   ]
  },
  {
   "cell_type": "code",
   "execution_count": 330,
   "id": "f22dbfe1",
   "metadata": {},
   "outputs": [
    {
     "data": {
      "text/plain": [
       "79617"
      ]
     },
     "execution_count": 330,
     "metadata": {},
     "output_type": "execute_result"
    }
   ],
   "source": [
    "text =  \"\\n\".join(chunks[0])\n",
    "len(text)"
   ]
  },
  {
   "cell_type": "code",
   "execution_count": 331,
   "id": "038dd969",
   "metadata": {},
   "outputs": [],
   "source": [
    "# from langchain_core.output_parsers import StrOutputParser\n",
    "# prompt = ChatPromptTemplate.from_template(template)\n",
    "prompt_extract = ChatPromptTemplate.from_template(template_extract)\n",
    "prompt_sentiment = ChatPromptTemplate.from_template(template_sentiment)"
   ]
  },
  {
   "cell_type": "code",
   "execution_count": 332,
   "id": "1f144e41-6388-47d5-85ce-76c25c2f6745",
   "metadata": {},
   "outputs": [],
   "source": [
    "from langchain_core.runnables import RunnableLambda\n",
    "from operator import itemgetter\n",
    "## 如果没有相关内容则无须invoke chain2\n",
    "def route(info):\n",
    "    if not 'no relevant quotes' in info['relevant_info'].lower():\n",
    "        return chain_2"
   ]
  },
  {
   "cell_type": "code",
   "execution_count": 333,
   "id": "bc312ef8",
   "metadata": {},
   "outputs": [],
   "source": [
    "output_parser = CustOuputParser()\n",
    "output2_parser  = CustOuputParser2()\n",
    "\n",
    "chain_1 = prompt_extract | llm_sonnet | output_parser\n",
    "chain_2 = prompt_sentiment | llm_sonnet| output2_parser\n",
    "# chain_3 = ({'relevant_info':chain_1,'topic':itemgetter('topic')})|prompt_sentiment | llm_haiku|output2_parser\n"
   ]
  },
  {
   "cell_type": "code",
   "execution_count": 334,
   "id": "400e5a17-fecc-40ea-a35a-c26689fe6a46",
   "metadata": {},
   "outputs": [],
   "source": [
    "##测试chain3\n",
    "# chain_3.invoke({'topic':\"auction house\",\n",
    "#                        'context':text})"
   ]
  },
  {
   "cell_type": "code",
   "execution_count": 335,
   "id": "16ef25c2-9076-43e5-8c7c-3f072dc54a0c",
   "metadata": {},
   "outputs": [
    {
     "name": "stdout",
     "output_type": "stream",
     "text": [
      "<response>\n",
      "[\n",
      "{\"channel\":\"世界频道_0\",\"username\":\"一剑纵横天下\",\"message\":\"好了好了，我加你微信了，你同意一下是不是刘磊对不对。\"},\n",
      "{\"channel\":\"世界频道_0\",\"username\":\"一剑纵横天下\",\"message\":\"我加你了，同意一下。\"},\n",
      "{\"channel\":\"世界频道_0\",\"username\":\"一剑纵横天下\",\"message\":\"刘磊是吧\"},\n",
      "{\"channel\":\"世界频道_0\",\"username\":\"沸羊羊\",\"message\":\"严哥，兄弟，我是咱们家族组长，你能听到能看到的家族回一下，我在家族平台喊你了。\"},\n",
      "{\"channel\":\"世界频道_0\",\"username\":\"沸羊羊\",\"message\":\"顺丰兄弟啊，我是咱们家族族长，我在家族平台喊你呢，你能听到能看到的家族回一下。\"},\n",
      "{\"channel\":\"世界频道_0\",\"username\":\"沸羊羊\",\"message\":\"L0004956\"}\n",
      "]\n",
      "</response><output>\n",
      "<channel>世界频道_0</channel><username>一剑纵横天下</username><message>好了好了，我加你微信了，你同意一下是不是刘磊对不对。</message><label_class>B</label_class><score>9</score>\n",
      "<channel>世界频道_0</channel><username>一剑纵横天下</username><message>我加你了，同意一下。</message><label_class>B</label_class><score>9</score>\n",
      "<channel>世界频道_0</channel><username>一剑纵横天下</username><message>刘磊是吧</message><label_class>B</label_class><score>9</score>\n",
      "<channel>世界频道_0</channel><username>沸羊羊</username><message>严哥，兄弟，我是咱们家族组长，你能听到能看到的家族回一下，我在家族平台喊你了。</message><label_class>D</label_class><score>8</score>\n",
      "<channel>世界频道_0</channel><username>沸羊羊</username><message>顺丰兄弟啊，我是咱们家族族长，我在家族平台喊你呢，你能听到能看到的家族回一下。</message><label_class>D</label_class><score>8</score>\n",
      "<channel>世界频道_0</channel><username>沸羊羊</username><message>L0004956</message><label_class>N</label_class><score>2</score>\n",
      "</output>CPU times: user 694 ms, sys: 173 ms, total: 867 ms\n",
      "Wall time: 25.5 s\n"
     ]
    }
   ],
   "source": [
    "%%time\n",
    "##测试加入了路由选择的chainfull\n",
    "full_chain = ({'relevant_info':chain_1})| RunnableLambda(route)\n",
    "answer = full_chain.invoke({'context':text})"
   ]
  },
  {
   "cell_type": "code",
   "execution_count": 337,
   "id": "2f2b0c47-2849-485e-88ef-5aeb45eeb514",
   "metadata": {},
   "outputs": [
    {
     "name": "stdout",
     "output_type": "stream",
     "text": [
      "\n",
      "<channel>世界频道_0</channel><username>一剑纵横天下</username><message>好了好了，我加你微信了，你同意一下是不是刘磊对不对。</message><label_class>B</label_class><score>9</score>\n",
      "<channel>世界频道_0</channel><username>一剑纵横天下</username><message>我加你了，同意一下。</message><label_class>B</label_class><score>9</score>\n",
      "<channel>世界频道_0</channel><username>一剑纵横天下</username><message>刘磊是吧</message><label_class>B</label_class><score>9</score>\n",
      "<channel>世界频道_0</channel><username>沸羊羊</username><message>严哥，兄弟，我是咱们家族组长，你能听到能看到的家族回一下，我在家族平台喊你了。</message><label_class>D</label_class><score>8</score>\n",
      "<channel>世界频道_0</channel><username>沸羊羊</username><message>顺丰兄弟啊，我是咱们家族族长，我在家族平台喊你呢，你能听到能看到的家族回一下。</message><label_class>D</label_class><score>8</score>\n",
      "<channel>世界频道_0</channel><username>沸羊羊</username><message>L0004956</message><label_class>N</label_class><score>2</score>\n",
      "\n"
     ]
    }
   ],
   "source": [
    "print(answer)"
   ]
  },
  {
   "cell_type": "code",
   "execution_count": 275,
   "id": "58321e6e",
   "metadata": {},
   "outputs": [],
   "source": [
    "# question = \"is there any content relevant to auction house?\"\n",
    "\n",
    "#'please list all the content if it is relevant and classify the sentiment of each content into [positive,neutral,negative]'\n",
    "\n",
    "# answer = chain_2.invoke({'topic':\"auction house\",\n",
    "#                        'context':text})"
   ]
  },
  {
   "cell_type": "code",
   "execution_count": 338,
   "id": "6087d996-eced-4012-9f71-2706b56f29db",
   "metadata": {},
   "outputs": [],
   "source": [
    "def extract_info(text):\n",
    "    pattern = r'<channel>(.*?)</channel><username>(.*?)</username><message>(.*?)</message><label_class>(.*?)</label_class><score>(.*?)</score>'\n",
    "    matches = re.findall(pattern, text)\n",
    "    print(matches)\n",
    "    result = []\n",
    "    for match in matches:\n",
    "        # info = {\n",
    "        #     'channel': match[0],\n",
    "        #     'username': match[1],\n",
    "        #     'message': match[2],\n",
    "        #     'label_class': match[3],\n",
    "        #     'score': int(match[4])\n",
    "        # }\n",
    "        info = [match[0], match[1], match[2],  match[3], int(match[4])]\n",
    "        result.append(info)\n",
    "    return result"
   ]
  },
  {
   "cell_type": "code",
   "execution_count": 339,
   "id": "c2f627af-69a3-4e48-a64d-cc11a0621d22",
   "metadata": {},
   "outputs": [
    {
     "name": "stdout",
     "output_type": "stream",
     "text": [
      "[('世界频道_0', '一剑纵横天下', '好了好了，我加你微信了，你同意一下是不是刘磊对不对。', 'B', '9'), ('世界频道_0', '一剑纵横天下', '我加你了，同意一下。', 'B', '9'), ('世界频道_0', '一剑纵横天下', '刘磊是吧', 'B', '9'), ('世界频道_0', '沸羊羊', '严哥，兄弟，我是咱们家族组长，你能听到能看到的家族回一下，我在家族平台喊你了。', 'D', '8'), ('世界频道_0', '沸羊羊', '顺丰兄弟啊，我是咱们家族族长，我在家族平台喊你呢，你能听到能看到的家族回一下。', 'D', '8'), ('世界频道_0', '沸羊羊', 'L0004956', 'N', '2')]\n"
     ]
    },
    {
     "data": {
      "text/plain": [
       "[['世界频道_0', '一剑纵横天下', '好了好了，我加你微信了，你同意一下是不是刘磊对不对。', 'B', 9],\n",
       " ['世界频道_0', '一剑纵横天下', '我加你了，同意一下。', 'B', 9],\n",
       " ['世界频道_0', '一剑纵横天下', '刘磊是吧', 'B', 9],\n",
       " ['世界频道_0', '沸羊羊', '严哥，兄弟，我是咱们家族组长，你能听到能看到的家族回一下，我在家族平台喊你了。', 'D', 8],\n",
       " ['世界频道_0', '沸羊羊', '顺丰兄弟啊，我是咱们家族族长，我在家族平台喊你呢，你能听到能看到的家族回一下。', 'D', 8],\n",
       " ['世界频道_0', '沸羊羊', 'L0004956', 'N', 2]]"
      ]
     },
     "execution_count": 339,
     "metadata": {},
     "output_type": "execute_result"
    }
   ],
   "source": [
    "ret= extract_info(answer)\n",
    "ret"
   ]
  },
  {
   "cell_type": "code",
   "execution_count": 340,
   "id": "e293a756",
   "metadata": {},
   "outputs": [],
   "source": [
    "#save a list to a local file, if the file is exist then append the list to the file\n",
    "def save_list(list,file_name):\n",
    "    with open(file_name,'a') as f:\n",
    "        for item in list:\n",
    "            f.write(\"%s\\n\" % item)\n",
    "    f.close()\n",
    "    return True"
   ]
  },
  {
   "cell_type": "code",
   "execution_count": 341,
   "id": "394e3933",
   "metadata": {},
   "outputs": [],
   "source": [
    "#save a list to a csv file using pandas, if the file is exist then append the list to the file\n",
    "import pandas as pd\n",
    "import os\n",
    "def save_to_csv(data, filename):\n",
    "    new_data = pd.DataFrame(data, columns=['channel', 'username', 'message', 'label_class', 'score'])\n",
    "    if os.path.isfile(filename):\n",
    "        df = pd.read_csv(filename)\n",
    "        #append data to df\n",
    "        df = pd.concat([df, new_data], ignore_index=True)\n",
    "    else:\n",
    "        df = new_data\n",
    "    df.to_csv(filename, index=False)\n",
    "    return df"
   ]
  },
  {
   "cell_type": "markdown",
   "id": "dfd7d833",
   "metadata": {},
   "source": [
    "循环每个chunk进行输出,每次追加到csv文件保存，"
   ]
  },
  {
   "cell_type": "code",
   "execution_count": 345,
   "id": "53abb20e",
   "metadata": {},
   "outputs": [
    {
     "name": "stdout",
     "output_type": "stream",
     "text": [
      "--------chunk idx:9-------\n",
      "<response>\n",
      "[\n",
      "{\"channel\":\"世界频道_0\",\"username\":\"芈月\",\"message\":\"不用绑定，关注微 信公 众 号，对话框发送zwj999给送主 修 令\"},\n",
      "{\"channel\":\"世界频道_0\",\"username\":\"张淮阳\",\"message\":\"发ZWJ999\"},\n",
      "{\"channel\":\"世界频道_0\",\"username\":\"九合妖域\",\"message\":\"手机微信公众号里关注剑侠世界起源 打开键盘输入zwj999\"},\n",
      "{\"channel\":\"世界频道_0\",\"username\":\"繁华丶落雨\",\"message\":\"去微信公众号里发ZWJ999\"},\n",
      "{\"channel\":\"世界频道_0\",\"username\":\"暴走学院\",\"message\":\"你在公众号发 ZJ999\"},\n",
      "{\"channel\":\"世界频道_0\",\"username\":\"暴走学院\",\"message\":\"在微信里找剑侠起源的公众号\"},\n",
      "{\"channel\":\"世界频道_0\",\"username\":\"暴走学院\",\"message\":\"ZWJ999\"}\n",
      "]\n",
      "</response><output>\n",
      "<channel>世界频道_0</channel><username>芈月</username><message>不用绑定，关注微 信公 众 号，对话框发送zwj999给送主 修 令</message><label_class>C</label_class><score>10</score>\n",
      "<channel>世界频道_0</channel><username>张淮阳</username><message>发ZWJ999</message><label_class>C</label_class><score>10</score>\n",
      "<channel>世界频道_0</channel><username>九合妖域</username><message>手机微信公众号里关注剑侠世界起源 打开键盘输入zwj999</message><label_class>C</label_class><score>10</score>\n",
      "<channel>世界频道_0</channel><username>繁华丶落雨</username><message>去微信公众号里发ZWJ999</message><label_class>C</label_class><score>10</score>\n",
      "<channel>世界频道_0</channel><username>暴走学院</username><message>你在公众号发 ZJ999</message><label_class>C</label_class><score>10</score>\n",
      "<channel>世界频道_0</channel><username>暴走学院</username><message>在微信里找剑侠起源的公众号</message><label_class>C</label_class><score>10</score>\n",
      "<channel>世界频道_0</channel><username>暴走学院</username><message>ZWJ999</message><label_class>C</label_class><score>10</score>\n",
      "</output>[('世界频道_0', '芈月', '不用绑定，关注微 信公 众 号，对话框发送zwj999给送主 修 令', 'C', '10'), ('世界频道_0', '张淮阳', '发ZWJ999', 'C', '10'), ('世界频道_0', '九合妖域', '手机微信公众号里关注剑侠世界起源 打开键盘输入zwj999', 'C', '10'), ('世界频道_0', '繁华丶落雨', '去微信公众号里发ZWJ999', 'C', '10'), ('世界频道_0', '暴走学院', '你在公众号发 ZJ999', 'C', '10'), ('世界频道_0', '暴走学院', '在微信里找剑侠起源的公众号', 'C', '10'), ('世界频道_0', '暴走学院', 'ZWJ999', 'C', '10')]\n",
      "\n",
      "extract_ret:\n",
      "[['世界频道_0', '芈月', '不用绑定，关注微 信公 众 号，对话框发送zwj999给送主 修 令', 'C', 10], ['世界频道_0', '张淮阳', '发ZWJ999', 'C', 10], ['世界频道_0', '九合妖域', '手机微信公众号里关注剑侠世界起源 打开键盘输入zwj999', 'C', 10], ['世界频道_0', '繁华丶落雨', '去微信公众号里发ZWJ999', 'C', 10], ['世界频道_0', '暴走学院', '你在公众号发 ZJ999', 'C', 10], ['世界频道_0', '暴走学院', '在微信里找剑侠起源的公众号', 'C', 10], ['世界频道_0', '暴走学院', 'ZWJ999', 'C', 10]]\n",
      "---time cost 64.5694568157196 s -----\n",
      "sleep 10s for token tpm\n",
      "\n",
      "\n",
      "--------chunk idx:10-------\n",
      "<response>\n",
      "[\n",
      "{\"channel\":\"世界频道_0\",\"username\":\"番茄炒西红柿\",\"message\":\"你关注公 众 号\"},\n",
      "{\"channel\":\"世界频道_0\",\"username\":\"今夜丶乱飙\",\"message\":\"微信公众号发ZWJ999\"},\n",
      "{\"channel\":\"世界频道_0\",\"username\":\"今夜丶乱飙\",\"message\":\"公纵号发ZWJ 9 9 9\"},\n",
      "{\"channel\":\"世界频道_0\",\"username\":\"☆龙虾☆\",\"message\":\"公众号回复zwj999，领大礼\"},\n",
      "{\"channel\":\"世界频道_0\",\"username\":\"☆龙虾☆\",\"message\":\"zwj999领大礼\"},\n",
      "{\"channel\":\"世界频道_0\",\"username\":\"王老炮\",\"message\":\"回复，ZWJ999\"},\n",
      "{\"channel\":\"世界频道_0\",\"username\":\"王老炮\",\"message\":\"你回复大写的JWGO 999。\"},\n",
      "{\"channel\":\"世界频道_0\",\"username\":\"剑无极\",\"message\":\"ZWJ999发这个到微信公众号。\"},\n",
      "{\"channel\":\"世界频道_0\",\"username\":\"芈月\",\"message\":\"你手机关注剑侠世界起源公众号\"},\n",
      "{\"channel\":\"世界频道_0\",\"username\":\"芈月\",\"message\":\"微信搜索：剑侠世界起源公众号\"},\n",
      "{\"channel\":\"世界频道_0\",\"username\":\"芈月\",\"message\":\"点对话，发送zwj999\"},\n",
      "{\"channel\":\"世界频道_0\",\"username\":\"大香蕉\",\"message\":\"在公众号里发送JWGO999吗\"}\n",
      "]\n",
      "</response><output>\n",
      "<channel>世界频道_0</channel><username>番茄炒西红柿</username><message>你关注公 众 号</message><label_class>C</label_class><score>9</score>\n",
      "<channel>世界频道_0</channel><username>今夜丶乱飙</username><message>微信公众号发ZWJ999</message><label_class>C</label_class><score>10</score>\n",
      "<channel>世界频道_0</channel><username>今夜丶乱飙</username><message>公纵号发ZWJ 9 9 9</message><label_class>C</label_class><score>10</score>\n",
      "<channel>世界频道_0</channel><username>☆龙虾☆</username><message>公众号回复zwj999，领大礼</message><label_class>C</label_class><score>10</score>\n",
      "<channel>世界频道_0</channel><username>☆龙虾☆</username><message>zwj999领大礼</message><label_class>C</label_class><score>9</score>\n",
      "<channel>世界频道_0</channel><username>王老炮</username><message>回复，ZWJ999</message><label_class>C</label_class><score>8</score>\n",
      "<channel>世界频道_0</channel><username>王老炮</username><message>你回复大写的JWGO 999。</message><label_class>C</label_class><score>8</score>\n",
      "<channel>世界频道_0</channel><username>剑无极</username><message>ZWJ999发这个到微信公众号。</message><label_class>C</label_class><score>10</score>\n",
      "<channel>世界频道_0</channel><username>芈月</username><message>你手机关注剑侠世界起源公众号</message><label_class>C</label_class><score>10</score>\n",
      "<channel>世界频道_0</channel><username>芈月</username><message>微信搜索：剑侠世界起源公众号</message><label_class>C</label_class><score>10</score>\n",
      "<channel>世界频道_0</channel><username>芈月</username><message>点对话，发送zwj999</message><label_class>C</label_class><score>10</score>\n",
      "<channel>世界频道_0</channel><username>大香蕉</username><message>在公众号里发送JWGO999吗</message><label_class>C</label_class><score>9</score>\n",
      "</output>[('世界频道_0', '番茄炒西红柿', '你关注公 众 号', 'C', '9'), ('世界频道_0', '今夜丶乱飙', '微信公众号发ZWJ999', 'C', '10'), ('世界频道_0', '今夜丶乱飙', '公纵号发ZWJ 9 9 9', 'C', '10'), ('世界频道_0', '☆龙虾☆', '公众号回复zwj999，领大礼', 'C', '10'), ('世界频道_0', '☆龙虾☆', 'zwj999领大礼', 'C', '9'), ('世界频道_0', '王老炮', '回复，ZWJ999', 'C', '8'), ('世界频道_0', '王老炮', '你回复大写的JWGO 999。', 'C', '8'), ('世界频道_0', '剑无极', 'ZWJ999发这个到微信公众号。', 'C', '10'), ('世界频道_0', '芈月', '你手机关注剑侠世界起源公众号', 'C', '10'), ('世界频道_0', '芈月', '微信搜索：剑侠世界起源公众号', 'C', '10'), ('世界频道_0', '芈月', '点对话，发送zwj999', 'C', '10'), ('世界频道_0', '大香蕉', '在公众号里发送JWGO999吗', 'C', '9')]\n",
      "\n",
      "extract_ret:\n",
      "[['世界频道_0', '番茄炒西红柿', '你关注公 众 号', 'C', 9], ['世界频道_0', '今夜丶乱飙', '微信公众号发ZWJ999', 'C', 10], ['世界频道_0', '今夜丶乱飙', '公纵号发ZWJ 9 9 9', 'C', 10], ['世界频道_0', '☆龙虾☆', '公众号回复zwj999，领大礼', 'C', 10], ['世界频道_0', '☆龙虾☆', 'zwj999领大礼', 'C', 9], ['世界频道_0', '王老炮', '回复，ZWJ999', 'C', 8], ['世界频道_0', '王老炮', '你回复大写的JWGO 999。', 'C', 8], ['世界频道_0', '剑无极', 'ZWJ999发这个到微信公众号。', 'C', 10], ['世界频道_0', '芈月', '你手机关注剑侠世界起源公众号', 'C', 10], ['世界频道_0', '芈月', '微信搜索：剑侠世界起源公众号', 'C', 10], ['世界频道_0', '芈月', '点对话，发送zwj999', 'C', 10], ['世界频道_0', '大香蕉', '在公众号里发送JWGO999吗', 'C', 9]]\n",
      "---time cost 68.75928568840027 s -----\n",
      "sleep 10s for token tpm\n",
      "\n",
      "\n",
      "--------chunk idx:11-------\n",
      "<response>\n",
      "[\n",
      "  {\"channel\":\"世界频道_0\",\"username\":\"老衲法号梦姨\",\"message\":\"#13哈哈，搞到什么好东西没有\"},\n",
      "  {\"channel\":\"世界频道_0\",\"username\":\"小纯杰\",\"message\":\"换个地方别帮会。我小号来交易你。\"},\n",
      "  {\"channel\":\"世界频道_0\",\"username\":\"·小珍\",\"message\":\"V：1 865932027 ３\"},\n",
      "  {\"channel\":\"世界频道_0\",\"username\":\"孤影随形\",\"message\":\"把这两个连一起就可以领那个朱秀玲。你先不要领，你要是不用的话，你就放在你的邮箱里面。\"},\n",
      "  {\"channel\":\"世界频道_0\",\"username\":\"·小珍\",\"message\":\"进一下家族群\"},\n",
      "  {\"channel\":\"世界频道_0\",\"username\":\"·小珍\",\"message\":\"V：1 865932027 ３\"},\n",
      "  {\"channel\":\"世界频道_0\",\"username\":\"幼荷\",\"message\":\"进一下家族群\"},\n",
      "  {\"channel\":\"世界频道_0\",\"username\":\"幼荷\",\"message\":\"V：1 86593202７３\"},\n",
      "  {\"channel\":\"世界频道_0\",\"username\":\"芸柳灬\",\"message\":\"进一下家族群\"},\n",
      "  {\"channel\":\"世界频道_0\",\"username\":\"芸柳灬\",\"message\":\"V：1 86593202７３\"},\n",
      "  {\"channel\":\"世界频道_0\",\"username\":\"柒公子\",\"message\":\"想进家族\"}\n",
      "]\n",
      "</response><output>\n",
      "<channel>世界频道_0</channel><username>·小珍</username><message>V：1 865932027 ３</message><label_class>C</label_class><score>9</score>\n",
      "<channel>世界频道_0</channel><username>孤影随形</username><message>把这两个连一起就可以领那个朱秀玲。你先不要领，你要是不用的话，你就放在你的邮箱里面。</message><label_class>D</label_class><score>8</score>\n",
      "<channel>世界频道_0</channel><username>·小珍</username><message>进一下家族群</message><label_class>D</label_class><score>9</score>\n",
      "<channel>世界频道_0</channel><username>幼荷</username><message>进一下家族群</message><label_class>D</label_class><score>9</score>\n",
      "<channel>世界频道_0</channel><username>幼荷</username><message>V：1 86593202７３</message><label_class>C</label_class><score>9</score>\n",
      "<channel>世界频道_0</channel><username>芸柳灬</username><message>进一下家族群</message><label_class>D</label_class><score>9</score>\n",
      "<channel>世界频道_0</channel><username>芸柳灬</username><message>V：1 86593202７３</message><label_class>C</label_class><score>9</score>\n",
      "</output>[('世界频道_0', '·小珍', 'V：1 865932027 ３', 'C', '9'), ('世界频道_0', '孤影随形', '把这两个连一起就可以领那个朱秀玲。你先不要领，你要是不用的话，你就放在你的邮箱里面。', 'D', '8'), ('世界频道_0', '·小珍', '进一下家族群', 'D', '9'), ('世界频道_0', '幼荷', '进一下家族群', 'D', '9'), ('世界频道_0', '幼荷', 'V：1 86593202７３', 'C', '9'), ('世界频道_0', '芸柳灬', '进一下家族群', 'D', '9'), ('世界频道_0', '芸柳灬', 'V：1 86593202７３', 'C', '9')]\n",
      "\n",
      "extract_ret:\n",
      "[['世界频道_0', '·小珍', 'V：1 865932027 ３', 'C', 9], ['世界频道_0', '孤影随形', '把这两个连一起就可以领那个朱秀玲。你先不要领，你要是不用的话，你就放在你的邮箱里面。', 'D', 8], ['世界频道_0', '·小珍', '进一下家族群', 'D', 9], ['世界频道_0', '幼荷', '进一下家族群', 'D', 9], ['世界频道_0', '幼荷', 'V：1 86593202７３', 'C', 9], ['世界频道_0', '芸柳灬', '进一下家族群', 'D', 9], ['世界频道_0', '芸柳灬', 'V：1 86593202７３', 'C', 9]]\n",
      "---time cost 65.49343991279602 s -----\n",
      "sleep 10s for token tpm\n",
      "\n",
      "\n",
      "--------chunk idx:12-------\n"
     ]
    },
    {
     "ename": "EventStreamError",
     "evalue": "An error occurred (throttlingException) when calling the InvokeModelWithResponseStream operation: Too many requests, please wait before trying again. You have sent too many requests.  Wait before trying again.",
     "output_type": "error",
     "traceback": [
      "\u001b[0;31m---------------------------------------------------------------------------\u001b[0m",
      "\u001b[0;31mEventStreamError\u001b[0m                          Traceback (most recent call last)",
      "Cell \u001b[0;32mIn[345], line 13\u001b[0m\n\u001b[1;32m     11\u001b[0m \u001b[38;5;28mprint\u001b[39m(\u001b[38;5;124mf\u001b[39m\u001b[38;5;124m'\u001b[39m\u001b[38;5;124m--------chunk idx:\u001b[39m\u001b[38;5;132;01m{\u001b[39;00mi\u001b[38;5;132;01m}\u001b[39;00m\u001b[38;5;124m-------\u001b[39m\u001b[38;5;124m'\u001b[39m)\n\u001b[1;32m     12\u001b[0m text \u001b[38;5;241m=\u001b[39m  \u001b[38;5;124m\"\u001b[39m\u001b[38;5;130;01m\\n\u001b[39;00m\u001b[38;5;124m\"\u001b[39m\u001b[38;5;241m.\u001b[39mjoin(chunk)\n\u001b[0;32m---> 13\u001b[0m answer \u001b[38;5;241m=\u001b[39m \u001b[43mfull_chain\u001b[49m\u001b[38;5;241;43m.\u001b[39;49m\u001b[43minvoke\u001b[49m\u001b[43m(\u001b[49m\u001b[43m{\u001b[49m\n\u001b[1;32m     14\u001b[0m \u001b[43m                   \u001b[49m\u001b[38;5;124;43m'\u001b[39;49m\u001b[38;5;124;43mcontext\u001b[39;49m\u001b[38;5;124;43m'\u001b[39;49m\u001b[43m:\u001b[49m\u001b[43m \u001b[49m\u001b[43mtext\u001b[49m\u001b[43m}\u001b[49m\u001b[43m)\u001b[49m\n\u001b[1;32m     15\u001b[0m extract_ret \u001b[38;5;241m=\u001b[39m extract_info(answer)\n\u001b[1;32m     16\u001b[0m \u001b[38;5;28mprint\u001b[39m(\u001b[38;5;124mf\u001b[39m\u001b[38;5;124m'\u001b[39m\u001b[38;5;130;01m\\n\u001b[39;00m\u001b[38;5;124mextract_ret:\u001b[39m\u001b[38;5;130;01m\\n\u001b[39;00m\u001b[38;5;132;01m{\u001b[39;00mextract_ret\u001b[38;5;132;01m}\u001b[39;00m\u001b[38;5;124m'\u001b[39m)\n",
      "File \u001b[0;32m/opt/conda/lib/python3.10/site-packages/langchain_core/runnables/base.py:2309\u001b[0m, in \u001b[0;36mRunnableSequence.invoke\u001b[0;34m(self, input, config)\u001b[0m\n\u001b[1;32m   2307\u001b[0m \u001b[38;5;28;01mtry\u001b[39;00m:\n\u001b[1;32m   2308\u001b[0m     \u001b[38;5;28;01mfor\u001b[39;00m i, step \u001b[38;5;129;01min\u001b[39;00m \u001b[38;5;28menumerate\u001b[39m(\u001b[38;5;28mself\u001b[39m\u001b[38;5;241m.\u001b[39msteps):\n\u001b[0;32m-> 2309\u001b[0m         \u001b[38;5;28minput\u001b[39m \u001b[38;5;241m=\u001b[39m \u001b[43mstep\u001b[49m\u001b[38;5;241;43m.\u001b[39;49m\u001b[43minvoke\u001b[49m\u001b[43m(\u001b[49m\n\u001b[1;32m   2310\u001b[0m \u001b[43m            \u001b[49m\u001b[38;5;28;43minput\u001b[39;49m\u001b[43m,\u001b[49m\n\u001b[1;32m   2311\u001b[0m \u001b[43m            \u001b[49m\u001b[38;5;66;43;03m# mark each step as a child run\u001b[39;49;00m\n\u001b[1;32m   2312\u001b[0m \u001b[43m            \u001b[49m\u001b[43mpatch_config\u001b[49m\u001b[43m(\u001b[49m\n\u001b[1;32m   2313\u001b[0m \u001b[43m                \u001b[49m\u001b[43mconfig\u001b[49m\u001b[43m,\u001b[49m\u001b[43m \u001b[49m\u001b[43mcallbacks\u001b[49m\u001b[38;5;241;43m=\u001b[39;49m\u001b[43mrun_manager\u001b[49m\u001b[38;5;241;43m.\u001b[39;49m\u001b[43mget_child\u001b[49m\u001b[43m(\u001b[49m\u001b[38;5;124;43mf\u001b[39;49m\u001b[38;5;124;43m\"\u001b[39;49m\u001b[38;5;124;43mseq:step:\u001b[39;49m\u001b[38;5;132;43;01m{\u001b[39;49;00m\u001b[43mi\u001b[49m\u001b[38;5;241;43m+\u001b[39;49m\u001b[38;5;241;43m1\u001b[39;49m\u001b[38;5;132;43;01m}\u001b[39;49;00m\u001b[38;5;124;43m\"\u001b[39;49m\u001b[43m)\u001b[49m\n\u001b[1;32m   2314\u001b[0m \u001b[43m            \u001b[49m\u001b[43m)\u001b[49m\u001b[43m,\u001b[49m\n\u001b[1;32m   2315\u001b[0m \u001b[43m        \u001b[49m\u001b[43m)\u001b[49m\n\u001b[1;32m   2316\u001b[0m \u001b[38;5;66;03m# finish the root run\u001b[39;00m\n\u001b[1;32m   2317\u001b[0m \u001b[38;5;28;01mexcept\u001b[39;00m \u001b[38;5;167;01mBaseException\u001b[39;00m \u001b[38;5;28;01mas\u001b[39;00m e:\n",
      "File \u001b[0;32m/opt/conda/lib/python3.10/site-packages/langchain_core/runnables/base.py:2954\u001b[0m, in \u001b[0;36mRunnableParallel.invoke\u001b[0;34m(self, input, config)\u001b[0m\n\u001b[1;32m   2941\u001b[0m     \u001b[38;5;28;01mwith\u001b[39;00m get_executor_for_config(config) \u001b[38;5;28;01mas\u001b[39;00m executor:\n\u001b[1;32m   2942\u001b[0m         futures \u001b[38;5;241m=\u001b[39m [\n\u001b[1;32m   2943\u001b[0m             executor\u001b[38;5;241m.\u001b[39msubmit(\n\u001b[1;32m   2944\u001b[0m                 step\u001b[38;5;241m.\u001b[39minvoke,\n\u001b[0;32m   (...)\u001b[0m\n\u001b[1;32m   2952\u001b[0m             \u001b[38;5;28;01mfor\u001b[39;00m key, step \u001b[38;5;129;01min\u001b[39;00m steps\u001b[38;5;241m.\u001b[39mitems()\n\u001b[1;32m   2953\u001b[0m         ]\n\u001b[0;32m-> 2954\u001b[0m         output \u001b[38;5;241m=\u001b[39m {key: future\u001b[38;5;241m.\u001b[39mresult() \u001b[38;5;28;01mfor\u001b[39;00m key, future \u001b[38;5;129;01min\u001b[39;00m \u001b[38;5;28mzip\u001b[39m(steps, futures)}\n\u001b[1;32m   2955\u001b[0m \u001b[38;5;66;03m# finish the root run\u001b[39;00m\n\u001b[1;32m   2956\u001b[0m \u001b[38;5;28;01mexcept\u001b[39;00m \u001b[38;5;167;01mBaseException\u001b[39;00m \u001b[38;5;28;01mas\u001b[39;00m e:\n",
      "File \u001b[0;32m/opt/conda/lib/python3.10/site-packages/langchain_core/runnables/base.py:2954\u001b[0m, in \u001b[0;36m<dictcomp>\u001b[0;34m(.0)\u001b[0m\n\u001b[1;32m   2941\u001b[0m     \u001b[38;5;28;01mwith\u001b[39;00m get_executor_for_config(config) \u001b[38;5;28;01mas\u001b[39;00m executor:\n\u001b[1;32m   2942\u001b[0m         futures \u001b[38;5;241m=\u001b[39m [\n\u001b[1;32m   2943\u001b[0m             executor\u001b[38;5;241m.\u001b[39msubmit(\n\u001b[1;32m   2944\u001b[0m                 step\u001b[38;5;241m.\u001b[39minvoke,\n\u001b[0;32m   (...)\u001b[0m\n\u001b[1;32m   2952\u001b[0m             \u001b[38;5;28;01mfor\u001b[39;00m key, step \u001b[38;5;129;01min\u001b[39;00m steps\u001b[38;5;241m.\u001b[39mitems()\n\u001b[1;32m   2953\u001b[0m         ]\n\u001b[0;32m-> 2954\u001b[0m         output \u001b[38;5;241m=\u001b[39m {key: \u001b[43mfuture\u001b[49m\u001b[38;5;241;43m.\u001b[39;49m\u001b[43mresult\u001b[49m\u001b[43m(\u001b[49m\u001b[43m)\u001b[49m \u001b[38;5;28;01mfor\u001b[39;00m key, future \u001b[38;5;129;01min\u001b[39;00m \u001b[38;5;28mzip\u001b[39m(steps, futures)}\n\u001b[1;32m   2955\u001b[0m \u001b[38;5;66;03m# finish the root run\u001b[39;00m\n\u001b[1;32m   2956\u001b[0m \u001b[38;5;28;01mexcept\u001b[39;00m \u001b[38;5;167;01mBaseException\u001b[39;00m \u001b[38;5;28;01mas\u001b[39;00m e:\n",
      "File \u001b[0;32m/opt/conda/lib/python3.10/concurrent/futures/_base.py:458\u001b[0m, in \u001b[0;36mFuture.result\u001b[0;34m(self, timeout)\u001b[0m\n\u001b[1;32m    456\u001b[0m     \u001b[38;5;28;01mraise\u001b[39;00m CancelledError()\n\u001b[1;32m    457\u001b[0m \u001b[38;5;28;01melif\u001b[39;00m \u001b[38;5;28mself\u001b[39m\u001b[38;5;241m.\u001b[39m_state \u001b[38;5;241m==\u001b[39m FINISHED:\n\u001b[0;32m--> 458\u001b[0m     \u001b[38;5;28;01mreturn\u001b[39;00m \u001b[38;5;28;43mself\u001b[39;49m\u001b[38;5;241;43m.\u001b[39;49m\u001b[43m__get_result\u001b[49m\u001b[43m(\u001b[49m\u001b[43m)\u001b[49m\n\u001b[1;32m    459\u001b[0m \u001b[38;5;28;01melse\u001b[39;00m:\n\u001b[1;32m    460\u001b[0m     \u001b[38;5;28;01mraise\u001b[39;00m \u001b[38;5;167;01mTimeoutError\u001b[39;00m()\n",
      "File \u001b[0;32m/opt/conda/lib/python3.10/concurrent/futures/_base.py:403\u001b[0m, in \u001b[0;36mFuture.__get_result\u001b[0;34m(self)\u001b[0m\n\u001b[1;32m    401\u001b[0m \u001b[38;5;28;01mif\u001b[39;00m \u001b[38;5;28mself\u001b[39m\u001b[38;5;241m.\u001b[39m_exception:\n\u001b[1;32m    402\u001b[0m     \u001b[38;5;28;01mtry\u001b[39;00m:\n\u001b[0;32m--> 403\u001b[0m         \u001b[38;5;28;01mraise\u001b[39;00m \u001b[38;5;28mself\u001b[39m\u001b[38;5;241m.\u001b[39m_exception\n\u001b[1;32m    404\u001b[0m     \u001b[38;5;28;01mfinally\u001b[39;00m:\n\u001b[1;32m    405\u001b[0m         \u001b[38;5;66;03m# Break a reference cycle with the exception in self._exception\u001b[39;00m\n\u001b[1;32m    406\u001b[0m         \u001b[38;5;28mself\u001b[39m \u001b[38;5;241m=\u001b[39m \u001b[38;5;28;01mNone\u001b[39;00m\n",
      "File \u001b[0;32m/opt/conda/lib/python3.10/concurrent/futures/thread.py:58\u001b[0m, in \u001b[0;36m_WorkItem.run\u001b[0;34m(self)\u001b[0m\n\u001b[1;32m     55\u001b[0m     \u001b[38;5;28;01mreturn\u001b[39;00m\n\u001b[1;32m     57\u001b[0m \u001b[38;5;28;01mtry\u001b[39;00m:\n\u001b[0;32m---> 58\u001b[0m     result \u001b[38;5;241m=\u001b[39m \u001b[38;5;28;43mself\u001b[39;49m\u001b[38;5;241;43m.\u001b[39;49m\u001b[43mfn\u001b[49m\u001b[43m(\u001b[49m\u001b[38;5;241;43m*\u001b[39;49m\u001b[38;5;28;43mself\u001b[39;49m\u001b[38;5;241;43m.\u001b[39;49m\u001b[43margs\u001b[49m\u001b[43m,\u001b[49m\u001b[43m \u001b[49m\u001b[38;5;241;43m*\u001b[39;49m\u001b[38;5;241;43m*\u001b[39;49m\u001b[38;5;28;43mself\u001b[39;49m\u001b[38;5;241;43m.\u001b[39;49m\u001b[43mkwargs\u001b[49m\u001b[43m)\u001b[49m\n\u001b[1;32m     59\u001b[0m \u001b[38;5;28;01mexcept\u001b[39;00m \u001b[38;5;167;01mBaseException\u001b[39;00m \u001b[38;5;28;01mas\u001b[39;00m exc:\n\u001b[1;32m     60\u001b[0m     \u001b[38;5;28mself\u001b[39m\u001b[38;5;241m.\u001b[39mfuture\u001b[38;5;241m.\u001b[39mset_exception(exc)\n",
      "File \u001b[0;32m/opt/conda/lib/python3.10/site-packages/langchain_core/runnables/base.py:2309\u001b[0m, in \u001b[0;36mRunnableSequence.invoke\u001b[0;34m(self, input, config)\u001b[0m\n\u001b[1;32m   2307\u001b[0m \u001b[38;5;28;01mtry\u001b[39;00m:\n\u001b[1;32m   2308\u001b[0m     \u001b[38;5;28;01mfor\u001b[39;00m i, step \u001b[38;5;129;01min\u001b[39;00m \u001b[38;5;28menumerate\u001b[39m(\u001b[38;5;28mself\u001b[39m\u001b[38;5;241m.\u001b[39msteps):\n\u001b[0;32m-> 2309\u001b[0m         \u001b[38;5;28minput\u001b[39m \u001b[38;5;241m=\u001b[39m \u001b[43mstep\u001b[49m\u001b[38;5;241;43m.\u001b[39;49m\u001b[43minvoke\u001b[49m\u001b[43m(\u001b[49m\n\u001b[1;32m   2310\u001b[0m \u001b[43m            \u001b[49m\u001b[38;5;28;43minput\u001b[39;49m\u001b[43m,\u001b[49m\n\u001b[1;32m   2311\u001b[0m \u001b[43m            \u001b[49m\u001b[38;5;66;43;03m# mark each step as a child run\u001b[39;49;00m\n\u001b[1;32m   2312\u001b[0m \u001b[43m            \u001b[49m\u001b[43mpatch_config\u001b[49m\u001b[43m(\u001b[49m\n\u001b[1;32m   2313\u001b[0m \u001b[43m                \u001b[49m\u001b[43mconfig\u001b[49m\u001b[43m,\u001b[49m\u001b[43m \u001b[49m\u001b[43mcallbacks\u001b[49m\u001b[38;5;241;43m=\u001b[39;49m\u001b[43mrun_manager\u001b[49m\u001b[38;5;241;43m.\u001b[39;49m\u001b[43mget_child\u001b[49m\u001b[43m(\u001b[49m\u001b[38;5;124;43mf\u001b[39;49m\u001b[38;5;124;43m\"\u001b[39;49m\u001b[38;5;124;43mseq:step:\u001b[39;49m\u001b[38;5;132;43;01m{\u001b[39;49;00m\u001b[43mi\u001b[49m\u001b[38;5;241;43m+\u001b[39;49m\u001b[38;5;241;43m1\u001b[39;49m\u001b[38;5;132;43;01m}\u001b[39;49;00m\u001b[38;5;124;43m\"\u001b[39;49m\u001b[43m)\u001b[49m\n\u001b[1;32m   2314\u001b[0m \u001b[43m            \u001b[49m\u001b[43m)\u001b[49m\u001b[43m,\u001b[49m\n\u001b[1;32m   2315\u001b[0m \u001b[43m        \u001b[49m\u001b[43m)\u001b[49m\n\u001b[1;32m   2316\u001b[0m \u001b[38;5;66;03m# finish the root run\u001b[39;00m\n\u001b[1;32m   2317\u001b[0m \u001b[38;5;28;01mexcept\u001b[39;00m \u001b[38;5;167;01mBaseException\u001b[39;00m \u001b[38;5;28;01mas\u001b[39;00m e:\n",
      "File \u001b[0;32m/opt/conda/lib/python3.10/site-packages/langchain_core/language_models/chat_models.py:153\u001b[0m, in \u001b[0;36mBaseChatModel.invoke\u001b[0;34m(self, input, config, stop, **kwargs)\u001b[0m\n\u001b[1;32m    142\u001b[0m \u001b[38;5;28;01mdef\u001b[39;00m \u001b[38;5;21minvoke\u001b[39m(\n\u001b[1;32m    143\u001b[0m     \u001b[38;5;28mself\u001b[39m,\n\u001b[1;32m    144\u001b[0m     \u001b[38;5;28minput\u001b[39m: LanguageModelInput,\n\u001b[0;32m   (...)\u001b[0m\n\u001b[1;32m    148\u001b[0m     \u001b[38;5;241m*\u001b[39m\u001b[38;5;241m*\u001b[39mkwargs: Any,\n\u001b[1;32m    149\u001b[0m ) \u001b[38;5;241m-\u001b[39m\u001b[38;5;241m>\u001b[39m BaseMessage:\n\u001b[1;32m    150\u001b[0m     config \u001b[38;5;241m=\u001b[39m ensure_config(config)\n\u001b[1;32m    151\u001b[0m     \u001b[38;5;28;01mreturn\u001b[39;00m cast(\n\u001b[1;32m    152\u001b[0m         ChatGeneration,\n\u001b[0;32m--> 153\u001b[0m         \u001b[38;5;28;43mself\u001b[39;49m\u001b[38;5;241;43m.\u001b[39;49m\u001b[43mgenerate_prompt\u001b[49m\u001b[43m(\u001b[49m\n\u001b[1;32m    154\u001b[0m \u001b[43m            \u001b[49m\u001b[43m[\u001b[49m\u001b[38;5;28;43mself\u001b[39;49m\u001b[38;5;241;43m.\u001b[39;49m\u001b[43m_convert_input\u001b[49m\u001b[43m(\u001b[49m\u001b[38;5;28;43minput\u001b[39;49m\u001b[43m)\u001b[49m\u001b[43m]\u001b[49m\u001b[43m,\u001b[49m\n\u001b[1;32m    155\u001b[0m \u001b[43m            \u001b[49m\u001b[43mstop\u001b[49m\u001b[38;5;241;43m=\u001b[39;49m\u001b[43mstop\u001b[49m\u001b[43m,\u001b[49m\n\u001b[1;32m    156\u001b[0m \u001b[43m            \u001b[49m\u001b[43mcallbacks\u001b[49m\u001b[38;5;241;43m=\u001b[39;49m\u001b[43mconfig\u001b[49m\u001b[38;5;241;43m.\u001b[39;49m\u001b[43mget\u001b[49m\u001b[43m(\u001b[49m\u001b[38;5;124;43m\"\u001b[39;49m\u001b[38;5;124;43mcallbacks\u001b[39;49m\u001b[38;5;124;43m\"\u001b[39;49m\u001b[43m)\u001b[49m\u001b[43m,\u001b[49m\n\u001b[1;32m    157\u001b[0m \u001b[43m            \u001b[49m\u001b[43mtags\u001b[49m\u001b[38;5;241;43m=\u001b[39;49m\u001b[43mconfig\u001b[49m\u001b[38;5;241;43m.\u001b[39;49m\u001b[43mget\u001b[49m\u001b[43m(\u001b[49m\u001b[38;5;124;43m\"\u001b[39;49m\u001b[38;5;124;43mtags\u001b[39;49m\u001b[38;5;124;43m\"\u001b[39;49m\u001b[43m)\u001b[49m\u001b[43m,\u001b[49m\n\u001b[1;32m    158\u001b[0m \u001b[43m            \u001b[49m\u001b[43mmetadata\u001b[49m\u001b[38;5;241;43m=\u001b[39;49m\u001b[43mconfig\u001b[49m\u001b[38;5;241;43m.\u001b[39;49m\u001b[43mget\u001b[49m\u001b[43m(\u001b[49m\u001b[38;5;124;43m\"\u001b[39;49m\u001b[38;5;124;43mmetadata\u001b[39;49m\u001b[38;5;124;43m\"\u001b[39;49m\u001b[43m)\u001b[49m\u001b[43m,\u001b[49m\n\u001b[1;32m    159\u001b[0m \u001b[43m            \u001b[49m\u001b[43mrun_name\u001b[49m\u001b[38;5;241;43m=\u001b[39;49m\u001b[43mconfig\u001b[49m\u001b[38;5;241;43m.\u001b[39;49m\u001b[43mget\u001b[49m\u001b[43m(\u001b[49m\u001b[38;5;124;43m\"\u001b[39;49m\u001b[38;5;124;43mrun_name\u001b[39;49m\u001b[38;5;124;43m\"\u001b[39;49m\u001b[43m)\u001b[49m\u001b[43m,\u001b[49m\n\u001b[1;32m    160\u001b[0m \u001b[43m            \u001b[49m\u001b[38;5;241;43m*\u001b[39;49m\u001b[38;5;241;43m*\u001b[39;49m\u001b[43mkwargs\u001b[49m\u001b[43m,\u001b[49m\n\u001b[1;32m    161\u001b[0m \u001b[43m        \u001b[49m\u001b[43m)\u001b[49m\u001b[38;5;241m.\u001b[39mgenerations[\u001b[38;5;241m0\u001b[39m][\u001b[38;5;241m0\u001b[39m],\n\u001b[1;32m    162\u001b[0m     )\u001b[38;5;241m.\u001b[39mmessage\n",
      "File \u001b[0;32m/opt/conda/lib/python3.10/site-packages/langchain_core/language_models/chat_models.py:546\u001b[0m, in \u001b[0;36mBaseChatModel.generate_prompt\u001b[0;34m(self, prompts, stop, callbacks, **kwargs)\u001b[0m\n\u001b[1;32m    538\u001b[0m \u001b[38;5;28;01mdef\u001b[39;00m \u001b[38;5;21mgenerate_prompt\u001b[39m(\n\u001b[1;32m    539\u001b[0m     \u001b[38;5;28mself\u001b[39m,\n\u001b[1;32m    540\u001b[0m     prompts: List[PromptValue],\n\u001b[0;32m   (...)\u001b[0m\n\u001b[1;32m    543\u001b[0m     \u001b[38;5;241m*\u001b[39m\u001b[38;5;241m*\u001b[39mkwargs: Any,\n\u001b[1;32m    544\u001b[0m ) \u001b[38;5;241m-\u001b[39m\u001b[38;5;241m>\u001b[39m LLMResult:\n\u001b[1;32m    545\u001b[0m     prompt_messages \u001b[38;5;241m=\u001b[39m [p\u001b[38;5;241m.\u001b[39mto_messages() \u001b[38;5;28;01mfor\u001b[39;00m p \u001b[38;5;129;01min\u001b[39;00m prompts]\n\u001b[0;32m--> 546\u001b[0m     \u001b[38;5;28;01mreturn\u001b[39;00m \u001b[38;5;28;43mself\u001b[39;49m\u001b[38;5;241;43m.\u001b[39;49m\u001b[43mgenerate\u001b[49m\u001b[43m(\u001b[49m\u001b[43mprompt_messages\u001b[49m\u001b[43m,\u001b[49m\u001b[43m \u001b[49m\u001b[43mstop\u001b[49m\u001b[38;5;241;43m=\u001b[39;49m\u001b[43mstop\u001b[49m\u001b[43m,\u001b[49m\u001b[43m \u001b[49m\u001b[43mcallbacks\u001b[49m\u001b[38;5;241;43m=\u001b[39;49m\u001b[43mcallbacks\u001b[49m\u001b[43m,\u001b[49m\u001b[43m \u001b[49m\u001b[38;5;241;43m*\u001b[39;49m\u001b[38;5;241;43m*\u001b[39;49m\u001b[43mkwargs\u001b[49m\u001b[43m)\u001b[49m\n",
      "File \u001b[0;32m/opt/conda/lib/python3.10/site-packages/langchain_core/language_models/chat_models.py:407\u001b[0m, in \u001b[0;36mBaseChatModel.generate\u001b[0;34m(self, messages, stop, callbacks, tags, metadata, run_name, run_id, **kwargs)\u001b[0m\n\u001b[1;32m    405\u001b[0m         \u001b[38;5;28;01mif\u001b[39;00m run_managers:\n\u001b[1;32m    406\u001b[0m             run_managers[i]\u001b[38;5;241m.\u001b[39mon_llm_error(e, response\u001b[38;5;241m=\u001b[39mLLMResult(generations\u001b[38;5;241m=\u001b[39m[]))\n\u001b[0;32m--> 407\u001b[0m         \u001b[38;5;28;01mraise\u001b[39;00m e\n\u001b[1;32m    408\u001b[0m flattened_outputs \u001b[38;5;241m=\u001b[39m [\n\u001b[1;32m    409\u001b[0m     LLMResult(generations\u001b[38;5;241m=\u001b[39m[res\u001b[38;5;241m.\u001b[39mgenerations], llm_output\u001b[38;5;241m=\u001b[39mres\u001b[38;5;241m.\u001b[39mllm_output)  \u001b[38;5;66;03m# type: ignore[list-item]\u001b[39;00m\n\u001b[1;32m    410\u001b[0m     \u001b[38;5;28;01mfor\u001b[39;00m res \u001b[38;5;129;01min\u001b[39;00m results\n\u001b[1;32m    411\u001b[0m ]\n\u001b[1;32m    412\u001b[0m llm_output \u001b[38;5;241m=\u001b[39m \u001b[38;5;28mself\u001b[39m\u001b[38;5;241m.\u001b[39m_combine_llm_outputs([res\u001b[38;5;241m.\u001b[39mllm_output \u001b[38;5;28;01mfor\u001b[39;00m res \u001b[38;5;129;01min\u001b[39;00m results])\n",
      "File \u001b[0;32m/opt/conda/lib/python3.10/site-packages/langchain_core/language_models/chat_models.py:397\u001b[0m, in \u001b[0;36mBaseChatModel.generate\u001b[0;34m(self, messages, stop, callbacks, tags, metadata, run_name, run_id, **kwargs)\u001b[0m\n\u001b[1;32m    394\u001b[0m \u001b[38;5;28;01mfor\u001b[39;00m i, m \u001b[38;5;129;01min\u001b[39;00m \u001b[38;5;28menumerate\u001b[39m(messages):\n\u001b[1;32m    395\u001b[0m     \u001b[38;5;28;01mtry\u001b[39;00m:\n\u001b[1;32m    396\u001b[0m         results\u001b[38;5;241m.\u001b[39mappend(\n\u001b[0;32m--> 397\u001b[0m             \u001b[38;5;28;43mself\u001b[39;49m\u001b[38;5;241;43m.\u001b[39;49m\u001b[43m_generate_with_cache\u001b[49m\u001b[43m(\u001b[49m\n\u001b[1;32m    398\u001b[0m \u001b[43m                \u001b[49m\u001b[43mm\u001b[49m\u001b[43m,\u001b[49m\n\u001b[1;32m    399\u001b[0m \u001b[43m                \u001b[49m\u001b[43mstop\u001b[49m\u001b[38;5;241;43m=\u001b[39;49m\u001b[43mstop\u001b[49m\u001b[43m,\u001b[49m\n\u001b[1;32m    400\u001b[0m \u001b[43m                \u001b[49m\u001b[43mrun_manager\u001b[49m\u001b[38;5;241;43m=\u001b[39;49m\u001b[43mrun_managers\u001b[49m\u001b[43m[\u001b[49m\u001b[43mi\u001b[49m\u001b[43m]\u001b[49m\u001b[43m \u001b[49m\u001b[38;5;28;43;01mif\u001b[39;49;00m\u001b[43m \u001b[49m\u001b[43mrun_managers\u001b[49m\u001b[43m \u001b[49m\u001b[38;5;28;43;01melse\u001b[39;49;00m\u001b[43m \u001b[49m\u001b[38;5;28;43;01mNone\u001b[39;49;00m\u001b[43m,\u001b[49m\n\u001b[1;32m    401\u001b[0m \u001b[43m                \u001b[49m\u001b[38;5;241;43m*\u001b[39;49m\u001b[38;5;241;43m*\u001b[39;49m\u001b[43mkwargs\u001b[49m\u001b[43m,\u001b[49m\n\u001b[1;32m    402\u001b[0m \u001b[43m            \u001b[49m\u001b[43m)\u001b[49m\n\u001b[1;32m    403\u001b[0m         )\n\u001b[1;32m    404\u001b[0m     \u001b[38;5;28;01mexcept\u001b[39;00m \u001b[38;5;167;01mBaseException\u001b[39;00m \u001b[38;5;28;01mas\u001b[39;00m e:\n\u001b[1;32m    405\u001b[0m         \u001b[38;5;28;01mif\u001b[39;00m run_managers:\n",
      "File \u001b[0;32m/opt/conda/lib/python3.10/site-packages/langchain_core/language_models/chat_models.py:589\u001b[0m, in \u001b[0;36mBaseChatModel._generate_with_cache\u001b[0;34m(self, messages, stop, run_manager, **kwargs)\u001b[0m\n\u001b[1;32m    585\u001b[0m         \u001b[38;5;28;01mraise\u001b[39;00m \u001b[38;5;167;01mValueError\u001b[39;00m(\n\u001b[1;32m    586\u001b[0m             \u001b[38;5;124m\"\u001b[39m\u001b[38;5;124mAsked to cache, but no cache found at `langchain.cache`.\u001b[39m\u001b[38;5;124m\"\u001b[39m\n\u001b[1;32m    587\u001b[0m         )\n\u001b[1;32m    588\u001b[0m \u001b[38;5;28;01mif\u001b[39;00m inspect\u001b[38;5;241m.\u001b[39msignature(\u001b[38;5;28mself\u001b[39m\u001b[38;5;241m.\u001b[39m_generate)\u001b[38;5;241m.\u001b[39mparameters\u001b[38;5;241m.\u001b[39mget(\u001b[38;5;124m\"\u001b[39m\u001b[38;5;124mrun_manager\u001b[39m\u001b[38;5;124m\"\u001b[39m):\n\u001b[0;32m--> 589\u001b[0m     result \u001b[38;5;241m=\u001b[39m \u001b[38;5;28;43mself\u001b[39;49m\u001b[38;5;241;43m.\u001b[39;49m\u001b[43m_generate\u001b[49m\u001b[43m(\u001b[49m\n\u001b[1;32m    590\u001b[0m \u001b[43m        \u001b[49m\u001b[43mmessages\u001b[49m\u001b[43m,\u001b[49m\u001b[43m \u001b[49m\u001b[43mstop\u001b[49m\u001b[38;5;241;43m=\u001b[39;49m\u001b[43mstop\u001b[49m\u001b[43m,\u001b[49m\u001b[43m \u001b[49m\u001b[43mrun_manager\u001b[49m\u001b[38;5;241;43m=\u001b[39;49m\u001b[43mrun_manager\u001b[49m\u001b[43m,\u001b[49m\u001b[43m \u001b[49m\u001b[38;5;241;43m*\u001b[39;49m\u001b[38;5;241;43m*\u001b[39;49m\u001b[43mkwargs\u001b[49m\n\u001b[1;32m    591\u001b[0m \u001b[43m    \u001b[49m\u001b[43m)\u001b[49m\n\u001b[1;32m    592\u001b[0m \u001b[38;5;28;01melse\u001b[39;00m:\n\u001b[1;32m    593\u001b[0m     result \u001b[38;5;241m=\u001b[39m \u001b[38;5;28mself\u001b[39m\u001b[38;5;241m.\u001b[39m_generate(messages, stop\u001b[38;5;241m=\u001b[39mstop, \u001b[38;5;241m*\u001b[39m\u001b[38;5;241m*\u001b[39mkwargs)\n",
      "File \u001b[0;32m/opt/conda/lib/python3.10/site-packages/langchain_community/chat_models/bedrock.py:270\u001b[0m, in \u001b[0;36mBedrockChat._generate\u001b[0;34m(self, messages, stop, run_manager, **kwargs)\u001b[0m\n\u001b[1;32m    267\u001b[0m completion \u001b[38;5;241m=\u001b[39m \u001b[38;5;124m\"\u001b[39m\u001b[38;5;124m\"\u001b[39m\n\u001b[1;32m    269\u001b[0m \u001b[38;5;28;01mif\u001b[39;00m \u001b[38;5;28mself\u001b[39m\u001b[38;5;241m.\u001b[39mstreaming:\n\u001b[0;32m--> 270\u001b[0m     \u001b[38;5;28;01mfor\u001b[39;00m chunk \u001b[38;5;129;01min\u001b[39;00m \u001b[38;5;28mself\u001b[39m\u001b[38;5;241m.\u001b[39m_stream(messages, stop, run_manager, \u001b[38;5;241m*\u001b[39m\u001b[38;5;241m*\u001b[39mkwargs):\n\u001b[1;32m    271\u001b[0m         completion \u001b[38;5;241m+\u001b[39m\u001b[38;5;241m=\u001b[39m chunk\u001b[38;5;241m.\u001b[39mtext\n\u001b[1;32m    272\u001b[0m \u001b[38;5;28;01melse\u001b[39;00m:\n",
      "File \u001b[0;32m/opt/conda/lib/python3.10/site-packages/langchain_community/chat_models/bedrock.py:249\u001b[0m, in \u001b[0;36mBedrockChat._stream\u001b[0;34m(self, messages, stop, run_manager, **kwargs)\u001b[0m\n\u001b[1;32m    244\u001b[0m \u001b[38;5;28;01melse\u001b[39;00m:\n\u001b[1;32m    245\u001b[0m     prompt \u001b[38;5;241m=\u001b[39m ChatPromptAdapter\u001b[38;5;241m.\u001b[39mconvert_messages_to_prompt(\n\u001b[1;32m    246\u001b[0m         provider\u001b[38;5;241m=\u001b[39mprovider, messages\u001b[38;5;241m=\u001b[39mmessages\n\u001b[1;32m    247\u001b[0m     )\n\u001b[0;32m--> 249\u001b[0m \u001b[38;5;28;01mfor\u001b[39;00m chunk \u001b[38;5;129;01min\u001b[39;00m \u001b[38;5;28mself\u001b[39m\u001b[38;5;241m.\u001b[39m_prepare_input_and_invoke_stream(\n\u001b[1;32m    250\u001b[0m     prompt\u001b[38;5;241m=\u001b[39mprompt,\n\u001b[1;32m    251\u001b[0m     system\u001b[38;5;241m=\u001b[39msystem,\n\u001b[1;32m    252\u001b[0m     messages\u001b[38;5;241m=\u001b[39mformatted_messages,\n\u001b[1;32m    253\u001b[0m     stop\u001b[38;5;241m=\u001b[39mstop,\n\u001b[1;32m    254\u001b[0m     run_manager\u001b[38;5;241m=\u001b[39mrun_manager,\n\u001b[1;32m    255\u001b[0m     \u001b[38;5;241m*\u001b[39m\u001b[38;5;241m*\u001b[39mkwargs,\n\u001b[1;32m    256\u001b[0m ):\n\u001b[1;32m    257\u001b[0m     delta \u001b[38;5;241m=\u001b[39m chunk\u001b[38;5;241m.\u001b[39mtext\n\u001b[1;32m    258\u001b[0m     \u001b[38;5;28;01myield\u001b[39;00m ChatGenerationChunk(message\u001b[38;5;241m=\u001b[39mAIMessageChunk(content\u001b[38;5;241m=\u001b[39mdelta))\n",
      "File \u001b[0;32m/opt/conda/lib/python3.10/site-packages/langchain_community/llms/bedrock.py:644\u001b[0m, in \u001b[0;36mBedrockBase._prepare_input_and_invoke_stream\u001b[0;34m(self, prompt, system, messages, stop, run_manager, **kwargs)\u001b[0m\n\u001b[1;32m    641\u001b[0m \u001b[38;5;28;01mexcept\u001b[39;00m \u001b[38;5;167;01mException\u001b[39;00m \u001b[38;5;28;01mas\u001b[39;00m e:\n\u001b[1;32m    642\u001b[0m     \u001b[38;5;28;01mraise\u001b[39;00m \u001b[38;5;167;01mValueError\u001b[39;00m(\u001b[38;5;124mf\u001b[39m\u001b[38;5;124m\"\u001b[39m\u001b[38;5;124mError raised by bedrock service: \u001b[39m\u001b[38;5;132;01m{\u001b[39;00me\u001b[38;5;132;01m}\u001b[39;00m\u001b[38;5;124m\"\u001b[39m)\n\u001b[0;32m--> 644\u001b[0m \u001b[38;5;28;01mfor\u001b[39;00m chunk \u001b[38;5;129;01min\u001b[39;00m LLMInputOutputAdapter\u001b[38;5;241m.\u001b[39mprepare_output_stream(\n\u001b[1;32m    645\u001b[0m     provider, response, stop, \u001b[38;5;28;01mTrue\u001b[39;00m \u001b[38;5;28;01mif\u001b[39;00m messages \u001b[38;5;28;01melse\u001b[39;00m \u001b[38;5;28;01mFalse\u001b[39;00m\n\u001b[1;32m    646\u001b[0m ):\n\u001b[1;32m    647\u001b[0m     \u001b[38;5;28;01myield\u001b[39;00m chunk\n\u001b[1;32m    648\u001b[0m     \u001b[38;5;66;03m# verify and raise callback error if any middleware intervened\u001b[39;00m\n",
      "File \u001b[0;32m/opt/conda/lib/python3.10/site-packages/langchain_community/llms/bedrock.py:193\u001b[0m, in \u001b[0;36mLLMInputOutputAdapter.prepare_output_stream\u001b[0;34m(cls, provider, response, stop, messages_api)\u001b[0m\n\u001b[1;32m    188\u001b[0m \u001b[38;5;28;01mif\u001b[39;00m \u001b[38;5;129;01mnot\u001b[39;00m output_key:\n\u001b[1;32m    189\u001b[0m     \u001b[38;5;28;01mraise\u001b[39;00m \u001b[38;5;167;01mValueError\u001b[39;00m(\n\u001b[1;32m    190\u001b[0m         \u001b[38;5;124mf\u001b[39m\u001b[38;5;124m\"\u001b[39m\u001b[38;5;124mUnknown streaming response output key for provider: \u001b[39m\u001b[38;5;132;01m{\u001b[39;00mprovider\u001b[38;5;132;01m}\u001b[39;00m\u001b[38;5;124m\"\u001b[39m\n\u001b[1;32m    191\u001b[0m     )\n\u001b[0;32m--> 193\u001b[0m \u001b[38;5;28;01mfor\u001b[39;00m event \u001b[38;5;129;01min\u001b[39;00m stream:\n\u001b[1;32m    194\u001b[0m     chunk \u001b[38;5;241m=\u001b[39m event\u001b[38;5;241m.\u001b[39mget(\u001b[38;5;124m\"\u001b[39m\u001b[38;5;124mchunk\u001b[39m\u001b[38;5;124m\"\u001b[39m)\n\u001b[1;32m    195\u001b[0m     \u001b[38;5;28;01mif\u001b[39;00m \u001b[38;5;129;01mnot\u001b[39;00m chunk:\n",
      "File \u001b[0;32m/opt/conda/lib/python3.10/site-packages/botocore/eventstream.py:603\u001b[0m, in \u001b[0;36mEventStream.__iter__\u001b[0;34m(self)\u001b[0m\n\u001b[1;32m    601\u001b[0m \u001b[38;5;28;01mdef\u001b[39;00m \u001b[38;5;21m__iter__\u001b[39m(\u001b[38;5;28mself\u001b[39m):\n\u001b[1;32m    602\u001b[0m     \u001b[38;5;28;01mfor\u001b[39;00m event \u001b[38;5;129;01min\u001b[39;00m \u001b[38;5;28mself\u001b[39m\u001b[38;5;241m.\u001b[39m_event_generator:\n\u001b[0;32m--> 603\u001b[0m         parsed_event \u001b[38;5;241m=\u001b[39m \u001b[38;5;28;43mself\u001b[39;49m\u001b[38;5;241;43m.\u001b[39;49m\u001b[43m_parse_event\u001b[49m\u001b[43m(\u001b[49m\u001b[43mevent\u001b[49m\u001b[43m)\u001b[49m\n\u001b[1;32m    604\u001b[0m         \u001b[38;5;28;01mif\u001b[39;00m parsed_event:\n\u001b[1;32m    605\u001b[0m             \u001b[38;5;28;01myield\u001b[39;00m parsed_event\n",
      "File \u001b[0;32m/opt/conda/lib/python3.10/site-packages/botocore/eventstream.py:619\u001b[0m, in \u001b[0;36mEventStream._parse_event\u001b[0;34m(self, event)\u001b[0m\n\u001b[1;32m    617\u001b[0m     \u001b[38;5;28;01mreturn\u001b[39;00m parsed_response\n\u001b[1;32m    618\u001b[0m \u001b[38;5;28;01melse\u001b[39;00m:\n\u001b[0;32m--> 619\u001b[0m     \u001b[38;5;28;01mraise\u001b[39;00m EventStreamError(parsed_response, \u001b[38;5;28mself\u001b[39m\u001b[38;5;241m.\u001b[39m_operation_name)\n",
      "\u001b[0;31mEventStreamError\u001b[0m: An error occurred (throttlingException) when calling the InvokeModelWithResponseStream operation: Too many requests, please wait before trying again. You have sent too many requests.  Wait before trying again."
     ]
    }
   ],
   "source": [
    "import time\n",
    "all_result = []\n",
    "filename = f'chlid_{c_id}_parsed_result'\n",
    "\n",
    "##断点跳过\n",
    "skip_num =9\n",
    "for i,chunk in enumerate(chunks):\n",
    "    if i < skip_num:\n",
    "        continue\n",
    "    t1 = time.time()\n",
    "    print(f'--------chunk idx:{i}-------')\n",
    "    text =  \"\\n\".join(chunk)\n",
    "    answer = full_chain.invoke({\n",
    "                       'context': text})\n",
    "    extract_ret = extract_info(answer)\n",
    "    print(f'\\nextract_ret:\\n{extract_ret}')\n",
    "    time.sleep(40)\n",
    "    print(f'---time cost {time.time()-t1} s -----\\nsleep 10s for token tpm\\n\\n')\n",
    "    if extract_ret:\n",
    "        all_result+=extract_ret\n",
    "        save_to_csv(extract_ret,filename+f\"chunk_{i}.csv\")\n",
    "        save_to_csv(extract_ret,filename+f\"_all.csv\")"
   ]
  },
  {
   "cell_type": "code",
   "execution_count": 144,
   "id": "15f31179",
   "metadata": {},
   "outputs": [
    {
     "data": {
      "text/plain": [
       "92"
      ]
     },
     "execution_count": 144,
     "metadata": {},
     "output_type": "execute_result"
    }
   ],
   "source": [
    "len(all_result)"
   ]
  },
  {
   "cell_type": "code",
   "execution_count": null,
   "id": "e41a5c66",
   "metadata": {},
   "outputs": [],
   "source": []
  }
 ],
 "metadata": {
  "kernelspec": {
   "display_name": "Python 3 (ipykernel)",
   "language": "python",
   "name": "python3"
  },
  "language_info": {
   "codemirror_mode": {
    "name": "ipython",
    "version": 3
   },
   "file_extension": ".py",
   "mimetype": "text/x-python",
   "name": "python",
   "nbconvert_exporter": "python",
   "pygments_lexer": "ipython3",
   "version": "3.10.13"
  }
 },
 "nbformat": 4,
 "nbformat_minor": 5
}
