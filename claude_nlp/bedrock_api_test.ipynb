{
 "cells": [
  {
   "cell_type": "code",
   "execution_count": null,
   "metadata": {},
   "outputs": [],
   "source": [
    "!pip install boto3 langchain langchain_community -U"
   ]
  },
  {
   "cell_type": "code",
   "execution_count": 1,
   "metadata": {},
   "outputs": [],
   "source": [
    "import boto3"
   ]
  },
  {
   "cell_type": "code",
   "execution_count": 2,
   "metadata": {},
   "outputs": [],
   "source": [
    "from langchain_community.chat_models import BedrockChat\n",
    "from langchain_core.messages import HumanMessage,AIMessage\n",
    "from langchain.callbacks.streaming_stdout import StreamingStdOutCallbackHandler\n",
    "from langchain_core.prompts import ChatPromptTemplate,MessagesPlaceholder,HumanMessagePromptTemplate"
   ]
  },
  {
   "cell_type": "code",
   "execution_count": 25,
   "metadata": {},
   "outputs": [],
   "source": [
    "boto3_bedrock = boto3.client(\n",
    "    service_name=\"bedrock-runtime\",\n",
    "    region_name='us-east-1'\n",
    ")"
   ]
  },
  {
   "cell_type": "code",
   "execution_count": 38,
   "metadata": {},
   "outputs": [],
   "source": [
    "llm_sonnet = BedrockChat(model_id=\"anthropic.claude-3-sonnet-20240229-v1:0\",\n",
    "                client = boto3_bedrock,\n",
    "                  model_kwargs={\"temperature\": 0,\n",
    "                                \"top_k\":10,\n",
    "                                \"max_tokens\": 1024,\n",
    "                                \"top_p\":0.5,\n",
    "                                \"stop_sequences\":['</standalone_question>']\n",
    "                               },\n",
    "                  streaming=True,callbacks=[StreamingStdOutCallbackHandler()])"
   ]
  },
  {
   "cell_type": "code",
   "execution_count": 39,
   "metadata": {},
   "outputs": [],
   "source": [
    "prompt = \"Given the following conversation in <conversation></conversation>, and a follow up user question in <question></question>.\\\\n<conversation>\\\\nuser: aws clean room是什么？\\\\nAI: AWS Clean Rooms是一种安全的多方计算服务,允许不同组织在不共享原始数据的情况下,对彼此的数据进行联合分析。它采用差分隐私技术,确保数据隐私和安全。与其他类似服务相比,AWS Clean Rooms无需将数据移动到其他平台,可直接在AWS S3上进行分析。它还与AWS Data Exchange集成,方便寻找数据合作伙伴。AWS Clean Rooms将取代亚马逊广告的AMC服务,为更广泛的行业提供数据合作解决方案。\\\\n</conversation>\\\\n\\\\n<question>\\\\n他有什么优势？\\\\n</question>\\\\n\\\\nplease use the context in the chat conversation to rephrase the user question to be a standalone question, respond in the original language of user's question, don't translate the chat history and user question.\\\\nif you don't understand the user's question, or the question is not relevant to the conversation. please keep the orginal question.\\\\nSkip the preamble, don't explain, go straight into the answer. Please put the standalone question in <standalone_question> tag\\\\n\""
   ]
  },
  {
   "cell_type": "code",
   "execution_count": 40,
   "metadata": {},
   "outputs": [
    {
     "name": "stdout",
     "output_type": "stream",
     "text": [
      "<standalone_question>AWS Clean Rooms相比其他类似服务有什么优势?"
     ]
    },
    {
     "data": {
      "text/plain": [
       "AIMessage(content='<standalone_question>AWS Clean Rooms相比其他类似服务有什么优势?')"
      ]
     },
     "execution_count": 40,
     "metadata": {},
     "output_type": "execute_result"
    }
   ],
   "source": [
    "llm_sonnet.invoke(prompt)"
   ]
  },
  {
   "cell_type": "code",
   "execution_count": null,
   "metadata": {},
   "outputs": [],
   "source": []
  }
 ],
 "metadata": {
  "kernelspec": {
   "display_name": "pyautogen",
   "language": "python",
   "name": "python3"
  },
  "language_info": {
   "codemirror_mode": {
    "name": "ipython",
    "version": 3
   },
   "file_extension": ".py",
   "mimetype": "text/x-python",
   "name": "python",
   "nbconvert_exporter": "python",
   "pygments_lexer": "ipython3",
   "version": "3.10.13"
  }
 },
 "nbformat": 4,
 "nbformat_minor": 2
}
