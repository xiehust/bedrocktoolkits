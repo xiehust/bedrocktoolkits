{
 "cells": [
  {
   "cell_type": "code",
   "execution_count": 1,
   "id": "4e1e4879-e769-4793-8a0d-691dee33d687",
   "metadata": {},
   "outputs": [
    {
     "name": "stdout",
     "output_type": "stream",
     "text": [
      "sagemaker.config INFO - Not applying SDK defaults from location: /etc/xdg/sagemaker/config.yaml\n",
      "sagemaker.config INFO - Not applying SDK defaults from location: /home/sagemaker-user/.config/sagemaker/config.yaml\n"
     ]
    }
   ],
   "source": [
    "import sagemaker\n",
    "from sagemaker import image_uris\n",
    "import boto3\n",
    "from pathlib import Path"
   ]
  },
  {
   "cell_type": "code",
   "execution_count": 2,
   "id": "91bbaf20-9960-4516-bdd3-06adc711d909",
   "metadata": {},
   "outputs": [],
   "source": [
    "!pip install huggingface-hub -Uqq "
   ]
  },
  {
   "cell_type": "code",
   "execution_count": 14,
   "id": "ce69518f-260a-4b23-9bfb-5c0ba796b0b4",
   "metadata": {},
   "outputs": [],
   "source": [
    "from huggingface_hub import snapshot_download\n",
    "from pathlib import Path\n",
    "local_model_path = Path(\"./OpenMath-Mistral-7B-v0.1-hf\")"
   ]
  },
  {
   "cell_type": "code",
   "execution_count": 15,
   "id": "f67f2c26-4232-42a1-b22d-6727f5542d32",
   "metadata": {},
   "outputs": [
    {
     "data": {
      "application/vnd.jupyter.widget-view+json": {
       "model_id": "808dd26bc535464795c4a21618b05c35",
       "version_major": 2,
       "version_minor": 0
      },
      "text/plain": [
       "Fetching 11 files:   0%|          | 0/11 [00:00<?, ?it/s]"
      ]
     },
     "metadata": {},
     "output_type": "display_data"
    },
    {
     "data": {
      "application/vnd.jupyter.widget-view+json": {
       "model_id": "8a2c08cc411a4678a45bdfe4b24c310f",
       "version_major": 2,
       "version_minor": 0
      },
      "text/plain": [
       "model.safetensors.index.json:   0%|          | 0.00/23.9k [00:00<?, ?B/s]"
      ]
     },
     "metadata": {},
     "output_type": "display_data"
    },
    {
     "data": {
      "application/vnd.jupyter.widget-view+json": {
       "model_id": "d588e335ff4f425989368d01244026fb",
       "version_major": 2,
       "version_minor": 0
      },
      "text/plain": [
       "config.json:   0%|          | 0.00/644 [00:00<?, ?B/s]"
      ]
     },
     "metadata": {},
     "output_type": "display_data"
    },
    {
     "data": {
      "application/vnd.jupyter.widget-view+json": {
       "model_id": "9b89d660213e4a5fa901250f3674b3d9",
       "version_major": 2,
       "version_minor": 0
      },
      "text/plain": [
       ".gitattributes:   0%|          | 0.00/1.52k [00:00<?, ?B/s]"
      ]
     },
     "metadata": {},
     "output_type": "display_data"
    },
    {
     "data": {
      "application/vnd.jupyter.widget-view+json": {
       "model_id": "1f6cf958d21f4199bc416e1dd39a55c6",
       "version_major": 2,
       "version_minor": 0
      },
      "text/plain": [
       "special_tokens_map.json:   0%|          | 0.00/72.0 [00:00<?, ?B/s]"
      ]
     },
     "metadata": {},
     "output_type": "display_data"
    },
    {
     "data": {
      "application/vnd.jupyter.widget-view+json": {
       "model_id": "06dff43e6767449a88d78b98365c2bab",
       "version_major": 2,
       "version_minor": 0
      },
      "text/plain": [
       "generation_config.json:   0%|          | 0.00/111 [00:00<?, ?B/s]"
      ]
     },
     "metadata": {},
     "output_type": "display_data"
    },
    {
     "data": {
      "application/vnd.jupyter.widget-view+json": {
       "model_id": "00bbd36595534ffeb2430c761980ec85",
       "version_major": 2,
       "version_minor": 0
      },
      "text/plain": [
       "tokenizer_config.json:   0%|          | 0.00/967 [00:00<?, ?B/s]"
      ]
     },
     "metadata": {},
     "output_type": "display_data"
    },
    {
     "data": {
      "application/vnd.jupyter.widget-view+json": {
       "model_id": "b172b41efea54adf82e90bc3c4129af1",
       "version_major": 2,
       "version_minor": 0
      },
      "text/plain": [
       "tokenizer.model:   0%|          | 0.00/493k [00:00<?, ?B/s]"
      ]
     },
     "metadata": {},
     "output_type": "display_data"
    },
    {
     "data": {
      "application/vnd.jupyter.widget-view+json": {
       "model_id": "88bdef761a8147e590b16fa51b6fc746",
       "version_major": 2,
       "version_minor": 0
      },
      "text/plain": [
       "README.md:   0%|          | 0.00/5.54k [00:00<?, ?B/s]"
      ]
     },
     "metadata": {},
     "output_type": "display_data"
    },
    {
     "data": {
      "application/vnd.jupyter.widget-view+json": {
       "model_id": "3ccdf7347307423cbebc4434db9bcadb",
       "version_major": 2,
       "version_minor": 0
      },
      "text/plain": [
       "model-00001-of-00002.safetensors:   0%|          | 0.00/9.94G [00:00<?, ?B/s]"
      ]
     },
     "metadata": {},
     "output_type": "display_data"
    },
    {
     "data": {
      "application/vnd.jupyter.widget-view+json": {
       "model_id": "ee346628c02543c799187ff69cfe0886",
       "version_major": 2,
       "version_minor": 0
      },
      "text/plain": [
       "tokenizer.json:   0%|          | 0.00/1.80M [00:00<?, ?B/s]"
      ]
     },
     "metadata": {},
     "output_type": "display_data"
    },
    {
     "data": {
      "application/vnd.jupyter.widget-view+json": {
       "model_id": "78f34e1198194c5bad6540364a8493dc",
       "version_major": 2,
       "version_minor": 0
      },
      "text/plain": [
       "model-00002-of-00002.safetensors:   0%|          | 0.00/4.54G [00:00<?, ?B/s]"
      ]
     },
     "metadata": {},
     "output_type": "display_data"
    },
    {
     "data": {
      "text/plain": [
       "'OpenMath-Mistral-7B-v0.1-hf/models--nvidia--OpenMath-Mistral-7B-v0.1-hf/snapshots/e378a80b22387a5a30ccbb9feaf3e9b0bc3cfc57'"
      ]
     },
     "execution_count": 15,
     "metadata": {},
     "output_type": "execute_result"
    }
   ],
   "source": [
    "local_model_path.mkdir(exist_ok=True)\n",
    "model_name = \"nvidia/OpenMath-Mistral-7B-v0.1-hf\"\n",
    "# commit_hash = \"0496919ed797ead809f01c373f1a54251b666690\"\n",
    "snapshot_download(repo_id=model_name,  cache_dir=local_model_path)"
   ]
  },
  {
   "cell_type": "code",
   "execution_count": 16,
   "id": "96b4c2fb-68ca-436b-a7d8-40c6b230e4dd",
   "metadata": {},
   "outputs": [],
   "source": [
    "import sagemaker\n",
    "from sagemaker import image_uris\n",
    "import boto3\n",
    "import os\n",
    "import time\n",
    "import json\n",
    "\n",
    "role = sagemaker.get_execution_role()  # execution role for the endpoint\n",
    "sess = sagemaker.session.Session()  # sagemaker session for interacting with different AWS APIs\n",
    "bucket = sess.default_bucket() "
   ]
  },
  {
   "cell_type": "code",
   "execution_count": 17,
   "id": "410faac8-a1c1-4260-8236-0c72c6f87942",
   "metadata": {},
   "outputs": [
    {
     "name": "stdout",
     "output_type": "stream",
     "text": [
      "s3_code_prefix: LLM-RAG/workshop/OpenMath-Mistral-7B-v0.1-hf\n",
      "model_snapshot_path: OpenMath-Mistral-7B-v0.1-hf/models--nvidia--OpenMath-Mistral-7B-v0.1-hf/snapshots/e378a80b22387a5a30ccbb9feaf3e9b0bc3cfc57\n"
     ]
    }
   ],
   "source": [
    "s3_model_prefix = \"LLM-RAG/workshop/OpenMath-Mistral-7B-v0.1-hf\"  # folder where model checkpoint will go\n",
    "model_snapshot_path = list(local_model_path.glob(\"**/snapshots/*\"))[0]\n",
    "s3_code_prefix = \"LLM-RAG/workshop/OpenMath-Mistral-7B-v0.1-hf\"\n",
    "print(f\"s3_code_prefix: {s3_code_prefix}\")\n",
    "print(f\"model_snapshot_path: {model_snapshot_path}\")"
   ]
  },
  {
   "cell_type": "code",
   "execution_count": 18,
   "id": "fb4c2805-b30e-4997-bee9-6a565bd106c1",
   "metadata": {},
   "outputs": [
    {
     "name": "stdout",
     "output_type": "stream",
     "text": [
      "upload: OpenMath-Mistral-7B-v0.1-hf/models--nvidia--OpenMath-Mistral-7B-v0.1-hf/snapshots/e378a80b22387a5a30ccbb9feaf3e9b0bc3cfc57/generation_config.json to s3://sagemaker-us-east-1-434444145045/LLM-RAG/workshop/OpenMath-Mistral-7B-v0.1-hf/generation_config.json\n",
      "upload: OpenMath-Mistral-7B-v0.1-hf/models--nvidia--OpenMath-Mistral-7B-v0.1-hf/snapshots/e378a80b22387a5a30ccbb9feaf3e9b0bc3cfc57/.gitattributes to s3://sagemaker-us-east-1-434444145045/LLM-RAG/workshop/OpenMath-Mistral-7B-v0.1-hf/.gitattributes\n",
      "upload: OpenMath-Mistral-7B-v0.1-hf/models--nvidia--OpenMath-Mistral-7B-v0.1-hf/snapshots/e378a80b22387a5a30ccbb9feaf3e9b0bc3cfc57/config.json to s3://sagemaker-us-east-1-434444145045/LLM-RAG/workshop/OpenMath-Mistral-7B-v0.1-hf/config.json\n",
      "upload: OpenMath-Mistral-7B-v0.1-hf/models--nvidia--OpenMath-Mistral-7B-v0.1-hf/snapshots/e378a80b22387a5a30ccbb9feaf3e9b0bc3cfc57/README.md to s3://sagemaker-us-east-1-434444145045/LLM-RAG/workshop/OpenMath-Mistral-7B-v0.1-hf/README.md\n",
      "upload: OpenMath-Mistral-7B-v0.1-hf/models--nvidia--OpenMath-Mistral-7B-v0.1-hf/snapshots/e378a80b22387a5a30ccbb9feaf3e9b0bc3cfc57/special_tokens_map.json to s3://sagemaker-us-east-1-434444145045/LLM-RAG/workshop/OpenMath-Mistral-7B-v0.1-hf/special_tokens_map.json\n",
      "upload: OpenMath-Mistral-7B-v0.1-hf/models--nvidia--OpenMath-Mistral-7B-v0.1-hf/snapshots/e378a80b22387a5a30ccbb9feaf3e9b0bc3cfc57/model.safetensors.index.json to s3://sagemaker-us-east-1-434444145045/LLM-RAG/workshop/OpenMath-Mistral-7B-v0.1-hf/model.safetensors.index.json\n",
      "upload: OpenMath-Mistral-7B-v0.1-hf/models--nvidia--OpenMath-Mistral-7B-v0.1-hf/snapshots/e378a80b22387a5a30ccbb9feaf3e9b0bc3cfc57/tokenizer_config.json to s3://sagemaker-us-east-1-434444145045/LLM-RAG/workshop/OpenMath-Mistral-7B-v0.1-hf/tokenizer_config.json\n",
      "upload: OpenMath-Mistral-7B-v0.1-hf/models--nvidia--OpenMath-Mistral-7B-v0.1-hf/snapshots/e378a80b22387a5a30ccbb9feaf3e9b0bc3cfc57/tokenizer.model to s3://sagemaker-us-east-1-434444145045/LLM-RAG/workshop/OpenMath-Mistral-7B-v0.1-hf/tokenizer.model\n",
      "upload: OpenMath-Mistral-7B-v0.1-hf/models--nvidia--OpenMath-Mistral-7B-v0.1-hf/snapshots/e378a80b22387a5a30ccbb9feaf3e9b0bc3cfc57/tokenizer.json to s3://sagemaker-us-east-1-434444145045/LLM-RAG/workshop/OpenMath-Mistral-7B-v0.1-hf/tokenizer.json\n",
      "upload: OpenMath-Mistral-7B-v0.1-hf/models--nvidia--OpenMath-Mistral-7B-v0.1-hf/snapshots/e378a80b22387a5a30ccbb9feaf3e9b0bc3cfc57/model-00002-of-00002.safetensors to s3://sagemaker-us-east-1-434444145045/LLM-RAG/workshop/OpenMath-Mistral-7B-v0.1-hf/model-00002-of-00002.safetensors\n",
      "upload: OpenMath-Mistral-7B-v0.1-hf/models--nvidia--OpenMath-Mistral-7B-v0.1-hf/snapshots/e378a80b22387a5a30ccbb9feaf3e9b0bc3cfc57/model-00001-of-00002.safetensors to s3://sagemaker-us-east-1-434444145045/LLM-RAG/workshop/OpenMath-Mistral-7B-v0.1-hf/model-00001-of-00002.safetensors\n"
     ]
    }
   ],
   "source": [
    "!aws s3 cp --recursive {model_snapshot_path} s3://{bucket}/{s3_model_prefix}"
   ]
  },
  {
   "cell_type": "code",
   "execution_count": null,
   "id": "4f255b3a-267c-4104-b4c2-39f47724b6bf",
   "metadata": {},
   "outputs": [],
   "source": []
  }
 ],
 "metadata": {
  "kernelspec": {
   "display_name": "Python 3 (ipykernel)",
   "language": "python",
   "name": "python3"
  },
  "language_info": {
   "codemirror_mode": {
    "name": "ipython",
    "version": 3
   },
   "file_extension": ".py",
   "mimetype": "text/x-python",
   "name": "python",
   "nbconvert_exporter": "python",
   "pygments_lexer": "ipython3",
   "version": "3.10.14"
  }
 },
 "nbformat": 4,
 "nbformat_minor": 5
}
