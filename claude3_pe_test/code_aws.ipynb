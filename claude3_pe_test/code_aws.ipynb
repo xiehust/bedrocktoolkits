{
 "cells": [
  {
   "cell_type": "code",
   "execution_count": 2,
   "id": "0b945af7",
   "metadata": {},
   "outputs": [],
   "source": [
    "!pip install boto3 langchain langchain_community -Uq\n"
   ]
  },
  {
   "cell_type": "code",
   "execution_count": 1,
   "id": "8d077ab9",
   "metadata": {},
   "outputs": [],
   "source": [
    "\n",
    "import boto3\n",
    "import random\n",
    "import dotenv\n",
    "#load env from .env\n",
    "dotenv.load_dotenv()\n",
    "bedrock_runtime = boto3.client('bedrock-runtime')"
   ]
  },
  {
   "cell_type": "code",
   "execution_count": 2,
   "id": "467cfab9",
   "metadata": {},
   "outputs": [],
   "source": [
    "\n",
    "from langchain_community.chat_models import BedrockChat\n",
    "from langchain_core.messages import HumanMessage,AIMessage\n",
    "from langchain.callbacks.streaming_stdout import StreamingStdOutCallbackHandler\n",
    "from langchain_core.prompts import ChatPromptTemplate,MessagesPlaceholder,HumanMessagePromptTemplate\n",
    "from langchain_core.output_parsers import StrOutputParser\n",
    "from langchain_openai import ChatOpenAI"
   ]
  },
  {
   "cell_type": "code",
   "execution_count": 3,
   "id": "d5ccfff4",
   "metadata": {},
   "outputs": [
    {
     "name": "stderr",
     "output_type": "stream",
     "text": [
      "/Users/chuanxie/opt/anaconda3/envs/pyautogen/lib/python3.10/site-packages/langchain_core/_api/deprecation.py:119: LangChainDeprecationWarning: The class `BedrockChat` was deprecated in LangChain 0.0.34 and will be removed in 0.3. An updated version of the class exists in the langchain-aws package and should be used instead. To use it run `pip install -U langchain-aws` and import as `from langchain_aws import ChatBedrock`.\n",
      "  warn_deprecated(\n"
     ]
    }
   ],
   "source": [
    "\n",
    "llm_sonnet = BedrockChat(model_id=\"anthropic.claude-3-sonnet-20240229-v1:0\",\n",
    "                  model_kwargs={\"temperature\": 0.2,\n",
    "                                \"top_k\":250,\n",
    "                                \"max_tokens\": 1024,\n",
    "                                \"top_p\":0.95,\n",
    "                                # \"stop_sequences\":['</response>']\n",
    "                               },\n",
    "                  streaming=False,callbacks=[StreamingStdOutCallbackHandler()])\n",
    "\n",
    "llm_haiku = BedrockChat(model_id=\"anthropic.claude-3-haiku-20240307-v1:0\",\n",
    "                  model_kwargs={\"temperature\": 0.2,\n",
    "                                \"top_k\":250,\n",
    "                                \"max_tokens\": 1024,\n",
    "                                \"top_p\":0.5,\n",
    "                                # \"stop_sequences\":['</response>']\n",
    "                               },\n",
    "                  streaming=False,callbacks=[StreamingStdOutCallbackHandler()])\n",
    "\n",
    "llm_gpt= ChatOpenAI( model='gpt-3.5-turbo',\n",
    "                     temperature= 0.2,\n",
    "                    )\n",
    "\n",
    "llm_gpt4= ChatOpenAI( model='gpt-4-0125-preview',\n",
    "                     temperature= 0.2,\n",
    "                    )"
   ]
  },
  {
   "cell_type": "code",
   "execution_count": 4,
   "id": "5bf82b31",
   "metadata": {},
   "outputs": [],
   "source": [
    "prompt = \\\n",
    "\"\"\"You are an very experienced software developer.\n",
    "You will be provided with code snippet the following format:\n",
    "<fim_prefix>starting code or comment</fim_prefix>\n",
    "<fim_middle>code or commentto be completed </fim_middle>\n",
    "<fim_suffix>ending code or comment</fim_suffix>\n",
    "\n",
    "You need to complete the code or  explanation comment in the missing section between <fim_prefix> and <fim_suffix>. \n",
    "For examples:\n",
    "<example_1>\n",
    "Given the input: \n",
    "<fim_prefix>\n",
    "# test.py\n",
    "import random\n",
    "def generate_id():\n",
    "  \n",
    "</fim_prefix>\n",
    "<fim_suffix>\n",
    "  return id\n",
    "</fim_suffix>\n",
    "\n",
    "The missing part is:\n",
    "<fim_middle>\n",
    "   id = \"id-\"+str(random.randint(1000,9999))\n",
    "</fim_middle>\n",
    "</example_1>\n",
    "\n",
    "<example_2>\n",
    "Given the input: \n",
    "<fim_prefix>\n",
    "# test.cs\n",
    "//create a funtion to generate random Id\n",
    "public class IdGenerator\n",
    "{{\n",
    "    public static string GenerateId()\n",
    "    {{\n",
    "        var random = new Random();\n",
    "</fim_prefix>      \n",
    "<fim_suffix>\n",
    "        return id.ToString();\n",
    "    }}\n",
    "}}\n",
    "</fim_suffix>\n",
    "\n",
    "The missing part is:\n",
    "<fim_middle>\n",
    "    var id = random.Next(100000, 999999);\n",
    "</fim_middle>\n",
    "</example_2>\n",
    "\n",
    "<example_3>\n",
    "Given the input: \n",
    "<fim_prefix>\n",
    "# test.js\n",
    "//创建一个函数随机生成一个id字符串\n",
    "function generateUniqueId(){{\n",
    "    const timestamp = Date.now();\n",
    "  const randomNumber = Math.random();\n",
    "  //将随机数\n",
    "</<fim_prefix>\n",
    "<fim_suffix>\n",
    "     const hexadecimalString = randomNumber.toString(16);\n",
    "  return `id-${{timestamp}}-${{hexadecimalString}}`;\n",
    "}}\n",
    "</fim_suffix>\n",
    "\n",
    "The missing part is:\n",
    "<fim_middle>\n",
    "转成十六进制字符串\n",
    "</fim_middle>\n",
    "</example_3>\n",
    "\n",
    "<example_4>\n",
    "<fim_prefix>\n",
    "# test.go\n",
    "func max(num1, num2 int) int {{\n",
    "   /* 声明局部变量 */\n",
    "   var result int\n",
    "   if (num1 > num2) {{\n",
    "      result = num1\n",
    "      }} else {{\n",
    "</fim_prefix>\n",
    "<fim_suffix>\n",
    "   return result\n",
    "}}\n",
    "</fim_suffix>\n",
    "The missing part is:\n",
    "<fim_middle>\n",
    "    result = num2\n",
    "   }}\n",
    "</fim_middle>\n",
    "</example_4>\n",
    "\n",
    "\n",
    "Given the input of code snippet writing in {code_lang}: \n",
    "<fim_prefix>{prefix}</fim_prefix>\n",
    "<fim_middle>to be completed</fim_middle>\n",
    "<fim_suffix>{suffix}</fim_suffix>\n",
    "\n",
    "Your task is to consider the full snippet of code in <fim_prefix> and <fim_suffix>, and complete the missing part between them.\n",
    "the missing part is the part between <fim_middle> and </fim_middle>. and it either be code snippet or explanation comment.\n",
    "You must think hard to decide whether it is code snippet or explanation comment.\n",
    "if it is code snippet, you must complete the code snippet.\n",
    "if it is explanation comment, you must complete the explanation comment as the same language as the comment in prefix section\n",
    "Skip the preamble, go straight into the answer.\n",
    "Maker sure there is no syntax error.\n",
    "The missing part is:\n",
    "<fim_middle>\n",
    "\"\"\""
   ]
  },
  {
   "cell_type": "code",
   "execution_count": 5,
   "id": "13a84e91",
   "metadata": {},
   "outputs": [],
   "source": [
    "prompt_template = ChatPromptTemplate.from_template(prompt)"
   ]
  },
  {
   "cell_type": "code",
   "execution_count": 6,
   "id": "ed9bce8b",
   "metadata": {},
   "outputs": [],
   "source": [
    "prefix = \"\"\"// AssetBundleGeneratorV2.cs\n",
    "using System;\n",
    "using System.Collections;\n",
    "using System.Collections.Generic;\n",
    "using UnityEditor;\n",
    "using UnityEngine;\n",
    "using System.IO;\n",
    "using System.Linq;\n",
    "using Newtonsoft.Json;\n",
    "using UnityEditor.Build.Content;\n",
    "using UnityEditor.Build.Pipeline;\n",
    "using UnityEditor.Build.Pipeline.Interfaces;\n",
    "using UnityEngine.Build.Pipeline;\n",
    "using UnityEditor.Build.Pipeline.Tasks;\n",
    "// using UnityEditor.AddressableAssets.Build.BuildPipelineTasks;\n",
    "using UnityEngine.Networking;\n",
    "using BuildCompression = UnityEngine.BuildCompression;\n",
    "\n",
    "namespace NexgenDragon\n",
    "{\n",
    "\tpublic partial class AssetBundleGeneratorV2 : AssetBundleGenerator\n",
    "\t{\n",
    "\t\tpublic static string OldBundlePath = \"ArtData/OldBundles\";\n",
    "\t\tpublic static int gHashLen = \"d2e9405be3d60bbd575c97e8f33d\".Length;\n",
    "\n",
    "\t\tpublic static bool miniMode = false;\n",
    "\t\t//\tpublic static readonly string ASSETS_PATH_CONFIG_FILE = \"assets_path_{0}.json\";\n",
    "\t\t\n",
    "\t\tclass CustomBuildParameters : BundleBuildParameters\n",
    "\t\t{\n",
    "\t\t\tpublic Dictionary<string, BuildCompression> PerBundleCompression { get; set; }\n",
    "\n",
    "\t\t\tpublic CustomBuildParameters(BuildTarget target, BuildTargetGroup group, string outputFolder) : base(target, group, outputFolder)\n",
    "\t\t\t{\n",
    "\t\t\t\tPerBundleCompression\n",
    "\"\"\"\n",
    "\n",
    "suffix = \"\"\"\n",
    "\t\t// Override the GetCompressionForIdentifier method with new logic\n",
    "\t\t\tpublic override BuildCompression GetCompressionForIdentifier(string identifier)\n",
    "\t\t\t{\n",
    "\t\t\t\tBuildCompression value;\n",
    "\t\t\t\tif (PerBundleCompression.TryGetValue(identifier, out value))\n",
    "\t\t\t\t\treturn value;\n",
    "\t\t\t\treturn BundleCompression;\n",
    "\t\t\t}\n",
    "\t\t}\n",
    "\n",
    "\t\tprivate static void CompressBundles(string bundleType)\n",
    "\t\t{\n",
    "\t\t\tvar bundlePath = string.Format(AssetBundleOutputPath, bundleType);\n",
    "\t\t\t\n",
    "\t\t\tvar files = Directory.GetFiles(bundlePath);\n",
    "\t\t\tforeach (var bundle in files)\n",
    "\t\t\t{\n",
    "\t\t\t\tif (AssetConfig.BundleNeedDecompress(bundle) && !bundle.EndsWith(\".meta\"))\n",
    "\t\t\t\t{\n",
    "\t\t\t\t\tvar tmpName = bundle + \"_temp\";\n",
    "\t\t\t\t\tFile.Move(bundle,tmpName);\n",
    "\t\t\t\t\tvar ret = LzmaLib.encodeLzmaFile(tmpName, bundle, 9, 20);\n",
    "\t\t\t\t\tFile.Delete(tmpName);\n",
    "\t\t\t\t\tif (ret != 0)\n",
    "\t\t\t\t\t{\n",
    "\t\t\t\t\t\tNLogger.Error(\"bundle {0} compress error happened\",bundle);\n",
    "\t\t\t\t\t\treturn;\n",
    "\t\t\t\t\t}\n",
    "\t\t\t\t}\n",
    "\t\t\t}\n",
    "\t\t}\n",
    "\n",
    "\t\tpublic static void DeleteDirectory(string target_dir) {\n",
    "            string[] files = Directory.GetFiles(target_dir);\n",
    "            string[] dirs = Directory.GetDirectories(target_dir);\n",
    "            foreach (string file in files) {\n",
    "                NLogger.Log(\"AssetBundleGeneratorV2.DeleteDirectory filename = {0}\", file);\n",
    "                File.SetAttributes(@file, FileAttributes.Normal);\n",
    "                File.Delete(file);\n",
    "            }\n",
    "            foreach (string dir in dirs) {\n",
    "                DeleteDirectory(dir);\n",
    "            }\n",
    "            Directory.Delete(target_dir, false);\n",
    "        }\n",
    "\t\t\n",
    "\t\t[MenuItem(\"NexgenDragon/AssetBundleToolV2/GenerateAssetBundleForAndroid\",false,800)]\n",
    "\t\tpublic static void GenerateAssetBundleForAndroidTool()\n",
    "\t\t{\n",
    "\t\t\tGenerateAssetBundleForAndroid();\n",
    "\t\t}\n",
    "\n",
    "        [MenuItem(\"NexgenDragon/AssetBundleToolV2/TestGenerateAssetBundleForAndroid\",false,801)]\n",
    "        public static void GenerateAssetBundleForAndroidTool2()\n",
    "        {\n",
    "\t        MoBuildReport.Init(\"1.0.0\");\n",
    "\t\t\tvar target = BuildTarget.Android;\n",
    "            AssetBundleOutputPath = ANDROID_BUNDLE_PATH;\n",
    "            var buildGroup = BuildPipeline.GetBuildTargetGroup(target);\n",
    "            // Construct the new parameters class\n",
    "            var buildParams = new CustomBuildParameters(target, buildGroup, GetAssetBundleFolderPath(BundleType.G));\n",
    "            AssetBundleGeneratorV2.miniMode = true;\n",
    "            var bundleBuilds = ProcessFolderBundleTag2.CollectBundle(target, buildParams);\n",
    "            \n",
    "            //use File Name addressableNames\n",
    "            _allAddressNames.Clear();\n",
    "            for (var i = 0; i < bundleBuilds.Length; i++)\n",
    "            {\n",
    "\t            bundleBuilds[i].addressableNames = GetAddressableNamesList(bundleBuilds[i].assetNames).ToArray();\n",
    "            }\n",
    "            var buildContent = new BundleBuildContent(bundleBuilds);\n",
    "            // Populate the bundle specific compression data\n",
    "            //static和缓存的bundle用lzma压缩\n",
    "            foreach (var build in bundleBuilds)\n",
    "            {\n",
    "\t            if (AssetConfig.BundleNeedDecompress(build.assetBundleName))\n",
    "\t            {\n",
    "\t\t            buildParams.PerBundleCompression.Add(build.assetBundleName,BuildCompression.Uncompressed);\n",
    "\t            }\n",
    "            }\n",
    "        }\n",
    "        public static void DeletePath(string fullPath)\n",
    "        {\n",
    "            string locationPathName = Path.GetFullPath(\".\") + \"/../../build/\";\n",
    "            if (Directory.Exists(fullPath))\n",
    "            {\n",
    "\t            Directory.Delete(fullPath, true);\n",
    "\t            return;\n",
    "#if UNITY_EDITOR_WIN\n",
    "                using var process = new System.Diagnostics.Process\n",
    "                {\n",
    "                    StartInfo = new System.Diagnostics.ProcessStartInfo\n",
    "                    {\n",
    "                        RedirectStandardOutput = true,\n",
    "                        UseShellExecute = false,\n",
    "                        CreateNoWindow = true,\n",
    "                        WindowStyle = System.Diagnostics.ProcessWindowStyle.Hidden,\n",
    "                        FileName = Path.Combine(locationPathName, \"../buildtool/delete.bat\"),\n",
    "                        Arguments = fullPath\n",
    "                    }\n",
    "\n",
    "                };\n",
    "                process.ErrorDataReceived += Process_ErrorDataReceived;\n",
    "                process.Start();\n",
    "                process.WaitForExit();             \n",
    "#else\n",
    "\t            Directory.Delete(fullPath, true);\n",
    "#endif\n",
    "            }\n",
    "        }\n",
    "\n",
    "        private static void Process_ErrorDataReceived(object sender, System.Diagnostics.DataReceivedEventArgs e)\n",
    "        {\n",
    "\t\t\tDebug.LogError(\"delete.bat error happened\");\n",
    "\t\t\tDebug.LogError(e.ToString());\n",
    "        }\n",
    "\n",
    "        public new static void GenerateAssetBundleForAndroid(string resVersion = \"0.0.0.0\")\n",
    "\t\t{\n",
    "\t\t\t\n",
    "#if UNITY_2020_2_OR_NEWER && !USE_SPRITE_ATLAS\n",
    "\t\t\tEditorSettings.spritePackerMode = SpritePackerMode.AlwaysOn;\n",
    "\t\t\tUnityEditor.Sprites.Packer.RebuildAtlasCacheIfNeeded(BuildTarget.Android, false);\n",
    "#endif\n",
    "\t\t\tstring bundlePath = Application.dataPath + \"/StreamingAssets/GameAssets/AssetBundle2\";\n",
    "\t\t\tDeletePath(bundlePath);\n",
    "\t\t\t\n",
    "\t\t\tAssetBundleOutputPath = ANDROID_BUNDLE_PATH;\n",
    "\t\t\t\n",
    "\t\t\tCompatibilityAssetBundleManifest m = BuildBundle(BuildTarget.Android);\n",
    "\t\t\t\n",
    "\t\t\tAppendExtension();\n",
    "\n",
    "\t\t\tMoveOtaToR();\n",
    "\n",
    "\t\t\tGenerateAssetBundleImplement(BundleType.R, m);\n",
    "\n",
    "\t\t\tMoveWwiseBankToG(\"Android\");\n",
    "\t\t\t\n",
    "\t\t\tMoveCustomBundleToG(\"Android\");\n",
    "\t\t\t\n",
    "\t\t\tGenerateAssetBundleImplement(BundleType.G, m);\n",
    "\n",
    "\t\t\t//强制使用旧版本bundle环节\n",
    "\t\t\tProcessCertainPrefabs(true);\n",
    "\n",
    "            AssetDatabase.Refresh();\n",
    "            OnBundleBuilt();\n",
    "        }\n",
    "\n",
    "\"\"\""
   ]
  },
  {
   "cell_type": "code",
   "execution_count": 7,
   "id": "9e4e9eec",
   "metadata": {},
   "outputs": [],
   "source": [
    "prefix = \"\"\"# test.py\n",
    "import random\n",
    "def test_print():\n",
    "    # 以下代码将打印出\n",
    "\"\"\"\n",
    "suffix = \"\"\"\n",
    "    ret = random.randint(1000,9999)\n",
    "    print(ret)\"\"\""
   ]
  },
  {
   "cell_type": "code",
   "execution_count": 8,
   "id": "44f48230",
   "metadata": {},
   "outputs": [],
   "source": [
    "prefix = \"\"\"// main.go\n",
    "resp, err := c.llm.CreateCompletions(ctx, completionReq)\"\"\"\n",
    "suffix = \"\"\"return \"\", err\n",
    "}\"\"\""
   ]
  },
  {
   "cell_type": "code",
   "execution_count": 9,
   "id": "027e6fe0",
   "metadata": {},
   "outputs": [],
   "source": [
    "from langchain_core.output_parsers.base import BaseOutputParser\n",
    "class CustOuputParser(BaseOutputParser[str]):  \n",
    "    \n",
    "    def parse(self, text: str) -> str:\n",
    "        cleaned_text = text.replace(\"<fim_middle>\",\"\")\n",
    "        return cleaned_text\n",
    "\n",
    "    @property\n",
    "    def _type(self) -> str:\n",
    "        return \"cust_output_parser\""
   ]
  },
  {
   "cell_type": "code",
   "execution_count": 10,
   "id": "c861af56",
   "metadata": {},
   "outputs": [],
   "source": [
    "output_parser = CustOuputParser()\n",
    "chain_haiku = prompt_template | llm_haiku.bind(stop=[\"</fim_middle>\"]) |output_parser\n",
    "chain_sonnet = prompt_template | llm_sonnet.bind(stop=[\"</fim_middle>\"]) |output_parser\n",
    "chain_gpt = prompt_template | llm_gpt.bind(stop=[\"</fim_middle>\"]) |output_parser\n",
    "chain_gpt4 = prompt_template | llm_gpt4.bind(stop=[\"</fim_middle>\"]) |output_parser"
   ]
  },
  {
   "cell_type": "code",
   "execution_count": 11,
   "id": "7638cd8a",
   "metadata": {},
   "outputs": [
    {
     "name": "stdout",
     "output_type": "stream",
     "text": [
      "if err != nil {\n",
      "    return \"\", err\n",
      "}\n",
      "return resp.Choices[0].Text, nil\n",
      "\n"
     ]
    }
   ],
   "source": [
    "resp_haiku= chain_haiku.invoke({\"code_lang\":\"go\",\"prefix\":prefix,\"suffix\":suffix})\n",
    "print(resp_haiku)"
   ]
  },
  {
   "cell_type": "code",
   "execution_count": 226,
   "id": "1a6ac0fa",
   "metadata": {},
   "outputs": [
    {
     "name": "stdout",
     "output_type": "stream",
     "text": [
      "// main.go\n",
      "resp, err := c.llm.CreateCompletions(ctx, completionReq)\n",
      "\n",
      "if err != nil {\n",
      "    return \"\", err\n",
      "}\n",
      "if resp.Choices == nil || len(resp.Choices) == 0 {\n",
      "    return \"\", fmt.Errorf(\"no completions generated\")\n",
      "}\n",
      "return resp.Choices[0].Text, nil\n",
      "\n",
      "return \"\", err\n",
      "}\n"
     ]
    }
   ],
   "source": [
    "print(prefix+'\\n'+resp_haiku+'\\n'+suffix)"
   ]
  },
  {
   "cell_type": "code",
   "execution_count": 227,
   "id": "3b54f68e",
   "metadata": {},
   "outputs": [
    {
     "name": "stdout",
     "output_type": "stream",
     "text": [
      "\n",
      "if err != nil {\n",
      "    return \"\", err\n",
      "}\n",
      "\n"
     ]
    }
   ],
   "source": [
    "resp_sonnet= chain_sonnet.invoke({\"code_lang\":\"go\",\"prefix\":prefix,\"suffix\":suffix})\n",
    "print(resp_sonnet)"
   ]
  },
  {
   "cell_type": "code",
   "execution_count": 228,
   "id": "c400814a",
   "metadata": {},
   "outputs": [
    {
     "name": "stdout",
     "output_type": "stream",
     "text": [
      "// main.go\n",
      "resp, err := c.llm.CreateCompletions(ctx, completionReq)\n",
      "\n",
      "if err != nil {\n",
      "    return \"\", err\n",
      "}\n",
      "\n",
      "return \"\", err\n",
      "}\n"
     ]
    }
   ],
   "source": [
    "print(prefix+'\\n'+resp_sonnet+'\\n'+suffix)"
   ]
  },
  {
   "cell_type": "code",
   "execution_count": 229,
   "id": "4f465a04",
   "metadata": {},
   "outputs": [
    {
     "name": "stdout",
     "output_type": "stream",
     "text": [
      "resp, err := c.llm.CreateCompletions(ctx, completionReq)\n",
      "if err != nil {\n",
      "    return \"\", err\n",
      "}\n",
      "return resp, nil\n",
      "\n"
     ]
    }
   ],
   "source": [
    "resp_gpt35= chain_gpt.invoke({\"code_lang\":\"go\",\"prefix\":prefix,\"suffix\":suffix})\n",
    "print(resp_gpt35)"
   ]
  },
  {
   "cell_type": "code",
   "execution_count": 230,
   "id": "0d524aa3",
   "metadata": {},
   "outputs": [
    {
     "name": "stdout",
     "output_type": "stream",
     "text": [
      "// main.go\n",
      "resp, err := c.llm.CreateCompletions(ctx, completionReq)\n",
      "resp, err := c.llm.CreateCompletions(ctx, completionReq)\n",
      "if err != nil {\n",
      "    return \"\", err\n",
      "}\n",
      "return resp, nil\n",
      "\n",
      "return \"\", err\n",
      "}\n"
     ]
    }
   ],
   "source": [
    "print(prefix+'\\n'+resp_gpt35+'\\n'+suffix)"
   ]
  },
  {
   "cell_type": "code",
   "execution_count": 231,
   "id": "b5878897",
   "metadata": {},
   "outputs": [
    {
     "name": "stdout",
     "output_type": "stream",
     "text": [
      "if err != nil {\n",
      "    return \"\", err\n",
      "}\n",
      "completion := string(resp.Data)\n",
      "return completion, nil\n",
      "\n"
     ]
    }
   ],
   "source": [
    "resp_gpt4= chain_gpt4.invoke({\"code_lang\":\"go\",\"prefix\":prefix,\"suffix\":suffix})\n",
    "print(resp_gpt4)"
   ]
  },
  {
   "cell_type": "code",
   "execution_count": 232,
   "id": "1a43cdd4",
   "metadata": {},
   "outputs": [
    {
     "name": "stdout",
     "output_type": "stream",
     "text": [
      "// main.go\n",
      "resp, err := c.llm.CreateCompletions(ctx, completionReq)\n",
      "if err != nil {\n",
      "    return \"\", err\n",
      "}\n",
      "completion := string(resp.Data)\n",
      "return completion, nil\n",
      "\n",
      "return \"\", err\n",
      "}\n"
     ]
    }
   ],
   "source": [
    "print(prefix+'\\n'+resp_gpt4+'\\n'+suffix)"
   ]
  },
  {
   "cell_type": "code",
   "execution_count": null,
   "id": "8292aa58",
   "metadata": {},
   "outputs": [],
   "source": []
  }
 ],
 "metadata": {
  "kernelspec": {
   "display_name": "Python 3 (ipykernel)",
   "language": "python",
   "name": "python3"
  },
  "language_info": {
   "codemirror_mode": {
    "name": "ipython",
    "version": 3
   },
   "file_extension": ".py",
   "mimetype": "text/x-python",
   "name": "python",
   "nbconvert_exporter": "python",
   "pygments_lexer": "ipython3",
   "version": "3.10.13"
  }
 },
 "nbformat": 4,
 "nbformat_minor": 5
}
