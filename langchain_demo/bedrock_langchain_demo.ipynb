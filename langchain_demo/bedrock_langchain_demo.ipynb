{
 "cells": [
  {
   "cell_type": "code",
   "execution_count": null,
   "metadata": {},
   "outputs": [],
   "source": [
    "!pip install boto3 langchain langchain_community -U"
   ]
  },
  {
   "cell_type": "code",
   "execution_count": 3,
   "metadata": {},
   "outputs": [],
   "source": [
    "import boto3"
   ]
  },
  {
   "cell_type": "code",
   "execution_count": 4,
   "metadata": {},
   "outputs": [],
   "source": [
    "from langchain_community.chat_models import BedrockChat\n",
    "from langchain_core.messages import HumanMessage,AIMessage\n",
    "from langchain.callbacks.streaming_stdout import StreamingStdOutCallbackHandler\n",
    "from langchain_core.prompts import ChatPromptTemplate,MessagesPlaceholder,HumanMessagePromptTemplate\n",
    "from langchain_core.output_parsers import StrOutputParser"
   ]
  },
  {
   "cell_type": "code",
   "execution_count": 5,
   "metadata": {},
   "outputs": [],
   "source": [
    "boto3_bedrock = boto3.client(\n",
    "    service_name=\"bedrock-runtime\",\n",
    "    region_name='us-east-1'\n",
    ")"
   ]
  },
  {
   "cell_type": "code",
   "execution_count": 6,
   "metadata": {},
   "outputs": [],
   "source": [
    "llm_sonnet = BedrockChat(model_id=\"anthropic.claude-3-sonnet-20240229-v1:0\",\n",
    "                client = boto3_bedrock,\n",
    "                  model_kwargs={\"temperature\": 0,\n",
    "                                \"top_k\":10,\n",
    "                                \"max_tokens\": 1024,\n",
    "                                \"top_p\":0.5,\n",
    "                                \"stop_sequences\":['</standalone_question>']\n",
    "                               },\n",
    "                  streaming=True,callbacks=[StreamingStdOutCallbackHandler()])"
   ]
  },
  {
   "cell_type": "code",
   "execution_count": 7,
   "metadata": {},
   "outputs": [],
   "source": [
    "prompt = \"Given the following conversation in <conversation></conversation>, and a follow up user question in <question></question>.\\\\n<conversation>\\\\nuser: aws clean room是什么？\\\\nAI: AWS Clean Rooms是一种安全的多方计算服务,允许不同组织在不共享原始数据的情况下,对彼此的数据进行联合分析。它采用差分隐私技术,确保数据隐私和安全。与其他类似服务相比,AWS Clean Rooms无需将数据移动到其他平台,可直接在AWS S3上进行分析。它还与AWS Data Exchange集成,方便寻找数据合作伙伴。AWS Clean Rooms将取代亚马逊广告的AMC服务,为更广泛的行业提供数据合作解决方案。\\\\n</conversation>\\\\n\\\\n<question>\\\\n他有什么优势？\\\\n</question>\\\\n\\\\nplease use the context in the chat conversation to rephrase the user question to be a standalone question, respond in the original language of user's question, don't translate the chat history and user question.\\\\nif you don't understand the user's question, or the question is not relevant to the conversation. please keep the orginal question.\\\\nSkip the preamble, don't explain, go straight into the answer. Please put the standalone question in <standalone_question> tag\\\\n\""
   ]
  },
  {
   "cell_type": "code",
   "execution_count": 8,
   "metadata": {},
   "outputs": [
    {
     "name": "stdout",
     "output_type": "stream",
     "text": [
      "<standalone_question>AWS Clean Rooms相比其他类似服务有什么优势?"
     ]
    },
    {
     "data": {
      "text/plain": [
       "AIMessage(content='<standalone_question>AWS Clean Rooms相比其他类似服务有什么优势?')"
      ]
     },
     "execution_count": 8,
     "metadata": {},
     "output_type": "execute_result"
    }
   ],
   "source": [
    "llm_sonnet.invoke(prompt)"
   ]
  },
  {
   "cell_type": "code",
   "execution_count": 10,
   "metadata": {},
   "outputs": [],
   "source": [
    "template = \"\"\"\n",
    "You are a helpful assistant\n",
    "Please answer users' question as possible as you can:\n",
    "User question: {question}\n",
    "\"\"\"\n"
   ]
  },
  {
   "cell_type": "code",
   "execution_count": 11,
   "metadata": {},
   "outputs": [],
   "source": [
    "output_parser = StrOutputParser()\n",
    "prompt_template = ChatPromptTemplate.from_template(template)"
   ]
  },
  {
   "cell_type": "code",
   "execution_count": 13,
   "metadata": {},
   "outputs": [],
   "source": [
    "chain = prompt_template | llm_sonnet |output_parser"
   ]
  },
  {
   "cell_type": "code",
   "execution_count": 14,
   "metadata": {},
   "outputs": [],
   "source": [
    "question = \"who is the director of Terminator 2?\""
   ]
  },
  {
   "cell_type": "code",
   "execution_count": 15,
   "metadata": {},
   "outputs": [
    {
     "name": "stdout",
     "output_type": "stream",
     "text": [
      "The director of Terminator 2: Judgment Day is James Cameron.\n",
      "\n",
      "Some additional details:\n",
      "\n",
      "- Terminator 2 was released in 1991 and was a sequel to the 1984 film The Terminator, which was also directed by James Cameron.\n",
      "\n",
      "- It starred Arnold Schwarzenegger as the Terminator character, along with Linda Hamilton, Edward Furlong, and Robert Patrick.\n",
      "\n",
      "- The film was a massive critical and commercial success, earning over $500 million at the box office against a $100 million budget.\n",
      "\n",
      "- It was groundbreaking for its special effects and action sequences, especially the liquid metal T-1000 villain played by Robert Patrick.\n",
      "\n",
      "- James Cameron co-wrote the screenplay along with William Wisher Jr. He won the Saturn Award for Best Director for the film.\n",
      "\n",
      "- Terminator 2 is considered one of the greatest and most influential sequels ever made, as well as one of the best science fiction/action films of all time.\n",
      "\n",
      "So in summary, the acclaimed director who helmed the blockbuster Terminator 2: Judgment Day was the Canadian filmmaker James Cameron."
     ]
    },
    {
     "data": {
      "text/plain": [
       "'The director of Terminator 2: Judgment Day is James Cameron.\\n\\nSome additional details:\\n\\n- Terminator 2 was released in 1991 and was a sequel to the 1984 film The Terminator, which was also directed by James Cameron.\\n\\n- It starred Arnold Schwarzenegger as the Terminator character, along with Linda Hamilton, Edward Furlong, and Robert Patrick.\\n\\n- The film was a massive critical and commercial success, earning over $500 million at the box office against a $100 million budget.\\n\\n- It was groundbreaking for its special effects and action sequences, especially the liquid metal T-1000 villain played by Robert Patrick.\\n\\n- James Cameron co-wrote the screenplay along with William Wisher Jr. He won the Saturn Award for Best Director for the film.\\n\\n- Terminator 2 is considered one of the greatest and most influential sequels ever made, as well as one of the best science fiction/action films of all time.\\n\\nSo in summary, the acclaimed director who helmed the blockbuster Terminator 2: Judgment Day was the Canadian filmmaker James Cameron.'"
      ]
     },
     "execution_count": 15,
     "metadata": {},
     "output_type": "execute_result"
    }
   ],
   "source": [
    "chain.invoke({\"question\":question})"
   ]
  },
  {
   "cell_type": "code",
   "execution_count": null,
   "metadata": {},
   "outputs": [],
   "source": []
  }
 ],
 "metadata": {
  "kernelspec": {
   "display_name": "pyautogen",
   "language": "python",
   "name": "python3"
  },
  "language_info": {
   "codemirror_mode": {
    "name": "ipython",
    "version": 3
   },
   "file_extension": ".py",
   "mimetype": "text/x-python",
   "name": "python",
   "nbconvert_exporter": "python",
   "pygments_lexer": "ipython3",
   "version": "3.10.13"
  }
 },
 "nbformat": 4,
 "nbformat_minor": 2
}
