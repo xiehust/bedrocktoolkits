{
 "cells": [
  {
   "cell_type": "code",
   "execution_count": 7,
   "metadata": {},
   "outputs": [
    {
     "name": "stdout",
     "output_type": "stream",
     "text": [
      "Looking in indexes: https://pypi.tuna.tsinghua.edu.cn/simple\n",
      "Requirement already satisfied: boto3 in /Users/chuanxie/opt/anaconda3/envs/pyautogen/lib/python3.10/site-packages (1.34.74)\n",
      "Collecting boto3\n",
      "  Using cached https://pypi.tuna.tsinghua.edu.cn/packages/07/0f/aa5b3ca9fa4bbb7db3e9150cc16269867ebbf245b67400aaba97ebbfede9/boto3-1.34.104-py3-none-any.whl (139 kB)\n",
      "Requirement already satisfied: langchain in /Users/chuanxie/opt/anaconda3/envs/pyautogen/lib/python3.10/site-packages (0.1.13)\n",
      "Collecting langchain\n",
      "  Using cached https://pypi.tuna.tsinghua.edu.cn/packages/4b/28/da40a6b12e7842a0c8b443f8cc5c6f59e49d7a9071cfad064b9639c6b044/langchain-0.1.20-py3-none-any.whl (1.0 MB)\n",
      "Requirement already satisfied: langchain_aws in /Users/chuanxie/opt/anaconda3/envs/pyautogen/lib/python3.10/site-packages (0.1.2)\n",
      "Collecting langchain_aws\n",
      "  Using cached https://pypi.tuna.tsinghua.edu.cn/packages/87/e0/57d1e6e2db78129b6148e5af00bb4d22bcd3d38af3eed802afc78355e5e3/langchain_aws-0.1.3-py3-none-any.whl (37 kB)\n",
      "Collecting botocore<1.35.0,>=1.34.104 (from boto3)\n",
      "  Using cached https://pypi.tuna.tsinghua.edu.cn/packages/aa/e0/7ec1a84a66c330fcc5a0c8604a12c5bd34802f5f6f8eda501cd3210767a8/botocore-1.34.104-py3-none-any.whl (12.2 MB)\n",
      "Requirement already satisfied: jmespath<2.0.0,>=0.7.1 in /Users/chuanxie/opt/anaconda3/envs/pyautogen/lib/python3.10/site-packages (from boto3) (0.10.0)\n",
      "Requirement already satisfied: s3transfer<0.11.0,>=0.10.0 in /Users/chuanxie/opt/anaconda3/envs/pyautogen/lib/python3.10/site-packages (from boto3) (0.10.1)\n",
      "Requirement already satisfied: PyYAML>=5.3 in /Users/chuanxie/opt/anaconda3/envs/pyautogen/lib/python3.10/site-packages (from langchain) (6.0.1)\n",
      "Requirement already satisfied: SQLAlchemy<3,>=1.4 in /Users/chuanxie/opt/anaconda3/envs/pyautogen/lib/python3.10/site-packages (from langchain) (2.0.23)\n",
      "Requirement already satisfied: aiohttp<4.0.0,>=3.8.3 in /Users/chuanxie/opt/anaconda3/envs/pyautogen/lib/python3.10/site-packages (from langchain) (3.9.3)\n",
      "Requirement already satisfied: async-timeout<5.0.0,>=4.0.0 in /Users/chuanxie/opt/anaconda3/envs/pyautogen/lib/python3.10/site-packages (from langchain) (4.0.3)\n",
      "Requirement already satisfied: dataclasses-json<0.7,>=0.5.7 in /Users/chuanxie/opt/anaconda3/envs/pyautogen/lib/python3.10/site-packages (from langchain) (0.5.14)\n",
      "Collecting langchain-community<0.1,>=0.0.38 (from langchain)\n",
      "  Using cached https://pypi.tuna.tsinghua.edu.cn/packages/1b/d3/1f4d1941ae5a627299c8ea052847b99ad6674b97b699d8a08fc4faf25d3e/langchain_community-0.0.38-py3-none-any.whl (2.0 MB)\n",
      "Collecting langchain-core<0.2.0,>=0.1.52 (from langchain)\n",
      "  Using cached https://pypi.tuna.tsinghua.edu.cn/packages/43/8b/48b7e6de9041d2b33d5108e154b82d1bd6c47cc68f0e44cb4fcdaccf5ec7/langchain_core-0.1.52-py3-none-any.whl (302 kB)\n",
      "Requirement already satisfied: langchain-text-splitters<0.1,>=0.0.1 in /Users/chuanxie/opt/anaconda3/envs/pyautogen/lib/python3.10/site-packages (from langchain) (0.0.1)\n",
      "Requirement already satisfied: langsmith<0.2.0,>=0.1.17 in /Users/chuanxie/opt/anaconda3/envs/pyautogen/lib/python3.10/site-packages (from langchain) (0.1.23)\n",
      "Requirement already satisfied: numpy<2,>=1 in /Users/chuanxie/opt/anaconda3/envs/pyautogen/lib/python3.10/site-packages (from langchain) (1.26.1)\n",
      "Requirement already satisfied: pydantic<3,>=1 in /Users/chuanxie/opt/anaconda3/envs/pyautogen/lib/python3.10/site-packages (from langchain) (2.6.1)\n",
      "Requirement already satisfied: requests<3,>=2 in /Users/chuanxie/opt/anaconda3/envs/pyautogen/lib/python3.10/site-packages (from langchain) (2.31.0)\n",
      "Requirement already satisfied: tenacity<9.0.0,>=8.1.0 in /Users/chuanxie/opt/anaconda3/envs/pyautogen/lib/python3.10/site-packages (from langchain) (8.2.3)\n",
      "Requirement already satisfied: aiosignal>=1.1.2 in /Users/chuanxie/opt/anaconda3/envs/pyautogen/lib/python3.10/site-packages (from aiohttp<4.0.0,>=3.8.3->langchain) (1.3.1)\n",
      "Requirement already satisfied: attrs>=17.3.0 in /Users/chuanxie/opt/anaconda3/envs/pyautogen/lib/python3.10/site-packages (from aiohttp<4.0.0,>=3.8.3->langchain) (23.1.0)\n",
      "Requirement already satisfied: frozenlist>=1.1.1 in /Users/chuanxie/opt/anaconda3/envs/pyautogen/lib/python3.10/site-packages (from aiohttp<4.0.0,>=3.8.3->langchain) (1.4.0)\n",
      "Requirement already satisfied: multidict<7.0,>=4.5 in /Users/chuanxie/opt/anaconda3/envs/pyautogen/lib/python3.10/site-packages (from aiohttp<4.0.0,>=3.8.3->langchain) (6.0.4)\n",
      "Requirement already satisfied: yarl<2.0,>=1.0 in /Users/chuanxie/opt/anaconda3/envs/pyautogen/lib/python3.10/site-packages (from aiohttp<4.0.0,>=3.8.3->langchain) (1.9.2)\n",
      "Requirement already satisfied: python-dateutil<3.0.0,>=2.1 in /Users/chuanxie/opt/anaconda3/envs/pyautogen/lib/python3.10/site-packages (from botocore<1.35.0,>=1.34.104->boto3) (2.8.2)\n",
      "Requirement already satisfied: urllib3!=2.2.0,<3,>=1.25.4 in /Users/chuanxie/opt/anaconda3/envs/pyautogen/lib/python3.10/site-packages (from botocore<1.35.0,>=1.34.104->boto3) (2.0.7)\n",
      "Requirement already satisfied: marshmallow<4.0.0,>=3.18.0 in /Users/chuanxie/opt/anaconda3/envs/pyautogen/lib/python3.10/site-packages (from dataclasses-json<0.7,>=0.5.7->langchain) (3.20.1)\n",
      "Requirement already satisfied: typing-inspect<1,>=0.4.0 in /Users/chuanxie/opt/anaconda3/envs/pyautogen/lib/python3.10/site-packages (from dataclasses-json<0.7,>=0.5.7->langchain) (0.9.0)\n",
      "Requirement already satisfied: jsonpatch<2.0,>=1.33 in /Users/chuanxie/opt/anaconda3/envs/pyautogen/lib/python3.10/site-packages (from langchain-core<0.2.0,>=0.1.52->langchain) (1.33)\n",
      "Requirement already satisfied: packaging<24.0,>=23.2 in /Users/chuanxie/opt/anaconda3/envs/pyautogen/lib/python3.10/site-packages (from langchain-core<0.2.0,>=0.1.52->langchain) (23.2)\n",
      "Requirement already satisfied: orjson<4.0.0,>=3.9.14 in /Users/chuanxie/opt/anaconda3/envs/pyautogen/lib/python3.10/site-packages (from langsmith<0.2.0,>=0.1.17->langchain) (3.10.1)\n",
      "Requirement already satisfied: annotated-types>=0.4.0 in /Users/chuanxie/opt/anaconda3/envs/pyautogen/lib/python3.10/site-packages (from pydantic<3,>=1->langchain) (0.6.0)\n",
      "Requirement already satisfied: pydantic-core==2.16.2 in /Users/chuanxie/opt/anaconda3/envs/pyautogen/lib/python3.10/site-packages (from pydantic<3,>=1->langchain) (2.16.2)\n",
      "Requirement already satisfied: typing-extensions>=4.6.1 in /Users/chuanxie/opt/anaconda3/envs/pyautogen/lib/python3.10/site-packages (from pydantic<3,>=1->langchain) (4.8.0)\n",
      "Requirement already satisfied: charset-normalizer<4,>=2 in /Users/chuanxie/opt/anaconda3/envs/pyautogen/lib/python3.10/site-packages (from requests<3,>=2->langchain) (3.3.2)\n",
      "Requirement already satisfied: idna<4,>=2.5 in /Users/chuanxie/opt/anaconda3/envs/pyautogen/lib/python3.10/site-packages (from requests<3,>=2->langchain) (3.4)\n",
      "Requirement already satisfied: certifi>=2017.4.17 in /Users/chuanxie/opt/anaconda3/envs/pyautogen/lib/python3.10/site-packages (from requests<3,>=2->langchain) (2023.7.22)\n",
      "Requirement already satisfied: greenlet!=0.4.17 in /Users/chuanxie/opt/anaconda3/envs/pyautogen/lib/python3.10/site-packages (from SQLAlchemy<3,>=1.4->langchain) (3.0.2)\n",
      "Requirement already satisfied: jsonpointer>=1.9 in /Users/chuanxie/opt/anaconda3/envs/pyautogen/lib/python3.10/site-packages (from jsonpatch<2.0,>=1.33->langchain-core<0.2.0,>=0.1.52->langchain) (2.4)\n",
      "Requirement already satisfied: six>=1.5 in /Users/chuanxie/opt/anaconda3/envs/pyautogen/lib/python3.10/site-packages (from python-dateutil<3.0.0,>=2.1->botocore<1.35.0,>=1.34.104->boto3) (1.16.0)\n",
      "Requirement already satisfied: mypy-extensions>=0.3.0 in /Users/chuanxie/opt/anaconda3/envs/pyautogen/lib/python3.10/site-packages (from typing-inspect<1,>=0.4.0->dataclasses-json<0.7,>=0.5.7->langchain) (1.0.0)\n",
      "Installing collected packages: botocore, langchain-core, boto3, langchain-community, langchain_aws, langchain\n",
      "  Attempting uninstall: botocore\n",
      "    Found existing installation: botocore 1.34.74\n",
      "    Uninstalling botocore-1.34.74:\n",
      "      Successfully uninstalled botocore-1.34.74\n",
      "  Attempting uninstall: langchain-core\n",
      "    Found existing installation: langchain-core 0.1.46\n",
      "    Uninstalling langchain-core-0.1.46:\n",
      "      Successfully uninstalled langchain-core-0.1.46\n",
      "  Attempting uninstall: boto3\n",
      "    Found existing installation: boto3 1.34.74\n",
      "    Uninstalling boto3-1.34.74:\n",
      "      Successfully uninstalled boto3-1.34.74\n",
      "  Attempting uninstall: langchain-community\n",
      "    Found existing installation: langchain-community 0.0.34\n",
      "    Uninstalling langchain-community-0.0.34:\n",
      "      Successfully uninstalled langchain-community-0.0.34\n",
      "  Attempting uninstall: langchain_aws\n",
      "    Found existing installation: langchain-aws 0.1.2\n",
      "    Uninstalling langchain-aws-0.1.2:\n",
      "      Successfully uninstalled langchain-aws-0.1.2\n",
      "  Attempting uninstall: langchain\n",
      "    Found existing installation: langchain 0.1.13\n",
      "    Uninstalling langchain-0.1.13:\n",
      "      Successfully uninstalled langchain-0.1.13\n",
      "\u001b[31mERROR: pip's dependency resolver does not currently take into account all the packages that are installed. This behaviour is the source of the following dependency conflicts.\n",
      "llama-index 0.8.69 requires urllib3<2, but you have urllib3 2.0.7 which is incompatible.\n",
      "trulens-eval 0.18.3 requires pydantic<2,>=1.10.7, but you have pydantic 2.6.1 which is incompatible.\u001b[0m\u001b[31m\n",
      "\u001b[0mSuccessfully installed boto3-1.34.104 botocore-1.34.104 langchain-0.1.20 langchain-community-0.0.38 langchain-core-0.1.52 langchain_aws-0.1.3\n"
     ]
    }
   ],
   "source": [
    "\n",
    "!pip install -U boto3 langchain langchain_aws -U -i https://pypi.tuna.tsinghua.edu.cn/simple"
   ]
  },
  {
   "cell_type": "code",
   "execution_count": 1,
   "metadata": {},
   "outputs": [],
   "source": [
    "import boto3"
   ]
  },
  {
   "cell_type": "code",
   "execution_count": 2,
   "metadata": {},
   "outputs": [],
   "source": [
    "from langchain_aws import ChatBedrock\n",
    "from langchain_core.messages import HumanMessage,AIMessage\n",
    "from langchain.callbacks.streaming_stdout import StreamingStdOutCallbackHandler\n",
    "from langchain_core.prompts import ChatPromptTemplate,MessagesPlaceholder,HumanMessagePromptTemplate\n",
    "from langchain_core.output_parsers import StrOutputParser"
   ]
  },
  {
   "cell_type": "code",
   "execution_count": 3,
   "metadata": {},
   "outputs": [],
   "source": [
    "boto3_bedrock = boto3.client(\n",
    "    service_name=\"bedrock-runtime\",\n",
    "    region_name='us-east-1'\n",
    ")"
   ]
  },
  {
   "cell_type": "code",
   "execution_count": 4,
   "metadata": {},
   "outputs": [],
   "source": [
    "llm_sonnet = ChatBedrock(model_id=\"anthropic.claude-3-sonnet-20240229-v1:0\",\n",
    "                client = boto3_bedrock,\n",
    "                  model_kwargs={\"temperature\": 0,\n",
    "                                \"top_k\":10,\n",
    "                                \"max_tokens\": 1024,\n",
    "                                \"top_p\":0.5,\n",
    "                                \"stop_sequences\":['</standalone_question>']\n",
    "                               },\n",
    "                  streaming=True,callbacks=[StreamingStdOutCallbackHandler()])"
   ]
  },
  {
   "cell_type": "code",
   "execution_count": 5,
   "metadata": {},
   "outputs": [],
   "source": [
    "llm_llama = ChatBedrock(model_id=\"meta.llama3-70b-instruct-v1:0\",\n",
    "                  model_kwargs={\"temperature\": 0.5,\n",
    "                                \"max_gen_len\": 1024,\n",
    "                                \"top_p\":0.9,\n",
    "                               },\n",
    "                  streaming=True,\n",
    "                  callbacks=[StreamingStdOutCallbackHandler()]\n",
    "                  )"
   ]
  },
  {
   "cell_type": "code",
   "execution_count": 6,
   "metadata": {},
   "outputs": [],
   "source": [
    "prompt = \"Given the following conversation in <conversation></conversation>, and a follow up user question in <question></question>.\\\\n<conversation>\\\\nuser: aws clean room是什么？\\\\nAI: AWS Clean Rooms是一种安全的多方计算服务,允许不同组织在不共享原始数据的情况下,对彼此的数据进行联合分析。它采用差分隐私技术,确保数据隐私和安全。与其他类似服务相比,AWS Clean Rooms无需将数据移动到其他平台,可直接在AWS S3上进行分析。它还与AWS Data Exchange集成,方便寻找数据合作伙伴。AWS Clean Rooms将取代亚马逊广告的AMC服务,为更广泛的行业提供数据合作解决方案。\\\\n</conversation>\\\\n\\\\n<question>\\\\n他有什么优势？\\\\n</question>\\\\n\\\\nplease use the context in the chat conversation to rephrase the user question to be a standalone question, respond in the original language of user's question, don't translate the chat history and user question.\\\\nif you don't understand the user's question, or the question is not relevant to the conversation. please keep the orginal question.\\\\nSkip the preamble, don't explain, go straight into the answer. Please put the standalone question in <standalone_question> tag\\\\n\""
   ]
  },
  {
   "cell_type": "code",
   "execution_count": 7,
   "metadata": {},
   "outputs": [
    {
     "name": "stdout",
     "output_type": "stream",
     "text": [
      " \n",
      "\n",
      "<standalone_question>什么是AWS Clean Rooms的优势？</standalone_question>\n",
      "\n",
      "它无需将数据移动到其他平台,可直接在AWS S3上进行分析。它还与AWS Data Exchange集成,方便寻找数据合作伙伴。"
     ]
    },
    {
     "data": {
      "text/plain": [
       "AIMessage(content=' \\n\\n<standalone_question>什么是AWS Clean Rooms的优势？</standalone_question>\\n\\n它无需将数据移动到其他平台,可直接在AWS S3上进行分析。它还与AWS Data Exchange集成,方便寻找数据合作伙伴。', additional_kwargs={'usage': {}}, response_metadata={'model_id': 'meta.llama3-70b-instruct-v1:0'}, id='run-dde4fa81-601e-4128-b295-dabcf6250f0d-0')"
      ]
     },
     "execution_count": 7,
     "metadata": {},
     "output_type": "execute_result"
    }
   ],
   "source": [
    "llm_llama.invoke(prompt)"
   ]
  },
  {
   "cell_type": "code",
   "execution_count": null,
   "metadata": {},
   "outputs": [],
   "source": []
  },
  {
   "cell_type": "code",
   "execution_count": null,
   "metadata": {},
   "outputs": [],
   "source": []
  },
  {
   "cell_type": "code",
   "execution_count": 15,
   "metadata": {},
   "outputs": [],
   "source": [
    "template = \"\"\"\n",
    "You are a helpful assistant\n",
    "Please answer users' question as possible as you can:\n",
    "User question: {question}\n",
    "\"\"\"\n"
   ]
  },
  {
   "cell_type": "code",
   "execution_count": 16,
   "metadata": {},
   "outputs": [],
   "source": [
    "output_parser = StrOutputParser()\n",
    "prompt_template = ChatPromptTemplate.from_template(template)"
   ]
  },
  {
   "cell_type": "code",
   "execution_count": 17,
   "metadata": {},
   "outputs": [],
   "source": [
    "chain = prompt_template | llm_sonnet |output_parser"
   ]
  },
  {
   "cell_type": "code",
   "execution_count": 18,
   "metadata": {},
   "outputs": [],
   "source": [
    "question = \"who is the director of Terminator 2?\""
   ]
  },
  {
   "cell_type": "code",
   "execution_count": 19,
   "metadata": {},
   "outputs": [
    {
     "name": "stdout",
     "output_type": "stream",
     "text": [
      "The director of Terminator 2: Judgment Day is James Cameron.\n",
      "\n",
      "Some additional details:\n",
      "\n",
      "- Terminator 2 was released in 1991 and was a sequel to the 1984 film The Terminator, which was also directed by James Cameron.\n",
      "\n",
      "- It starred Arnold Schwarzenegger as the Terminator character, with Linda Hamilton and Edward Furlong in the other main roles.\n",
      "\n",
      "- The film was a massive critical and commercial success, earning over $500 million at the box office against a $100 million budget.\n",
      "\n",
      "- It was groundbreaking for its special effects, which still hold up incredibly well today thanks to the pioneering use of computer-generated imagery (CGI).\n",
      "\n",
      "- James Cameron co-wrote the screenplay along with William Wisher Jr. He is considered a master of the sci-fi and action genres.\n",
      "\n",
      "- Other famous films directed by James Cameron include Aliens, Titanic, and Avatar.\n",
      "\n",
      "So in summary, the acclaimed director who brought the iconic Terminator 2: Judgment Day to life was the visionary filmmaker James Cameron."
     ]
    },
    {
     "data": {
      "text/plain": [
       "'The director of Terminator 2: Judgment Day is James Cameron.\\n\\nSome additional details:\\n\\n- Terminator 2 was released in 1991 and was a sequel to the 1984 film The Terminator, which was also directed by James Cameron.\\n\\n- It starred Arnold Schwarzenegger as the Terminator character, with Linda Hamilton and Edward Furlong in the other main roles.\\n\\n- The film was a massive critical and commercial success, earning over $500 million at the box office against a $100 million budget.\\n\\n- It was groundbreaking for its special effects, which still hold up incredibly well today thanks to the pioneering use of computer-generated imagery (CGI).\\n\\n- James Cameron co-wrote the screenplay along with William Wisher Jr. He is considered a master of the sci-fi and action genres.\\n\\n- Other famous films directed by James Cameron include Aliens, Titanic, and Avatar.\\n\\nSo in summary, the acclaimed director who brought the iconic Terminator 2: Judgment Day to life was the visionary filmmaker James Cameron.'"
      ]
     },
     "execution_count": 19,
     "metadata": {},
     "output_type": "execute_result"
    }
   ],
   "source": [
    "chain.invoke({\"question\":question})"
   ]
  },
  {
   "cell_type": "code",
   "execution_count": null,
   "metadata": {},
   "outputs": [],
   "source": []
  }
 ],
 "metadata": {
  "kernelspec": {
   "display_name": "pyautogen",
   "language": "python",
   "name": "python3"
  },
  "language_info": {
   "codemirror_mode": {
    "name": "ipython",
    "version": 3
   },
   "file_extension": ".py",
   "mimetype": "text/x-python",
   "name": "python",
   "nbconvert_exporter": "python",
   "pygments_lexer": "ipython3",
   "version": "3.1.undefined"
  }
 },
 "nbformat": 4,
 "nbformat_minor": 2
}
