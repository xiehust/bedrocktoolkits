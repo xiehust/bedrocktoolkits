{
 "cells": [
  {
   "cell_type": "code",
   "execution_count": null,
   "metadata": {},
   "outputs": [],
   "source": [
    "\n",
    "!pip install -U boto3 langchain langchain_aws -U -i https://pypi.tuna.tsinghua.edu.cn/simple"
   ]
  },
  {
   "cell_type": "code",
   "execution_count": 8,
   "metadata": {},
   "outputs": [],
   "source": [
    "import boto3"
   ]
  },
  {
   "cell_type": "code",
   "execution_count": 76,
   "metadata": {},
   "outputs": [],
   "source": [
    "from langchain_aws import BedrockLLM\n",
    "from langchain_community.chat_models import BedrockChat\n",
    "from langchain_community.llms.sagemaker_endpoint import LLMContentHandler\n",
    "from langchain_community.llms import SagemakerEndpoint"
   ]
  },
  {
   "cell_type": "code",
   "execution_count": 15,
   "metadata": {},
   "outputs": [],
   "source": [
    "from langchain_aws import ChatBedrock\n",
    "from langchain_core.messages import HumanMessage,AIMessage\n",
    "from langchain.callbacks.streaming_stdout import StreamingStdOutCallbackHandler\n",
    "from langchain_core.prompts import ChatPromptTemplate,MessagesPlaceholder,HumanMessagePromptTemplate\n",
    "from langchain_core.output_parsers import StrOutputParser\n",
    "from langchain.prompts import PromptTemplate\n"
   ]
  },
  {
   "cell_type": "code",
   "execution_count": 27,
   "metadata": {},
   "outputs": [],
   "source": [
    "boto3_bedrock = boto3.client(\n",
    "    service_name=\"bedrock-runtime\",\n",
    "    region_name='us-east-1'\n",
    ")"
   ]
  },
  {
   "cell_type": "code",
   "execution_count": 82,
   "metadata": {},
   "outputs": [],
   "source": [
    "llm_sonnet = ChatBedrock(model_id=\"anthropic.claude-3-sonnet-20240229-v1:0\",\n",
    "                client = boto3_bedrock,\n",
    "                  model_kwargs={\"temperature\": 0.1,\n",
    "                                \"top_k\":10,\n",
    "                                \"max_tokens\": 1024,\n",
    "                                \"top_p\":0.9,\n",
    "                                # \"stop_sequences\":['</standalone_question>','</output>']\n",
    "                               },\n",
    "                  streaming=False,callbacks=[StreamingStdOutCallbackHandler()])"
   ]
  },
  {
   "cell_type": "code",
   "execution_count": 112,
   "metadata": {},
   "outputs": [],
   "source": [
    "llm_llama = ChatBedrock(model_id=\"meta.llama3-70b-instruct-v1:0\",\n",
    "                  model_kwargs={\"temperature\": 0.1,\n",
    "                                \"max_gen_len\": 100,\n",
    "                                \"top_p\":0.9,\n",
    "                                # \"stop_sequences\":['</standalone_question>','</output>']\n",
    "                               },\n",
    "                  streaming=False,\n",
    "                  callbacks=[StreamingStdOutCallbackHandler()]\n",
    "                  )"
   ]
  },
  {
   "cell_type": "code",
   "execution_count": 190,
   "metadata": {},
   "outputs": [],
   "source": [
    "llm_mistral = ChatBedrock(model_id=\"mistral.mistral-large-2402-v1:0\",\n",
    "                  model_kwargs={\"temperature\": 0.01,\n",
    "                                \"max_tokens\": 100,\n",
    "                                \"top_p\":0.9,\n",
    "                                \"stop\":['</standalone_question>','</output>']\n",
    "                               },\n",
    "                  streaming=False,\n",
    "                  callbacks=[StreamingStdOutCallbackHandler()]\n",
    "                  )"
   ]
  },
  {
   "cell_type": "code",
   "execution_count": 138,
   "metadata": {},
   "outputs": [],
   "source": [
    "llm_mix87 = ChatBedrock(model_id=\"mistral.mixtral-8x7b-instruct-v0:1\",\n",
    "                  model_kwargs={\"temperature\": 0.1,\n",
    "                                \"max_tokens\": 100,\n",
    "                                \"top_p\":0.9,\n",
    "                                \"stop\":['</standalone_question>','</output>']\n",
    "                               },\n",
    "                  streaming=False,\n",
    "                  callbacks=[StreamingStdOutCallbackHandler()]\n",
    "                  )"
   ]
  },
  {
   "cell_type": "code",
   "execution_count": 191,
   "metadata": {},
   "outputs": [],
   "source": [
    "prompt = \"Given the following conversation in <conversation></conversation>, and a follow up user question in <question></question>.\\\\n<conversation>\\\\nuser: aws clean room是什么？\\\\nAI: AWS Clean Rooms是一种安全的多方计算服务,允许不同组织在不共享原始数据的情况下,对彼此的数据进行联合分析。它采用差分隐私技术,确保数据隐私和安全。与其他类似服务相比,AWS Clean Rooms无需将数据移动到其他平台,可直接在AWS S3上进行分析。它还与AWS Data Exchange集成,方便寻找数据合作伙伴。AWS Clean Rooms将取代亚马逊广告的AMC服务,为更广泛的行业提供数据合作解决方案。\\\\n</conversation>\\\\n\\\\n<question>\\\\n他有什么优势？\\\\n</question>\\\\n\\\\nplease use the context in the chat conversation to rephrase the user question to be a standalone question, respond in the original language of user's question, don't translate the chat history and user question.\\\\nif you don't understand the user's question, or the question is not relevant to the conversation. please keep the orginal question.\\\\nSkip the preamble, don't explain, go straight into the answer. Please put the standalone question in <standalone_question> tag\\\\n\""
   ]
  },
  {
   "cell_type": "code",
   "execution_count": 192,
   "metadata": {},
   "outputs": [
    {
     "data": {
      "text/plain": [
       "' <standalone_question>AWS Clean Rooms有什么优势？'"
      ]
     },
     "execution_count": 192,
     "metadata": {},
     "output_type": "execute_result"
    }
   ],
   "source": [
    "llm_mistral.invoke(input=prompt).content"
   ]
  },
  {
   "cell_type": "code",
   "execution_count": 128,
   "metadata": {},
   "outputs": [
    {
     "name": "stdout",
     "output_type": "stream",
     "text": [
      " <standalone\\_question>\\ncould you tell me the advantages of AWS Clean Rooms?\\n</standalone\\_question>\n",
      "\n",
      "AWS Clean Rooms 的优势在于：\n",
      "\n",
      "1. 安全的多方计算服务：AWS Clean Rooms 允许不同组织在不共享原始数据的情况下,对彼此的数据进行联合分析。\n",
      "2. 采"
     ]
    },
    {
     "data": {
      "text/plain": [
       "AIMessage(content=' <standalone\\\\_question>\\\\ncould you tell me the advantages of AWS Clean Rooms?\\\\n</standalone\\\\_question>\\n\\nAWS Clean Rooms 的优势在于：\\n\\n1. 安全的多方计算服务：AWS Clean Rooms 允许不同组织在不共享原始数据的情况下,对彼此的数据进行联合分析。\\n2. 采', additional_kwargs={'usage': {}}, response_metadata={'model_id': 'mistral.mixtral-8x7b-instruct-v0:1'}, id='run-47e78939-481a-457a-b1c5-11b80ae8c8a4-0')"
      ]
     },
     "execution_count": 128,
     "metadata": {},
     "output_type": "execute_result"
    }
   ],
   "source": [
    "llm_mix87.invoke(input=prompt)"
   ]
  },
  {
   "cell_type": "code",
   "execution_count": 96,
   "metadata": {},
   "outputs": [
    {
     "name": "stdout",
     "output_type": "stream",
     "text": [
      " \n",
      "\n",
      "<standalone_question>什么是AWS Clean Rooms的优势？</standalone_question>\n",
      "\n",
      "它有多个优势。首先，它采用差分隐私技术，确保数据隐私和安全。其次，它无需将数据移动到其他平台，直接在AWS S3上进行分析。最后，它与AWS Data Exchange集成，方便寻找数据合作伙伴。"
     ]
    },
    {
     "data": {
      "text/plain": [
       "AIMessage(content=' \\n\\n<standalone_question>什么是AWS Clean Rooms的优势？</standalone_question>\\n\\n它有多个优势。首先，它采用差分隐私技术，确保数据隐私和安全。其次，它无需将数据移动到其他平台，直接在AWS S3上进行分析。最后，它与AWS Data Exchange集成，方便寻找数据合作伙伴。', additional_kwargs={'usage': {}}, response_metadata={'model_id': 'meta.llama3-70b-instruct-v1:0'}, id='run-771a0a9a-0343-414c-84fa-eba4a3781e3b-0')"
      ]
     },
     "execution_count": 96,
     "metadata": {},
     "output_type": "execute_result"
    }
   ],
   "source": [
    "llm_llama.invoke(input=prompt)"
   ]
  },
  {
   "cell_type": "code",
   "execution_count": 65,
   "metadata": {},
   "outputs": [],
   "source": [
    "def format_to_message(query:str, image_base64_list:list = None, role:str = \"user\"):\n",
    "    '''\n",
    "    history format:\n",
    "    \"history\": [\n",
    "        {\n",
    "            \"role\": \"user\",\n",
    "            \"content\": [\n",
    "                {\n",
    "                    \"type\": \"image\",\n",
    "                    \"source\": {\n",
    "                        \"type\": \"base64\",\n",
    "                        \"media_type\": \"image/jpeg\",\n",
    "                        \"data\": \"iVBORw...\"\n",
    "                    }\n",
    "                },\n",
    "                {\n",
    "                    \"type\": \"text\",\n",
    "                    \"text\": \"What's in these images?\"\n",
    "                }\n",
    "            ]\n",
    "        }\n",
    "    ]\n",
    "    '''\n",
    "    if image_base64_list:\n",
    "        content = [{ \"type\": \"image\", \"source\": { \"type\": \"base64\", \"media_type\": \"image/jpeg\", \"data\": image_base64 }} for image_base64 in image_base64_list ]\n",
    "        content.append({ \"type\": \"text\", \"text\": query })\n",
    "        return { \"role\": role, \"content\": content }\n",
    "\n",
    "    return {\"role\": role, \"content\": query }"
   ]
  },
  {
   "cell_type": "code",
   "execution_count": 66,
   "metadata": {},
   "outputs": [],
   "source": [
    "def create_detect_prompt_templete():   \n",
    "    prompt_template = \"\"\"Here is a list of aimed functions:\n",
    "    <api_schemas>{api_schemas}</api_schemas>\n",
    "    You should follow below examples to choose the corresponding function and params according to user's query\n",
    "    <examples>{examples}</examples>\n",
    "    \"\"\"\n",
    "\n",
    "    PROMPT = PromptTemplate(\n",
    "        template=prompt_template, \n",
    "        input_variables=['api_schemas','examples']\n",
    "    )\n",
    "    return PROMPT"
   ]
  },
  {
   "cell_type": "code",
   "execution_count": 67,
   "metadata": {},
   "outputs": [],
   "source": [
    "api_schema_options = [\"\"\"\n",
    "{\n",
    "        \"name\": \"ec2_price\",\n",
    "        \"description\": \"query the price of AWS ec2 instance\",\n",
    "        \"parameters\": {\n",
    "            \"type\": \"object\",\n",
    "            \"properties\": {\n",
    "                \"instance_type\": {\n",
    "                    \"type\": \"string\",\n",
    "                    \"description\": \"the AWS ec2 instance type, for example, c5.xlarge, m5.large, t3.mirco, g4dn.2xlarge, if it is a partial of the instance type, you should try to auto complete it. for example, if it is r6g.2x, you can complete it as r6g.2xlarge\"\n",
    "                },\n",
    "                \"region\": {\n",
    "                    \"type\": \"string\",\n",
    "                    \"description\": \"the AWS region name where the ec2 is located in, for example us-east-1, us-west-1, if it is common words such as 'us east 1','美东1','美西2',you should try to normalize it to standard AWS region name, for example, 'us east 1' is normalized to 'us-east-1', '美东2' is normalized to 'us-east-2','美西2' is normalized to 'us-west-2','北京' is normalized to 'cn-north-1', '宁夏' is normalized to 'cn-northwest-1', '中国区' is normalized to 'cn-north-1'\"\n",
    "                },\n",
    "                \"os\": {\n",
    "                    \"type\": \"string\",\n",
    "                    \"description\": \"the operating system of ec2 instance, the valid value should be 'Linux' or 'Windows'\"\n",
    "                },\n",
    "                \"term\": {\n",
    "                    \"type\": \"string\",\n",
    "                    \"description\": \"the payment term, 'RI' is normalized to 'Reserved'. the valid value should be 'OnDemand' or 'Reserved' \"\n",
    "                },\n",
    "                \"purchase_option\": {\n",
    "                    \"type\": \"string\",\n",
    "                    \"description\": \"the purchase option of Reserved instance, the valid value should be 'No Upfront', 'Partial Upfront' or 'All Upfront' \"\n",
    "                }\n",
    "            },\n",
    "            \"required\": [\"instance_type\"]\n",
    "        }\n",
    "    }\n",
    "\"\"\"]"
   ]
  },
  {
   "cell_type": "code",
   "execution_count": 68,
   "metadata": {},
   "outputs": [],
   "source": [
    "api_schema_str = \"<api_schema>\\n{}\\n</api_schema>\".format(\",\\n\".join(api_schema_options))\n",
    "\n"
   ]
  },
  {
   "cell_type": "code",
   "execution_count": 105,
   "metadata": {},
   "outputs": [],
   "source": [
    "example_list_str = \"\"\"\\\\n<query>g4dn的价格是多少</query>\\\\n<output>\\\\\"{\\\\\\\\\\\\\"func\\\\\\\\\\\\\": \\\\\\\\\\\\\"ec2_price\\\\\\\\\\\\\", \\\\\\\\\\\\\"param\\\\\\\\\\\\\": {\\\\\\\\\\\\\"instance_type\\\\\\\\\\\\\": \\\\\\\\\\\\\"g4dn\\\\\\\\\\\\\"}}\\\\\"</output>\\\\n<query>c5.xlarge的windows实例价格？</query>\\\\n<output>\\\\\"{\\\\\\\\\\\\\"func\\\\\\\\\\\\\": \\\\\\\\\\\\\"ec2_price\\\\\\\\\\\\\", \\\\\\\\\\\\\"param\\\\\\\\\\\\\": {\\\\\\\\\\\\\"instance_type\\\\\\\\\\\\\": \\\\\\\\\\\\\"c5.xlarge\\\\\\\\\\\\\", \\\\\\\\\\\\\"os\\\\\\\\\\\\\": \\\\\\\\\\\\\"Windows\\\\\\\\\\\\\"}}\\\\\"</output>\\\\n<query>SageMaker中ml.t3.large的什么价格？</query>\\\\n<output>\\\\\"{\\\\\\\\\\\\\"func\\\\\\\\\\\\\": \\\\\\\\\\\\\"ec2_price\\\\\\\\\\\\\", \\\\\\\\\\\\\"param\\\\\\\\\\\\\": {\\\\\\\\\\\\\"instance_type\\\\\\\\\\\\\": \\\\\\\\\\\\\"ml.t3.large\\\\\\\\\\\\\"}}\\\\\"</output>\\\\n<query>t3.mirco在美西2的Linux实例什么价格？</query>\\\\n<output>\\\\\"{\\\\\\\\\\\\\"func\\\\\\\\\\\\\": \\\\\\\\\\\\\"ec2_price\\\\\\\\\\\\\", \\\\\\\\\\\\\"param\\\\\\\\\\\\\": {\\\\\\\\\\\\\"instance_type\\\\\\\\\\\\\": \\\\\\\\\\\\\"t3.mirco\\\\\\\\\\\\\", \\\\\\\\\\\\\"region\\\\\\\\\\\\\": \\\\\\\\\\\\\"us-west-2\\\\\\\\\\\\\", \\\\\\\\\\\\\"os\\\\\\\\\\\\\": \\\\\\\\\\\\\"Linux\\\\\\\\\\\\\"}}\\\\\"</output>\\\\n\"\"\""
   ]
  },
  {
   "cell_type": "code",
   "execution_count": 201,
   "metadata": {},
   "outputs": [],
   "source": [
    "example_list_str = \"\"\"<query>m5.2x在美西2的价格？</query>\\\\n<output>\\\\\"{\\\\\\\\\\\\\"func\\\\\\\\\\\\\": \\\\\\\\\\\\\"ec2_price\\\\\\\\\\\\\", \\\\\\\\\\\\\"param\\\\\\\\\\\\\": {\\\\\\\\\\\\\"instance_type\\\\\\\\\\\\\": \\\\\\\\\\\\\"m5.2xlarge\\\\\\\\\\\\\", \\\\\\\\\\\\\"region\\\\\\\\\\\\\": \\\\\\\\\\\\\"us-west-2\\\\\\\\\\\\\"}}\\\\\"</output>\\\\n<query>g4dn.12x在美西2的价格？</query>\\\\n<output>\\\\\"{\\\\\\\\\\\\\"func\\\\\\\\\\\\\": \\\\\\\\\\\\\"ec2_price\\\\\\\\\\\\\", \\\\\\\\\\\\\"param\\\\\\\\\\\\\": {\\\\\\\\\\\\\"instance_type\\\\\\\\\\\\\": \\\\\\\\\\\\\"g4dn.12xlarge\\\\\\\\\\\\\", \\\\\\\\\\\\\"region\\\\\\\\\\\\\": \\\\\\\\\\\\\"us-west-2\\\\\\\\\\\\\"}}\\\\\"</output>\\\\n<query>g4dn在美西2的价格？</query>\\\\n<output>\\\\\"{\\\\\\\\\\\\\"func\\\\\\\\\\\\\": \\\\\\\\\\\\\"ec2_price\\\\\\\\\\\\\", \\\\\\\\\\\\\"param\\\\\\\\\\\\\": {\\\\\\\\\\\\\"instance_type\\\\\\\\\\\\\": \\\\\\\\\\\\\"g4dn\\\\\\\\\\\\\", \\\\\\\\\\\\\"region\\\\\\\\\\\\\": \\\\\\\\\\\\\"us-west-2\\\\\\\\\\\\\"}}\\\\\"</output>\\\\n<query>c5.xlarge在美东1的价格？</query>\\\\n<output>\\\\\"{\\\\\\\\\\\\\"func\\\\\\\\\\\\\": \\\\\\\\\\\\\"ec2_price\\\\\\\\\\\\\", \\\\\\\\\\\\\"param\\\\\\\\\\\\\": {\\\\\\\\\\\\\"instance_type\\\\\\\\\\\\\": \\\\\\\\\\\\\"c5.xlarge\\\\\\\\\\\\\", \\\\\\\\\\\\\"region\\\\\\\\\\\\\": \\\\\\\\\\\\\"us-east-1\\\\\\\\\\\\\"}}\\\\\"</output>\\\\n<query>c5.2xlarge的OnDemand什么价格？</query>\\\\n<output>\\\\\"{\\\\\\\\\\\\\"func\\\\\\\\\\\\\": \\\\\\\\\\\\\"ec2_price\\\\\\\\\\\\\", \\\\\\\\\\\\\"param\\\\\\\\\\\\\": {\\\\\\\\\\\\\"instance_type\\\\\\\\\\\\\": \\\\\\\\\\\\\"c5.x2large\\\\\\\\\\\\\", \\\\\\\\\\\\\"term\\\\\\\\\\\\\": \\\\\\\\\\\\\"OnDemand\\\\\\\\\\\\\"}}\\\\\"</output>\"\"\""
   ]
  },
  {
   "cell_type": "code",
   "execution_count": 202,
   "metadata": {},
   "outputs": [],
   "source": [
    "query = \"g5.2x 在美东 1 区的价格是多少？\"\n",
    "# query = \"bedrock限流怎么办\"\n",
    "prefix = \"\"\"{\"func\":\"\"\"\n",
    "prefill = \"\"\"<query>{query}</query>\\n<output>{prefix}\"\"\".format(query=query, prefix=prefix)"
   ]
  },
  {
   "cell_type": "code",
   "execution_count": 203,
   "metadata": {},
   "outputs": [
    {
     "data": {
      "text/plain": [
       "[{'role': 'user',\n",
       "  'content': 'Here is a list of aimed functions:\\n    <api_schemas><api_schema>\\n\\n{\\n        \"name\": \"ec2_price\",\\n        \"description\": \"query the price of AWS ec2 instance\",\\n        \"parameters\": {\\n            \"type\": \"object\",\\n            \"properties\": {\\n                \"instance_type\": {\\n                    \"type\": \"string\",\\n                    \"description\": \"the AWS ec2 instance type, for example, c5.xlarge, m5.large, t3.mirco, g4dn.2xlarge, if it is a partial of the instance type, you should try to auto complete it. for example, if it is r6g.2x, you can complete it as r6g.2xlarge\"\\n                },\\n                \"region\": {\\n                    \"type\": \"string\",\\n                    \"description\": \"the AWS region name where the ec2 is located in, for example us-east-1, us-west-1, if it is common words such as \\'us east 1\\',\\'美东1\\',\\'美西2\\',you should try to normalize it to standard AWS region name, for example, \\'us east 1\\' is normalized to \\'us-east-1\\', \\'美东2\\' is normalized to \\'us-east-2\\',\\'美西2\\' is normalized to \\'us-west-2\\',\\'北京\\' is normalized to \\'cn-north-1\\', \\'宁夏\\' is normalized to \\'cn-northwest-1\\', \\'中国区\\' is normalized to \\'cn-north-1\\'\"\\n                },\\n                \"os\": {\\n                    \"type\": \"string\",\\n                    \"description\": \"the operating system of ec2 instance, the valid value should be \\'Linux\\' or \\'Windows\\'\"\\n                },\\n                \"term\": {\\n                    \"type\": \"string\",\\n                    \"description\": \"the payment term, \\'RI\\' is normalized to \\'Reserved\\'. the valid value should be \\'OnDemand\\' or \\'Reserved\\' \"\\n                },\\n                \"purchase_option\": {\\n                    \"type\": \"string\",\\n                    \"description\": \"the purchase option of Reserved instance, the valid value should be \\'No Upfront\\', \\'Partial Upfront\\' or \\'All Upfront\\' \"\\n                }\\n            },\\n            \"required\": [\"instance_type\"]\\n        }\\n    }\\n\\n</api_schema></api_schemas>\\n    You should follow below examples to choose the corresponding function and params according to user\\'s query\\n    <examples><query>m5.2x在美西2的价格？</query>\\\\n<output>\\\\\"{\\\\\\\\\\\\\"func\\\\\\\\\\\\\": \\\\\\\\\\\\\"ec2_price\\\\\\\\\\\\\", \\\\\\\\\\\\\"param\\\\\\\\\\\\\": {\\\\\\\\\\\\\"instance_type\\\\\\\\\\\\\": \\\\\\\\\\\\\"m5.2xlarge\\\\\\\\\\\\\", \\\\\\\\\\\\\"region\\\\\\\\\\\\\": \\\\\\\\\\\\\"us-west-2\\\\\\\\\\\\\"}}\\\\\"</output>\\\\n<query>g4dn.12x在美西2的价格？</query>\\\\n<output>\\\\\"{\\\\\\\\\\\\\"func\\\\\\\\\\\\\": \\\\\\\\\\\\\"ec2_price\\\\\\\\\\\\\", \\\\\\\\\\\\\"param\\\\\\\\\\\\\": {\\\\\\\\\\\\\"instance_type\\\\\\\\\\\\\": \\\\\\\\\\\\\"g4dn.12xlarge\\\\\\\\\\\\\", \\\\\\\\\\\\\"region\\\\\\\\\\\\\": \\\\\\\\\\\\\"us-west-2\\\\\\\\\\\\\"}}\\\\\"</output>\\\\n<query>g4dn在美西2的价格？</query>\\\\n<output>\\\\\"{\\\\\\\\\\\\\"func\\\\\\\\\\\\\": \\\\\\\\\\\\\"ec2_price\\\\\\\\\\\\\", \\\\\\\\\\\\\"param\\\\\\\\\\\\\": {\\\\\\\\\\\\\"instance_type\\\\\\\\\\\\\": \\\\\\\\\\\\\"g4dn\\\\\\\\\\\\\", \\\\\\\\\\\\\"region\\\\\\\\\\\\\": \\\\\\\\\\\\\"us-west-2\\\\\\\\\\\\\"}}\\\\\"</output>\\\\n<query>c5.xlarge在美东1的价格？</query>\\\\n<output>\\\\\"{\\\\\\\\\\\\\"func\\\\\\\\\\\\\": \\\\\\\\\\\\\"ec2_price\\\\\\\\\\\\\", \\\\\\\\\\\\\"param\\\\\\\\\\\\\": {\\\\\\\\\\\\\"instance_type\\\\\\\\\\\\\": \\\\\\\\\\\\\"c5.xlarge\\\\\\\\\\\\\", \\\\\\\\\\\\\"region\\\\\\\\\\\\\": \\\\\\\\\\\\\"us-east-1\\\\\\\\\\\\\"}}\\\\\"</output>\\\\n<query>c5.2xlarge的OnDemand什么价格？</query>\\\\n<output>\\\\\"{\\\\\\\\\\\\\"func\\\\\\\\\\\\\": \\\\\\\\\\\\\"ec2_price\\\\\\\\\\\\\", \\\\\\\\\\\\\"param\\\\\\\\\\\\\": {\\\\\\\\\\\\\"instance_type\\\\\\\\\\\\\": \\\\\\\\\\\\\"c5.x2large\\\\\\\\\\\\\", \\\\\\\\\\\\\"term\\\\\\\\\\\\\": \\\\\\\\\\\\\"OnDemand\\\\\\\\\\\\\"}}\\\\\"</output></examples>\\n    '},\n",
       " {'role': 'assistant',\n",
       "  'content': '<query>g5.2x 在美东 1 区的价格是多少？</query>\\n<output>{\"func\":'}]"
      ]
     },
     "execution_count": 203,
     "metadata": {},
     "output_type": "execute_result"
    }
   ],
   "source": [
    "prompt_template = create_detect_prompt_templete()\n",
    "prompt = prompt_template.format(api_schemas=api_schema_str, examples=example_list_str)\n",
    "msg = format_to_message(query=prompt)\n",
    "msg_list = [msg, {\"role\":\"assistant\", \"content\": prefill}]\n",
    "msg_list"
   ]
  },
  {
   "cell_type": "code",
   "execution_count": 204,
   "metadata": {},
   "outputs": [],
   "source": [
    "prefix=\"\"\"{\"func\":\"\"\""
   ]
  },
  {
   "cell_type": "code",
   "execution_count": 205,
   "metadata": {},
   "outputs": [
    {
     "name": "stdout",
     "output_type": "stream",
     "text": [
      "  \"ec2_price\", \"param\": {\"instance_type\": \"g5.2xlarge\", \"region\": \"us-east-1\"}}"
     ]
    },
    {
     "data": {
      "text/plain": [
       "'{\"func\":  \"ec2_price\", \"param\": {\"instance_type\": \"g5.2xlarge\", \"region\": \"us-east-1\"}}'"
      ]
     },
     "execution_count": 205,
     "metadata": {},
     "output_type": "execute_result"
    }
   ],
   "source": [
    "answer = prefix+ llm_sonnet.invoke(msg_list).content\n",
    "answer = answer.replace('<output>', '')\n",
    "answer\n"
   ]
  },
  {
   "cell_type": "code",
   "execution_count": 206,
   "metadata": {},
   "outputs": [
    {
     "data": {
      "text/plain": [
       "{'func': 'ec2_price',\n",
       " 'param': {'instance_type': 'g5.2xlarge', 'region': 'us-east-1'}}"
      ]
     },
     "execution_count": 206,
     "metadata": {},
     "output_type": "execute_result"
    }
   ],
   "source": [
    "import json\n",
    "json.loads(answer)"
   ]
  },
  {
   "cell_type": "code",
   "execution_count": 211,
   "metadata": {},
   "outputs": [],
   "source": [
    "answer = prefix+ llm_mistral.invoke(msg_list).content\n",
    "answer = answer.replace('<output>', '')"
   ]
  },
  {
   "cell_type": "code",
   "execution_count": 212,
   "metadata": {},
   "outputs": [
    {
     "data": {
      "text/plain": [
       "'{\"func\": \"ec2_price\", \"param\": {\"instance_type\": \"g5.2xlarge\", \"region\": \"us-east-1\"}}'"
      ]
     },
     "execution_count": 212,
     "metadata": {},
     "output_type": "execute_result"
    }
   ],
   "source": [
    "answer"
   ]
  },
  {
   "cell_type": "code",
   "execution_count": 209,
   "metadata": {},
   "outputs": [
    {
     "data": {
      "text/plain": [
       "{'func': 'ec2_price',\n",
       " 'param': {'instance_type': 'g5.2xlarge', 'region': 'us-east-1'}}"
      ]
     },
     "execution_count": 209,
     "metadata": {},
     "output_type": "execute_result"
    }
   ],
   "source": [
    "json.loads(answer)"
   ]
  },
  {
   "cell_type": "code",
   "execution_count": 179,
   "metadata": {},
   "outputs": [],
   "source": [
    "import json\n",
    "import boto3\n",
    "\n",
    "SMM_KEY_AVAIL_LLM_ENDPOINTS = 'avail_llm_endpoints'\n",
    "OTHER_ACCOUNT_LLM_ENDPOINTS = None\n",
    "\n",
    "def get_all_bedrock_llm():\n",
    "    model_ids = []\n",
    "    try:\n",
    "        bedrock = boto3.client(\n",
    "            service_name='bedrock',\n",
    "            region_name='us-west-2'\n",
    "        )\n",
    "\n",
    "        bedrock.list_foundation_models()\n",
    "\n",
    "        response = bedrock.list_foundation_models(\n",
    "            byOutputModality='TEXT',\n",
    "            byInferenceType='ON_DEMAND'\n",
    "        )\n",
    "        model_ids = [ item['modelId'] for item in response['modelSummaries'] if not item['modelId'].startswith('mistral') ]\n",
    "    except Exception as e:\n",
    "        print(f\"{str(e)}\")\n",
    "\n",
    "    return model_ids"
   ]
  },
  {
   "cell_type": "code",
   "execution_count": 180,
   "metadata": {},
   "outputs": [
    {
     "name": "stdout",
     "output_type": "stream",
     "text": [
      "An error occurred (AccessDeniedException) when calling the ListFoundationModels operation: User: arn:aws:iam::434444145045:user/claude3_exp is not authorized to perform: bedrock:ListFoundationModels because no identity-based policy allows the bedrock:ListFoundationModels action\n"
     ]
    },
    {
     "data": {
      "text/plain": [
       "[]"
      ]
     },
     "execution_count": 180,
     "metadata": {},
     "output_type": "execute_result"
    }
   ],
   "source": [
    "get_all_bedrock_llm()"
   ]
  },
  {
   "cell_type": "code",
   "execution_count": 38,
   "metadata": {},
   "outputs": [],
   "source": [
    "template = \"\"\"\n",
    "You are a helpful assistant\n",
    "Please answer users' question as possible as you can:\n",
    "User question: {question}\n",
    "\"\"\"\n"
   ]
  },
  {
   "cell_type": "code",
   "execution_count": 16,
   "metadata": {},
   "outputs": [],
   "source": [
    "output_parser = StrOutputParser()\n",
    "prompt_template = ChatPromptTemplate.from_template(template)"
   ]
  },
  {
   "cell_type": "code",
   "execution_count": 17,
   "metadata": {},
   "outputs": [],
   "source": [
    "chain = prompt_template | llm_sonnet |output_parser"
   ]
  },
  {
   "cell_type": "code",
   "execution_count": 18,
   "metadata": {},
   "outputs": [],
   "source": [
    "question = \"who is the director of Terminator 2?\""
   ]
  },
  {
   "cell_type": "code",
   "execution_count": 19,
   "metadata": {},
   "outputs": [
    {
     "name": "stdout",
     "output_type": "stream",
     "text": [
      "The director of Terminator 2: Judgment Day is James Cameron.\n",
      "\n",
      "Some additional details:\n",
      "\n",
      "- Terminator 2 was released in 1991 and was a sequel to the 1984 film The Terminator, which was also directed by James Cameron.\n",
      "\n",
      "- It starred Arnold Schwarzenegger as the Terminator character, with Linda Hamilton and Edward Furlong in the other main roles.\n",
      "\n",
      "- The film was a massive critical and commercial success, earning over $500 million at the box office against a $100 million budget.\n",
      "\n",
      "- It was groundbreaking for its special effects, which still hold up incredibly well today thanks to the pioneering use of computer-generated imagery (CGI).\n",
      "\n",
      "- James Cameron co-wrote the screenplay along with William Wisher Jr. He is considered a master of the sci-fi and action genres.\n",
      "\n",
      "- Other famous films directed by James Cameron include Aliens, Titanic, and Avatar.\n",
      "\n",
      "So in summary, the acclaimed director who brought the iconic Terminator 2: Judgment Day to life was the visionary filmmaker James Cameron."
     ]
    },
    {
     "data": {
      "text/plain": [
       "'The director of Terminator 2: Judgment Day is James Cameron.\\n\\nSome additional details:\\n\\n- Terminator 2 was released in 1991 and was a sequel to the 1984 film The Terminator, which was also directed by James Cameron.\\n\\n- It starred Arnold Schwarzenegger as the Terminator character, with Linda Hamilton and Edward Furlong in the other main roles.\\n\\n- The film was a massive critical and commercial success, earning over $500 million at the box office against a $100 million budget.\\n\\n- It was groundbreaking for its special effects, which still hold up incredibly well today thanks to the pioneering use of computer-generated imagery (CGI).\\n\\n- James Cameron co-wrote the screenplay along with William Wisher Jr. He is considered a master of the sci-fi and action genres.\\n\\n- Other famous films directed by James Cameron include Aliens, Titanic, and Avatar.\\n\\nSo in summary, the acclaimed director who brought the iconic Terminator 2: Judgment Day to life was the visionary filmmaker James Cameron.'"
      ]
     },
     "execution_count": 19,
     "metadata": {},
     "output_type": "execute_result"
    }
   ],
   "source": [
    "chain.invoke({\"question\":question})"
   ]
  },
  {
   "cell_type": "code",
   "execution_count": null,
   "metadata": {},
   "outputs": [],
   "source": []
  }
 ],
 "metadata": {
  "kernelspec": {
   "display_name": "pyautogen",
   "language": "python",
   "name": "python3"
  },
  "language_info": {
   "codemirror_mode": {
    "name": "ipython",
    "version": 3
   },
   "file_extension": ".py",
   "mimetype": "text/x-python",
   "name": "python",
   "nbconvert_exporter": "python",
   "pygments_lexer": "ipython3",
   "version": "3.1.undefined"
  }
 },
 "nbformat": 4,
 "nbformat_minor": 2
}
