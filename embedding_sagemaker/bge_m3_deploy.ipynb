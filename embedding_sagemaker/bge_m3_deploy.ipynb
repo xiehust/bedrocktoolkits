{
 "cells": [
  {
   "cell_type": "markdown",
   "id": "7060c891-cebd-4011-b350-b7d1e70b40b2",
   "metadata": {
    "tags": []
   },
   "source": [
    "### 1. 安装HuggingFace 并下载模型到本地"
   ]
  },
  {
   "cell_type": "code",
   "execution_count": 1,
   "id": "9f413314-c410-43d3-bb3a-ba0aa18ec1be",
   "metadata": {
    "tags": []
   },
   "outputs": [],
   "source": [
    "!pip install huggingface-hub -Uqq\n",
    "!pip install -Uqq sagemaker"
   ]
  },
  {
   "cell_type": "markdown",
   "id": "df3b0a4b-f166-4f1a-a7cc-9c7277c68173",
   "metadata": {},
   "source": [
    "### 如果是外海region，执行下面cell通过huggingface_hub下载, 否则跳过"
   ]
  },
  {
   "cell_type": "code",
   "execution_count": 2,
   "id": "be112a00-cbef-4387-b0d7-80e5e7b7030d",
   "metadata": {
    "tags": []
   },
   "outputs": [
    {
     "data": {
      "application/vnd.jupyter.widget-view+json": {
       "model_id": "990527233ddb4ae3afff1ee04243e152",
       "version_major": 2,
       "version_minor": 0
      },
      "text/plain": [
       "Fetching 19 files:   0%|          | 0/19 [00:00<?, ?it/s]"
      ]
     },
     "metadata": {},
     "output_type": "display_data"
    },
    {
     "data": {
      "application/vnd.jupyter.widget-view+json": {
       "model_id": "e3f834b4c38644909af2a3f33fd90daa",
       "version_major": 2,
       "version_minor": 0
      },
      "text/plain": [
       ".gitattributes:   0%|          | 0.00/1.57k [00:00<?, ?B/s]"
      ]
     },
     "metadata": {},
     "output_type": "display_data"
    },
    {
     "data": {
      "application/vnd.jupyter.widget-view+json": {
       "model_id": "f17b91ed121a49e8a91a2359033cc68d",
       "version_major": 2,
       "version_minor": 0
      },
      "text/plain": [
       "README.md:   0%|          | 0.00/11.7k [00:00<?, ?B/s]"
      ]
     },
     "metadata": {},
     "output_type": "display_data"
    },
    {
     "data": {
      "application/vnd.jupyter.widget-view+json": {
       "model_id": "0018280825d54854ba6fe2f74475acfa",
       "version_major": 2,
       "version_minor": 0
      },
      "text/plain": [
       "1_Pooling/config.json:   0%|          | 0.00/191 [00:00<?, ?B/s]"
      ]
     },
     "metadata": {},
     "output_type": "display_data"
    },
    {
     "data": {
      "application/vnd.jupyter.widget-view+json": {
       "model_id": "52ab318ea277419f8f58f1336e41e407",
       "version_major": 2,
       "version_minor": 0
      },
      "text/plain": [
       "imgs/miracl.jpg:   0%|          | 0.00/201k [00:00<?, ?B/s]"
      ]
     },
     "metadata": {},
     "output_type": "display_data"
    },
    {
     "data": {
      "application/vnd.jupyter.widget-view+json": {
       "model_id": "c3f34eec4ec34d04805074376853150c",
       "version_major": 2,
       "version_minor": 0
      },
      "text/plain": [
       "imgs/long.jpg:   0%|          | 0.00/218k [00:00<?, ?B/s]"
      ]
     },
     "metadata": {},
     "output_type": "display_data"
    },
    {
     "data": {
      "application/vnd.jupyter.widget-view+json": {
       "model_id": "5aff88de2c384a929062d3035bac38b4",
       "version_major": 2,
       "version_minor": 0
      },
      "text/plain": [
       "config.json:   0%|          | 0.00/687 [00:00<?, ?B/s]"
      ]
     },
     "metadata": {},
     "output_type": "display_data"
    },
    {
     "data": {
      "application/vnd.jupyter.widget-view+json": {
       "model_id": "6858858384e947559c71f5095821e612",
       "version_major": 2,
       "version_minor": 0
      },
      "text/plain": [
       "config_sentence_transformers.json:   0%|          | 0.00/123 [00:00<?, ?B/s]"
      ]
     },
     "metadata": {},
     "output_type": "display_data"
    },
    {
     "data": {
      "application/vnd.jupyter.widget-view+json": {
       "model_id": "21c3dd7f96474de4a0e94164cd235ebb",
       "version_major": 2,
       "version_minor": 0
      },
      "text/plain": [
       "colbert_linear.pt:   0%|          | 0.00/2.10M [00:00<?, ?B/s]"
      ]
     },
     "metadata": {},
     "output_type": "display_data"
    },
    {
     "data": {
      "application/vnd.jupyter.widget-view+json": {
       "model_id": "2566423c45284205a89fc9dae56a6841",
       "version_major": 2,
       "version_minor": 0
      },
      "text/plain": [
       "pytorch_model.bin:   0%|          | 0.00/2.27G [00:00<?, ?B/s]"
      ]
     },
     "metadata": {},
     "output_type": "display_data"
    },
    {
     "data": {
      "application/vnd.jupyter.widget-view+json": {
       "model_id": "a91bf48fa57d44bdafe25c6f9c93830e",
       "version_major": 2,
       "version_minor": 0
      },
      "text/plain": [
       "imgs/mkqa.jpg:   0%|          | 0.00/326k [00:00<?, ?B/s]"
      ]
     },
     "metadata": {},
     "output_type": "display_data"
    },
    {
     "data": {
      "application/vnd.jupyter.widget-view+json": {
       "model_id": "9395a17340aa49e2afce1bab1b1b316a",
       "version_major": 2,
       "version_minor": 0
      },
      "text/plain": [
       "modules.json:   0%|          | 0.00/349 [00:00<?, ?B/s]"
      ]
     },
     "metadata": {},
     "output_type": "display_data"
    },
    {
     "data": {
      "application/vnd.jupyter.widget-view+json": {
       "model_id": "4c6ef271830b43cb96561125fdd6d534",
       "version_major": 2,
       "version_minor": 0
      },
      "text/plain": [
       "sentencepiece.bpe.model:   0%|          | 0.00/5.07M [00:00<?, ?B/s]"
      ]
     },
     "metadata": {},
     "output_type": "display_data"
    },
    {
     "data": {
      "application/vnd.jupyter.widget-view+json": {
       "model_id": "46514d544a1c4832b9ee6a99322e6b5a",
       "version_major": 2,
       "version_minor": 0
      },
      "text/plain": [
       "imgs/nqa.jpg:   0%|          | 0.00/97.4k [00:00<?, ?B/s]"
      ]
     },
     "metadata": {},
     "output_type": "display_data"
    },
    {
     "data": {
      "application/vnd.jupyter.widget-view+json": {
       "model_id": "e980b82b476c487ba3600f24b5859ac3",
       "version_major": 2,
       "version_minor": 0
      },
      "text/plain": [
       "sentence_bert_config.json:   0%|          | 0.00/54.0 [00:00<?, ?B/s]"
      ]
     },
     "metadata": {},
     "output_type": "display_data"
    },
    {
     "data": {
      "application/vnd.jupyter.widget-view+json": {
       "model_id": "31f96928d54b4cf9bcfcf290cebc5f0a",
       "version_major": 2,
       "version_minor": 0
      },
      "text/plain": [
       "model.safetensors:   0%|          | 0.00/2.27G [00:00<?, ?B/s]"
      ]
     },
     "metadata": {},
     "output_type": "display_data"
    },
    {
     "data": {
      "application/vnd.jupyter.widget-view+json": {
       "model_id": "5770a5e31cb84a17944a1e0a5e72653d",
       "version_major": 2,
       "version_minor": 0
      },
      "text/plain": [
       "sparse_linear.pt:   0%|          | 0.00/3.52k [00:00<?, ?B/s]"
      ]
     },
     "metadata": {},
     "output_type": "display_data"
    },
    {
     "data": {
      "application/vnd.jupyter.widget-view+json": {
       "model_id": "7a4eb86241c34427bea0317c6d17882d",
       "version_major": 2,
       "version_minor": 0
      },
      "text/plain": [
       "tokenizer.json:   0%|          | 0.00/17.1M [00:00<?, ?B/s]"
      ]
     },
     "metadata": {},
     "output_type": "display_data"
    },
    {
     "data": {
      "application/vnd.jupyter.widget-view+json": {
       "model_id": "1c5bfd845a2640ce994e972bb8a57bdb",
       "version_major": 2,
       "version_minor": 0
      },
      "text/plain": [
       "special_tokens_map.json:   0%|          | 0.00/964 [00:00<?, ?B/s]"
      ]
     },
     "metadata": {},
     "output_type": "display_data"
    },
    {
     "data": {
      "application/vnd.jupyter.widget-view+json": {
       "model_id": "c9594b8af10040fe8e27747537e9b9f9",
       "version_major": 2,
       "version_minor": 0
      },
      "text/plain": [
       "tokenizer_config.json:   0%|          | 0.00/1.31k [00:00<?, ?B/s]"
      ]
     },
     "metadata": {},
     "output_type": "display_data"
    },
    {
     "data": {
      "text/plain": [
       "'bge-m3-model/models--BAAI--bge-m3/snapshots/4277867103fc67328e2033176de4387b85e9960f'"
      ]
     },
     "execution_count": 2,
     "metadata": {},
     "output_type": "execute_result"
    }
   ],
   "source": [
    "from huggingface_hub import snapshot_download\n",
    "from pathlib import Path\n",
    "\n",
    "local_model_path = Path(\"./bge-m3-model\")\n",
    "local_model_path.mkdir(exist_ok=True)\n",
    "model_name = \"BAAI/bge-m3\"\n",
    "commit_hash = \"4277867103fc67328e2033176de4387b85e9960f\"\n",
    "snapshot_download(repo_id=model_name, revision=commit_hash, cache_dir=local_model_path)"
   ]
  },
  {
   "cell_type": "markdown",
   "id": "67712dfc-a411-433b-bc67-9734a1686480",
   "metadata": {
    "tags": []
   },
   "source": [
    "### 如果是中国区，执行下面cell通过modelscope进行下载"
   ]
  },
  {
   "cell_type": "code",
   "execution_count": null,
   "id": "7b3fa6b9-492d-477b-8a45-8b8e3bbfb6e8",
   "metadata": {
    "tags": []
   },
   "outputs": [],
   "source": [
    "# !pip install modelscope -i https://pypi.tuna.tsinghua.edu.cn/simple -Uqq"
   ]
  },
  {
   "cell_type": "code",
   "execution_count": null,
   "id": "dda7d753-6faf-46fc-a8c1-da9a3f1cd1db",
   "metadata": {
    "tags": []
   },
   "outputs": [],
   "source": [
    "# from modelscope.hub.snapshot_download import snapshot_download\n",
    "# from pathlib import Path\n",
    "\n",
    "# local_model_path = Path(\"./bge-zh-model\")\n",
    "\n",
    "# local_model_path.mkdir(exist_ok=True)\n",
    "# model_name = \"Xorbits/bge-large-zh-v1.5\"\n",
    "# commit_hash = \"v0.0.1\"\n",
    "\n",
    "# snapshot_download(model_name, revision=commit_hash, cache_dir=local_model_path)"
   ]
  },
  {
   "cell_type": "markdown",
   "id": "a6b61ad8-a8c2-48c2-8539-e7c1e2afe773",
   "metadata": {},
   "source": [
    "### 2. 把模型拷贝到S3为后续部署做准备"
   ]
  },
  {
   "cell_type": "code",
   "execution_count": 3,
   "id": "5e1873f4-1bfe-4146-8297-584e9ad76fc9",
   "metadata": {
    "tags": []
   },
   "outputs": [
    {
     "name": "stdout",
     "output_type": "stream",
     "text": [
      "sagemaker.config INFO - Not applying SDK defaults from location: /etc/xdg/sagemaker/config.yaml\n",
      "sagemaker.config INFO - Not applying SDK defaults from location: /home/ec2-user/.config/sagemaker/config.yaml\n"
     ]
    }
   ],
   "source": [
    "import sagemaker\n",
    "from sagemaker import image_uris\n",
    "import boto3\n",
    "import os\n",
    "import time\n",
    "import json\n",
    "\n",
    "role = sagemaker.get_execution_role()  # execution role for the endpoint\n",
    "sess = sagemaker.session.Session()  # sagemaker session for interacting with different AWS APIs\n",
    "bucket = sess.default_bucket()  # bucket to house artifacts\n",
    "\n",
    "region = sess._region_name\n",
    "account_id = sess.account_id()\n",
    "\n",
    "s3_client = boto3.client(\"s3\")\n",
    "sm_client = boto3.client(\"sagemaker\")\n",
    "smr_client = boto3.client(\"sagemaker-runtime\")"
   ]
  },
  {
   "cell_type": "code",
   "execution_count": 4,
   "id": "68394e44-4d51-48ae-adc1-d02f520a5d4d",
   "metadata": {
    "tags": []
   },
   "outputs": [
    {
     "name": "stdout",
     "output_type": "stream",
     "text": [
      "s3_code_prefix: LLM-RAG/workshop/bge_m3_deploy_code\n",
      "model_snapshot_path: bge-m3-model/models--BAAI--bge-m3/snapshots/4277867103fc67328e2033176de4387b85e9960f\n"
     ]
    }
   ],
   "source": [
    "s3_model_prefix = \"LLM-RAG/workshop/bge-m3-model\"  # folder where model checkpoint will go\n",
    "if region in ['cn-north-1', 'cn-northwest-1']:\n",
    "    model_snapshot_path = f'{local_model_path}/{model_name}'\n",
    "else:\n",
    "    model_snapshot_path = list(local_model_path.glob(\"**/snapshots/*\"))[0]\n",
    "s3_code_prefix = \"LLM-RAG/workshop/bge_m3_deploy_code\"\n",
    "print(f\"s3_code_prefix: {s3_code_prefix}\")\n",
    "print(f\"model_snapshot_path: {model_snapshot_path}\")"
   ]
  },
  {
   "cell_type": "code",
   "execution_count": 5,
   "id": "0b9e177a-886d-4838-891e-2e612a3cbc9d",
   "metadata": {
    "tags": []
   },
   "outputs": [
    {
     "name": "stdout",
     "output_type": "stream",
     "text": [
      "upload: bge-m3-model/models--BAAI--bge-m3/snapshots/4277867103fc67328e2033176de4387b85e9960f/config_sentence_transformers.json to s3://sagemaker-us-west-2-434444145045/LLM-RAG/workshop/bge-m3-model/config_sentence_transformers.json\n",
      "upload: bge-m3-model/models--BAAI--bge-m3/snapshots/4277867103fc67328e2033176de4387b85e9960f/.gitattributes to s3://sagemaker-us-west-2-434444145045/LLM-RAG/workshop/bge-m3-model/.gitattributes\n",
      "upload: bge-m3-model/models--BAAI--bge-m3/snapshots/4277867103fc67328e2033176de4387b85e9960f/README.md to s3://sagemaker-us-west-2-434444145045/LLM-RAG/workshop/bge-m3-model/README.md\n",
      "upload: bge-m3-model/models--BAAI--bge-m3/snapshots/4277867103fc67328e2033176de4387b85e9960f/config.json to s3://sagemaker-us-west-2-434444145045/LLM-RAG/workshop/bge-m3-model/config.json\n",
      "upload: bge-m3-model/models--BAAI--bge-m3/snapshots/4277867103fc67328e2033176de4387b85e9960f/1_Pooling/config.json to s3://sagemaker-us-west-2-434444145045/LLM-RAG/workshop/bge-m3-model/1_Pooling/config.json\n",
      "upload: bge-m3-model/models--BAAI--bge-m3/snapshots/4277867103fc67328e2033176de4387b85e9960f/imgs/long.jpg to s3://sagemaker-us-west-2-434444145045/LLM-RAG/workshop/bge-m3-model/imgs/long.jpg\n",
      "upload: bge-m3-model/models--BAAI--bge-m3/snapshots/4277867103fc67328e2033176de4387b85e9960f/imgs/nqa.jpg to s3://sagemaker-us-west-2-434444145045/LLM-RAG/workshop/bge-m3-model/imgs/nqa.jpg\n",
      "upload: bge-m3-model/models--BAAI--bge-m3/snapshots/4277867103fc67328e2033176de4387b85e9960f/colbert_linear.pt to s3://sagemaker-us-west-2-434444145045/LLM-RAG/workshop/bge-m3-model/colbert_linear.pt\n",
      "upload: bge-m3-model/models--BAAI--bge-m3/snapshots/4277867103fc67328e2033176de4387b85e9960f/imgs/mkqa.jpg to s3://sagemaker-us-west-2-434444145045/LLM-RAG/workshop/bge-m3-model/imgs/mkqa.jpg\n",
      "upload: bge-m3-model/models--BAAI--bge-m3/snapshots/4277867103fc67328e2033176de4387b85e9960f/imgs/miracl.jpg to s3://sagemaker-us-west-2-434444145045/LLM-RAG/workshop/bge-m3-model/imgs/miracl.jpg\n",
      "upload: bge-m3-model/models--BAAI--bge-m3/snapshots/4277867103fc67328e2033176de4387b85e9960f/modules.json to s3://sagemaker-us-west-2-434444145045/LLM-RAG/workshop/bge-m3-model/modules.json\n",
      "upload: bge-m3-model/models--BAAI--bge-m3/snapshots/4277867103fc67328e2033176de4387b85e9960f/sentence_bert_config.json to s3://sagemaker-us-west-2-434444145045/LLM-RAG/workshop/bge-m3-model/sentence_bert_config.json\n",
      "upload: bge-m3-model/models--BAAI--bge-m3/snapshots/4277867103fc67328e2033176de4387b85e9960f/special_tokens_map.json to s3://sagemaker-us-west-2-434444145045/LLM-RAG/workshop/bge-m3-model/special_tokens_map.json\n",
      "upload: bge-m3-model/models--BAAI--bge-m3/snapshots/4277867103fc67328e2033176de4387b85e9960f/sparse_linear.pt to s3://sagemaker-us-west-2-434444145045/LLM-RAG/workshop/bge-m3-model/sparse_linear.pt\n",
      "upload: bge-m3-model/models--BAAI--bge-m3/snapshots/4277867103fc67328e2033176de4387b85e9960f/tokenizer_config.json to s3://sagemaker-us-west-2-434444145045/LLM-RAG/workshop/bge-m3-model/tokenizer_config.json\n",
      "upload: bge-m3-model/models--BAAI--bge-m3/snapshots/4277867103fc67328e2033176de4387b85e9960f/sentencepiece.bpe.model to s3://sagemaker-us-west-2-434444145045/LLM-RAG/workshop/bge-m3-model/sentencepiece.bpe.model\n",
      "upload: bge-m3-model/models--BAAI--bge-m3/snapshots/4277867103fc67328e2033176de4387b85e9960f/tokenizer.json to s3://sagemaker-us-west-2-434444145045/LLM-RAG/workshop/bge-m3-model/tokenizer.json\n",
      "upload: bge-m3-model/models--BAAI--bge-m3/snapshots/4277867103fc67328e2033176de4387b85e9960f/model.safetensors to s3://sagemaker-us-west-2-434444145045/LLM-RAG/workshop/bge-m3-model/model.safetensors\n",
      "upload: bge-m3-model/models--BAAI--bge-m3/snapshots/4277867103fc67328e2033176de4387b85e9960f/pytorch_model.bin to s3://sagemaker-us-west-2-434444145045/LLM-RAG/workshop/bge-m3-model/pytorch_model.bin\n"
     ]
    }
   ],
   "source": [
    "!aws s3 cp --recursive {model_snapshot_path} s3://{bucket}/{s3_model_prefix}"
   ]
  },
  {
   "cell_type": "markdown",
   "id": "59f35a6f-5988-42ec-87b0-de36eaebe41b",
   "metadata": {
    "tags": []
   },
   "source": [
    "### 3. 模型部署准备（entrypoint脚本，容器镜像，服务配置）"
   ]
  },
  {
   "cell_type": "code",
   "execution_count": 6,
   "id": "86daea77-a7ae-46b8-8800-212d07ce5605",
   "metadata": {
    "tags": []
   },
   "outputs": [
    {
     "name": "stdout",
     "output_type": "stream",
     "text": [
      "Image going to be used is ---- > 763104351884.dkr.ecr.us-east-1.amazonaws.com/djl-inference:0.23.0-deepspeed0.9.5-cu118\n"
     ]
    }
   ],
   "source": [
    "# inference_image_uri = (\n",
    "#     f\"763104351884.dkr.ecr.{region}.amazonaws.com/djl-inference:0.23.0-deepspeed0.9.5-cu118\"\n",
    "    \n",
    "# )\n",
    "\n",
    "# #中国区需要替换为下面的image_uri\n",
    "# if region in ['cn-north-1', 'cn-northwest-1']:\n",
    "#     inference_image_uri = (\n",
    "#         f\"727897471807.dkr.ecr.{region}.amazonaws.com.cn/djl-inference:0.23.0-deepspeed0.9.5-cu118\"\n",
    "#     )\n",
    "\n",
    "# print(f\"Image going to be used is ---- > {inference_image_uri}\")"
   ]
  },
  {
   "cell_type": "code",
   "execution_count": 8,
   "id": "c8731082-8e5c-48b1-8d88-0fc1a440ea18",
   "metadata": {
    "tags": []
   },
   "outputs": [
    {
     "data": {
      "text/plain": [
       "'763104351884.dkr.ecr.us-west-2.amazonaws.com/djl-inference:0.29.0-lmi11.0.0-cu124'"
      ]
     },
     "execution_count": 8,
     "metadata": {},
     "output_type": "execute_result"
    }
   ],
   "source": [
    "inference_image_uri = image_uris.retrieve(framework=\"djl-lmi\", version=\"0.29.0\", region=region)\n",
    "inference_image_uri"
   ]
  },
  {
   "cell_type": "code",
   "execution_count": 9,
   "id": "49435172-e6c5-492a-8dcb-43e3fffb0f5c",
   "metadata": {
    "tags": []
   },
   "outputs": [],
   "source": [
    "!mkdir -p bge_m3_deploy_code"
   ]
  },
  {
   "cell_type": "code",
   "execution_count": 63,
   "id": "d5e1b05b-03e5-4a95-8fe2-aa0cbd92f3b3",
   "metadata": {
    "tags": []
   },
   "outputs": [
    {
     "name": "stdout",
     "output_type": "stream",
     "text": [
      "Overwriting bge_m3_deploy_code/model.py\n"
     ]
    }
   ],
   "source": [
    "%%writefile bge_m3_deploy_code/model.py\n",
    "import logging\n",
    "import math\n",
    "import os\n",
    "\n",
    "import torch\n",
    "from djl_python import Input, Output\n",
    "from FlagEmbedding import BGEM3FlagModel\n",
    "from transformers import AutoModel, AutoModelForCausalLM, AutoTokenizer, pipeline\n",
    "\n",
    "device = torch.device(\"cuda:0\" if torch.cuda.is_available() else \"cpu\")\n",
    "print(f\"--device={device}\")\n",
    "\n",
    "\n",
    "def load_model(properties):\n",
    "    # tensor_parallel = properties[\"tensor_parallel_degree\"]\n",
    "    model_location = properties[\"model_dir\"]\n",
    "    if \"model_id\" in properties:\n",
    "        model_location = properties[\"model_id\"]\n",
    "    logging.info(f\"Loading model in {model_location}\")\n",
    "\n",
    "    model = BGEM3FlagModel(\n",
    "        model_location, use_fp16=True\n",
    "    )  # Setting use_fp16 to True speeds up computation with a slight performance degradation\n",
    "\n",
    "    return model\n",
    "\n",
    "\n",
    "model = None\n",
    "tokenizer = None\n",
    "generator = None\n",
    "\n",
    "\n",
    "def mean_pooling(model_output, attention_mask):\n",
    "    token_embeddings = model_output[0].to(\n",
    "        device\n",
    "    )  # First element of model_output contains all token embeddings\n",
    "    input_mask_expanded = (\n",
    "        attention_mask.unsqueeze(-1).expand(token_embeddings.size()).float().to(device)\n",
    "    )\n",
    "    return torch.sum(token_embeddings * input_mask_expanded, 1) / torch.clamp(\n",
    "        input_mask_expanded.sum(1), min=1e-9\n",
    "    )\n",
    "\n",
    "\n",
    "def handle(inputs: Input):\n",
    "    global model\n",
    "    if not model:\n",
    "        model = load_model(inputs.get_properties())\n",
    "\n",
    "    if inputs.is_empty():\n",
    "        return None\n",
    "    data = inputs.get_as_json()\n",
    "\n",
    "    input_sentences = data[\"inputs\"]\n",
    "    batch_size = data[\"batch_size\"]\n",
    "    max_length = data[\"max_length\"]\n",
    "    return_type = data[\"return_type\"]\n",
    "\n",
    "    logging.info(f\"inputs: {input_sentences}\")\n",
    "\n",
    "    if return_type == \"dense\":\n",
    "        encoding_results = model.encode(\n",
    "            input_sentences, batch_size=batch_size, max_length=max_length\n",
    "        )\n",
    "    elif return_type == \"sparse\":\n",
    "        encoding_results = model.encode(\n",
    "            input_sentences,\n",
    "            return_dense=False,\n",
    "            return_sparse=True,\n",
    "            return_colbert_vecs=False,\n",
    "        )\n",
    "    elif return_type == \"colbert\":\n",
    "        encoding_results = model.encode(\n",
    "            input_sentences,\n",
    "            return_dense=False,\n",
    "            return_sparse=False,\n",
    "            return_colbert_vecs=True,\n",
    "        )\n",
    "    elif return_type == \"all\":\n",
    "        encoding_results = model.encode(\n",
    "            input_sentences,\n",
    "            batch_size=batch_size,\n",
    "            max_length=max_length,\n",
    "            return_dense=True,\n",
    "            return_sparse=True,\n",
    "            return_colbert_vecs=True,\n",
    "        )\n",
    "\n",
    "    # encoding_results = [encoding_results]\n",
    "\n",
    "    result = {\"sentence_embeddings\": encoding_results}\n",
    "    return Output().add_as_json(result)"
   ]
  },
  {
   "cell_type": "code",
   "execution_count": 64,
   "id": "0f4c6d5f",
   "metadata": {
    "tags": []
   },
   "outputs": [
    {
     "name": "stdout",
     "output_type": "stream",
     "text": [
      "option.model_id ==> s3://sagemaker-us-west-2-434444145045/LLM-RAG/workshop/bge-m3-model/\n"
     ]
    }
   ],
   "source": [
    "print(f\"option.model_id ==> s3://{bucket}/{s3_model_prefix}/\")"
   ]
  },
  {
   "cell_type": "markdown",
   "id": "a1e1ecec-79cf-4ed4-bba1-95e2fe79daea",
   "metadata": {},
   "source": [
    "#### Note: option.s3url 为SageMaker部署时使用的模型S3路径"
   ]
  },
  {
   "cell_type": "code",
   "execution_count": 65,
   "id": "7b126565-66e2-4987-ac6b-e02f09070a65",
   "metadata": {
    "tags": []
   },
   "outputs": [],
   "source": [
    "import os\n",
    "\n",
    "if not os.path.exists(\"bge_m3_deploy_code\"):\n",
    "    os.mkdir(\"bge_m3_deploy_code\")\n",
    "\n",
    "with open('bge_m3_deploy_code/serving.properties', 'w') as f:\n",
    "    f.write(\"engine=Python\")\n",
    "    f.write(\"\\n\")\n",
    "    f.write(\"option.tensor_parallel_degree=1\")\n",
    "    f.write(\"\\n\")\n",
    "    f.write(f\"option.model_id=s3://{bucket}/{s3_model_prefix}/\")"
   ]
  },
  {
   "cell_type": "markdown",
   "id": "5e11b8f7-aebf-42a0-9a7f-31691059cc65",
   "metadata": {
    "tags": []
   },
   "source": [
    "### 【注意】下面这两个Cell，根据region，仅挑选一个执行，否则会产生问题"
   ]
  },
  {
   "cell_type": "markdown",
   "id": "e1434f9a-f114-4f83-a103-04fde82cb307",
   "metadata": {},
   "source": [
    "#### 如果是中国region，执行下面这个cell，在requirements.txt中添加国内的pip镜像"
   ]
  },
  {
   "cell_type": "code",
   "execution_count": 66,
   "id": "38bf548e-fb01-4951-b49f-15a91c61fb2e",
   "metadata": {
    "tags": []
   },
   "outputs": [],
   "source": [
    "# %%writefile bge_m3_deploy_code/requirements.txt\n",
    "# -i https://pypi.tuna.tsinghua.edu.cn/simple\n",
    "# FlagEmbedding"
   ]
  },
  {
   "cell_type": "markdown",
   "id": "2a35bbdf-c246-4e9e-ab7f-aac5b389ddf2",
   "metadata": {
    "tags": []
   },
   "source": [
    "#### 如果是海外region，执行下面这个cell，无需额外添加pip镜像"
   ]
  },
  {
   "cell_type": "code",
   "execution_count": 67,
   "id": "928a7806-afc4-4ae7-9253-1c9dfabfed99",
   "metadata": {
    "tags": []
   },
   "outputs": [
    {
     "name": "stdout",
     "output_type": "stream",
     "text": [
      "Overwriting bge_m3_deploy_code/requirements.txt\n"
     ]
    }
   ],
   "source": [
    "%%writefile bge_m3_deploy_code/requirements.txt\n",
    "FlagEmbedding"
   ]
  },
  {
   "cell_type": "code",
   "execution_count": 68,
   "id": "ffe41472-c2cf-4bb5-99aa-84df76c629b3",
   "metadata": {
    "tags": []
   },
   "outputs": [
    {
     "name": "stdout",
     "output_type": "stream",
     "text": [
      "bge_m3_deploy_code/\n",
      "bge_m3_deploy_code/serving.properties\n",
      "bge_m3_deploy_code/model.py\n",
      "bge_m3_deploy_code/requirements.txt\n"
     ]
    }
   ],
   "source": [
    "!rm s2e_model.tar.gz\n",
    "!cd bge_m3_deploy_code && rm -rf \".ipynb_checkpoints\"\n",
    "!tar czvf s2e_model.tar.gz bge_m3_deploy_code"
   ]
  },
  {
   "cell_type": "code",
   "execution_count": 69,
   "id": "1fabd7ce-b855-4569-857c-ad872662800b",
   "metadata": {
    "tags": []
   },
   "outputs": [
    {
     "name": "stdout",
     "output_type": "stream",
     "text": [
      "S3 Code or Model tar ball uploaded to --- > s3://sagemaker-us-west-2-434444145045/LLM-RAG/workshop/bge_m3_deploy_code/s2e_model.tar.gz\n"
     ]
    }
   ],
   "source": [
    "s3_code_artifact = sess.upload_data(\"s2e_model.tar.gz\", bucket, s3_code_prefix)\n",
    "print(f\"S3 Code or Model tar ball uploaded to --- > {s3_code_artifact}\")"
   ]
  },
  {
   "cell_type": "markdown",
   "id": "18fb01ed-6bd3-4880-a647-cfd71e692820",
   "metadata": {
    "tags": []
   },
   "source": [
    "### 4. 创建模型 & 创建endpoint"
   ]
  },
  {
   "cell_type": "code",
   "execution_count": 70,
   "id": "e6209d24-8473-4256-93d3-02e4e144386b",
   "metadata": {
    "tags": []
   },
   "outputs": [
    {
     "name": "stdout",
     "output_type": "stream",
     "text": [
      "bge-m3-2024-10-08-06-02-35-097\n",
      "Image going to be used is ---- > 763104351884.dkr.ecr.us-west-2.amazonaws.com/djl-inference:0.29.0-lmi11.0.0-cu124\n",
      "Created Model: arn:aws:sagemaker:us-west-2:434444145045:model/bge-m3-2024-10-08-06-02-35-097\n"
     ]
    }
   ],
   "source": [
    "from sagemaker.utils import name_from_base\n",
    "import boto3\n",
    "\n",
    "model_name = name_from_base(\"bge-m3\") #Note: Need to specify model_name\n",
    "print(model_name)\n",
    "print(f\"Image going to be used is ---- > {inference_image_uri}\")\n",
    "\n",
    "create_model_response = sm_client.create_model(\n",
    "    ModelName=model_name,\n",
    "    ExecutionRoleArn=role,\n",
    "    PrimaryContainer={\n",
    "        \"Image\": inference_image_uri,\n",
    "        \"ModelDataUrl\": s3_code_artifact\n",
    "    },\n",
    "    \n",
    ")\n",
    "model_arn = create_model_response[\"ModelArn\"]\n",
    "\n",
    "print(f\"Created Model: {model_arn}\")"
   ]
  },
  {
   "cell_type": "code",
   "execution_count": null,
   "id": "1a7c35f9-1b7e-4a48-a811-7e98bdae67b0",
   "metadata": {},
   "outputs": [],
   "source": []
  },
  {
   "cell_type": "code",
   "execution_count": 71,
   "id": "686abae8-5db7-4ebd-9fbf-5bd54f36c0ab",
   "metadata": {
    "tags": []
   },
   "outputs": [
    {
     "data": {
      "text/plain": [
       "{'EndpointConfigArn': 'arn:aws:sagemaker:us-west-2:434444145045:endpoint-config/bge-m3-2024-10-08-06-02-35-097-config',\n",
       " 'ResponseMetadata': {'RequestId': '5289e651-8ca8-4288-865a-c10ec15dbe51',\n",
       "  'HTTPStatusCode': 200,\n",
       "  'HTTPHeaders': {'x-amzn-requestid': '5289e651-8ca8-4288-865a-c10ec15dbe51',\n",
       "   'content-type': 'application/x-amz-json-1.1',\n",
       "   'content-length': '118',\n",
       "   'date': 'Tue, 08 Oct 2024 06:02:38 GMT'},\n",
       "  'RetryAttempts': 0}}"
      ]
     },
     "execution_count": 71,
     "metadata": {},
     "output_type": "execute_result"
    }
   ],
   "source": [
    "endpoint_config_name = f\"{model_name}-config\"\n",
    "endpoint_name = f\"{model_name}-endpoint\"\n",
    "\n",
    "endpoint_config_response = sm_client.create_endpoint_config(\n",
    "    EndpointConfigName=endpoint_config_name,\n",
    "    ProductionVariants=[\n",
    "        {\n",
    "            \"VariantName\": \"variant1\",\n",
    "            \"ModelName\": model_name,\n",
    "            \"InstanceType\": \"ml.g4dn.xlarge\",\n",
    "            \"InitialInstanceCount\": 1,\n",
    "            # \"VolumeSizeInGB\" : 400,\n",
    "            # \"ModelDataDownloadTimeoutInSeconds\": 2400,\n",
    "            \"ContainerStartupHealthCheckTimeoutInSeconds\": 5*60,\n",
    "        },\n",
    "    ],\n",
    ")\n",
    "endpoint_config_response"
   ]
  },
  {
   "cell_type": "code",
   "execution_count": 72,
   "id": "f4c1df06-ae4a-42e2-9695-da0afa9ad734",
   "metadata": {
    "tags": []
   },
   "outputs": [
    {
     "name": "stdout",
     "output_type": "stream",
     "text": [
      "Created Endpoint: arn:aws:sagemaker:us-west-2:434444145045:endpoint/bge-m3-2024-10-08-06-02-35-097-endpoint\n"
     ]
    }
   ],
   "source": [
    "create_endpoint_response = sm_client.create_endpoint(\n",
    "    EndpointName=f\"{endpoint_name}\", EndpointConfigName=endpoint_config_name\n",
    ")\n",
    "print(f\"Created Endpoint: {create_endpoint_response['EndpointArn']}\")"
   ]
  },
  {
   "cell_type": "code",
   "execution_count": 73,
   "id": "d9c71240-6878-4fed-bf7d-2c1cf75f4ac5",
   "metadata": {
    "tags": []
   },
   "outputs": [
    {
     "name": "stdout",
     "output_type": "stream",
     "text": [
      "Status: Creating\n",
      "Status: Creating\n",
      "Status: Creating\n",
      "Status: Creating\n",
      "Status: Creating\n",
      "Status: Creating\n",
      "Status: Creating\n",
      "Status: Creating\n",
      "Status: InService\n",
      "Arn: arn:aws:sagemaker:us-west-2:434444145045:endpoint/bge-m3-2024-10-08-06-02-35-097-endpoint\n",
      "Status: InService\n"
     ]
    }
   ],
   "source": [
    "import time\n",
    "\n",
    "resp = sm_client.describe_endpoint(EndpointName=endpoint_name)\n",
    "status = resp[\"EndpointStatus\"]\n",
    "print(\"Status: \" + status)\n",
    "\n",
    "while status == \"Creating\":\n",
    "    time.sleep(60)\n",
    "    resp = sm_client.describe_endpoint(EndpointName=endpoint_name)\n",
    "    status = resp[\"EndpointStatus\"]\n",
    "    print(\"Status: \" + status)\n",
    "\n",
    "print(\"Arn: \" + resp[\"EndpointArn\"])\n",
    "print(\"Status: \" + status)"
   ]
  },
  {
   "cell_type": "markdown",
   "id": "b0143f6e-9856-4a2b-9e58-41eb695613c8",
   "metadata": {},
   "source": [
    "### 6. 创建auto scaling\n",
    "- 最佳实践参考：https://aws.amazon.com/cn/blogs/machine-learning/optimize-your-machine-learning-deployments-with-auto-scaling-on-amazon-sagemaker/"
   ]
  },
  {
   "cell_type": "markdown",
   "id": "0b7098da-621d-4220-9c63-8647fc5a6e41",
   "metadata": {
    "tags": []
   },
   "source": [
    "#### SageMaker 支持托管模型的自动扩展 （Auto Scaling）。  \n",
    "  \n",
    "- Auto Scaling 会动态调整为模型预置的实例数，以响应推理工作负载的变化。当工作负载增加时，Auto Scaling 会使更多实例联机。当工作负载减少时，Auto Scaling 会删除不必要的实例，这样您就不必为未使用的预置实例付费。\n",
    "#### SageMaker 支持三种 Auto Scaling 选项。\n",
    "- 第一个也是常用的选项是目标跟踪。在此选项中，您可以选择所选 Amazon CloudWatch 指标的理想值，例如要作为目标实现的平均 CPU 利用率或吞吐量，SageMaker 将自动缩减或扩展实例数量以实现目标指标。\n",
    "- 第二个选项是选择步进扩展，这是一种根据 CloudWatch 警报违规规模进行扩展的高级方法。\n",
    "- 第三个选项是计划扩展，它允许您指定一个重复计划，以便根据预期需求缩减和扩展终端节点。我们建议您将这些扩展选项组合在一起，以获得更好的弹性。\n"
   ]
  },
  {
   "attachments": {
    "1a55454d-ec7e-4f07-be05-bc7ac695450a.png": {
     "image/png": "[encoded data removed]"
    },
    "c13020eb-8e88-4c68-b5d1-ac6977e4dfad.png": {
     "image/png": "[encoded data removed]"
    }
   },
   "cell_type": "markdown",
   "id": "576c0e93-fabd-4a6d-9e7c-8bc925e87092",
   "metadata": {},
   "source": [
    "#### 下图说明了 SageMaker 中的应用程序和扩展设置。\n",
    "![image.png](attachment:1a55454d-ec7e-4f07-be05-bc7ac695450a.png)![image.png](attachment:c13020eb-8e88-4c68-b5d1-ac6977e4dfad.png)"
   ]
  },
  {
   "attachments": {
    "83d59a52-71fd-41a3-bf0e-3114ece79d48.png": {
     "image/png": "[encoded data removed]"
    }
   },
   "cell_type": "markdown",
   "id": "477d3772-35c7-43de-b07e-5501321080d0",
   "metadata": {},
   "source": [
    "#### 终端节点指标\n",
    "- 概括地说，这些指标分为三类：调用指标、延迟指标和利用率指标。\n",
    "- 下图说明了这些指标和终端节点架构。  \n",
    "![image.png](attachment:83d59a52-71fd-41a3-bf0e-3114ece79d48.png)\n"
   ]
  },
  {
   "cell_type": "markdown",
   "id": "2d369255-d970-4c35-af1b-47bcb4aa5d50",
   "metadata": {},
   "source": [
    "#### 主要指标\n",
    "1. Invocation metrics 每分钟发送到模型终端节点的 InvokeEndpoint 请求数。\n",
    "2. InvocationsPerInstance 调用 PerInstance\n",
    "3. ModelLatency -从 SageMaker 查看的模型响应所用的时间间隔。此间隔包括发送请求和从模型容器获取响应所用的本地通信时间，以及在容器中完成推理所用的时间。\n",
    "4. OverheadLatency开销延迟 - 根据 SageMaker 开销，添加到响应客户端请求所花费的时间的时间间隔。此间隔是从 SageMaker 收到请求到向客户端返回响应的时间减去\n",
    "5. Utilization metrics \n",
    "   - CPUUtilization / GPUUtilization /MemoryUtilization /GPUMemoryUtilization (1 分钟)"
   ]
  },
  {
   "attachments": {
    "11bd2e85-701b-4f11-8794-811c5dc20a80.png": {
     "image/png": "[encoded data removed]"
    }
   },
   "cell_type": "markdown",
   "id": "953d419d-2a73-4b7b-a089-6b32e14f48ee",
   "metadata": {},
   "source": [
    "### Scaling plan 制定\n",
    "#### 扩展计划是一个三步过程，如下图所示：\n",
    "\n",
    "1. 确定应用程序特征 – 了解所选硬件上应用程序的瓶颈是其中的重要组成部分。\n",
    "2. 设置扩展预期 – 这涉及确定每秒的最大请求数，以及请求模式的外观 （是平滑的还是尖峰的）。\n",
    "3. 应用和评估 – 应根据应用程序特征和扩展预期制定扩展策略。作为最后一步的一部分，通过运行预期要处理的负载来评估策略。此外，我们建议迭代最后一步，直到扩展策略可以处理请求负载。\n",
    "![image.png](attachment:11bd2e85-701b-4f11-8794-811c5dc20a80.png)"
   ]
  },
  {
   "cell_type": "code",
   "execution_count": null,
   "id": "7e760a35-4f85-42ce-b803-64d9100ee846",
   "metadata": {},
   "outputs": [],
   "source": []
  },
  {
   "cell_type": "markdown",
   "id": "376e1b89-d161-4ce3-aa9f-dd7cead04530",
   "metadata": {},
   "source": [
    "#### 6.1 注册扩容目标\n",
    "需要将 SageMaker 终端节点变体注册为可扩展目标。指定终端节点的最小和最大容量。对于异步终端节点，可以将最小容量设置为零。"
   ]
  },
  {
   "cell_type": "code",
   "execution_count": 75,
   "id": "db90123c-5f05-482b-bf7f-d33e0e159141",
   "metadata": {
    "tags": []
   },
   "outputs": [],
   "source": [
    "autoscaling = boto3.client('application-autoscaling')\n",
    "\n",
    "resource_id = f\"endpoint/{endpoint_name}/variant/variant1\"\n",
    "\n",
    "#Define the autoscaling policy\n",
    "response = autoscaling.register_scalable_target(\n",
    "    ServiceNamespace='sagemaker',\n",
    "    ResourceId=resource_id,\n",
    "    ScalableDimension='sagemaker:variant:DesiredInstanceCount',\n",
    "    MinCapacity=1,\n",
    "    MaxCapacity=2\n",
    ")\n"
   ]
  },
  {
   "cell_type": "markdown",
   "id": "b1564a48-3f9d-4c34-8ef8-91409519aa40",
   "metadata": {
    "tags": []
   },
   "source": [
    "#### 6.2  定义扩缩策略\n",
    "使用目标跟踪定义扩展策略。此策略将确定如何根据调用请求等指标触发扩展操作。\n",
    "\n",
    "- Metrics 参考 ：https://docs.aws.amazon.com/sagemaker/latest/dg/monitoring-cloudwatch.html#cloudwatch-metrics-endpoint-invocation"
   ]
  },
  {
   "cell_type": "code",
   "execution_count": 76,
   "id": "e773a080-e99f-44d0-8b73-92dc8c91fb73",
   "metadata": {
    "tags": []
   },
   "outputs": [],
   "source": [
    "response = autoscaling.put_scaling_policy(\n",
    "    PolicyName=\"Invocations-ScalingPolicy\",\n",
    "    ServiceNamespace=\"sagemaker\",\n",
    "    ResourceId=resource_id,\n",
    "    ScalableDimension=\"sagemaker:variant:DesiredInstanceCount\",\n",
    "    PolicyType=\"TargetTrackingScaling\",\n",
    "    TargetTrackingScalingPolicyConfiguration={\n",
    "        \"TargetValue\": 1.0,  # Target number of invocations per instance\n",
    "        # \"CustomizedMetricSpecification\": {\n",
    "        #     \"MetricName\": \"ApproximateBacklogSizePerInstance\",\n",
    "        #     \"Namespace\": \"AWS/SageMaker\",\n",
    "        #     \"Dimensions\": [{\"Name\": \"EndpointName\", \"Value\": endpoint_name}],\n",
    "        #     \"Statistic\": \"Average\",\n",
    "        # },\n",
    "        'PredefinedMetricSpecification': {\n",
    "            'PredefinedMetricType': 'SageMakerVariantInvocationsPerInstance'\n",
    "        },\n",
    "        \"ScaleInCooldown\": 600,  # Cooldown time for scale-in actions\n",
    "        \"ScaleOutCooldown\": 300   # Cooldown time for scale-out actions\n",
    "    }\n",
    ")"
   ]
  },
  {
   "cell_type": "markdown",
   "id": "c91b5766-395c-49d5-97c8-1e6e587214dd",
   "metadata": {},
   "source": [
    "#### 6.3 监控\n",
    "After setting up the autoscaling configuration, you can monitor the scaling activities through CloudWatch or by using the describe_scalable_targets and describe_scaling_policies methods in Boto3."
   ]
  },
  {
   "cell_type": "code",
   "execution_count": 77,
   "id": "21c7fc43-7dad-4036-8136-712b2fe9be81",
   "metadata": {
    "tags": []
   },
   "outputs": [],
   "source": [
    "# To check scalable targets\n",
    "scalable_targets = autoscaling.describe_scalable_targets(\n",
    "    ServiceNamespace='sagemaker'\n",
    ")\n",
    "\n",
    "# To check scaling policies\n",
    "scaling_policies = autoscaling.describe_scaling_policies(\n",
    "    ServiceNamespace='sagemaker',\n",
    "    ResourceId=resource_id\n",
    ")"
   ]
  },
  {
   "cell_type": "code",
   "execution_count": 78,
   "id": "2af5cfea-7317-4936-9563-7ff7f3456931",
   "metadata": {
    "tags": []
   },
   "outputs": [
    {
     "data": {
      "text/plain": [
       "({'ScalingPolicies': [{'PolicyARN': 'arn:aws:autoscaling:us-west-2:434444145045:scalingPolicy:06b83032-5f7a-4107-bf25-b769132bdc76:resource/sagemaker/endpoint/bge-m3-2024-10-08-06-02-35-097-endpoint/variant/variant1:policyName/Invocations-ScalingPolicy',\n",
       "    'PolicyName': 'Invocations-ScalingPolicy',\n",
       "    'ServiceNamespace': 'sagemaker',\n",
       "    'ResourceId': 'endpoint/bge-m3-2024-10-08-06-02-35-097-endpoint/variant/variant1',\n",
       "    'ScalableDimension': 'sagemaker:variant:DesiredInstanceCount',\n",
       "    'PolicyType': 'TargetTrackingScaling',\n",
       "    'TargetTrackingScalingPolicyConfiguration': {'TargetValue': 1.0,\n",
       "     'PredefinedMetricSpecification': {'PredefinedMetricType': 'SageMakerVariantInvocationsPerInstance'},\n",
       "     'ScaleOutCooldown': 300,\n",
       "     'ScaleInCooldown': 600},\n",
       "    'Alarms': [{'AlarmName': 'TargetTracking-endpoint/bge-m3-2024-10-08-06-02-35-097-endpoint/variant/variant1-AlarmHigh-9280042a-bac5-4fcf-84fb-f7664f372742',\n",
       "      'AlarmARN': 'arn:aws:cloudwatch:us-west-2:434444145045:alarm:TargetTracking-endpoint/bge-m3-2024-10-08-06-02-35-097-endpoint/variant/variant1-AlarmHigh-9280042a-bac5-4fcf-84fb-f7664f372742'},\n",
       "     {'AlarmName': 'TargetTracking-endpoint/bge-m3-2024-10-08-06-02-35-097-endpoint/variant/variant1-AlarmLow-99dde125-d8fc-45a7-85ad-0db470bcc5f2',\n",
       "      'AlarmARN': 'arn:aws:cloudwatch:us-west-2:434444145045:alarm:TargetTracking-endpoint/bge-m3-2024-10-08-06-02-35-097-endpoint/variant/variant1-AlarmLow-99dde125-d8fc-45a7-85ad-0db470bcc5f2'}],\n",
       "    'CreationTime': datetime.datetime(2024, 10, 8, 7, 1, 59, 561000, tzinfo=tzlocal())}],\n",
       "  'ResponseMetadata': {'RequestId': 'e1242d6a-263a-47a4-9698-616936fa36a3',\n",
       "   'HTTPStatusCode': 200,\n",
       "   'HTTPHeaders': {'x-amzn-requestid': 'e1242d6a-263a-47a4-9698-616936fa36a3',\n",
       "    'content-type': 'application/x-amz-json-1.1',\n",
       "    'content-length': '1417',\n",
       "    'date': 'Tue, 08 Oct 2024 07:02:02 GMT'},\n",
       "   'RetryAttempts': 0}},\n",
       " {'ScalableTargets': [{'ServiceNamespace': 'sagemaker',\n",
       "    'ResourceId': 'endpoint/bge-m3-2024-10-08-06-02-35-097-endpoint/variant/variant1',\n",
       "    'ScalableDimension': 'sagemaker:variant:DesiredInstanceCount',\n",
       "    'MinCapacity': 1,\n",
       "    'MaxCapacity': 2,\n",
       "    'RoleARN': 'arn:aws:iam::434444145045:role/aws-service-role/sagemaker.application-autoscaling.amazonaws.com/AWSServiceRoleForApplicationAutoScaling_SageMakerEndpoint',\n",
       "    'CreationTime': datetime.datetime(2024, 10, 8, 7, 0, 44, 935000, tzinfo=tzlocal()),\n",
       "    'SuspendedState': {'DynamicScalingInSuspended': False,\n",
       "     'DynamicScalingOutSuspended': False,\n",
       "     'ScheduledScalingSuspended': False},\n",
       "    'ScalableTargetARN': 'arn:aws:application-autoscaling:us-west-2:434444145045:scalable-target/056m06b830325f7a4107bf25b769132bdc76'}],\n",
       "  'ResponseMetadata': {'RequestId': 'b3f24375-52ae-4e49-ba5b-fdb18a124747',\n",
       "   'HTTPStatusCode': 200,\n",
       "   'HTTPHeaders': {'x-amzn-requestid': 'b3f24375-52ae-4e49-ba5b-fdb18a124747',\n",
       "    'content-type': 'application/x-amz-json-1.1',\n",
       "    'content-length': '678',\n",
       "    'date': 'Tue, 08 Oct 2024 07:02:02 GMT'},\n",
       "   'RetryAttempts': 0}})"
      ]
     },
     "execution_count": 78,
     "metadata": {},
     "output_type": "execute_result"
    }
   ],
   "source": [
    "scaling_policies,scalable_targets"
   ]
  },
  {
   "cell_type": "markdown",
   "id": "dddba20e-fc18-480d-9940-ae39695ac450",
   "metadata": {},
   "source": [
    "### 5. 模型测试"
   ]
  },
  {
   "cell_type": "code",
   "execution_count": 83,
   "id": "1f28db25-6996-440c-b004-14f96cfd982d",
   "metadata": {
    "tags": []
   },
   "outputs": [],
   "source": [
    "def get_vector_by_sm_endpoint(questions, sm_client, endpoint_name):\n",
    "    parameters = {\n",
    "    }\n",
    "\n",
    "    response_model = sm_client.invoke_endpoint(\n",
    "        EndpointName=endpoint_name,\n",
    "        Body=json.dumps(\n",
    "            {\n",
    "                \"inputs\": questions,\n",
    "                 \"batch_size\": len(questions),\n",
    "                \"max_length\":2000,\n",
    "                \"return_type\":\"all\"\n",
    "            }\n",
    "        ),\n",
    "        ContentType=\"application/json\",\n",
    "    )\n",
    "    json_str = response_model['Body'].read().decode('utf8')\n",
    "    json_obj = json.loads(json_str)\n",
    "    embeddings = json_obj['sentence_embeddings']\n",
    "    return embeddings"
   ]
  },
  {
   "cell_type": "code",
   "execution_count": 84,
   "id": "52d4f56a-092e-4a6a-a920-48550ec9f20c",
   "metadata": {
    "tags": []
   },
   "outputs": [],
   "source": [
    "prompts1=[\"CUDA 是由 NVIDIA 创建的一个并行计算平台和编程模型，它让开发者可以使用 NVIDIA 的 GPU 进行高性能的并行计算。\",\n",
    "          \"NVIDIA GPUs power millions of desktops, notebooks, workstations and supercomputers around the world, accelerating computationally-intensive tasks for consumers, professionals, scientists, and researchers.\"]\n",
    "for i in range(1):\n",
    "    emb = get_vector_by_sm_endpoint(prompts1, smr_client, endpoint_name)"
   ]
  },
  {
   "cell_type": "code",
   "execution_count": 41,
   "id": "2ea82819-1c9f-493c-8bda-5b1e16f056cf",
   "metadata": {
    "tags": []
   },
   "outputs": [],
   "source": [
    "import numpy as np\n",
    "def cos_sim(vector1, vector2):\n",
    "    dot_product = np.dot(vector1, vector2)\n",
    "    norm_v1 = np.linalg.norm(vector1)\n",
    "    norm_v2 = np.linalg.norm(vector2)\n",
    "    cos_sim = dot_product / (norm_v1 * norm_v2)\n",
    "    return cos_sim"
   ]
  },
  {
   "cell_type": "code",
   "execution_count": 91,
   "id": "a5405fd1-de93-420c-9f75-e33d32cf64a9",
   "metadata": {
    "tags": []
   },
   "outputs": [
    {
     "data": {
      "text/plain": [
       "dict_keys(['dense_vecs', 'lexical_weights', 'colbert_vecs'])"
      ]
     },
     "execution_count": 91,
     "metadata": {},
     "output_type": "execute_result"
    }
   ],
   "source": [
    "emb.keys()"
   ]
  },
  {
   "cell_type": "code",
   "execution_count": 101,
   "id": "2f59bd2e-5f8a-42ae-bfc0-6e7d05ae209b",
   "metadata": {
    "tags": []
   },
   "outputs": [
    {
     "data": {
      "text/plain": [
       "0.6575192888975284"
      ]
     },
     "execution_count": 101,
     "metadata": {},
     "output_type": "execute_result"
    }
   ],
   "source": [
    "cos_sim(emb['dense_vecs'][0],emb['dense_vecs'][1])"
   ]
  },
  {
   "cell_type": "code",
   "execution_count": 100,
   "id": "24568a40-6ec7-471b-b4db-844d1e5d271d",
   "metadata": {
    "tags": []
   },
   "outputs": [
    {
     "data": {
      "text/plain": [
       "35"
      ]
     },
     "execution_count": 100,
     "metadata": {},
     "output_type": "execute_result"
    }
   ],
   "source": [
    "len(emb['colbert_vecs'][0])"
   ]
  },
  {
   "cell_type": "code",
   "execution_count": 105,
   "id": "c603010a-832b-4345-9db8-97cccb522af7",
   "metadata": {
    "tags": []
   },
   "outputs": [
    {
     "data": {
      "text/plain": [
       "{'194826': 0.359130859375,\n",
       " '162808': 0.325439453125,\n",
       " '7': 0.2054443359375,\n",
       " '14537': 0.284912109375,\n",
       " '43077': 0.2130126953125,\n",
       " '111': 0.1492919921875,\n",
       " '86983': 0.2353515625,\n",
       " '4': 0.093017578125,\n",
       " '74305': 0.2216796875,\n",
       " '4488': 0.11273193359375,\n",
       " '41311': 0.1810302734375,\n",
       " '136': 0.060638427734375,\n",
       " '1601': 0.150390625,\n",
       " '164511': 0.227294921875,\n",
       " '10932': 0.1341552734375,\n",
       " '8999': 0.169677734375,\n",
       " '197108': 0.2099609375,\n",
       " '214': 0.142578125,\n",
       " '181135': 0.1702880859375,\n",
       " '43315': 0.07598876953125,\n",
       " '29272': 0.162109375,\n",
       " '29888': 0.0716552734375,\n",
       " '66211': 0.199951171875,\n",
       " '100': 0.11968994140625,\n",
       " '107222': 0.193115234375,\n",
       " '50582': 0.143310546875,\n",
       " '172647': 0.1378173828125,\n",
       " '25188': 0.14013671875,\n",
       " '1314': 0.08172607421875,\n",
       " '5': 0.073486328125}"
      ]
     },
     "execution_count": 105,
     "metadata": {},
     "output_type": "execute_result"
    }
   ],
   "source": [
    "emb['lexical_weights'][1]"
   ]
  },
  {
   "cell_type": "code",
   "execution_count": null,
   "id": "ccf42633-6fb7-4bdf-8aa8-6853b9d6ffaf",
   "metadata": {},
   "outputs": [],
   "source": []
  },
  {
   "cell_type": "markdown",
   "id": "328d16bf-6f28-46cf-af31-f8c32017ca6a",
   "metadata": {},
   "source": [
    "#### 清除模型Endpoint和config （如无需要，不要执行）"
   ]
  },
  {
   "cell_type": "code",
   "execution_count": null,
   "id": "aa0d6623-236d-4a5d-8360-4b07f8d8d40c",
   "metadata": {
    "tags": []
   },
   "outputs": [],
   "source": [
    "!aws sagemaker delete-endpoint --endpoint-name bge-large-en-2023-08-16-09-58-49-900-endpoint"
   ]
  },
  {
   "cell_type": "code",
   "execution_count": null,
   "id": "36281bf3-b6f5-450f-b1b8-9f1285b1dad0",
   "metadata": {
    "tags": []
   },
   "outputs": [],
   "source": [
    "!aws sagemaker delete-endpoint-config --endpoint-config-name bge-large-en-2023-08-16-09-58-49-900-config"
   ]
  },
  {
   "cell_type": "code",
   "execution_count": null,
   "id": "f9700aff",
   "metadata": {},
   "outputs": [],
   "source": [
    "!aws sagemaker delete-model --model-name bge-large-en-2023-08-16-09-58-49-900"
   ]
  }
 ],
 "metadata": {
  "availableInstances": [
   {
    "_defaultOrder": 0,
    "_isFastLaunch": true,
    "category": "General purpose",
    "gpuNum": 0,
    "hideHardwareSpecs": false,
    "memoryGiB": 4,
    "name": "ml.t3.medium",
    "vcpuNum": 2
   },
   {
    "_defaultOrder": 1,
    "_isFastLaunch": false,
    "category": "General purpose",
    "gpuNum": 0,
    "hideHardwareSpecs": false,
    "memoryGiB": 8,
    "name": "ml.t3.large",
    "vcpuNum": 2
   },
   {
    "_defaultOrder": 2,
    "_isFastLaunch": false,
    "category": "General purpose",
    "gpuNum": 0,
    "hideHardwareSpecs": false,
    "memoryGiB": 16,
    "name": "ml.t3.xlarge",
    "vcpuNum": 4
   },
   {
    "_defaultOrder": 3,
    "_isFastLaunch": false,
    "category": "General purpose",
    "gpuNum": 0,
    "hideHardwareSpecs": false,
    "memoryGiB": 32,
    "name": "ml.t3.2xlarge",
    "vcpuNum": 8
   },
   {
    "_defaultOrder": 4,
    "_isFastLaunch": true,
    "category": "General purpose",
    "gpuNum": 0,
    "hideHardwareSpecs": false,
    "memoryGiB": 8,
    "name": "ml.m5.large",
    "vcpuNum": 2
   },
   {
    "_defaultOrder": 5,
    "_isFastLaunch": false,
    "category": "General purpose",
    "gpuNum": 0,
    "hideHardwareSpecs": false,
    "memoryGiB": 16,
    "name": "ml.m5.xlarge",
    "vcpuNum": 4
   },
   {
    "_defaultOrder": 6,
    "_isFastLaunch": false,
    "category": "General purpose",
    "gpuNum": 0,
    "hideHardwareSpecs": false,
    "memoryGiB": 32,
    "name": "ml.m5.2xlarge",
    "vcpuNum": 8
   },
   {
    "_defaultOrder": 7,
    "_isFastLaunch": false,
    "category": "General purpose",
    "gpuNum": 0,
    "hideHardwareSpecs": false,
    "memoryGiB": 64,
    "name": "ml.m5.4xlarge",
    "vcpuNum": 16
   },
   {
    "_defaultOrder": 8,
    "_isFastLaunch": false,
    "category": "General purpose",
    "gpuNum": 0,
    "hideHardwareSpecs": false,
    "memoryGiB": 128,
    "name": "ml.m5.8xlarge",
    "vcpuNum": 32
   },
   {
    "_defaultOrder": 9,
    "_isFastLaunch": false,
    "category": "General purpose",
    "gpuNum": 0,
    "hideHardwareSpecs": false,
    "memoryGiB": 192,
    "name": "ml.m5.12xlarge",
    "vcpuNum": 48
   },
   {
    "_defaultOrder": 10,
    "_isFastLaunch": false,
    "category": "General purpose",
    "gpuNum": 0,
    "hideHardwareSpecs": false,
    "memoryGiB": 256,
    "name": "ml.m5.16xlarge",
    "vcpuNum": 64
   },
   {
    "_defaultOrder": 11,
    "_isFastLaunch": false,
    "category": "General purpose",
    "gpuNum": 0,
    "hideHardwareSpecs": false,
    "memoryGiB": 384,
    "name": "ml.m5.24xlarge",
    "vcpuNum": 96
   },
   {
    "_defaultOrder": 12,
    "_isFastLaunch": false,
    "category": "General purpose",
    "gpuNum": 0,
    "hideHardwareSpecs": false,
    "memoryGiB": 8,
    "name": "ml.m5d.large",
    "vcpuNum": 2
   },
   {
    "_defaultOrder": 13,
    "_isFastLaunch": false,
    "category": "General purpose",
    "gpuNum": 0,
    "hideHardwareSpecs": false,
    "memoryGiB": 16,
    "name": "ml.m5d.xlarge",
    "vcpuNum": 4
   },
   {
    "_defaultOrder": 14,
    "_isFastLaunch": false,
    "category": "General purpose",
    "gpuNum": 0,
    "hideHardwareSpecs": false,
    "memoryGiB": 32,
    "name": "ml.m5d.2xlarge",
    "vcpuNum": 8
   },
   {
    "_defaultOrder": 15,
    "_isFastLaunch": false,
    "category": "General purpose",
    "gpuNum": 0,
    "hideHardwareSpecs": false,
    "memoryGiB": 64,
    "name": "ml.m5d.4xlarge",
    "vcpuNum": 16
   },
   {
    "_defaultOrder": 16,
    "_isFastLaunch": false,
    "category": "General purpose",
    "gpuNum": 0,
    "hideHardwareSpecs": false,
    "memoryGiB": 128,
    "name": "ml.m5d.8xlarge",
    "vcpuNum": 32
   },
   {
    "_defaultOrder": 17,
    "_isFastLaunch": false,
    "category": "General purpose",
    "gpuNum": 0,
    "hideHardwareSpecs": false,
    "memoryGiB": 192,
    "name": "ml.m5d.12xlarge",
    "vcpuNum": 48
   },
   {
    "_defaultOrder": 18,
    "_isFastLaunch": false,
    "category": "General purpose",
    "gpuNum": 0,
    "hideHardwareSpecs": false,
    "memoryGiB": 256,
    "name": "ml.m5d.16xlarge",
    "vcpuNum": 64
   },
   {
    "_defaultOrder": 19,
    "_isFastLaunch": false,
    "category": "General purpose",
    "gpuNum": 0,
    "hideHardwareSpecs": false,
    "memoryGiB": 384,
    "name": "ml.m5d.24xlarge",
    "vcpuNum": 96
   },
   {
    "_defaultOrder": 20,
    "_isFastLaunch": false,
    "category": "General purpose",
    "gpuNum": 0,
    "hideHardwareSpecs": true,
    "memoryGiB": 0,
    "name": "ml.geospatial.interactive",
    "supportedImageNames": [
     "sagemaker-geospatial-v1-0"
    ],
    "vcpuNum": 0
   },
   {
    "_defaultOrder": 21,
    "_isFastLaunch": true,
    "category": "Compute optimized",
    "gpuNum": 0,
    "hideHardwareSpecs": false,
    "memoryGiB": 4,
    "name": "ml.c5.large",
    "vcpuNum": 2
   },
   {
    "_defaultOrder": 22,
    "_isFastLaunch": false,
    "category": "Compute optimized",
    "gpuNum": 0,
    "hideHardwareSpecs": false,
    "memoryGiB": 8,
    "name": "ml.c5.xlarge",
    "vcpuNum": 4
   },
   {
    "_defaultOrder": 23,
    "_isFastLaunch": false,
    "category": "Compute optimized",
    "gpuNum": 0,
    "hideHardwareSpecs": false,
    "memoryGiB": 16,
    "name": "ml.c5.2xlarge",
    "vcpuNum": 8
   },
   {
    "_defaultOrder": 24,
    "_isFastLaunch": false,
    "category": "Compute optimized",
    "gpuNum": 0,
    "hideHardwareSpecs": false,
    "memoryGiB": 32,
    "name": "ml.c5.4xlarge",
    "vcpuNum": 16
   },
   {
    "_defaultOrder": 25,
    "_isFastLaunch": false,
    "category": "Compute optimized",
    "gpuNum": 0,
    "hideHardwareSpecs": false,
    "memoryGiB": 72,
    "name": "ml.c5.9xlarge",
    "vcpuNum": 36
   },
   {
    "_defaultOrder": 26,
    "_isFastLaunch": false,
    "category": "Compute optimized",
    "gpuNum": 0,
    "hideHardwareSpecs": false,
    "memoryGiB": 96,
    "name": "ml.c5.12xlarge",
    "vcpuNum": 48
   },
   {
    "_defaultOrder": 27,
    "_isFastLaunch": false,
    "category": "Compute optimized",
    "gpuNum": 0,
    "hideHardwareSpecs": false,
    "memoryGiB": 144,
    "name": "ml.c5.18xlarge",
    "vcpuNum": 72
   },
   {
    "_defaultOrder": 28,
    "_isFastLaunch": false,
    "category": "Compute optimized",
    "gpuNum": 0,
    "hideHardwareSpecs": false,
    "memoryGiB": 192,
    "name": "ml.c5.24xlarge",
    "vcpuNum": 96
   },
   {
    "_defaultOrder": 29,
    "_isFastLaunch": true,
    "category": "Accelerated computing",
    "gpuNum": 1,
    "hideHardwareSpecs": false,
    "memoryGiB": 16,
    "name": "ml.g4dn.xlarge",
    "vcpuNum": 4
   },
   {
    "_defaultOrder": 30,
    "_isFastLaunch": false,
    "category": "Accelerated computing",
    "gpuNum": 1,
    "hideHardwareSpecs": false,
    "memoryGiB": 32,
    "name": "ml.g4dn.2xlarge",
    "vcpuNum": 8
   },
   {
    "_defaultOrder": 31,
    "_isFastLaunch": false,
    "category": "Accelerated computing",
    "gpuNum": 1,
    "hideHardwareSpecs": false,
    "memoryGiB": 64,
    "name": "ml.g4dn.4xlarge",
    "vcpuNum": 16
   },
   {
    "_defaultOrder": 32,
    "_isFastLaunch": false,
    "category": "Accelerated computing",
    "gpuNum": 1,
    "hideHardwareSpecs": false,
    "memoryGiB": 128,
    "name": "ml.g4dn.8xlarge",
    "vcpuNum": 32
   },
   {
    "_defaultOrder": 33,
    "_isFastLaunch": false,
    "category": "Accelerated computing",
    "gpuNum": 4,
    "hideHardwareSpecs": false,
    "memoryGiB": 192,
    "name": "ml.g4dn.12xlarge",
    "vcpuNum": 48
   },
   {
    "_defaultOrder": 34,
    "_isFastLaunch": false,
    "category": "Accelerated computing",
    "gpuNum": 1,
    "hideHardwareSpecs": false,
    "memoryGiB": 256,
    "name": "ml.g4dn.16xlarge",
    "vcpuNum": 64
   },
   {
    "_defaultOrder": 35,
    "_isFastLaunch": false,
    "category": "Accelerated computing",
    "gpuNum": 1,
    "hideHardwareSpecs": false,
    "memoryGiB": 61,
    "name": "ml.p3.2xlarge",
    "vcpuNum": 8
   },
   {
    "_defaultOrder": 36,
    "_isFastLaunch": false,
    "category": "Accelerated computing",
    "gpuNum": 4,
    "hideHardwareSpecs": false,
    "memoryGiB": 244,
    "name": "ml.p3.8xlarge",
    "vcpuNum": 32
   },
   {
    "_defaultOrder": 37,
    "_isFastLaunch": false,
    "category": "Accelerated computing",
    "gpuNum": 8,
    "hideHardwareSpecs": false,
    "memoryGiB": 488,
    "name": "ml.p3.16xlarge",
    "vcpuNum": 64
   },
   {
    "_defaultOrder": 38,
    "_isFastLaunch": false,
    "category": "Accelerated computing",
    "gpuNum": 8,
    "hideHardwareSpecs": false,
    "memoryGiB": 768,
    "name": "ml.p3dn.24xlarge",
    "vcpuNum": 96
   },
   {
    "_defaultOrder": 39,
    "_isFastLaunch": false,
    "category": "Memory Optimized",
    "gpuNum": 0,
    "hideHardwareSpecs": false,
    "memoryGiB": 16,
    "name": "ml.r5.large",
    "vcpuNum": 2
   },
   {
    "_defaultOrder": 40,
    "_isFastLaunch": false,
    "category": "Memory Optimized",
    "gpuNum": 0,
    "hideHardwareSpecs": false,
    "memoryGiB": 32,
    "name": "ml.r5.xlarge",
    "vcpuNum": 4
   },
   {
    "_defaultOrder": 41,
    "_isFastLaunch": false,
    "category": "Memory Optimized",
    "gpuNum": 0,
    "hideHardwareSpecs": false,
    "memoryGiB": 64,
    "name": "ml.r5.2xlarge",
    "vcpuNum": 8
   },
   {
    "_defaultOrder": 42,
    "_isFastLaunch": false,
    "category": "Memory Optimized",
    "gpuNum": 0,
    "hideHardwareSpecs": false,
    "memoryGiB": 128,
    "name": "ml.r5.4xlarge",
    "vcpuNum": 16
   },
   {
    "_defaultOrder": 43,
    "_isFastLaunch": false,
    "category": "Memory Optimized",
    "gpuNum": 0,
    "hideHardwareSpecs": false,
    "memoryGiB": 256,
    "name": "ml.r5.8xlarge",
    "vcpuNum": 32
   },
   {
    "_defaultOrder": 44,
    "_isFastLaunch": false,
    "category": "Memory Optimized",
    "gpuNum": 0,
    "hideHardwareSpecs": false,
    "memoryGiB": 384,
    "name": "ml.r5.12xlarge",
    "vcpuNum": 48
   },
   {
    "_defaultOrder": 45,
    "_isFastLaunch": false,
    "category": "Memory Optimized",
    "gpuNum": 0,
    "hideHardwareSpecs": false,
    "memoryGiB": 512,
    "name": "ml.r5.16xlarge",
    "vcpuNum": 64
   },
   {
    "_defaultOrder": 46,
    "_isFastLaunch": false,
    "category": "Memory Optimized",
    "gpuNum": 0,
    "hideHardwareSpecs": false,
    "memoryGiB": 768,
    "name": "ml.r5.24xlarge",
    "vcpuNum": 96
   },
   {
    "_defaultOrder": 47,
    "_isFastLaunch": false,
    "category": "Accelerated computing",
    "gpuNum": 1,
    "hideHardwareSpecs": false,
    "memoryGiB": 16,
    "name": "ml.g5.xlarge",
    "vcpuNum": 4
   },
   {
    "_defaultOrder": 48,
    "_isFastLaunch": false,
    "category": "Accelerated computing",
    "gpuNum": 1,
    "hideHardwareSpecs": false,
    "memoryGiB": 32,
    "name": "ml.g5.2xlarge",
    "vcpuNum": 8
   },
   {
    "_defaultOrder": 49,
    "_isFastLaunch": false,
    "category": "Accelerated computing",
    "gpuNum": 1,
    "hideHardwareSpecs": false,
    "memoryGiB": 64,
    "name": "ml.g5.4xlarge",
    "vcpuNum": 16
   },
   {
    "_defaultOrder": 50,
    "_isFastLaunch": false,
    "category": "Accelerated computing",
    "gpuNum": 1,
    "hideHardwareSpecs": false,
    "memoryGiB": 128,
    "name": "ml.g5.8xlarge",
    "vcpuNum": 32
   },
   {
    "_defaultOrder": 51,
    "_isFastLaunch": false,
    "category": "Accelerated computing",
    "gpuNum": 1,
    "hideHardwareSpecs": false,
    "memoryGiB": 256,
    "name": "ml.g5.16xlarge",
    "vcpuNum": 64
   },
   {
    "_defaultOrder": 52,
    "_isFastLaunch": false,
    "category": "Accelerated computing",
    "gpuNum": 4,
    "hideHardwareSpecs": false,
    "memoryGiB": 192,
    "name": "ml.g5.12xlarge",
    "vcpuNum": 48
   },
   {
    "_defaultOrder": 53,
    "_isFastLaunch": false,
    "category": "Accelerated computing",
    "gpuNum": 4,
    "hideHardwareSpecs": false,
    "memoryGiB": 384,
    "name": "ml.g5.24xlarge",
    "vcpuNum": 96
   },
   {
    "_defaultOrder": 54,
    "_isFastLaunch": false,
    "category": "Accelerated computing",
    "gpuNum": 8,
    "hideHardwareSpecs": false,
    "memoryGiB": 768,
    "name": "ml.g5.48xlarge",
    "vcpuNum": 192
   },
   {
    "_defaultOrder": 55,
    "_isFastLaunch": false,
    "category": "Accelerated computing",
    "gpuNum": 8,
    "hideHardwareSpecs": false,
    "memoryGiB": 1152,
    "name": "ml.p4d.24xlarge",
    "vcpuNum": 96
   },
   {
    "_defaultOrder": 56,
    "_isFastLaunch": false,
    "category": "Accelerated computing",
    "gpuNum": 8,
    "hideHardwareSpecs": false,
    "memoryGiB": 1152,
    "name": "ml.p4de.24xlarge",
    "vcpuNum": 96
   }
  ],
  "instance_type": "ml.m5.large",
  "kernelspec": {
   "display_name": "conda_python3",
   "language": "python",
   "name": "conda_python3"
  },
  "language_info": {
   "codemirror_mode": {
    "name": "ipython",
    "version": 3
   },
   "file_extension": ".py",
   "mimetype": "text/x-python",
   "name": "python",
   "nbconvert_exporter": "python",
   "pygments_lexer": "ipython3",
   "version": "3.10.14"
  }
 },
 "nbformat": 4,
 "nbformat_minor": 5
}
