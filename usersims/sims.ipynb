{
 "cells": [
  {
   "cell_type": "markdown",
   "metadata": {},
   "source": [
    "# 用户行为模拟\n"
   ]
  },
  {
   "cell_type": "markdown",
   "metadata": {
    "ExecuteTime": {
     "end_time": "2020-03-15T05:11:22.087864Z",
     "start_time": "2020-03-15T05:11:22.080659Z"
    }
   },
   "source": [
    "* ## 模型设置"
   ]
  },
  {
   "cell_type": "markdown",
   "metadata": {},
   "source": [
    "> 用户建模  \n",
    "* 用户信息base  \n",
    "* 行为behaviorbase, 定义每种行为，用户付出的行为量化值（聊天轮数，时长，登陆次数，评论次数等）和获取的奖励\n",
    "* action\n",
    "\n",
    "\n"
   ]
  },
  {
   "cell_type": "code",
   "execution_count": 3,
   "metadata": {
    "ExecuteTime": {
     "end_time": "2020-03-27T05:16:54.255540Z",
     "start_time": "2020-03-27T05:16:53.667216Z"
    }
   },
   "outputs": [],
   "source": [
    "import numpy as np\n",
    "from scipy.stats import halfgennorm,gennorm"
   ]
  },
  {
   "cell_type": "code",
   "execution_count": 84,
   "metadata": {
    "ExecuteTime": {
     "end_time": "2020-03-27T05:16:55.155899Z",
     "start_time": "2020-03-27T05:16:55.127391Z"
    }
   },
   "outputs": [],
   "source": [
    "class behaviorBase:\n",
    "    def __init__():\n",
    "        return\n",
    "    def generate_qty(self):\n",
    "        # to be implemented\n",
    "        return\n",
    "    \n",
    "    def generate_reward(self):\n",
    "        # to be implemented\n",
    "        return\n",
    "    \n",
    "    #行为量化值 如观看时间，登陆\n",
    "    def getQty(self): \n",
    "        self.behavior_qty=self.generate_qty()\n",
    "        return self.behavior_qty \n",
    "\n",
    "    def getReward(self):\n",
    "        self.reward=self.generate_reward()\n",
    "        return self.reward\n",
    "\n",
    "#观看行为\n",
    "class view(behaviorBase):\n",
    "    def __init__(self,*rnd,size,exchange):\n",
    "        self.size = size #日活数量\n",
    "        self.rnd = rnd #模拟的指数分布参数\n",
    "        self.exchange = exchange # 行为qty对应的奖励换算比例\n",
    "        \n",
    "    def generate_qty(self):\n",
    "        r = np.random.exponential(*self.rnd,self.size)\n",
    "        self.qty = np.array(list(map(int,r))) #转化成int型\n",
    "        return self.qty \n",
    "    \n",
    "    def generate_reward(self):\n",
    "        return self.qty *self.exchange\n",
    "\n",
    "#首启-新用户\n",
    "class firsttime_start(behaviorBase):\n",
    "    def __init__(self,size,ratio,exchange):\n",
    "        self.size = size*ratio #size*新用户比例\n",
    "        self.exchange = exchange # 行为qty对应的奖励换算比例\n",
    "        \n",
    "    def generate_qty(self):\n",
    "        self.qty = self.size #数量=每日新用户\n",
    "        return self.qty \n",
    "    \n",
    "    def generate_reward(self):\n",
    "        return self.qty *self.exchange\n",
    "    \n",
    "#首次关注\n",
    "class firstsub_start(behaviorBase):\n",
    "    def __init__(self,size,ratio,exchange):\n",
    "        self.size = size*ratio #size*首次关注的比例\n",
    "        self.exchange = exchange # 行为qty对应的奖励换算比例\n",
    "        \n",
    "    def generate_qty(self):\n",
    "        self.qty = self.size #数量=每日新用户\n",
    "        return self.qty \n",
    "    \n",
    "    def generate_reward(self):\n",
    "        return self.qty *self.exchange\n",
    "    \n",
    "    \n",
    "#评论\n",
    "class comment(behaviorBase):\n",
    "    def __init__(self,*rnd,size,exchange):\n",
    "        self.rnd= rnd\n",
    "        self.size =  size   \n",
    "        self.exchange = exchange # 行为qty对应的奖励换算比例\n",
    "        \n",
    "    def generate_qty(self):\n",
    "        r = np.random.exponential(*self.rnd,self.size) #评论呈现出指数分布，最多的是0\n",
    "        self.qty = np.array(list(map(int,r))) #转化成int型\n",
    "        return self.qty \n",
    "    \n",
    "    def generate_reward(self):\n",
    "        return self.qty *self.exchange"
   ]
  },
  {
   "cell_type": "code",
   "execution_count": 5,
   "metadata": {
    "ExecuteTime": {
     "end_time": "2020-03-27T05:16:55.554433Z",
     "start_time": "2020-03-27T05:16:55.547695Z"
    }
   },
   "outputs": [],
   "source": [
    "class actionBase:\n",
    "    def __init__(self):\n",
    "        return\n",
    "    \n",
    "    def call_act(self):\n",
    "        #do actions\n",
    "        return"
   ]
  },
  {
   "cell_type": "code",
   "execution_count": 6,
   "metadata": {
    "ExecuteTime": {
     "end_time": "2020-03-27T05:16:55.922941Z",
     "start_time": "2020-03-27T05:16:55.915801Z"
    }
   },
   "outputs": [],
   "source": [
    "class userBase(actionBase):\n",
    "    def __init__(self,new_ratio):\n",
    "        self.new_ratio = new_ratio\n",
    "        \n",
    "    def call_act():\n",
    "        pass"
   ]
  },
  {
   "cell_type": "code",
   "execution_count": 7,
   "metadata": {
    "ExecuteTime": {
     "end_time": "2020-03-27T05:16:57.094456Z",
     "start_time": "2020-03-27T05:16:56.195286Z"
    }
   },
   "outputs": [],
   "source": [
    "import matplotlib.pyplot as plt\n",
    "import seaborn as sns\n",
    "import pandas as pd\n",
    "%matplotlib inline"
   ]
  },
  {
   "cell_type": "code",
   "execution_count": 189,
   "metadata": {},
   "outputs": [],
   "source": [
    "DAU = int(1e5)\n",
    "r = 10"
   ]
  },
  {
   "cell_type": "code",
   "execution_count": 193,
   "metadata": {
    "ExecuteTime": {
     "end_time": "2020-03-27T05:16:57.104142Z",
     "start_time": "2020-03-27T05:16:57.098442Z"
    }
   },
   "outputs": [
    {
     "data": {
      "text/plain": [
       "<Axes: ylabel='Count'>"
      ]
     },
     "execution_count": 193,
     "metadata": {},
     "output_type": "execute_result"
    },
    {
     "data": {
      "image/png": "[encoded data removed]",
      "text/plain": [
       "<Figure size 640x480 with 1 Axes>"
      ]
     },
     "metadata": {},
     "output_type": "display_data"
    }
   ],
   "source": [
    "t_rounds = np.random.exponential((r),(DAU))\n",
    "# sns.distplot(list(map(int,t)))\n",
    "sns.histplot(t_rounds)"
   ]
  },
  {
   "cell_type": "code",
   "execution_count": 194,
   "metadata": {},
   "outputs": [
    {
     "data": {
      "text/plain": [
       "count    100000.000000\n",
       "mean          9.997552\n",
       "std           9.981791\n",
       "min           0.000044\n",
       "25%           2.897775\n",
       "50%           6.941277\n",
       "75%          13.825704\n",
       "max         120.601886\n",
       "dtype: float64"
      ]
     },
     "execution_count": 194,
     "metadata": {},
     "output_type": "execute_result"
    }
   ],
   "source": [
    "pd.Series(t_rounds).describe()"
   ]
  },
  {
   "cell_type": "code",
   "execution_count": 105,
   "metadata": {
    "ExecuteTime": {
     "end_time": "2020-03-27T05:16:57.113219Z",
     "start_time": "2020-03-27T05:16:57.108287Z"
    }
   },
   "outputs": [],
   "source": [
    "def calc_rate(input_tokens,output_tokens,model='sonnet'):\n",
    "    if model == 'sonnet':\n",
    "        in_token_rate = 3/1e6\n",
    "        out_token_rate = 15/1e6\n",
    "    elif model == 'haiku':\n",
    "        in_token_rate = 0.25/1e6\n",
    "        out_token_rate = 1.25/1e6\n",
    "    elif model == 'opus':\n",
    "        in_token_rate = 15/1e6\n",
    "        out_token_rate = 75/1e6\n",
    "    return in_token_rate*input_tokens+out_token_rate*output_tokens"
   ]
  },
  {
   "cell_type": "code",
   "execution_count": 195,
   "metadata": {},
   "outputs": [
    {
     "data": {
      "text/plain": [
       "<Axes: ylabel='Count'>"
      ]
     },
     "execution_count": 195,
     "metadata": {},
     "output_type": "execute_result"
    },
    {
     "data": {
      "image/png": "[encoded data removed]",
      "text/plain": [
       "<Figure size 640x480 with 1 Axes>"
      ]
     },
     "metadata": {},
     "output_type": "display_data"
    }
   ],
   "source": [
    "avg_input_round = 30\n",
    "avg_output_round = 100\n",
    "normal_dist = np.random.normal(loc=(avg_input_round,avg_output_round), scale=1, size=(DAU,2))\n",
    "sns.histplot(normal_dist)"
   ]
  },
  {
   "cell_type": "code",
   "execution_count": 196,
   "metadata": {},
   "outputs": [
    {
     "data": {
      "text/plain": [
       "(100000,)"
      ]
     },
     "execution_count": 196,
     "metadata": {},
     "output_type": "execute_result"
    }
   ],
   "source": [
    "avg_cost_round = calc_rate(normal_dist.T[0],normal_dist.T[1])\n",
    "avg_cost_round.shape"
   ]
  },
  {
   "cell_type": "code",
   "execution_count": 197,
   "metadata": {},
   "outputs": [],
   "source": [
    "rounds_cost = t_rounds * avg_cost_round"
   ]
  },
  {
   "cell_type": "code",
   "execution_count": 200,
   "metadata": {},
   "outputs": [
    {
     "name": "stdout",
     "output_type": "stream",
     "text": [
      "总rounds:999755,总cost:1589\n"
     ]
    },
    {
     "data": {
      "text/plain": [
       "<Axes: ylabel='Count'>"
      ]
     },
     "execution_count": 200,
     "metadata": {},
     "output_type": "execute_result"
    },
    {
     "data": {
      "image/png": "[encoded data removed]",
      "text/plain": [
       "<Figure size 640x480 with 1 Axes>"
      ]
     },
     "metadata": {},
     "output_type": "display_data"
    }
   ],
   "source": [
    "print('总rounds:%d,总cost:%d' %(t_rounds.sum(),rounds_cost.sum()))\n",
    "sns.histplot(rounds_cost)"
   ]
  },
  {
   "cell_type": "code",
   "execution_count": null,
   "metadata": {},
   "outputs": [],
   "source": []
  },
  {
   "cell_type": "code",
   "execution_count": 201,
   "metadata": {},
   "outputs": [
    {
     "data": {
      "text/plain": [
       "count    100000.000000\n",
       "mean          9.997552\n",
       "std           9.981791\n",
       "min           0.000044\n",
       "25%           2.897775\n",
       "50%           6.941277\n",
       "75%          13.825704\n",
       "max         120.601886\n",
       "dtype: float64"
      ]
     },
     "execution_count": 201,
     "metadata": {},
     "output_type": "execute_result"
    }
   ],
   "source": [
    "rounds_df = pd.Series(t_rounds)\n",
    "rounds_df.describe()"
   ]
  },
  {
   "cell_type": "code",
   "execution_count": 202,
   "metadata": {
    "ExecuteTime": {
     "end_time": "2020-03-16T01:47:00.222195Z",
     "start_time": "2020-03-16T01:47:00.136036Z"
    }
   },
   "outputs": [
    {
     "data": {
      "text/plain": [
       "count    1.000000e+05\n",
       "mean     1.589538e-02\n",
       "std      1.587272e-02\n",
       "min      6.892836e-08\n",
       "25%      4.604520e-03\n",
       "50%      1.103697e-02\n",
       "75%      2.198275e-02\n",
       "max      1.930125e-01\n",
       "dtype: float64"
      ]
     },
     "execution_count": 202,
     "metadata": {},
     "output_type": "execute_result"
    }
   ],
   "source": [
    "rounds_cost = pd.Series(rounds_cost)\n",
    "rounds_cost.describe()"
   ]
  },
  {
   "cell_type": "code",
   "execution_count": 203,
   "metadata": {},
   "outputs": [],
   "source": [
    "cost_pct = []\n",
    "total = rounds_cost.sum()\n",
    "for q in np.arange(0,1,0.05):\n",
    "    b = rounds_cost.quantile(q)\n",
    "    cost_pct.append([1-q,rounds_cost[rounds_cost>=b].sum()/total])\n",
    "    "
   ]
  },
  {
   "cell_type": "code",
   "execution_count": 204,
   "metadata": {},
   "outputs": [],
   "source": [
    "data = pd.DataFrame(cost_pct,columns=['x','y'])"
   ]
  },
  {
   "cell_type": "code",
   "execution_count": 205,
   "metadata": {},
   "outputs": [
    {
     "data": {
      "text/plain": [
       "<seaborn.axisgrid.FacetGrid at 0x7fddbd46bb20>"
      ]
     },
     "execution_count": 205,
     "metadata": {},
     "output_type": "execute_result"
    },
    {
     "data": {
      "image/png": "[encoded data removed]",
      "text/plain": [
       "<Figure size 500x500 with 1 Axes>"
      ]
     },
     "metadata": {},
     "output_type": "display_data"
    }
   ],
   "source": [
    "sns.relplot(data=data,x='x',y='y')"
   ]
  },
  {
   "cell_type": "code",
   "execution_count": null,
   "metadata": {},
   "outputs": [],
   "source": []
  },
  {
   "cell_type": "code",
   "execution_count": 355,
   "metadata": {
    "ExecuteTime": {
     "end_time": "2020-03-16T07:35:21.999930Z",
     "start_time": "2020-03-16T07:35:21.993861Z"
    }
   },
   "outputs": [],
   "source": [
    "from scipy import optimize"
   ]
  },
  {
   "cell_type": "code",
   "execution_count": 363,
   "metadata": {
    "ExecuteTime": {
     "end_time": "2020-03-16T08:47:30.039802Z",
     "start_time": "2020-03-16T08:47:30.015224Z"
    }
   },
   "outputs": [
    {
     "name": "stdout",
     "output_type": "stream",
     "text": [
      "     con: array([0.])\n",
      "     fun: -14.571428571428571\n",
      " message: 'Optimization terminated successfully.'\n",
      "     nit: 8\n",
      "   slack: array([0.        , 3.85714286])\n",
      "  status: 0\n",
      " success: True\n",
      "       x: array([6.42857143, 0.57142857, 0.        ])\n"
     ]
    }
   ],
   "source": [
    "c=np.array([2,3,-5])\n",
    "A_ub=np.array([[-2,5,-1],[1,3,1]])\n",
    "B_ub=np.array([-10,12])\n",
    "A_eq=np.array([[1,1,1]])\n",
    "B_eq=np.array([7])\n",
    "x1=(0,100)\n",
    "x2=(0,100)\n",
    "x3=(0,7)\n",
    "res=optimize.linprog(-c,A_ub,B_ub,A_eq,B_eq,bounds=(x1,x2,x3))\n",
    "print(res)"
   ]
  },
  {
   "cell_type": "code",
   "execution_count": 413,
   "metadata": {
    "ExecuteTime": {
     "end_time": "2020-03-26T11:09:31.308412Z",
     "start_time": "2020-03-26T11:09:31.304130Z"
    }
   },
   "outputs": [],
   "source": [
    "x = np.linspace(0,100,100)"
   ]
  },
  {
   "cell_type": "code",
   "execution_count": 414,
   "metadata": {
    "ExecuteTime": {
     "end_time": "2020-03-26T11:09:31.649063Z",
     "start_time": "2020-03-26T11:09:31.644643Z"
    }
   },
   "outputs": [],
   "source": [
    "y = np.log(3+2*x)\n",
    "y = np.exp(-10*x)"
   ]
  },
  {
   "cell_type": "code",
   "execution_count": 415,
   "metadata": {
    "ExecuteTime": {
     "end_time": "2020-03-26T11:09:32.222922Z",
     "start_time": "2020-03-26T11:09:31.996637Z"
    }
   },
   "outputs": [
    {
     "data": {
      "text/plain": [
       "[<matplotlib.lines.Line2D at 0x1a1b01d240>]"
      ]
     },
     "execution_count": 415,
     "metadata": {},
     "output_type": "execute_result"
    },
    {
     "data": {
      "image/png": "[encoded data removed]",
      "text/plain": [
       "<Figure size 432x288 with 1 Axes>"
      ]
     },
     "metadata": {
      "needs_background": "light"
     },
     "output_type": "display_data"
    }
   ],
   "source": [
    "plt.plot(x,y)"
   ]
  },
  {
   "cell_type": "code",
   "execution_count": 416,
   "metadata": {
    "ExecuteTime": {
     "end_time": "2020-03-26T11:11:27.292971Z",
     "start_time": "2020-03-26T11:11:27.280603Z"
    }
   },
   "outputs": [
    {
     "data": {
      "text/plain": [
       "array([ 2.04571528, 32.22290026, 11.01366368, 10.82994786,  2.77600893,\n",
       "        3.761561  , 22.96969816,  3.34054414,  0.83794107, 25.95941906])"
      ]
     },
     "execution_count": 416,
     "metadata": {},
     "output_type": "execute_result"
    }
   ],
   "source": [
    "np.random.exponential(10,10)"
   ]
  },
  {
   "cell_type": "code",
   "execution_count": null,
   "metadata": {},
   "outputs": [],
   "source": []
  }
 ],
 "metadata": {
  "kernelspec": {
   "display_name": "Python 3",
   "language": "python",
   "name": "python3"
  },
  "language_info": {
   "codemirror_mode": {
    "name": "ipython",
    "version": 3
   },
   "file_extension": ".py",
   "mimetype": "text/x-python",
   "name": "python",
   "nbconvert_exporter": "python",
   "pygments_lexer": "ipython3",
   "version": "3.10.13"
  }
 },
 "nbformat": 4,
 "nbformat_minor": 2
}
