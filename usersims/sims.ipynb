{
 "cells": [
  {
   "cell_type": "markdown",
   "metadata": {},
   "source": [
    "# 用户行为模拟\n"
   ]
  },
  {
   "cell_type": "markdown",
   "metadata": {
    "ExecuteTime": {
     "end_time": "2020-03-15T05:11:22.087864Z",
     "start_time": "2020-03-15T05:11:22.080659Z"
    }
   },
   "source": [
    "* ## 模型设置"
   ]
  },
  {
   "cell_type": "markdown",
   "metadata": {},
   "source": [
    "> 用户建模  \n",
    "* 用户信息base  \n",
    "* 行为behaviorbase, 定义每种行为，用户付出的行为量化值（聊天轮数，时长，登陆次数，评论次数等）和获取的奖励\n",
    "* action\n",
    "\n",
    "\n"
   ]
  },
  {
   "cell_type": "code",
   "execution_count": 2,
   "metadata": {
    "ExecuteTime": {
     "end_time": "2020-03-27T05:16:54.255540Z",
     "start_time": "2020-03-27T05:16:53.667216Z"
    }
   },
   "outputs": [],
   "source": [
    "import numpy as np\n",
    "from scipy.stats import halfgennorm,gennorm"
   ]
  },
  {
   "cell_type": "code",
   "execution_count": 3,
   "metadata": {
    "ExecuteTime": {
     "end_time": "2020-03-27T05:16:55.155899Z",
     "start_time": "2020-03-27T05:16:55.127391Z"
    }
   },
   "outputs": [],
   "source": [
    "class behaviorBase:\n",
    "    def __init__():\n",
    "        return\n",
    "    def generate_qty(self):\n",
    "        # to be implemented\n",
    "        return\n",
    "    \n",
    "    def generate_reward(self):\n",
    "        # to be implemented\n",
    "        return\n",
    "    \n",
    "    #行为量化值 如观看时间，登陆\n",
    "    def getQty(self): \n",
    "        self.behavior_qty=self.generate_qty()\n",
    "        return self.behavior_qty \n",
    "\n",
    "    def getReward(self):\n",
    "        self.reward=self.generate_reward()\n",
    "        return self.reward\n",
    "\n",
    "#观看行为\n",
    "class view(behaviorBase):\n",
    "    def __init__(self,*rnd,size,exchange):\n",
    "        self.size = size #日活数量\n",
    "        self.rnd = rnd #模拟的指数分布参数\n",
    "        self.exchange = exchange # 行为qty对应的奖励换算比例\n",
    "        \n",
    "    def generate_qty(self):\n",
    "        r = np.random.exponential(*self.rnd,self.size)\n",
    "        self.qty = np.array(list(map(int,r))) #转化成int型\n",
    "        return self.qty \n",
    "    \n",
    "    def generate_reward(self):\n",
    "        return self.qty *self.exchange\n",
    "\n",
    "#首启-新用户\n",
    "class firsttime_start(behaviorBase):\n",
    "    def __init__(self,size,ratio,exchange):\n",
    "        self.size = size*ratio #size*新用户比例\n",
    "        self.exchange = exchange # 行为qty对应的奖励换算比例\n",
    "        \n",
    "    def generate_qty(self):\n",
    "        self.qty = self.size #数量=每日新用户\n",
    "        return self.qty \n",
    "    \n",
    "    def generate_reward(self):\n",
    "        return self.qty *self.exchange\n",
    "    \n",
    "#首次关注\n",
    "class firstsub_start(behaviorBase):\n",
    "    def __init__(self,size,ratio,exchange):\n",
    "        self.size = size*ratio #size*首次关注的比例\n",
    "        self.exchange = exchange # 行为qty对应的奖励换算比例\n",
    "        \n",
    "    def generate_qty(self):\n",
    "        self.qty = self.size #数量=每日新用户\n",
    "        return self.qty \n",
    "    \n",
    "    def generate_reward(self):\n",
    "        return self.qty *self.exchange\n",
    "    \n",
    "    \n",
    "#评论\n",
    "class comment(behaviorBase):\n",
    "    def __init__(self,*rnd,size,exchange):\n",
    "        self.rnd= rnd\n",
    "        self.size =  size   \n",
    "        self.exchange = exchange # 行为qty对应的奖励换算比例\n",
    "        \n",
    "    def generate_qty(self):\n",
    "        r = np.random.exponential(*self.rnd,self.size) #评论呈现出指数分布，最多的是0\n",
    "        self.qty = np.array(list(map(int,r))) #转化成int型\n",
    "        return self.qty \n",
    "    \n",
    "    def generate_reward(self):\n",
    "        return self.qty *self.exchange"
   ]
  },
  {
   "cell_type": "code",
   "execution_count": 4,
   "metadata": {
    "ExecuteTime": {
     "end_time": "2020-03-27T05:16:55.554433Z",
     "start_time": "2020-03-27T05:16:55.547695Z"
    }
   },
   "outputs": [],
   "source": [
    "class actionBase:\n",
    "    def __init__(self):\n",
    "        return\n",
    "    \n",
    "    def call_act(self):\n",
    "        #do actions\n",
    "        return"
   ]
  },
  {
   "cell_type": "code",
   "execution_count": 5,
   "metadata": {
    "ExecuteTime": {
     "end_time": "2020-03-27T05:16:55.922941Z",
     "start_time": "2020-03-27T05:16:55.915801Z"
    }
   },
   "outputs": [],
   "source": [
    "class userBase(actionBase):\n",
    "    def __init__(self,new_ratio):\n",
    "        self.new_ratio = new_ratio\n",
    "        \n",
    "    def call_act():\n",
    "        pass"
   ]
  },
  {
   "cell_type": "code",
   "execution_count": 6,
   "metadata": {
    "ExecuteTime": {
     "end_time": "2020-03-27T05:16:57.094456Z",
     "start_time": "2020-03-27T05:16:56.195286Z"
    }
   },
   "outputs": [],
   "source": [
    "import matplotlib.pyplot as plt\n",
    "import seaborn as sns\n",
    "import pandas as pd\n",
    "%matplotlib inline"
   ]
  },
  {
   "cell_type": "markdown",
   "metadata": {},
   "source": [
    "### 用户设定\n",
    "- 日活用户 DAU 10万\n",
    "- 日活跃比例 20%\n",
    "- 月活用户 MAU= DAU / 20%"
   ]
  },
  {
   "cell_type": "code",
   "execution_count": 242,
   "metadata": {},
   "outputs": [
    {
     "name": "stdout",
     "output_type": "stream",
     "text": [
      "100 499\n"
     ]
    }
   ],
   "source": [
    "DAU = int(1e5)\n",
    "DAU = 100\n",
    "ratio = 0.2\n",
    "MAU = int(DAU //ratio)\n",
    "##指数分布调整系数\n",
    "scale_factor = 10\n",
    "bias = 2\n",
    "print(DAU, MAU)"
   ]
  },
  {
   "cell_type": "markdown",
   "metadata": {},
   "source": [
    "### 用户usage 模拟\n",
    "- 以下是一个长尾分布的使用场景"
   ]
  },
  {
   "cell_type": "code",
   "execution_count": 243,
   "metadata": {
    "ExecuteTime": {
     "end_time": "2020-03-27T05:16:57.104142Z",
     "start_time": "2020-03-27T05:16:57.098442Z"
    }
   },
   "outputs": [
    {
     "data": {
      "text/plain": [
       "<Axes: ylabel='Count'>"
      ]
     },
     "execution_count": 243,
     "metadata": {},
     "output_type": "execute_result"
    },
    {
     "data": {
      "image/png": "[encoded data removed]",
      "text/plain": [
       "<Figure size 640x480 with 1 Axes>"
      ]
     },
     "metadata": {},
     "output_type": "display_data"
    }
   ],
   "source": [
    "t_rounds = np.round(np.random.exponential((scale_factor),(DAU)))+bias\n",
    "# sns.distplot(list(map(int,t)))\n",
    "sns.histplot(t_rounds)"
   ]
  },
  {
   "cell_type": "code",
   "execution_count": 244,
   "metadata": {},
   "outputs": [
    {
     "data": {
      "text/plain": [
       "count    100.000000\n",
       "mean      13.580000\n",
       "std       11.465521\n",
       "min        2.000000\n",
       "25%        6.000000\n",
       "50%       10.000000\n",
       "75%       16.000000\n",
       "max       60.000000\n",
       "dtype: float64"
      ]
     },
     "execution_count": 244,
     "metadata": {},
     "output_type": "execute_result"
    }
   ],
   "source": [
    "pd.Series(t_rounds).describe()"
   ]
  },
  {
   "cell_type": "markdown",
   "metadata": {},
   "source": [
    "- 有些业务可能是其他的情况，比如某个应用的作文修改的场景，最少需要用户聊20轮，一般20～30轮左右"
   ]
  },
  {
   "cell_type": "code",
   "execution_count": 301,
   "metadata": {},
   "outputs": [
    {
     "data": {
      "text/plain": [
       "<Axes: ylabel='Count'>"
      ]
     },
     "execution_count": 301,
     "metadata": {},
     "output_type": "execute_result"
    },
    {
     "data": {
      "image/png": "[encoded data removed]",
      "text/plain": [
       "<Figure size 640x480 with 1 Axes>"
      ]
     },
     "metadata": {},
     "output_type": "display_data"
    }
   ],
   "source": [
    "# t_rounds = np.round(np.random.normal(scale_factor),size=(DAU)))+bias\n",
    "t_rounds = np.round(np.random.normal(loc=25, scale=1, size=(DAU)))\n",
    "sns.histplot(t_rounds,bins=4)"
   ]
  },
  {
   "cell_type": "code",
   "execution_count": 258,
   "metadata": {},
   "outputs": [],
   "source": [
    "## 作文修改，反复修改， 20～30轮"
   ]
  },
  {
   "cell_type": "code",
   "execution_count": 260,
   "metadata": {},
   "outputs": [
    {
     "data": {
      "text/plain": [
       "count    100.000000\n",
       "mean      24.950000\n",
       "std        1.166667\n",
       "min       22.000000\n",
       "25%       24.000000\n",
       "50%       25.000000\n",
       "75%       26.000000\n",
       "max       27.000000\n",
       "dtype: float64"
      ]
     },
     "execution_count": 260,
     "metadata": {},
     "output_type": "execute_result"
    }
   ],
   "source": [
    "pd.Series(t_rounds).describe()"
   ]
  },
  {
   "cell_type": "markdown",
   "metadata": {},
   "source": [
    "### 价格计算函数"
   ]
  },
  {
   "cell_type": "code",
   "execution_count": 261,
   "metadata": {
    "ExecuteTime": {
     "end_time": "2020-03-27T05:16:57.113219Z",
     "start_time": "2020-03-27T05:16:57.108287Z"
    }
   },
   "outputs": [],
   "source": [
    "def calc_rate(input_tokens,output_tokens,model='sonnet'):\n",
    "    if model == 'sonnet':\n",
    "        in_token_rate = 3/1e6\n",
    "        out_token_rate = 15/1e6\n",
    "    elif model == 'haiku':\n",
    "        in_token_rate = 0.25/1e6\n",
    "        out_token_rate = 1.25/1e6\n",
    "    elif model == 'opus':\n",
    "        in_token_rate = 15/1e6\n",
    "        out_token_rate = 75/1e6\n",
    "    return in_token_rate*input_tokens+out_token_rate*output_tokens"
   ]
  },
  {
   "cell_type": "markdown",
   "metadata": {},
   "source": [
    "### token数模拟\n",
    "- 假设每轮的新消息的input token和output token是以正态分布，pure_avg_input_round，avg_output_round分别是期望\n",
    "- prompt模板的固定token数 fixed_prompt_template_token"
   ]
  },
  {
   "cell_type": "markdown",
   "metadata": {},
   "source": []
  },
  {
   "cell_type": "code",
   "execution_count": 262,
   "metadata": {},
   "outputs": [
    {
     "data": {
      "text/plain": [
       "<Axes: ylabel='Count'>"
      ]
     },
     "execution_count": 262,
     "metadata": {},
     "output_type": "execute_result"
    },
    {
     "data": {
      "image/png": "[encoded data removed]",
      "text/plain": [
       "<Figure size 640x480 with 1 Axes>"
      ]
     },
     "metadata": {},
     "output_type": "display_data"
    }
   ],
   "source": [
    "fixed_prompt_template_token= 1500\n",
    "pure_avg_input_round = 500 ##prompt词 + query 500\n",
    "avg_output_round = 1000\n",
    "normal_dist = np.random.normal(loc=(pure_avg_input_round,avg_output_round), scale=pure_avg_input_round/10, size=(DAU,2))\n",
    "sns.histplot(normal_dist)"
   ]
  },
  {
   "cell_type": "code",
   "execution_count": 263,
   "metadata": {},
   "outputs": [
    {
     "data": {
      "text/html": [
       "<div>\n",
       "<style scoped>\n",
       "    .dataframe tbody tr th:only-of-type {\n",
       "        vertical-align: middle;\n",
       "    }\n",
       "\n",
       "    .dataframe tbody tr th {\n",
       "        vertical-align: top;\n",
       "    }\n",
       "\n",
       "    .dataframe thead th {\n",
       "        text-align: right;\n",
       "    }\n",
       "</style>\n",
       "<table border=\"1\" class=\"dataframe\">\n",
       "  <thead>\n",
       "    <tr style=\"text-align: right;\">\n",
       "      <th></th>\n",
       "      <th>0</th>\n",
       "      <th>1</th>\n",
       "    </tr>\n",
       "  </thead>\n",
       "  <tbody>\n",
       "    <tr>\n",
       "      <th>count</th>\n",
       "      <td>100.000000</td>\n",
       "      <td>100.000000</td>\n",
       "    </tr>\n",
       "    <tr>\n",
       "      <th>mean</th>\n",
       "      <td>498.372598</td>\n",
       "      <td>1002.723938</td>\n",
       "    </tr>\n",
       "    <tr>\n",
       "      <th>std</th>\n",
       "      <td>46.742397</td>\n",
       "      <td>47.016847</td>\n",
       "    </tr>\n",
       "    <tr>\n",
       "      <th>min</th>\n",
       "      <td>365.391313</td>\n",
       "      <td>883.907208</td>\n",
       "    </tr>\n",
       "    <tr>\n",
       "      <th>25%</th>\n",
       "      <td>464.401232</td>\n",
       "      <td>974.829858</td>\n",
       "    </tr>\n",
       "    <tr>\n",
       "      <th>50%</th>\n",
       "      <td>499.622931</td>\n",
       "      <td>997.450259</td>\n",
       "    </tr>\n",
       "    <tr>\n",
       "      <th>75%</th>\n",
       "      <td>533.288590</td>\n",
       "      <td>1040.891746</td>\n",
       "    </tr>\n",
       "    <tr>\n",
       "      <th>max</th>\n",
       "      <td>590.619471</td>\n",
       "      <td>1118.416943</td>\n",
       "    </tr>\n",
       "  </tbody>\n",
       "</table>\n",
       "</div>"
      ],
      "text/plain": [
       "                0            1\n",
       "count  100.000000   100.000000\n",
       "mean   498.372598  1002.723938\n",
       "std     46.742397    47.016847\n",
       "min    365.391313   883.907208\n",
       "25%    464.401232   974.829858\n",
       "50%    499.622931   997.450259\n",
       "75%    533.288590  1040.891746\n",
       "max    590.619471  1118.416943"
      ]
     },
     "execution_count": 263,
     "metadata": {},
     "output_type": "execute_result"
    }
   ],
   "source": [
    "pd.DataFrame(normal_dist).describe()"
   ]
  },
  {
   "cell_type": "markdown",
   "metadata": {},
   "source": [
    "- 计算每轮的输入和输出token产生的费用"
   ]
  },
  {
   "cell_type": "code",
   "execution_count": 264,
   "metadata": {},
   "outputs": [
    {
     "data": {
      "text/plain": [
       "(100,)"
      ]
     },
     "execution_count": 264,
     "metadata": {},
     "output_type": "execute_result"
    }
   ],
   "source": [
    "pure_avg_cost_round = calc_rate(normal_dist.T[0],normal_dist.T[1],model='sonnet')\n",
    "pure_avg_cost_round.shape"
   ]
  },
  {
   "cell_type": "code",
   "execution_count": 265,
   "metadata": {},
   "outputs": [
    {
     "name": "stdout",
     "output_type": "stream",
     "text": [
      "0.0045000000000000005\n"
     ]
    }
   ],
   "source": [
    "fixed_prompt_template_cost_round = calc_rate(fixed_prompt_template_token,0,model='sonnet')\n",
    "print(fixed_prompt_template_cost_round)"
   ]
  },
  {
   "cell_type": "markdown",
   "metadata": {},
   "source": [
    "- 每轮新对话send给llm的input token = fixed_prompt_template_token + user_input_token, \n",
    "- 历史消息的token,不考虑fixed_prompt_template_token. \n",
    "- 所以:\n",
    "- 第n轮的token = (n-1)*(user_input_token+output_token) + (fixed_prompt_template_token + user_input_token+output_token)\n",
    "- 每轮对话，都会加上前N轮的对话记录，比如聊了n轮的用户，总共需要考虑的消息轮数，应该是1+2+3+...+n\n",
    "- 所以累加起来就是(user_input_token+output_token) * (1+2+3+..+n-1)+n * (fixed_prompt_template_token + user_input_token+output_token)\n",
    "- = (user_input_token+output_token)*(1+n) * n/2 + n * fixed_prompt_template_token\n",
    "\n",
    "- 如果最多保留m轮， 当n>m时， 则实际消耗应该是 ((1+m)*m/2+(n-m) * m) * (user_input_token+output_token)+n * fixed_prompt_template_token\n",
    "- 所以可以先计算先用户(1+x)* x/2 计算n<=m 之下的部分1，再计算n>m后的超出部分2，用(n-m)* m, 最后加上n* fixed_prompt_template_token 富恩\n",
    "- 最终三部分之和是总数"
   ]
  },
  {
   "cell_type": "code",
   "execution_count": 287,
   "metadata": {},
   "outputs": [],
   "source": [
    "max_keep_turns = 10\n",
    "min_rounds = 1\n",
    "cliped_t_rounds = np.clip(t_rounds,min_rounds,max_keep_turns)"
   ]
  },
  {
   "cell_type": "code",
   "execution_count": 288,
   "metadata": {},
   "outputs": [
    {
     "data": {
      "text/plain": [
       "array([10., 10., 10., 10., 10., 10., 10., 10., 10., 10., 10., 10., 10.,\n",
       "       10., 10., 10., 10., 10., 10., 10., 10., 10., 10., 10., 10., 10.,\n",
       "       10., 10., 10., 10., 10., 10., 10., 10., 10., 10., 10., 10., 10.,\n",
       "       10., 10., 10., 10., 10., 10., 10., 10., 10., 10., 10., 10., 10.,\n",
       "       10., 10., 10., 10., 10., 10., 10., 10., 10., 10., 10., 10., 10.,\n",
       "       10., 10., 10., 10., 10., 10., 10., 10., 10., 10., 10., 10., 10.,\n",
       "       10., 10., 10., 10., 10., 10., 10., 10., 10., 10., 10., 10., 10.,\n",
       "       10., 10., 10., 10., 10., 10., 10., 10., 10.])"
      ]
     },
     "execution_count": 288,
     "metadata": {},
     "output_type": "execute_result"
    }
   ],
   "source": [
    "cliped_t_rounds"
   ]
  },
  {
   "cell_type": "code",
   "execution_count": 292,
   "metadata": {},
   "outputs": [],
   "source": [
    "part_1=  (1+cliped_t_rounds)*cliped_t_rounds /2 * pure_avg_cost_round"
   ]
  },
  {
   "cell_type": "code",
   "execution_count": 293,
   "metadata": {},
   "outputs": [],
   "source": [
    "part_2= np.clip((t_rounds-cliped_t_rounds),0,t_rounds.max())*max_keep_turns * pure_avg_cost_round"
   ]
  },
  {
   "cell_type": "code",
   "execution_count": 294,
   "metadata": {},
   "outputs": [],
   "source": [
    "part_3 = t_rounds*fixed_prompt_template_cost_round"
   ]
  },
  {
   "cell_type": "code",
   "execution_count": 295,
   "metadata": {},
   "outputs": [],
   "source": [
    "total_rounds_accu_history = part_1 + part_2 + part_3"
   ]
  },
  {
   "cell_type": "code",
   "execution_count": 296,
   "metadata": {},
   "outputs": [],
   "source": [
    "rounds_cost = total_rounds_accu_history"
   ]
  },
  {
   "cell_type": "code",
   "execution_count": 297,
   "metadata": {},
   "outputs": [
    {
     "name": "stdout",
     "output_type": "stream",
     "text": [
      "总rounds:2495,总cost:344\n"
     ]
    },
    {
     "data": {
      "text/plain": [
       "<Axes: ylabel='Count'>"
      ]
     },
     "execution_count": 297,
     "metadata": {},
     "output_type": "execute_result"
    },
    {
     "data": {
      "image/png": "[encoded data removed]",
      "text/plain": [
       "<Figure size 640x480 with 1 Axes>"
      ]
     },
     "metadata": {},
     "output_type": "display_data"
    }
   ],
   "source": [
    "print('总rounds:%d,总cost:%d' %(t_rounds.sum(),rounds_cost.sum()))\n",
    "sns.histplot(rounds_cost)"
   ]
  },
  {
   "cell_type": "code",
   "execution_count": null,
   "metadata": {},
   "outputs": [],
   "source": []
  },
  {
   "cell_type": "code",
   "execution_count": 1,
   "metadata": {},
   "outputs": [
    {
     "ename": "NameError",
     "evalue": "name 'pd' is not defined",
     "output_type": "error",
     "traceback": [
      "\u001b[0;31m---------------------------------------------------------------------------\u001b[0m",
      "\u001b[0;31mNameError\u001b[0m                                 Traceback (most recent call last)",
      "Cell \u001b[0;32mIn[1], line 1\u001b[0m\n\u001b[0;32m----> 1\u001b[0m rounds_df \u001b[38;5;241m=\u001b[39m \u001b[43mpd\u001b[49m\u001b[38;5;241m.\u001b[39mSeries(t_rounds)\n\u001b[1;32m      2\u001b[0m rounds_df\u001b[38;5;241m.\u001b[39mdescribe()\n",
      "\u001b[0;31mNameError\u001b[0m: name 'pd' is not defined"
     ]
    }
   ],
   "source": [
    "rounds_df = pd.Series(t_rounds)\n",
    "rounds_df.describe()"
   ]
  },
  {
   "cell_type": "code",
   "execution_count": 127,
   "metadata": {
    "ExecuteTime": {
     "end_time": "2020-03-16T01:47:00.222195Z",
     "start_time": "2020-03-16T01:47:00.136036Z"
    }
   },
   "outputs": [
    {
     "data": {
      "text/plain": [
       "count    100000.000000\n",
       "mean          3.449304\n",
       "std           0.236508\n",
       "min           2.497780\n",
       "25%           3.286855\n",
       "50%           3.445496\n",
       "75%           3.608273\n",
       "max           4.486777\n",
       "dtype: float64"
      ]
     },
     "execution_count": 127,
     "metadata": {},
     "output_type": "execute_result"
    }
   ],
   "source": [
    "rounds_cost = pd.Series(rounds_cost)\n",
    "rounds_cost.describe()"
   ]
  },
  {
   "cell_type": "markdown",
   "metadata": {},
   "source": [
    "### 按用户的轮数占比分层，看各层的cost占比"
   ]
  },
  {
   "cell_type": "code",
   "execution_count": 128,
   "metadata": {},
   "outputs": [],
   "source": [
    "cost_pct = []\n",
    "total = rounds_cost.sum()\n",
    "for q in np.arange(0,1,0.1):\n",
    "    b = rounds_cost.quantile(q)\n",
    "    cost_pct.append([q,rounds_cost[rounds_cost>=b].sum()/total])\n",
    "    "
   ]
  },
  {
   "cell_type": "code",
   "execution_count": 129,
   "metadata": {},
   "outputs": [],
   "source": [
    "data = pd.DataFrame(cost_pct,columns=['percentile','cost occupation'])"
   ]
  },
  {
   "cell_type": "code",
   "execution_count": 130,
   "metadata": {},
   "outputs": [
    {
     "data": {
      "text/html": [
       "<div>\n",
       "<style scoped>\n",
       "    .dataframe tbody tr th:only-of-type {\n",
       "        vertical-align: middle;\n",
       "    }\n",
       "\n",
       "    .dataframe tbody tr th {\n",
       "        vertical-align: top;\n",
       "    }\n",
       "\n",
       "    .dataframe thead th {\n",
       "        text-align: right;\n",
       "    }\n",
       "</style>\n",
       "<table border=\"1\" class=\"dataframe\">\n",
       "  <thead>\n",
       "    <tr style=\"text-align: right;\">\n",
       "      <th></th>\n",
       "      <th>percentile</th>\n",
       "      <th>cost occupation</th>\n",
       "    </tr>\n",
       "  </thead>\n",
       "  <tbody>\n",
       "    <tr>\n",
       "      <th>0</th>\n",
       "      <td>0.0</td>\n",
       "      <td>1.000000</td>\n",
       "    </tr>\n",
       "    <tr>\n",
       "      <th>1</th>\n",
       "      <td>0.1</td>\n",
       "      <td>0.911761</td>\n",
       "    </tr>\n",
       "    <tr>\n",
       "      <th>2</th>\n",
       "      <td>0.2</td>\n",
       "      <td>0.818937</td>\n",
       "    </tr>\n",
       "    <tr>\n",
       "      <th>3</th>\n",
       "      <td>0.3</td>\n",
       "      <td>0.723669</td>\n",
       "    </tr>\n",
       "    <tr>\n",
       "      <th>4</th>\n",
       "      <td>0.4</td>\n",
       "      <td>0.626435</td>\n",
       "    </tr>\n",
       "    <tr>\n",
       "      <th>5</th>\n",
       "      <td>0.5</td>\n",
       "      <td>0.527419</td>\n",
       "    </tr>\n",
       "    <tr>\n",
       "      <th>6</th>\n",
       "      <td>0.6</td>\n",
       "      <td>0.426643</td>\n",
       "    </tr>\n",
       "    <tr>\n",
       "      <th>7</th>\n",
       "      <td>0.7</td>\n",
       "      <td>0.324065</td>\n",
       "    </tr>\n",
       "    <tr>\n",
       "      <th>8</th>\n",
       "      <td>0.8</td>\n",
       "      <td>0.219440</td>\n",
       "    </tr>\n",
       "    <tr>\n",
       "      <th>9</th>\n",
       "      <td>0.9</td>\n",
       "      <td>0.112247</td>\n",
       "    </tr>\n",
       "  </tbody>\n",
       "</table>\n",
       "</div>"
      ],
      "text/plain": [
       "   percentile  cost occupation\n",
       "0         0.0         1.000000\n",
       "1         0.1         0.911761\n",
       "2         0.2         0.818937\n",
       "3         0.3         0.723669\n",
       "4         0.4         0.626435\n",
       "5         0.5         0.527419\n",
       "6         0.6         0.426643\n",
       "7         0.7         0.324065\n",
       "8         0.8         0.219440\n",
       "9         0.9         0.112247"
      ]
     },
     "execution_count": 130,
     "metadata": {},
     "output_type": "execute_result"
    }
   ],
   "source": [
    "data"
   ]
  },
  {
   "cell_type": "code",
   "execution_count": 353,
   "metadata": {},
   "outputs": [],
   "source": [
    "## 定义每月的租金\n",
    "## 聊的论数越多token越多\n",
    "## 自建模型的成本，1月的时间周期。"
   ]
  },
  {
   "cell_type": "code",
   "execution_count": 271,
   "metadata": {},
   "outputs": [],
   "source": [
    "# sns.relplot(data=data,x='x',y='y')"
   ]
  },
  {
   "cell_type": "code",
   "execution_count": 131,
   "metadata": {},
   "outputs": [],
   "source": [
    "total_cost = rounds_cost.sum()"
   ]
  },
  {
   "cell_type": "code",
   "execution_count": null,
   "metadata": {},
   "outputs": [],
   "source": []
  },
  {
   "cell_type": "code",
   "execution_count": 132,
   "metadata": {},
   "outputs": [
    {
     "data": {
      "text/plain": [
       "20.695866432069465"
      ]
     },
     "execution_count": 132,
     "metadata": {},
     "output_type": "execute_result"
    }
   ],
   "source": [
    "total_cost*30/MAU"
   ]
  },
  {
   "cell_type": "code",
   "execution_count": 355,
   "metadata": {
    "ExecuteTime": {
     "end_time": "2020-03-16T07:35:21.999930Z",
     "start_time": "2020-03-16T07:35:21.993861Z"
    }
   },
   "outputs": [],
   "source": [
    "from scipy import optimize"
   ]
  },
  {
   "cell_type": "code",
   "execution_count": 363,
   "metadata": {
    "ExecuteTime": {
     "end_time": "2020-03-16T08:47:30.039802Z",
     "start_time": "2020-03-16T08:47:30.015224Z"
    }
   },
   "outputs": [
    {
     "name": "stdout",
     "output_type": "stream",
     "text": [
      "     con: array([0.])\n",
      "     fun: -14.571428571428571\n",
      " message: 'Optimization terminated successfully.'\n",
      "     nit: 8\n",
      "   slack: array([0.        , 3.85714286])\n",
      "  status: 0\n",
      " success: True\n",
      "       x: array([6.42857143, 0.57142857, 0.        ])\n"
     ]
    }
   ],
   "source": [
    "c=np.array([2,3,-5])\n",
    "A_ub=np.array([[-2,5,-1],[1,3,1]])\n",
    "B_ub=np.array([-10,12])\n",
    "A_eq=np.array([[1,1,1]])\n",
    "B_eq=np.array([7])\n",
    "x1=(0,100)\n",
    "x2=(0,100)\n",
    "x3=(0,7)\n",
    "res=optimize.linprog(-c,A_ub,B_ub,A_eq,B_eq,bounds=(x1,x2,x3))\n",
    "print(res)"
   ]
  },
  {
   "cell_type": "code",
   "execution_count": 413,
   "metadata": {
    "ExecuteTime": {
     "end_time": "2020-03-26T11:09:31.308412Z",
     "start_time": "2020-03-26T11:09:31.304130Z"
    }
   },
   "outputs": [],
   "source": [
    "x = np.linspace(0,100,100)"
   ]
  },
  {
   "cell_type": "code",
   "execution_count": 414,
   "metadata": {
    "ExecuteTime": {
     "end_time": "2020-03-26T11:09:31.649063Z",
     "start_time": "2020-03-26T11:09:31.644643Z"
    }
   },
   "outputs": [],
   "source": [
    "y = np.log(3+2*x)\n",
    "y = np.exp(-10*x)"
   ]
  },
  {
   "cell_type": "code",
   "execution_count": 415,
   "metadata": {
    "ExecuteTime": {
     "end_time": "2020-03-26T11:09:32.222922Z",
     "start_time": "2020-03-26T11:09:31.996637Z"
    }
   },
   "outputs": [
    {
     "data": {
      "text/plain": [
       "[<matplotlib.lines.Line2D at 0x1a1b01d240>]"
      ]
     },
     "execution_count": 415,
     "metadata": {},
     "output_type": "execute_result"
    },
    {
     "data": {
      "image/png": "[encoded data removed]",
      "text/plain": [
       "<Figure size 432x288 with 1 Axes>"
      ]
     },
     "metadata": {
      "needs_background": "light"
     },
     "output_type": "display_data"
    }
   ],
   "source": [
    "plt.plot(x,y)"
   ]
  },
  {
   "cell_type": "code",
   "execution_count": 416,
   "metadata": {
    "ExecuteTime": {
     "end_time": "2020-03-26T11:11:27.292971Z",
     "start_time": "2020-03-26T11:11:27.280603Z"
    }
   },
   "outputs": [
    {
     "data": {
      "text/plain": [
       "array([ 2.04571528, 32.22290026, 11.01366368, 10.82994786,  2.77600893,\n",
       "        3.761561  , 22.96969816,  3.34054414,  0.83794107, 25.95941906])"
      ]
     },
     "execution_count": 416,
     "metadata": {},
     "output_type": "execute_result"
    }
   ],
   "source": [
    "np.random.exponential(10,10)"
   ]
  },
  {
   "cell_type": "code",
   "execution_count": null,
   "metadata": {},
   "outputs": [],
   "source": []
  }
 ],
 "metadata": {
  "kernelspec": {
   "display_name": "Python 3 (ipykernel)",
   "language": "python",
   "name": "python3"
  },
  "language_info": {
   "codemirror_mode": {
    "name": "ipython",
    "version": 3
   },
   "file_extension": ".py",
   "mimetype": "text/x-python",
   "name": "python",
   "nbconvert_exporter": "python",
   "pygments_lexer": "ipython3",
   "version": "3.10.13"
  }
 },
 "nbformat": 4,
 "nbformat_minor": 2
}
