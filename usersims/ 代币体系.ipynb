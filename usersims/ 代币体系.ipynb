{
 "cells": [
  {
   "cell_type": "markdown",
   "metadata": {},
   "source": [
    "# 代币体系\n"
   ]
  },
  {
   "cell_type": "markdown",
   "metadata": {
    "ExecuteTime": {
     "end_time": "2020-03-15T05:11:22.087864Z",
     "start_time": "2020-03-15T05:11:22.080659Z"
    }
   },
   "source": [
    "* ## 模型设置"
   ]
  },
  {
   "cell_type": "markdown",
   "metadata": {},
   "source": [
    "> 用户建模  \n",
    "* 用户信息base  \n",
    "* 行为behaviorbase, 定义每种行为，用户付出的行为量化值（时长，登陆次数，评论次数等）和获取的奖励\n",
    "* action\n",
    "\n",
    "\n"
   ]
  },
  {
   "cell_type": "code",
   "execution_count": 1,
   "metadata": {
    "ExecuteTime": {
     "end_time": "2020-03-27T05:16:54.255540Z",
     "start_time": "2020-03-27T05:16:53.667216Z"
    }
   },
   "outputs": [],
   "source": [
    "import numpy as np\n",
    "from scipy.stats import halfgennorm,gennorm"
   ]
  },
  {
   "cell_type": "code",
   "execution_count": 2,
   "metadata": {
    "ExecuteTime": {
     "end_time": "2020-03-27T05:16:55.155899Z",
     "start_time": "2020-03-27T05:16:55.127391Z"
    }
   },
   "outputs": [],
   "source": [
    "class behaviorBase:\n",
    "    def __init__():\n",
    "        return\n",
    "    def generate_qty(self):\n",
    "        # to be implemented\n",
    "        return\n",
    "    \n",
    "    def generate_reward(self):\n",
    "        # to be implemented\n",
    "        return\n",
    "    \n",
    "    #行为量化值 如观看时间，登陆\n",
    "    def getQty(self): \n",
    "        self.behavior_qty=self.generate_qty()\n",
    "        return self.behavior_qty \n",
    "\n",
    "    def getReward(self):\n",
    "        self.reward=self.generate_reward()\n",
    "        return self.reward\n",
    "\n",
    "#观看行为\n",
    "class view(behaviorBase):\n",
    "    def __init__(self,*rnd,size,exchange):\n",
    "        self.size = size #日活数量\n",
    "        self.rnd = rnd #模拟的指数分布参数\n",
    "        self.exchange = exchange # 行为qty对应的奖励换算比例\n",
    "        \n",
    "    def generate_qty(self):\n",
    "        r = np.random.exponential(*self.rnd,self.size)+1 #至少有1分钟\n",
    "        self.qty = np.array(list(map(int,r))) #转化成int型\n",
    "        return self.qty \n",
    "    \n",
    "    def generate_reward(self):\n",
    "        return self.qty *self.exchange\n",
    "\n",
    "#首启-新用户\n",
    "class firsttime_start(behaviorBase):\n",
    "    def __init__(self,size,ratio,exchange):\n",
    "        self.size = size*ratio #size*新用户比例\n",
    "        self.exchange = exchange # 行为qty对应的奖励换算比例\n",
    "        \n",
    "    def generate_qty(self):\n",
    "        self.qty = self.size #数量=每日新用户\n",
    "        return self.qty \n",
    "    \n",
    "    def generate_reward(self):\n",
    "        return self.qty *self.exchange\n",
    "    \n",
    "#首次关注\n",
    "class firstsub_start(behaviorBase):\n",
    "    def __init__(self,size,ratio,exchange):\n",
    "        self.size = size*ratio #size*首次关注的比例\n",
    "        self.exchange = exchange # 行为qty对应的奖励换算比例\n",
    "        \n",
    "    def generate_qty(self):\n",
    "        self.qty = self.size #数量=每日新用户\n",
    "        return self.qty \n",
    "    \n",
    "    def generate_reward(self):\n",
    "        return self.qty *self.exchange\n",
    "    \n",
    "    \n",
    "#评论\n",
    "class comment(behaviorBase):\n",
    "    def __init__(self,*rnd,size,exchange):\n",
    "        self.rnd= rnd\n",
    "        self.size =  size   \n",
    "        self.exchange = exchange # 行为qty对应的奖励换算比例\n",
    "        \n",
    "    def generate_qty(self):\n",
    "        r = np.random.exponential(*self.rnd,self.size) #评论呈现出指数分布，最多的是0\n",
    "        self.qty = np.array(list(map(int,r))) #转化成int型\n",
    "        return self.qty \n",
    "    \n",
    "    def generate_reward(self):\n",
    "        return self.qty *self.exchange"
   ]
  },
  {
   "cell_type": "code",
   "execution_count": 3,
   "metadata": {
    "ExecuteTime": {
     "end_time": "2020-03-27T05:16:55.554433Z",
     "start_time": "2020-03-27T05:16:55.547695Z"
    }
   },
   "outputs": [],
   "source": [
    "class actionBase:\n",
    "    def __init__(self):\n",
    "        return\n",
    "    \n",
    "    def call_act(self):\n",
    "        #do actions\n",
    "        return"
   ]
  },
  {
   "cell_type": "code",
   "execution_count": 4,
   "metadata": {
    "ExecuteTime": {
     "end_time": "2020-03-27T05:16:55.922941Z",
     "start_time": "2020-03-27T05:16:55.915801Z"
    }
   },
   "outputs": [],
   "source": [
    "class userBase(actionBase):\n",
    "    def __init__(self,new_ratio):\n",
    "        self.new_ratio = new_ratio\n",
    "        \n",
    "    def call_act():\n",
    "        pass"
   ]
  },
  {
   "cell_type": "code",
   "execution_count": 5,
   "metadata": {
    "ExecuteTime": {
     "end_time": "2020-03-27T05:16:57.094456Z",
     "start_time": "2020-03-27T05:16:56.195286Z"
    }
   },
   "outputs": [],
   "source": [
    "import matplotlib.pyplot as plt\n",
    "import seaborn as sns\n",
    "import pandas as pd\n",
    "%matplotlib inline"
   ]
  },
  {
   "cell_type": "code",
   "execution_count": 6,
   "metadata": {
    "ExecuteTime": {
     "end_time": "2020-03-27T05:16:57.104142Z",
     "start_time": "2020-03-27T05:16:57.098442Z"
    }
   },
   "outputs": [],
   "source": [
    "# t = np.random.exponential(1,100)\n",
    "# # sns.distplot(list(map(int,t)))\n",
    "# sns.distplot(t)"
   ]
  },
  {
   "cell_type": "code",
   "execution_count": 7,
   "metadata": {
    "ExecuteTime": {
     "end_time": "2020-03-27T05:16:57.113219Z",
     "start_time": "2020-03-27T05:16:57.108287Z"
    }
   },
   "outputs": [],
   "source": [
    "# s=np.array(list(map(int,t)))\n",
    "# sns.distplot(s)"
   ]
  },
  {
   "cell_type": "code",
   "execution_count": 8,
   "metadata": {
    "ExecuteTime": {
     "end_time": "2020-03-27T05:16:58.122015Z",
     "start_time": "2020-03-27T05:16:58.115698Z"
    }
   },
   "outputs": [],
   "source": [
    "DAU= 1000000"
   ]
  },
  {
   "cell_type": "code",
   "execution_count": 9,
   "metadata": {
    "ExecuteTime": {
     "end_time": "2020-03-27T05:17:02.179106Z",
     "start_time": "2020-03-27T05:17:01.412081Z"
    }
   },
   "outputs": [
    {
     "name": "stdout",
     "output_type": "stream",
     "text": [
      "总时长:10526006,总奖励:210520\n"
     ]
    },
    {
     "data": {
      "text/plain": [
       "<matplotlib.axes._subplots.AxesSubplot at 0x1a1d8166d8>"
      ]
     },
     "execution_count": 9,
     "metadata": {},
     "output_type": "execute_result"
    },
    {
     "data": {
      "image/png": "[encoded data removed]",
      "text/plain": [
       "<Figure size 432x288 with 1 Axes>"
      ]
     },
     "metadata": {
      "needs_background": "light"
     },
     "output_type": "display_data"
    }
   ],
   "source": [
    "a=view((10,),size=DAU,exchange=0.02)\n",
    "views = a.getQty()\n",
    "views_rewards = a.getReward()\n",
    "print('总时长:%d,总奖励:%d' %(views.sum(),views_rewards.sum()))\n",
    "sns.distplot(views,kde=False)"
   ]
  },
  {
   "cell_type": "code",
   "execution_count": 11,
   "metadata": {
    "ExecuteTime": {
     "end_time": "2020-03-27T05:17:16.325194Z",
     "start_time": "2020-03-27T05:17:16.318242Z"
    }
   },
   "outputs": [
    {
     "data": {
      "text/plain": [
       "(1000000,)"
      ]
     },
     "execution_count": 11,
     "metadata": {},
     "output_type": "execute_result"
    }
   ],
   "source": [
    "views.shape"
   ]
  },
  {
   "cell_type": "code",
   "execution_count": 349,
   "metadata": {
    "ExecuteTime": {
     "end_time": "2020-03-16T01:47:00.222195Z",
     "start_time": "2020-03-16T01:47:00.136036Z"
    }
   },
   "outputs": [
    {
     "data": {
      "text/plain": [
       "count    1000000.000000\n",
       "mean          10.497513\n",
       "std            9.990660\n",
       "min            1.000000\n",
       "25%            3.000000\n",
       "50%            7.000000\n",
       "75%           14.000000\n",
       "max          145.000000\n",
       "dtype: float64"
      ]
     },
     "execution_count": 349,
     "metadata": {},
     "output_type": "execute_result"
    }
   ],
   "source": [
    "pd.Series(views).describe()"
   ]
  },
  {
   "cell_type": "code",
   "execution_count": 368,
   "metadata": {
    "ExecuteTime": {
     "end_time": "2020-03-26T08:22:51.186882Z",
     "start_time": "2020-03-26T08:22:50.435101Z"
    }
   },
   "outputs": [
    {
     "name": "stdout",
     "output_type": "stream",
     "text": [
      "581892 116378.40000000002\n"
     ]
    },
    {
     "data": {
      "text/plain": [
       "<matplotlib.axes._subplots.AxesSubplot at 0x1a18adc5c0>"
      ]
     },
     "execution_count": 368,
     "metadata": {},
     "output_type": "execute_result"
    },
    {
     "data": {
      "image/png": "[encoded data removed]",
      "text/plain": [
       "<Figure size 432x288 with 1 Axes>"
      ]
     },
     "metadata": {
      "needs_background": "light"
     },
     "output_type": "display_data"
    }
   ],
   "source": [
    "b=comment((1.0,),size=DAU,exchange=0.2)\n",
    "comments = b.getQty()\n",
    "comments_rewards = b.getReward()\n",
    "print(comments.sum(),comments_rewards.sum())\n",
    "sns.distplot(comments,kde=False)"
   ]
  },
  {
   "cell_type": "code",
   "execution_count": 351,
   "metadata": {
    "ExecuteTime": {
     "end_time": "2020-03-16T01:47:43.153884Z",
     "start_time": "2020-03-16T01:47:43.111125Z"
    }
   },
   "outputs": [
    {
     "data": {
      "text/plain": [
       "count    1000000.000000\n",
       "mean           0.581498\n",
       "std            0.960005\n",
       "min            0.000000\n",
       "25%            0.000000\n",
       "50%            0.000000\n",
       "75%            1.000000\n",
       "max           15.000000\n",
       "dtype: float64"
      ]
     },
     "execution_count": 351,
     "metadata": {},
     "output_type": "execute_result"
    }
   ],
   "source": [
    "pd.Series(comments).describe()"
   ]
  },
  {
   "cell_type": "code",
   "execution_count": 355,
   "metadata": {
    "ExecuteTime": {
     "end_time": "2020-03-16T07:35:21.999930Z",
     "start_time": "2020-03-16T07:35:21.993861Z"
    }
   },
   "outputs": [],
   "source": [
    "from scipy import optimize"
   ]
  },
  {
   "cell_type": "code",
   "execution_count": 363,
   "metadata": {
    "ExecuteTime": {
     "end_time": "2020-03-16T08:47:30.039802Z",
     "start_time": "2020-03-16T08:47:30.015224Z"
    }
   },
   "outputs": [
    {
     "name": "stdout",
     "output_type": "stream",
     "text": [
      "     con: array([0.])\n",
      "     fun: -14.571428571428571\n",
      " message: 'Optimization terminated successfully.'\n",
      "     nit: 8\n",
      "   slack: array([0.        , 3.85714286])\n",
      "  status: 0\n",
      " success: True\n",
      "       x: array([6.42857143, 0.57142857, 0.        ])\n"
     ]
    }
   ],
   "source": [
    "c=np.array([2,3,-5])\n",
    "A_ub=np.array([[-2,5,-1],[1,3,1]])\n",
    "B_ub=np.array([-10,12])\n",
    "A_eq=np.array([[1,1,1]])\n",
    "B_eq=np.array([7])\n",
    "x1=(0,100)\n",
    "x2=(0,100)\n",
    "x3=(0,7)\n",
    "res=optimize.linprog(-c,A_ub,B_ub,A_eq,B_eq,bounds=(x1,x2,x3))\n",
    "print(res)"
   ]
  },
  {
   "cell_type": "code",
   "execution_count": 413,
   "metadata": {
    "ExecuteTime": {
     "end_time": "2020-03-26T11:09:31.308412Z",
     "start_time": "2020-03-26T11:09:31.304130Z"
    }
   },
   "outputs": [],
   "source": [
    "x = np.linspace(0,100,100)"
   ]
  },
  {
   "cell_type": "code",
   "execution_count": 414,
   "metadata": {
    "ExecuteTime": {
     "end_time": "2020-03-26T11:09:31.649063Z",
     "start_time": "2020-03-26T11:09:31.644643Z"
    }
   },
   "outputs": [],
   "source": [
    "y = np.log(3+2*x)\n",
    "y = np.exp(-10*x)"
   ]
  },
  {
   "cell_type": "code",
   "execution_count": 415,
   "metadata": {
    "ExecuteTime": {
     "end_time": "2020-03-26T11:09:32.222922Z",
     "start_time": "2020-03-26T11:09:31.996637Z"
    }
   },
   "outputs": [
    {
     "data": {
      "text/plain": [
       "[<matplotlib.lines.Line2D at 0x1a1b01d240>]"
      ]
     },
     "execution_count": 415,
     "metadata": {},
     "output_type": "execute_result"
    },
    {
     "data": {
      "image/png": "[encoded data removed]",
      "text/plain": [
       "<Figure size 432x288 with 1 Axes>"
      ]
     },
     "metadata": {
      "needs_background": "light"
     },
     "output_type": "display_data"
    }
   ],
   "source": [
    "plt.plot(x,y)"
   ]
  },
  {
   "cell_type": "code",
   "execution_count": 416,
   "metadata": {
    "ExecuteTime": {
     "end_time": "2020-03-26T11:11:27.292971Z",
     "start_time": "2020-03-26T11:11:27.280603Z"
    }
   },
   "outputs": [
    {
     "data": {
      "text/plain": [
       "array([ 2.04571528, 32.22290026, 11.01366368, 10.82994786,  2.77600893,\n",
       "        3.761561  , 22.96969816,  3.34054414,  0.83794107, 25.95941906])"
      ]
     },
     "execution_count": 416,
     "metadata": {},
     "output_type": "execute_result"
    }
   ],
   "source": [
    "np.random.exponential(10,10)"
   ]
  },
  {
   "cell_type": "code",
   "execution_count": null,
   "metadata": {},
   "outputs": [],
   "source": []
  }
 ],
 "metadata": {
  "kernelspec": {
   "display_name": "Python 3",
   "language": "python",
   "name": "python3"
  },
  "language_info": {
   "codemirror_mode": {
    "name": "ipython",
    "version": 3
   },
   "file_extension": ".py",
   "mimetype": "text/x-python",
   "name": "python",
   "nbconvert_exporter": "python",
   "pygments_lexer": "ipython3",
   "version": "3.7.3"
  }
 },
 "nbformat": 4,
 "nbformat_minor": 2
}
